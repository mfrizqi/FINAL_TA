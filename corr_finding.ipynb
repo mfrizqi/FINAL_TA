{
 "cells": [
  {
   "cell_type": "code",
   "execution_count": 2,
   "metadata": {},
   "outputs": [],
   "source": [
    "# Import all libraries\n",
    "import os\n",
    "import csv \n",
    "import math\n",
    "import joblib\n",
    "import pickle\n",
    "\n",
    "import pandas as pd\n",
    "import numpy as np\n",
    "import statistics as stat\n",
    "import matplotlib.pyplot as plt"
   ]
  },
  {
   "cell_type": "code",
   "execution_count": 3,
   "metadata": {},
   "outputs": [],
   "source": [
    "# Import data from csv into pandas DataFrame\n",
    "dfPadel = pd.read_csv(\"data/padel_desc.csv\")\n",
    "dtRawIC50 = pd.read_csv(\"data/pIC50_target.csv\")\n",
    "dtIC50 = dtRawIC50['pIC50']\n",
    "\n",
    "# Concatenate data dataframe (Mordred,Padel,Cdk,Target)\n",
    "df = pd.concat([dfPadel,dtIC50], axis=1)\n",
    "df = df.drop(columns = ['Name'])\n",
    "\n",
    "# Export concatenated data\n",
    "df.to_csv (r'data\\all_data.csv',index=False, header=True,sep=',')"
   ]
  },
  {
   "cell_type": "code",
   "execution_count": 4,
   "metadata": {},
   "outputs": [
    {
     "name": "stdout",
     "output_type": "stream",
     "text": [
      "i: 0003\n",
      "i: 0005\n",
      "i: 0006\n",
      "i: 0007\n",
      "i: 0008\n"
     ]
    }
   ],
   "source": [
    "# Loop for finding correlation combination\n",
    "for i in range(10):\n",
    "    # Divide into training data and test data\n",
    "    dfTrain = df.sample(frac=0.8,random_state=i)\n",
    "    dfTest = df.drop(dfTrain.index)\n",
    "\n",
    "    # Find 100 descriptors with strongest correlation with pIC50\n",
    "    train_corr = dfTrain.corr()\n",
    "    train_corr = train_corr.iloc[:-1,[-1]]\n",
    "    train_corr.sort_values(\"pIC50\", ascending = False, inplace = True)\n",
    "    train_corr = train_corr.iloc[:100,:]\n",
    "\n",
    "    # Check for WTPT-3 only\n",
    "    if train_corr.index[0] == \"WTPT-3\":\n",
    "        print(\"i: %04d\"%i)\n",
    "        # Dump training and test data\n",
    "        dfTrain.to_pickle(\"./p/train_%04d.pkl\"%i)\n",
    "        dfTest.to_pickle(\"./p/test_%04d.pkl\"%i)\n",
    "        # Dump correlation data\n",
    "        train_corr.to_csv(r'data/dataCorr_%04d.pkl.csv'%i, index= None, header = True)\n",
    "        # Dump list of 100 strongest des\n",
    "        corr_100 = train_corr.index.values.tolist()[:100]\n",
    "        with open('./p/corr100_%04d.pkl'%i, 'wb') as f:\n",
    "            pickle.dump(corr_100, f)"
   ]
  }
 ],
 "metadata": {
  "kernelspec": {
   "display_name": "Python 3",
   "language": "python",
   "name": "python3"
  },
  "language_info": {
   "codemirror_mode": {
    "name": "ipython",
    "version": 3
   },
   "file_extension": ".py",
   "mimetype": "text/x-python",
   "name": "python",
   "nbconvert_exporter": "python",
   "pygments_lexer": "ipython3",
   "version": "3.8.2"
  },
  "toc": {
   "base_numbering": 1,
   "nav_menu": {},
   "number_sections": true,
   "sideBar": true,
   "skip_h1_title": false,
   "title_cell": "Table of Contents",
   "title_sidebar": "Contents",
   "toc_cell": false,
   "toc_position": {},
   "toc_section_display": true,
   "toc_window_display": false
  }
 },
 "nbformat": 4,
 "nbformat_minor": 4
}
