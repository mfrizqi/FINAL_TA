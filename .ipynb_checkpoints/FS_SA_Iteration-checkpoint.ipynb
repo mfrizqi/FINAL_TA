{
 "cells": [
  {
   "cell_type": "code",
   "execution_count": 129,
   "metadata": {
    "code_folding": [
     1
    ]
   },
   "outputs": [],
   "source": [
    "import winsound\n",
    "def beepEnd():\n",
    "    d = 200\n",
    "    freq = [3000,5000,3000,5000]\n",
    "    for i in freq:\n",
    "        winsound.Beep(i, d)"
   ]
  },
  {
   "cell_type": "code",
   "execution_count": 130,
   "metadata": {
    "code_folding": []
   },
   "outputs": [],
   "source": [
    "import warnings\n",
    "import joblib\n",
    "import pandas as pd \n",
    "import numpy as np\n",
    "import pickle \n",
    "from tqdm import tqdm\n",
    "\n",
    "import matplotlib.pyplot as plt\n",
    "from sklearn.linear_model import LinearRegression\n",
    "from sklearn.model_selection import train_test_split\n",
    "from sklearn.metrics import mean_squared_error\n",
    "from sklearn.svm import SVR\n",
    "from sklearn.preprocessing import MinMaxScaler\n",
    "\n",
    "from itertools import combinations\n",
    "from itertools import permutations\n",
    "warnings.filterwarnings('ignore')\n",
    "\n",
    "def acceptanceProbability (bestMSE, newMSE, temp , K):\n",
    "        # If the new solution is worse, calculate an acceptance probability\n",
    "        return np.exp( K * (newMSE - bestMSE) / temp)\n",
    "    \n",
    "def calcMSE(combDesc, x_train, x_val, y_train, y_val, model):\n",
    "    x_train_slice = x_train.iloc[:,combDesc]\n",
    "    x_val_slice = x_val.iloc[:,combDesc]\n",
    "    \n",
    "    scaler = MinMaxScaler()\n",
    "    scaler.fit(x_train_slice)\n",
    "    scale_x_train = scaler.transform(x_train_slice)\n",
    "    scale_x_val = scaler.transform(x_val_slice)\n",
    "    \n",
    "    model.fit(scale_x_train, y_train)\n",
    "    y_pred = model.predict(scale_x_val)\n",
    "    return mean_squared_error(y_val, y_pred)\n",
    "\n",
    "corr_100 = joblib.load(\"pickle/corr_100.pkl\")\n",
    "dfTrain = joblib.load(\"pickle/train.pkl\")\n",
    "dfTest = joblib.load(\"pickle/test.pkl\")"
   ]
  },
  {
   "cell_type": "code",
   "execution_count": 131,
   "metadata": {
    "scrolled": true
   },
   "outputs": [],
   "source": [
    "train = dfTrain.loc[:,corr_100]\n",
    "descName = train.columns.values\n",
    "train[\"pIC50\"] = dfTrain.iloc[:, -1]"
   ]
  },
  {
   "cell_type": "code",
   "execution_count": 132,
   "metadata": {
    "code_folding": []
   },
   "outputs": [],
   "source": [
    "##### SIMULATED ANNEALING #####\n",
    "\n",
    "# 0. Preparation Data\n",
    "train, val = train_test_split(train, test_size = 0.2, random_state = 45)\n",
    "\n",
    "x_train = train.iloc[:,:-1]\n",
    "x_val = val.iloc[:,:-1]\n",
    "y_train = train.iloc[:, [-1]]\n",
    "y_val = val.iloc[:,[-1]]\n",
    "\n",
    "model = LinearRegression()"
   ]
  },
  {
   "cell_type": "code",
   "execution_count": 76,
   "metadata": {
    "code_folding": [],
    "scrolled": true
   },
   "outputs": [
    {
     "name": "stderr",
     "output_type": "stream",
     "text": [
      "\n",
      "\n",
      "\n",
      "  0%|                                                                                            | 0/5 [00:00<?, ?it/s]\u001b[A\u001b[A\u001b[A\n",
      "\n",
      "\n",
      " 20%|████████████████▊                                                                   | 1/5 [00:18<01:12, 18.15s/it]\u001b[A\u001b[A\u001b[A\n",
      "\n",
      "\n",
      " 40%|█████████████████████████████████▌                                                  | 2/5 [00:35<00:53, 17.97s/it]\u001b[A\u001b[A\u001b[A\n",
      "\n",
      "\n",
      " 60%|██████████████████████████████████████████████████▍                                 | 3/5 [00:51<00:34, 17.44s/it]\u001b[A\u001b[A\u001b[A\n",
      "\n",
      "\n",
      " 80%|███████████████████████████████████████████████████████████████████▏                | 4/5 [01:08<00:17, 17.27s/it]\u001b[A\u001b[A\u001b[A\n",
      "\n",
      "\n",
      "100%|████████████████████████████████████████████████████████████████████████████████████| 5/5 [01:26<00:00, 17.28s/it]\u001b[A\u001b[A\u001b[A\n"
     ]
    }
   ],
   "source": [
    "##### INTO DE SA DE LA'SOIN #####\n",
    "descNum = 25\n",
    "descMSE_descNum = []\n",
    "\n",
    "\n",
    "for j in tqdm(range(20)):\n",
    "    # 3.1Initiate Values\n",
    "    initTemp, temp = 100, 100\n",
    "    tempEnd = 0.1\n",
    "    cooling_rate = 0.98\n",
    "    iteration = 50\n",
    "\n",
    "    # 3.1 Simulated Annealing\n",
    "    bestList = []\n",
    "    bestMSEList = []\n",
    "    tempChange = []\n",
    "    sounded = True\n",
    "\n",
    "    # 3.2 Initialize solution & Best MSE (Random descNum descriptor)\n",
    "    bestSol = np.random.choice(x_train.shape[1],descNum, replace=False)\n",
    "    bestSol = list(bestSol)\n",
    "    bestSol.sort()\n",
    "\n",
    "    # 3.3 MSE\n",
    "    bestMSE = calcMSE(bestSol, x_train, x_val, y_train, y_val, model)\n",
    "    while temp > tempEnd:\n",
    "        for i in range(iteration):\n",
    "\n",
    "            # 3.3.1 Create new solution & new MSE\n",
    "            newSol = np.random.choice(x_train.shape[1], descNum, replace=False)\n",
    "            newMSE = calcMSE(newSol, x_train, x_val, y_train, y_val, model)\n",
    "            deltaMSE = newMSE - bestMSE\n",
    "            K = (initTemp * np.log(0.8)) / deltaMSE\n",
    "\n",
    "            if newMSE < bestMSE :\n",
    "                bestMSE = newMSE\n",
    "                bestSol = newSol\n",
    "                bestList.append([bestMSE,bestSol])\n",
    "                tempChange.append(temp)\n",
    "                bestMSEList.append(bestMSE)\n",
    "            else :\n",
    "                if acceptanceProbability (bestMSE, newMSE, temp , K) > np.random.rand(0,1):\n",
    "                    bestMSE = newMSE\n",
    "                    bestSol = newSol\n",
    "                    bestList.append([bestMSE,bestSol])\n",
    "                    tempChange.append(temp)\n",
    "                    bestMSEList.append(bestMSE)\n",
    "                    \n",
    "        temp *= cooling_rate\n",
    "\n",
    "    descMSE_descNum.append([bestList[-1][0],bestList[-1][1],bestMSEList,tempChange])\n",
    "beepEnd()"
   ]
  },
  {
   "cell_type": "code",
   "execution_count": 171,
   "metadata": {},
   "outputs": [
    {
     "data": {
      "text/html": [
       "<div>\n",
       "<style scoped>\n",
       "    .dataframe tbody tr th:only-of-type {\n",
       "        vertical-align: middle;\n",
       "    }\n",
       "\n",
       "    .dataframe tbody tr th {\n",
       "        vertical-align: top;\n",
       "    }\n",
       "\n",
       "    .dataframe thead th {\n",
       "        text-align: right;\n",
       "    }\n",
       "</style>\n",
       "<table border=\"1\" class=\"dataframe\">\n",
       "  <thead>\n",
       "    <tr style=\"text-align: right;\">\n",
       "      <th></th>\n",
       "      <th>MSE</th>\n",
       "      <th>solution</th>\n",
       "      <th>growth</th>\n",
       "      <th>temp</th>\n",
       "    </tr>\n",
       "  </thead>\n",
       "  <tbody>\n",
       "    <tr>\n",
       "      <th>0</th>\n",
       "      <td>0.198568</td>\n",
       "      <td>[36, 52, 43, 88, 13]</td>\n",
       "      <td>[0.3128645988870082, 0.3042945666013009, 0.234...</td>\n",
       "      <td>[100, 100, 96.03999999999999, 92.2368159999999...</td>\n",
       "    </tr>\n",
       "    <tr>\n",
       "      <th>1</th>\n",
       "      <td>0.175066</td>\n",
       "      <td>[91, 13, 66, 42, 41]</td>\n",
       "      <td>[0.29825752397231764, 0.2333111127652794, 0.23...</td>\n",
       "      <td>[100, 100, 85.07630225817856, 76.9022389260103...</td>\n",
       "    </tr>\n",
       "    <tr>\n",
       "      <th>2</th>\n",
       "      <td>0.181856</td>\n",
       "      <td>[99, 95, 61, 73, 13]</td>\n",
       "      <td>[0.35387525156479943, 0.2691129240758554, 0.25...</td>\n",
       "      <td>[100, 100, 100, 100, 94.11919999999999, 88.584...</td>\n",
       "    </tr>\n",
       "    <tr>\n",
       "      <th>3</th>\n",
       "      <td>0.192746</td>\n",
       "      <td>[38, 56, 92, 73, 13]</td>\n",
       "      <td>[0.2996261809672641, 0.29276154215763306, 0.26...</td>\n",
       "      <td>[100, 100, 96.03999999999999, 92.2368159999999...</td>\n",
       "    </tr>\n",
       "    <tr>\n",
       "      <th>4</th>\n",
       "      <td>0.192024</td>\n",
       "      <td>[64, 79, 28, 93, 73]</td>\n",
       "      <td>[0.31252576161277607, 0.28417132201307127, 0.2...</td>\n",
       "      <td>[100, 100, 98.0, 86.812553324672, 44.570040395...</td>\n",
       "    </tr>\n",
       "  </tbody>\n",
       "</table>\n",
       "</div>"
      ],
      "text/plain": [
       "        MSE              solution  \\\n",
       "0  0.198568  [36, 52, 43, 88, 13]   \n",
       "1  0.175066  [91, 13, 66, 42, 41]   \n",
       "2  0.181856  [99, 95, 61, 73, 13]   \n",
       "3  0.192746  [38, 56, 92, 73, 13]   \n",
       "4  0.192024  [64, 79, 28, 93, 73]   \n",
       "\n",
       "                                              growth  \\\n",
       "0  [0.3128645988870082, 0.3042945666013009, 0.234...   \n",
       "1  [0.29825752397231764, 0.2333111127652794, 0.23...   \n",
       "2  [0.35387525156479943, 0.2691129240758554, 0.25...   \n",
       "3  [0.2996261809672641, 0.29276154215763306, 0.26...   \n",
       "4  [0.31252576161277607, 0.28417132201307127, 0.2...   \n",
       "\n",
       "                                                temp  \n",
       "0  [100, 100, 96.03999999999999, 92.2368159999999...  \n",
       "1  [100, 100, 85.07630225817856, 76.9022389260103...  \n",
       "2  [100, 100, 100, 100, 94.11919999999999, 88.584...  \n",
       "3  [100, 100, 96.03999999999999, 92.2368159999999...  \n",
       "4  [100, 100, 98.0, 86.812553324672, 44.570040395...  "
      ]
     },
     "execution_count": 171,
     "metadata": {},
     "output_type": "execute_result"
    }
   ],
   "source": [
    "df_SA = pd.DataFrame(descMSE_descNum)\n",
    "df_SA.columns=[\"MSE\",\"solution\",\"growth\", \"temp\"]\n",
    "df_SA.reset_index(drop=True, inplace= True)\n",
    "df_SA"
   ]
  },
  {
   "cell_type": "code",
   "execution_count": 173,
   "metadata": {},
   "outputs": [
    {
     "data": {
      "text/html": [
       "<div>\n",
       "<style scoped>\n",
       "    .dataframe tbody tr th:only-of-type {\n",
       "        vertical-align: middle;\n",
       "    }\n",
       "\n",
       "    .dataframe tbody tr th {\n",
       "        vertical-align: top;\n",
       "    }\n",
       "\n",
       "    .dataframe thead th {\n",
       "        text-align: right;\n",
       "    }\n",
       "</style>\n",
       "<table border=\"1\" class=\"dataframe\">\n",
       "  <thead>\n",
       "    <tr style=\"text-align: right;\">\n",
       "      <th></th>\n",
       "      <th>MSE</th>\n",
       "      <th>solution</th>\n",
       "      <th>growth</th>\n",
       "      <th>temp</th>\n",
       "    </tr>\n",
       "  </thead>\n",
       "  <tbody>\n",
       "    <tr>\n",
       "      <th>1</th>\n",
       "      <td>0.175066</td>\n",
       "      <td>[91, 13, 66, 42, 41]</td>\n",
       "      <td>[0.29825752397231764, 0.2333111127652794, 0.23...</td>\n",
       "      <td>[100, 100, 85.07630225817856, 76.9022389260103...</td>\n",
       "    </tr>\n",
       "    <tr>\n",
       "      <th>2</th>\n",
       "      <td>0.181856</td>\n",
       "      <td>[99, 95, 61, 73, 13]</td>\n",
       "      <td>[0.35387525156479943, 0.2691129240758554, 0.25...</td>\n",
       "      <td>[100, 100, 100, 100, 94.11919999999999, 88.584...</td>\n",
       "    </tr>\n",
       "    <tr>\n",
       "      <th>4</th>\n",
       "      <td>0.192024</td>\n",
       "      <td>[64, 79, 28, 93, 73]</td>\n",
       "      <td>[0.31252576161277607, 0.28417132201307127, 0.2...</td>\n",
       "      <td>[100, 100, 98.0, 86.812553324672, 44.570040395...</td>\n",
       "    </tr>\n",
       "    <tr>\n",
       "      <th>3</th>\n",
       "      <td>0.192746</td>\n",
       "      <td>[38, 56, 92, 73, 13]</td>\n",
       "      <td>[0.2996261809672641, 0.29276154215763306, 0.26...</td>\n",
       "      <td>[100, 100, 96.03999999999999, 92.2368159999999...</td>\n",
       "    </tr>\n",
       "    <tr>\n",
       "      <th>0</th>\n",
       "      <td>0.198568</td>\n",
       "      <td>[36, 52, 43, 88, 13]</td>\n",
       "      <td>[0.3128645988870082, 0.3042945666013009, 0.234...</td>\n",
       "      <td>[100, 100, 96.03999999999999, 92.2368159999999...</td>\n",
       "    </tr>\n",
       "  </tbody>\n",
       "</table>\n",
       "</div>"
      ],
      "text/plain": [
       "        MSE              solution  \\\n",
       "1  0.175066  [91, 13, 66, 42, 41]   \n",
       "2  0.181856  [99, 95, 61, 73, 13]   \n",
       "4  0.192024  [64, 79, 28, 93, 73]   \n",
       "3  0.192746  [38, 56, 92, 73, 13]   \n",
       "0  0.198568  [36, 52, 43, 88, 13]   \n",
       "\n",
       "                                              growth  \\\n",
       "1  [0.29825752397231764, 0.2333111127652794, 0.23...   \n",
       "2  [0.35387525156479943, 0.2691129240758554, 0.25...   \n",
       "4  [0.31252576161277607, 0.28417132201307127, 0.2...   \n",
       "3  [0.2996261809672641, 0.29276154215763306, 0.26...   \n",
       "0  [0.3128645988870082, 0.3042945666013009, 0.234...   \n",
       "\n",
       "                                                temp  \n",
       "1  [100, 100, 85.07630225817856, 76.9022389260103...  \n",
       "2  [100, 100, 100, 100, 94.11919999999999, 88.584...  \n",
       "4  [100, 100, 98.0, 86.812553324672, 44.570040395...  \n",
       "3  [100, 100, 96.03999999999999, 92.2368159999999...  \n",
       "0  [100, 100, 96.03999999999999, 92.2368159999999...  "
      ]
     },
     "execution_count": 173,
     "metadata": {},
     "output_type": "execute_result"
    }
   ],
   "source": [
    "df_SA_sort = df_SA.copy()\n",
    "df_SA_sort.sort_values('MSE', inplace=True)\n",
    "df_SA_sort"
   ]
  },
  {
   "cell_type": "code",
   "execution_count": 162,
   "metadata": {},
   "outputs": [
    {
     "data": {
      "text/html": [
       "<div>\n",
       "<style scoped>\n",
       "    .dataframe tbody tr th:only-of-type {\n",
       "        vertical-align: middle;\n",
       "    }\n",
       "\n",
       "    .dataframe tbody tr th {\n",
       "        vertical-align: top;\n",
       "    }\n",
       "\n",
       "    .dataframe thead th {\n",
       "        text-align: right;\n",
       "    }\n",
       "</style>\n",
       "<table border=\"1\" class=\"dataframe\">\n",
       "  <thead>\n",
       "    <tr style=\"text-align: right;\">\n",
       "      <th></th>\n",
       "      <th>0</th>\n",
       "      <th>1</th>\n",
       "      <th>2</th>\n",
       "      <th>3</th>\n",
       "      <th>4</th>\n",
       "      <th>5</th>\n",
       "      <th>6</th>\n",
       "      <th>7</th>\n",
       "      <th>8</th>\n",
       "    </tr>\n",
       "  </thead>\n",
       "  <tbody>\n",
       "    <tr>\n",
       "      <th>0</th>\n",
       "      <td>0.298258</td>\n",
       "      <td>0.233311</td>\n",
       "      <td>0.231704</td>\n",
       "      <td>0.228460</td>\n",
       "      <td>0.209151</td>\n",
       "      <td>0.206864</td>\n",
       "      <td>0.188423</td>\n",
       "      <td>0.179833</td>\n",
       "      <td>0.175066</td>\n",
       "    </tr>\n",
       "    <tr>\n",
       "      <th>1</th>\n",
       "      <td>100.000000</td>\n",
       "      <td>100.000000</td>\n",
       "      <td>85.076302</td>\n",
       "      <td>76.902239</td>\n",
       "      <td>51.340548</td>\n",
       "      <td>41.948965</td>\n",
       "      <td>25.314721</td>\n",
       "      <td>2.914495</td>\n",
       "      <td>2.530147</td>\n",
       "    </tr>\n",
       "  </tbody>\n",
       "</table>\n",
       "</div>"
      ],
      "text/plain": [
       "            0           1          2          3          4          5  \\\n",
       "0    0.298258    0.233311   0.231704   0.228460   0.209151   0.206864   \n",
       "1  100.000000  100.000000  85.076302  76.902239  51.340548  41.948965   \n",
       "\n",
       "           6         7         8  \n",
       "0   0.188423  0.179833  0.175066  \n",
       "1  25.314721  2.914495  2.530147  "
      ]
     },
     "execution_count": 162,
     "metadata": {},
     "output_type": "execute_result"
    }
   ],
   "source": [
    "bestDescriptor = []\n",
    "for i in df_SA_sort.iloc[0,1]:\n",
    "    bestDescriptor.append(descName[i])\n",
    "\n",
    "bestSAGrowth = df_SA_sort.iloc[0,2]\n",
    "pd.DataFrame([bestSAGrowth, df_SA_sort.iloc[0,3]])"
   ]
  },
  {
   "cell_type": "code",
   "execution_count": 145,
   "metadata": {},
   "outputs": [
    {
     "data": {
      "text/plain": [
       "['./pickle/with_temp/desc_5_raw']"
      ]
     },
     "execution_count": 145,
     "metadata": {},
     "output_type": "execute_result"
    }
   ],
   "source": [
    "joblib.dump(df_SA,'./pickle/with_temp/desc_25_raw')\n",
    "joblib.dump(bestDescriptor,'./pickle/with_temp/best_25desc')"
   ]
  },
  {
   "cell_type": "code",
   "execution_count": 178,
   "metadata": {},
   "outputs": [
    {
     "data": {
      "text/html": [
       "<div>\n",
       "<style scoped>\n",
       "    .dataframe tbody tr th:only-of-type {\n",
       "        vertical-align: middle;\n",
       "    }\n",
       "\n",
       "    .dataframe tbody tr th {\n",
       "        vertical-align: top;\n",
       "    }\n",
       "\n",
       "    .dataframe thead th {\n",
       "        text-align: right;\n",
       "    }\n",
       "</style>\n",
       "<table border=\"1\" class=\"dataframe\">\n",
       "  <thead>\n",
       "    <tr style=\"text-align: right;\">\n",
       "      <th></th>\n",
       "      <th>MSE</th>\n",
       "      <th>solution</th>\n",
       "      <th>growth</th>\n",
       "      <th>temp</th>\n",
       "    </tr>\n",
       "  </thead>\n",
       "  <tbody>\n",
       "    <tr>\n",
       "      <th>0</th>\n",
       "      <td>0.198568</td>\n",
       "      <td>[36, 52, 43, 88, 13]</td>\n",
       "      <td>[0.3128645988870082, 0.3042945666013009, 0.234...</td>\n",
       "      <td>[100, 100, 96.03999999999999, 92.2368159999999...</td>\n",
       "    </tr>\n",
       "    <tr>\n",
       "      <th>3</th>\n",
       "      <td>0.192746</td>\n",
       "      <td>[38, 56, 92, 73, 13]</td>\n",
       "      <td>[0.2996261809672641, 0.29276154215763306, 0.26...</td>\n",
       "      <td>[100, 100, 96.03999999999999, 92.2368159999999...</td>\n",
       "    </tr>\n",
       "    <tr>\n",
       "      <th>4</th>\n",
       "      <td>0.192024</td>\n",
       "      <td>[64, 79, 28, 93, 73]</td>\n",
       "      <td>[0.31252576161277607, 0.28417132201307127, 0.2...</td>\n",
       "      <td>[100, 100, 98.0, 86.812553324672, 44.570040395...</td>\n",
       "    </tr>\n",
       "    <tr>\n",
       "      <th>2</th>\n",
       "      <td>0.181856</td>\n",
       "      <td>[99, 95, 61, 73, 13]</td>\n",
       "      <td>[0.35387525156479943, 0.2691129240758554, 0.25...</td>\n",
       "      <td>[100, 100, 100, 100, 94.11919999999999, 88.584...</td>\n",
       "    </tr>\n",
       "    <tr>\n",
       "      <th>1</th>\n",
       "      <td>0.175066</td>\n",
       "      <td>[91, 13, 66, 42, 41]</td>\n",
       "      <td>[0.29825752397231764, 0.2333111127652794, 0.23...</td>\n",
       "      <td>[100, 100, 85.07630225817856, 76.9022389260103...</td>\n",
       "    </tr>\n",
       "  </tbody>\n",
       "</table>\n",
       "</div>"
      ],
      "text/plain": [
       "        MSE              solution  \\\n",
       "0  0.198568  [36, 52, 43, 88, 13]   \n",
       "3  0.192746  [38, 56, 92, 73, 13]   \n",
       "4  0.192024  [64, 79, 28, 93, 73]   \n",
       "2  0.181856  [99, 95, 61, 73, 13]   \n",
       "1  0.175066  [91, 13, 66, 42, 41]   \n",
       "\n",
       "                                              growth  \\\n",
       "0  [0.3128645988870082, 0.3042945666013009, 0.234...   \n",
       "3  [0.2996261809672641, 0.29276154215763306, 0.26...   \n",
       "4  [0.31252576161277607, 0.28417132201307127, 0.2...   \n",
       "2  [0.35387525156479943, 0.2691129240758554, 0.25...   \n",
       "1  [0.29825752397231764, 0.2333111127652794, 0.23...   \n",
       "\n",
       "                                                temp  \n",
       "0  [100, 100, 96.03999999999999, 92.2368159999999...  \n",
       "3  [100, 100, 96.03999999999999, 92.2368159999999...  \n",
       "4  [100, 100, 98.0, 86.812553324672, 44.570040395...  \n",
       "2  [100, 100, 100, 100, 94.11919999999999, 88.584...  \n",
       "1  [100, 100, 85.07630225817856, 76.9022389260103...  "
      ]
     },
     "execution_count": 178,
     "metadata": {},
     "output_type": "execute_result"
    }
   ],
   "source": [
    "desc_five = joblib.load('./pickle/with_temp/desc_5_raw')\n",
    "desc_five.sort_values('MSE', ascending=False, inplace=True)\n",
    "desc_five"
   ]
  },
  {
   "cell_type": "code",
   "execution_count": 179,
   "metadata": {},
   "outputs": [
    {
     "data": {
      "text/plain": [
       "Text(0, 0.5, 'MSE')"
      ]
     },
     "execution_count": 179,
     "metadata": {},
     "output_type": "execute_result"
    },
    {
     "data": {
      "image/png": "[encoded data removed]",
      "text/plain": [
       "<Figure size 432x288 with 1 Axes>"
      ]
     },
     "metadata": {
      "needs_background": "light"
     },
     "output_type": "display_data"
    }
   ],
   "source": [
    "############### PLOT 1\n",
    "\n",
    "type(desc_five)\n",
    "df = desc_five.reset_index(drop=True)\n",
    "df.index += 1\n",
    "dfPlot = df.plot.bar()\n",
    "dfPlot.set_xlabel(\"Iteration\")\n",
    "dfPlot.set_ylabel(\"MSE\")"
   ]
  },
  {
   "cell_type": "code",
   "execution_count": 195,
   "metadata": {},
   "outputs": [
    {
     "data": {
      "image/png": "[encoded data removed]",
      "text/plain": [
       "<Figure size 432x288 with 1 Axes>"
      ]
     },
     "metadata": {
      "needs_background": "light"
     },
     "output_type": "display_data"
    }
   ],
   "source": [
    "### Plot two \n",
    "df.iloc[-1]\n",
    "\n",
    "fig = plt.figure()\n",
    "\n",
    "x = desc_five.iloc[-1,3]\n",
    "y = desc_five.iloc[-1,2]\n",
    "\n",
    "plt.hist(y, density=True, bins=7)\n",
    "plt.xlabel('MSE')\n",
    "plt.show()\n",
    "\n",
    "# plt.hist(desc_five.iloc[-1], density=True, bins=4)\n",
    "# plt.show()"
   ]
  },
  {
   "cell_type": "code",
   "execution_count": 127,
   "metadata": {},
   "outputs": [],
   "source": [
    "###############################################################\n",
    "######################## CUSTOMIZED CODE ######################\n",
    "###############################################################"
   ]
  },
  {
   "cell_type": "code",
   "execution_count": null,
   "metadata": {
    "scrolled": true
   },
   "outputs": [],
   "source": [
    "# bestMSEList\n",
    "dfBest.columns = [\"mse\",\"solution\"]\n",
    "dfBest.sort_values('mse', inplace=True)\n",
    "dfBest.reset_index(drop=True, inplace= True)\n",
    "dfBest"
   ]
  },
  {
   "cell_type": "code",
   "execution_count": null,
   "metadata": {},
   "outputs": [],
   "source": [
    "bestSolution = dfBest.loc[0,'solution']\n",
    "bestSolution = list(bestSolution)\n",
    "bestSolution.sort()\n",
    "bestSolution"
   ]
  },
  {
   "cell_type": "code",
   "execution_count": null,
   "metadata": {},
   "outputs": [],
   "source": [
    "bestDescriptor = []\n",
    "\n",
    "for i in bestSolution:\n",
    "    bestDescriptor.append(descName[i])\n",
    "bestDescriptor"
   ]
  },
  {
   "cell_type": "code",
   "execution_count": null,
   "metadata": {},
   "outputs": [],
   "source": [
    "mseNdarray = np.asarray(bestMSEList)\n",
    "type(mseNdarray)\n",
    "mseNdarray.dump(\"./bestMSEList_2.pkl\")\n",
    "dfBest.iloc[-1][1].dump(\"./bestDesc_2.pkl\")"
   ]
  },
  {
   "cell_type": "code",
   "execution_count": null,
   "metadata": {},
   "outputs": [],
   "source": [
    "len(mseNdarray)\n",
    "np.arange(0,len(mseNdarray),1)"
   ]
  },
  {
   "cell_type": "code",
   "execution_count": null,
   "metadata": {},
   "outputs": [],
   "source": [
    "import matplotlib.pyplot as plt\n",
    "import numpy as np\n",
    "\n",
    "#define variable x\n",
    "x = np.arange(0,len(mseNdarray),1)\n",
    "y = mseNdarray \n",
    "\n",
    "#plot the functions\n",
    "plt.grid()\n",
    "plt.xlabel(\"Iteration\")\n",
    "plt.ylabel(\"Mean Squared Error (MSE)\")\n",
    "\n",
    "plt.plot(x,y)"
   ]
  },
  {
   "cell_type": "code",
   "execution_count": null,
   "metadata": {},
   "outputs": [],
   "source": [
    "MSE_Evol = pickle.load(open('./data/MSE_EvolutionV2.pkl', 'rb'))\n",
    "bestDesc = pickle.load(open('./data/bestDescV2.pkl', 'rb'))\n",
    "bestMSEGrowth = pickle.load(open('./data/bestMSEGrowthV2.pkl', 'rb'))"
   ]
  },
  {
   "cell_type": "code",
   "execution_count": null,
   "metadata": {},
   "outputs": [],
   "source": [
    "bestDesc, MSE_Evol, bestMSEGrowth"
   ]
  },
  {
   "cell_type": "code",
   "execution_count": null,
   "metadata": {
    "scrolled": true
   },
   "outputs": [],
   "source": [
    "bestMSEGrowth"
   ]
  },
  {
   "cell_type": "code",
   "execution_count": null,
   "metadata": {
    "code_folding": [
     0
    ]
   },
   "outputs": [],
   "source": [
    "# First Best Run\n",
    "# BestDescriptors=  [31,18,54,36,8,51]\n",
    "# BestMSE =  0.24519892533514573\n",
    "\n",
    "# Second Best Run\n",
    "# Best Descriptors :  [53 61 18 69 36 34]\n",
    "# Best MSE :  0.22850883728849938\n",
    "\n",
    "# Best Descriptors :  [40 11  5 67 64 69]\n",
    "# Best MSE :  0.22858482530945248\n",
    "\n",
    "# Best Descriptors :  [38 51 55 58 36 18]\n",
    "# Best MSE :  0.20720460921006825"
   ]
  },
  {
   "cell_type": "code",
   "execution_count": null,
   "metadata": {
    "code_folding": [
     0
    ]
   },
   "outputs": [],
   "source": [
    "# ### Smallest Values before run 20s\n",
    "# bs = [38, 51, 55, 58, 36, 18]\n",
    "# bs.sort()\n",
    "# bs"
   ]
  },
  {
   "cell_type": "code",
   "execution_count": null,
   "metadata": {
    "code_folding": [
     0
    ]
   },
   "outputs": [],
   "source": [
    "# bds = []\n",
    "# for i in bs:\n",
    "#     bds.append(descName[i])\n",
    "# bds"
   ]
  },
  {
   "cell_type": "code",
   "execution_count": null,
   "metadata": {
    "code_folding": []
   },
   "outputs": [],
   "source": [
    "# pickle.dump(bds,open('./BestDescriptor.pkl','wb'))"
   ]
  }
 ],
 "metadata": {
  "kernelspec": {
   "display_name": "Python 3",
   "language": "python",
   "name": "python3"
  },
  "language_info": {
   "codemirror_mode": {
    "name": "ipython",
    "version": 3
   },
   "file_extension": ".py",
   "mimetype": "text/x-python",
   "name": "python",
   "nbconvert_exporter": "python",
   "pygments_lexer": "ipython3",
   "version": "3.8.2"
  },
  "toc": {
   "base_numbering": 1,
   "nav_menu": {},
   "number_sections": true,
   "sideBar": true,
   "skip_h1_title": false,
   "title_cell": "Table of Contents",
   "title_sidebar": "Contents",
   "toc_cell": false,
   "toc_position": {},
   "toc_section_display": true,
   "toc_window_display": false
  }
 },
 "nbformat": 4,
 "nbformat_minor": 4
}
