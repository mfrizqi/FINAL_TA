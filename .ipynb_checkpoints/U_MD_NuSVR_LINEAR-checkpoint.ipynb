{
 "cells": [
  {
   "cell_type": "code",
   "execution_count": 1,
   "metadata": {},
   "outputs": [],
   "source": [
    "import pandas as pd \n",
    "import numpy as np\n",
    "import pickle\n",
    "import matplotlib.pyplot as plt\n",
    "import joblib\n",
    "\n",
    "from sklearn import svm\n",
    "from sklearn.svm import NuSVR\n",
    "from sklearn.model_selection import GridSearchCV\n",
    "from sklearn.model_selection import train_test_split\n",
    "from sklearn.metrics import r2_score\n",
    "from sklearn.metrics import mean_squared_error\n",
    "from sklearn.preprocessing import MinMaxScaler\n",
    "from sklearn.preprocessing import StandardScaler\n",
    "from tqdm import tqdm\n",
    "\n",
    "import warnings\n",
    "warnings.filterwarnings('ignore')"
   ]
  },
  {
   "cell_type": "code",
   "execution_count": 2,
   "metadata": {},
   "outputs": [],
   "source": [
    "train = pickle.load(open('./pickle/train.pkl', 'rb'))\n",
    "test = pickle.load(open('./pickle/test.pkl', 'rb'))"
   ]
  },
  {
   "cell_type": "code",
   "execution_count": 3,
   "metadata": {},
   "outputs": [],
   "source": [
    "param_grid={\n",
    "            'C': [0.1, 1, 10, 100, 1000],\n",
    "            'gamma': ['auto','scale'],\n",
    "#             'epsilon':[0.1, 1, 10, 100, 1000]\n",
    "}"
   ]
  },
  {
   "cell_type": "code",
   "execution_count": 4,
   "metadata": {},
   "outputs": [],
   "source": [
    "bd_list = []\n",
    "bd_5 = pickle.load(open('./pickle/trial_10/bestDesc_5_2050.pkl', 'rb'))\n",
    "bd_10 = pickle.load(open('./pickle/trial_10/bestDesc_10_2050.pkl', 'rb'))\n",
    "bd_15 = pickle.load(open('./pickle/trial_10/bestDesc_15_2050.pkl', 'rb'))\n",
    "bd_20 = pickle.load(open('./pickle/trial_10/bestDesc_20_2050.pkl', 'rb'))\n",
    "bd_25 = pickle.load(open('./pickle/trial_10/bestDesc_25_2050.pkl', 'rb'))\n",
    "bd_list.extend([bd_5,bd_10,bd_15,bd_20,bd_25])"
   ]
  },
  {
   "cell_type": "code",
   "execution_count": 5,
   "metadata": {},
   "outputs": [
    {
     "name": "stderr",
     "output_type": "stream",
     "text": [
      "100%|████████████████████████████████████████████████████████████████████████████████████| 5/5 [00:05<00:00,  1.14s/it]\n"
     ]
    }
   ],
   "source": [
    "r2_nusvr_rbf = pd.DataFrame(columns=['desc','C','Gamma','r2_train','r2_test','train_pred','test_pred'])\n",
    "\n",
    "for i in tqdm(range(len(bd_list))):\n",
    "    # Assign labels to train and test\n",
    "    dfTrain = train.loc[:,bd_list[i]]\n",
    "    dfTest = test.loc[:,bd_list[i]]\n",
    "    \n",
    "    # Preparation fata x & y\n",
    "    x_train = dfTrain.iloc[:,:]\n",
    "    x_test = dfTest.iloc[:,:]\n",
    "    y_train = train.iloc[:, [-1]]\n",
    "    y_test = test.iloc[:,[-1]]\n",
    "    \n",
    "    # Feature scaler Using MinMaxScaler()\n",
    "    scaler = MinMaxScaler()\n",
    "    scaler.fit(x_train)\n",
    "    scale_x_train = scaler.transform(x_train)\n",
    "    scale_x_test = scaler.transform(x_test)\n",
    "    \n",
    "    # Search best params for SVR()\n",
    "    gsc = GridSearchCV(\n",
    "        estimator= NuSVR(kernel='rbf'),\n",
    "        param_grid= param_grid,\n",
    "        cv=5, scoring='neg_mean_squared_error', verbose=0, n_jobs=-1)\n",
    "    \n",
    "#     print(gsc.estimator)\n",
    "#     break\n",
    "    \n",
    "    gsc.fit(scale_x_train, y_train)\n",
    "    param_c = gsc.best_params_['C']\n",
    "    param_gamma = gsc.best_params_['gamma']\n",
    "    \n",
    "    # Assign best params to model\n",
    "    model = NuSVR(C=param_c, kernel=\"rbf\", gamma=param_gamma)\n",
    "    model.fit(scale_x_train, y_train)\n",
    "    \n",
    "    #Calculate prediction\n",
    "    y_train_pred = model.predict(scale_x_train)\n",
    "    y_test_pred = model.predict(scale_x_test)\n",
    "\n",
    "    #Calculate r2 score\n",
    "    r2_train = r2_score(y_train,y_train_pred)\n",
    "    r2_test = r2_score(y_test,y_test_pred)\n",
    "    \n",
    "    r2_nusvr_rbf = r2_nusvr_rbf.append(pd.Series([len(bd_list[i]),param_c, param_gamma, r2_train, r2_test, y_train_pred, y_test_pred], index=r2_nusvr_rbf.columns ), ignore_index=True)"
   ]
  },
  {
   "cell_type": "code",
   "execution_count": 8,
   "metadata": {},
   "outputs": [
    {
     "data": {
      "text/html": [
       "<div>\n",
       "<style scoped>\n",
       "    .dataframe tbody tr th:only-of-type {\n",
       "        vertical-align: middle;\n",
       "    }\n",
       "\n",
       "    .dataframe tbody tr th {\n",
       "        vertical-align: top;\n",
       "    }\n",
       "\n",
       "    .dataframe thead th {\n",
       "        text-align: right;\n",
       "    }\n",
       "</style>\n",
       "<table border=\"1\" class=\"dataframe\">\n",
       "  <thead>\n",
       "    <tr style=\"text-align: right;\">\n",
       "      <th></th>\n",
       "      <th>desc</th>\n",
       "      <th>C</th>\n",
       "      <th>Gamma</th>\n",
       "      <th>r2_train</th>\n",
       "      <th>r2_test</th>\n",
       "      <th>train_pred</th>\n",
       "      <th>test_pred</th>\n",
       "    </tr>\n",
       "  </thead>\n",
       "  <tbody>\n",
       "    <tr>\n",
       "      <th>0</th>\n",
       "      <td>5</td>\n",
       "      <td>100</td>\n",
       "      <td>auto</td>\n",
       "      <td>0.686089</td>\n",
       "      <td>0.513148</td>\n",
       "      <td>[6.057672922414157, 7.193325454024653, 6.91061...</td>\n",
       "      <td>[6.174985060707081, 6.264111501253489, 6.38244...</td>\n",
       "    </tr>\n",
       "    <tr>\n",
       "      <th>1</th>\n",
       "      <td>10</td>\n",
       "      <td>100</td>\n",
       "      <td>auto</td>\n",
       "      <td>0.721759</td>\n",
       "      <td>0.460309</td>\n",
       "      <td>[6.15789415654515, 7.105224874871015, 6.988333...</td>\n",
       "      <td>[6.347023917343267, 6.35493472171554, 6.556473...</td>\n",
       "    </tr>\n",
       "    <tr>\n",
       "      <th>2</th>\n",
       "      <td>15</td>\n",
       "      <td>100</td>\n",
       "      <td>auto</td>\n",
       "      <td>0.741526</td>\n",
       "      <td>0.427337</td>\n",
       "      <td>[6.165984520151636, 7.13378999710599, 6.961357...</td>\n",
       "      <td>[6.386112059755175, 6.384804310962079, 6.62246...</td>\n",
       "    </tr>\n",
       "    <tr>\n",
       "      <th>3</th>\n",
       "      <td>20</td>\n",
       "      <td>10</td>\n",
       "      <td>scale</td>\n",
       "      <td>0.826793</td>\n",
       "      <td>0.485638</td>\n",
       "      <td>[5.930508117687008, 7.244141756633685, 7.42237...</td>\n",
       "      <td>[6.2455896155550565, 6.3237322927481525, 6.235...</td>\n",
       "    </tr>\n",
       "    <tr>\n",
       "      <th>4</th>\n",
       "      <td>25</td>\n",
       "      <td>10</td>\n",
       "      <td>scale</td>\n",
       "      <td>0.910351</td>\n",
       "      <td>0.548674</td>\n",
       "      <td>[5.8910459667510136, 7.118888009315695, 7.5834...</td>\n",
       "      <td>[6.195649902125597, 6.127135745245323, 6.38847...</td>\n",
       "    </tr>\n",
       "  </tbody>\n",
       "</table>\n",
       "</div>"
      ],
      "text/plain": [
       "  desc    C  Gamma  r2_train   r2_test  \\\n",
       "0    5  100   auto  0.686089  0.513148   \n",
       "1   10  100   auto  0.721759  0.460309   \n",
       "2   15  100   auto  0.741526  0.427337   \n",
       "3   20   10  scale  0.826793  0.485638   \n",
       "4   25   10  scale  0.910351  0.548674   \n",
       "\n",
       "                                          train_pred  \\\n",
       "0  [6.057672922414157, 7.193325454024653, 6.91061...   \n",
       "1  [6.15789415654515, 7.105224874871015, 6.988333...   \n",
       "2  [6.165984520151636, 7.13378999710599, 6.961357...   \n",
       "3  [5.930508117687008, 7.244141756633685, 7.42237...   \n",
       "4  [5.8910459667510136, 7.118888009315695, 7.5834...   \n",
       "\n",
       "                                           test_pred  \n",
       "0  [6.174985060707081, 6.264111501253489, 6.38244...  \n",
       "1  [6.347023917343267, 6.35493472171554, 6.556473...  \n",
       "2  [6.386112059755175, 6.384804310962079, 6.62246...  \n",
       "3  [6.2455896155550565, 6.3237322927481525, 6.235...  \n",
       "4  [6.195649902125597, 6.127135745245323, 6.38847...  "
      ]
     },
     "execution_count": 8,
     "metadata": {},
     "output_type": "execute_result"
    }
   ],
   "source": [
    "r2_nusvr_rbf"
   ]
  },
  {
   "cell_type": "code",
   "execution_count": 9,
   "metadata": {},
   "outputs": [
    {
     "data": {
      "text/plain": [
       "['./pickle/trial_10/r2_nusvr_rbf.pkl']"
      ]
     },
     "execution_count": 9,
     "metadata": {},
     "output_type": "execute_result"
    }
   ],
   "source": [
    "joblib.dump(r2_nusvr_rbf, './pickle/trial_10/r2_nusvr_rbf.pkl')"
   ]
  }
 ],
 "metadata": {
  "kernelspec": {
   "display_name": "Python 3",
   "language": "python",
   "name": "python3"
  },
  "language_info": {
   "codemirror_mode": {
    "name": "ipython",
    "version": 3
   },
   "file_extension": ".py",
   "mimetype": "text/x-python",
   "name": "python",
   "nbconvert_exporter": "python",
   "pygments_lexer": "ipython3",
   "version": "3.8.2"
  },
  "toc": {
   "base_numbering": 1,
   "nav_menu": {},
   "number_sections": true,
   "sideBar": true,
   "skip_h1_title": false,
   "title_cell": "Table of Contents",
   "title_sidebar": "Contents",
   "toc_cell": false,
   "toc_position": {},
   "toc_section_display": true,
   "toc_window_display": false
  }
 },
 "nbformat": 4,
 "nbformat_minor": 4
}
