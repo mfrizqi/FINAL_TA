{
 "cells": [
  {
   "cell_type": "markdown",
   "metadata": {},
   "source": [
    "# Import Libraries"
   ]
  },
  {
   "cell_type": "code",
   "execution_count": 16,
   "metadata": {},
   "outputs": [],
   "source": [
    "import os\n",
    "import csv \n",
    "import math\n",
    "import joblib\n",
    "import pickle\n",
    "import warnings\n",
    "import copy\n",
    "from tqdm import tqdm\n",
    "\n",
    "import pandas as pd\n",
    "import numpy as np\n",
    "import statistics as stat\n",
    "import matplotlib.pyplot as plt \n",
    "\n",
    "from sklearn.model_selection import train_test_split\n",
    "from sklearn.model_selection import GridSearchCV\n",
    "from sklearn.model_selection import LeaveOneOut\n",
    "from sklearn.model_selection import cross_validate\n",
    "\n",
    "from sklearn.preprocessing import MinMaxScaler\n",
    "from sklearn.metrics import r2_score\n",
    "from sklearn.metrics import mean_squared_error\n",
    "\n",
    "from sklearn.linear_model import LinearRegression\n",
    "\n",
    "from sklearn.svm import SVR\n",
    "\n",
    "warnings.filterwarnings('ignore')"
   ]
  },
  {
   "cell_type": "markdown",
   "metadata": {},
   "source": [
    "# Splitting Data"
   ]
  },
  {
   "cell_type": "markdown",
   "metadata": {},
   "source": [
    "## Concate data padel with target"
   ]
  },
  {
   "cell_type": "code",
   "execution_count": 2,
   "metadata": {},
   "outputs": [],
   "source": [
    "# Import data from csv into pandas DataFrame\n",
    "dfPadel = pd.read_csv(\"data/padel_desc.csv\")\n",
    "dtRawIC50 = pd.read_csv(\"data/pIC50_target.csv\")\n",
    "dtIC50 = dtRawIC50['pIC50']\n",
    "\n",
    "# Concatenate data dataframe (Padel,Cdk,Target)\n",
    "df = pd.concat([dfPadel,dtIC50], axis=1)\n",
    "df = df.drop(columns = ['Name'])\n",
    "\n",
    "# Export concatenated data\n",
    "# df.to_csv (r'data\\all_data.csv',index=False, header=True,sep=',')"
   ]
  },
  {
   "cell_type": "markdown",
   "metadata": {},
   "source": [
    "## Split Train & Test + PCC Correlation"
   ]
  },
  {
   "cell_type": "code",
   "execution_count": null,
   "metadata": {
    "code_folding": [],
    "scrolled": true
   },
   "outputs": [],
   "source": [
    "%%DISBAND\n",
    "# Loop for finding correlation combination\n",
    "# for i in range(10):\n",
    "#     # Divide into training data and test data\n",
    "#     dfTrain = df.sample(frac=0.8,random_state=i)\n",
    "#     dfTest = df.drop(dfTrain.index)\n",
    "\n",
    "#     # Find 100 descriptors with strongest correlation with pIC50\n",
    "#     train_corr = dfTrain.corr()\n",
    "#     train_corr = train_corr.iloc[:-1,[-1]]\n",
    "#     train_corr.sort_values(\"pIC50\", ascending = False, inplace = True)\n",
    "#     train_corr = train_corr.iloc[:100,:]\n",
    "\n",
    "#     # Check for WTPT-3 only\n",
    "#     if train_corr.index[0] == \"WTPT-3\":\n",
    "#         print(\"i: %04d\"%i)\n",
    "#         # Dump training and test data\n",
    "#         dfTrain.to_pickle(\"./pickle/train_%04d.pkl\"%i)\n",
    "#         dfTest.to_pickle(\"./pickle/test_%04d.pkl\"%i)\n",
    "#         # Dump correlation data\n",
    "#         train_corr.to_csv(r'data/dataCorr_%04d.pkl.csv'%i, index= None, header = True)\n",
    "#         # Dump list of 100 strongest des\n",
    "#         corr_100 = train_corr.index.values.tolist()[:100]\n",
    "#         with open('./pickle/corr100_%04d.pkl'%i, 'wb') as f:\n",
    "#             pickle.dump(corr_100, f)"
   ]
  },
  {
   "cell_type": "code",
   "execution_count": 96,
   "metadata": {
    "code_folding": [],
    "scrolled": true
   },
   "outputs": [
    {
     "data": {
      "text/plain": [
       "'WTPT-3'"
      ]
     },
     "execution_count": 96,
     "metadata": {},
     "output_type": "execute_result"
    }
   ],
   "source": [
    "# Loop for finding correlation combination\n",
    "dfTrain = df.sample(frac=0.8,random_state=5)\n",
    "dfTest = df.drop(dfTrain.index)\n",
    "\n",
    "# Find 100 descriptors with strongest correlation with pIC50\n",
    "pcc = dfTrain.corr().iloc[:-1,[-1]]\n",
    "pcc.pIC50 = pcc.pIC50.apply(lambda x: np.abs(x))\n",
    "pcc.sort_values(\"pIC50\", ascending = False, inplace = True)\n",
    "pcc_list = pcc.iloc[:100,:]\n",
    "pcc_list.index.values.tolist()[:100][0]\n",
    "\n",
    "# joblib.dump(pcc_list.index.values.tolist()[:100],'./p/05_neue/corr.pkl')\n",
    "# dfTrain.to_pickle(\"./p/05_neue/train.pkl\")\n",
    "# dfTest.to_pickle(\"./p/05_neue/test.pkl\")\n",
    "dfTrain.to_csv('./data/train_05.csv')\n",
    "dfTest.to_csv('./data/test_05.csv')\n",
    "pcc_list.to_csv('.data/corr100_05.csv')"
   ]
  },
  {
   "cell_type": "markdown",
   "metadata": {},
   "source": [
    "# Feature Selection : SA"
   ]
  },
  {
   "cell_type": "markdown",
   "metadata": {},
   "source": [
    "## SA Functions"
   ]
  },
  {
   "cell_type": "code",
   "execution_count": 99,
   "metadata": {},
   "outputs": [],
   "source": [
    "def acceptanceProbability (bestMSE, newMSE, temp , K):\n",
    "        # If the new solution is worse, calculate an acceptance probability\n",
    "        return np.exp( K * (newMSE - bestMSE) / temp)\n",
    "    \n",
    "def calcMSE(combDesc, x_train, x_val, y_train, y_val, model):\n",
    "    x_train_slice = x_train.iloc[:,combDesc]\n",
    "    x_val_slice = x_val.iloc[:,combDesc]\n",
    "    \n",
    "    scaler = MinMaxScaler()\n",
    "    scaler.fit(x_train_slice)\n",
    "    scale_x_train = scaler.transform(x_train_slice)\n",
    "    scale_x_val = scaler.transform(x_val_slice)\n",
    "    \n",
    "    model.fit(scale_x_train, y_train)\n",
    "    y_pred = model.predict(scale_x_val)\n",
    "    return mean_squared_error(y_val, y_pred)"
   ]
  },
  {
   "cell_type": "markdown",
   "metadata": {},
   "source": [
    "## SA Prepare Data"
   ]
  },
  {
   "cell_type": "code",
   "execution_count": 100,
   "metadata": {},
   "outputs": [
    {
     "data": {
      "text/plain": [
       "((59, 100), (15, 100), (59, 1), (15, 1))"
      ]
     },
     "execution_count": 100,
     "metadata": {},
     "output_type": "execute_result"
    }
   ],
   "source": [
    "# corrs = []\n",
    "\n",
    "# cor1 = joblib.load('./p/0003/corr100_0003.pkl')\n",
    "# cor2 = joblib.load('./p/0005/corr100_0005.pkl')\n",
    "# cor3 = joblib.load('./p/0006/corr100_0006.pkl')\n",
    "# cor4 = joblib.load('./p/0007/corr100_0007.pkl')\n",
    "# cor5 = joblib.load('./p/0008/corr100_0008.pkl')\n",
    "\n",
    "# trains = []\n",
    "# tr1 = joblib.load('./p/0003/train_0003.pkl')\n",
    "# tr2 = joblib.load('./p/0005/train_0005.pkl')\n",
    "# tr3 = joblib.load('./p/0006/train_0006.pkl')\n",
    "# tr4 = joblib.load('./p/0007/train_0007.pkl')\n",
    "# tr5 = joblib.load('./p/0008/train_0008.pkl')\n",
    "\n",
    "#             #    0,    1,    2,   3,     4\n",
    "# corrs.extend([cor1, cor2, cor3, cor4, cor5])\n",
    "#             #    0,   1,   2,  3,    4\n",
    "# trains.extend([tr1, tr2, tr3, tr4, tr5])\n",
    "\n",
    "corr = joblib.load('./p/06_neue/corr.pkl')\n",
    "dftrain = joblib.load('./p/06_neue/train.pkl')\n",
    "\n",
    "#change index for data\n",
    "corr_100 = corr\n",
    "dft = dftrain\n",
    "\n",
    "train = dft.loc[:,corr_100]\n",
    "train[\"pIC50\"] = dft.iloc[:, -1]\n",
    "descName = train.columns.values\n",
    "\n",
    "trained, val = train_test_split(train, test_size = 0.2, random_state = 45)\n",
    "\n",
    "x_train = trained.iloc[:,:-1]\n",
    "x_val = val.iloc[:,:-1]\n",
    "y_train = trained.iloc[:, [-1]]\n",
    "y_val = val.iloc[:,[-1]]\n",
    "\n",
    "model = LinearRegression()\n",
    "x_train.shape, x_val.shape, y_train.shape, y_val.shape"
   ]
  },
  {
   "cell_type": "markdown",
   "metadata": {},
   "source": [
    "## SA algorithm"
   ]
  },
  {
   "cell_type": "code",
   "execution_count": 26,
   "metadata": {
    "code_folding": [],
    "scrolled": true
   },
   "outputs": [
    {
     "name": "stderr",
     "output_type": "stream",
     "text": [
      "  0%|                                                                                            | 0/5 [00:00<?, ?it/s]\n",
      "  0%|                                                                                           | 0/20 [00:00<?, ?it/s]\u001b[A\n",
      "  5%|████▏                                                                              | 1/20 [01:24<26:43, 84.38s/it]\u001b[A\n",
      " 10%|████████▎                                                                          | 2/20 [02:43<24:47, 82.66s/it]\u001b[A\n",
      " 15%|████████████▍                                                                      | 3/20 [04:00<23:01, 81.24s/it]\u001b[A\n",
      " 20%|████████████████▌                                                                  | 4/20 [05:18<21:21, 80.07s/it]\u001b[A\n",
      " 25%|████████████████████▊                                                              | 5/20 [06:35<19:50, 79.34s/it]\u001b[A\n",
      " 30%|████████████████████████▉                                                          | 6/20 [07:52<18:20, 78.64s/it]\u001b[A\n",
      " 35%|█████████████████████████████                                                      | 7/20 [09:10<16:58, 78.33s/it]\u001b[A\n",
      " 40%|█████████████████████████████████▏                                                 | 8/20 [10:29<15:43, 78.61s/it]\u001b[A\n",
      " 45%|█████████████████████████████████████▎                                             | 9/20 [11:46<14:19, 78.11s/it]\u001b[A\n",
      " 50%|█████████████████████████████████████████                                         | 10/20 [13:04<13:00, 78.09s/it]\u001b[A\n",
      " 55%|█████████████████████████████████████████████                                     | 11/20 [14:31<12:07, 80.78s/it]\u001b[A\n",
      " 60%|█████████████████████████████████████████████████▏                                | 12/20 [15:54<10:50, 81.33s/it]\u001b[A\n",
      " 65%|█████████████████████████████████████████████████████▎                            | 13/20 [17:17<09:33, 81.93s/it]\u001b[A\n",
      " 70%|█████████████████████████████████████████████████████████▍                        | 14/20 [18:41<08:15, 82.53s/it]\u001b[A\n",
      " 75%|█████████████████████████████████████████████████████████████▌                    | 15/20 [20:14<07:07, 85.58s/it]\u001b[A\n",
      " 80%|█████████████████████████████████████████████████████████████████▌                | 16/20 [21:40<05:42, 85.62s/it]\u001b[A\n",
      " 85%|█████████████████████████████████████████████████████████████████████▋            | 17/20 [23:10<04:21, 87.04s/it]\u001b[A\n",
      " 90%|█████████████████████████████████████████████████████████████████████████▊        | 18/20 [24:56<03:05, 92.82s/it]\u001b[A\n",
      " 95%|█████████████████████████████████████████████████████████████████████████████▉    | 19/20 [26:25<01:31, 91.54s/it]\u001b[A\n",
      "100%|██████████████████████████████████████████████████████████████████████████████████| 20/20 [27:45<00:00, 83.26s/it]\u001b[A\n",
      " 20%|████████████████                                                                | 1/5 [27:45<1:51:01, 1665.26s/it]\n",
      "  0%|                                                                                           | 0/20 [00:00<?, ?it/s]\u001b[A\n",
      "  5%|████▏                                                                              | 1/20 [01:25<27:05, 85.56s/it]\u001b[A\n",
      " 10%|████████▎                                                                          | 2/20 [02:50<25:37, 85.44s/it]\u001b[A\n",
      " 15%|████████████▍                                                                      | 3/20 [04:17<24:18, 85.79s/it]\u001b[A\n",
      " 20%|████████████████▌                                                                  | 4/20 [05:48<23:16, 87.26s/it]\u001b[A\n",
      " 25%|████████████████████▊                                                              | 5/20 [07:24<22:32, 90.17s/it]\u001b[A\n",
      " 30%|████████████████████████▉                                                          | 6/20 [08:57<21:14, 91.01s/it]\u001b[A\n",
      " 35%|█████████████████████████████                                                      | 7/20 [10:35<20:08, 92.96s/it]\u001b[A\n",
      " 40%|█████████████████████████████████▏                                                 | 8/20 [12:15<19:02, 95.21s/it]\u001b[A\n",
      " 45%|█████████████████████████████████████▎                                             | 9/20 [13:57<17:48, 97.10s/it]\u001b[A\n",
      " 50%|█████████████████████████████████████████                                         | 10/20 [15:38<16:23, 98.38s/it]\u001b[A\n",
      " 55%|█████████████████████████████████████████████                                     | 11/20 [17:15<14:41, 97.92s/it]\u001b[A\n",
      " 60%|█████████████████████████████████████████████████▏                                | 12/20 [18:47<12:48, 96.01s/it]\u001b[A\n",
      " 65%|█████████████████████████████████████████████████████▎                            | 13/20 [20:28<11:23, 97.67s/it]\u001b[A\n",
      " 70%|█████████████████████████████████████████████████████████▍                        | 14/20 [21:59<09:32, 95.50s/it]\u001b[A\n",
      " 75%|█████████████████████████████████████████████████████████████▌                    | 15/20 [23:23<07:40, 92.18s/it]\u001b[A\n",
      " 80%|█████████████████████████████████████████████████████████████████▌                | 16/20 [24:45<05:55, 88.98s/it]\u001b[A\n",
      " 85%|█████████████████████████████████████████████████████████████████████▋            | 17/20 [26:06<04:20, 86.79s/it]\u001b[A\n",
      " 90%|█████████████████████████████████████████████████████████████████████████▊        | 18/20 [27:27<02:50, 85.05s/it]\u001b[A\n",
      " 95%|█████████████████████████████████████████████████████████████████████████████▉    | 19/20 [28:48<01:23, 83.88s/it]\u001b[A\n",
      "100%|██████████████████████████████████████████████████████████████████████████████████| 20/20 [30:10<00:00, 90.52s/it]\u001b[A\n",
      " 40%|████████████████████████████████                                                | 2/5 [57:55<1:25:26, 1708.83s/it]\n",
      "  0%|                                                                                           | 0/20 [00:00<?, ?it/s]\u001b[A\n",
      "  5%|████▏                                                                              | 1/20 [01:24<26:46, 84.54s/it]\u001b[A\n",
      " 10%|████████▎                                                                          | 2/20 [02:48<25:18, 84.37s/it]\u001b[A\n",
      " 15%|████████████▍                                                                      | 3/20 [04:12<23:50, 84.16s/it]\u001b[A\n",
      " 20%|████████████████▌                                                                  | 4/20 [05:36<22:27, 84.24s/it]\u001b[A\n",
      " 25%|████████████████████▊                                                              | 5/20 [06:59<20:56, 83.80s/it]\u001b[A\n",
      " 30%|████████████████████████▉                                                          | 6/20 [08:23<19:35, 83.97s/it]\u001b[A\n",
      " 35%|█████████████████████████████                                                      | 7/20 [09:48<18:12, 84.06s/it]\u001b[A\n",
      " 40%|█████████████████████████████████▏                                                 | 8/20 [11:11<16:47, 83.94s/it]\u001b[A\n",
      " 45%|█████████████████████████████████████▎                                             | 9/20 [12:35<15:23, 84.00s/it]\u001b[A\n",
      " 50%|█████████████████████████████████████████                                         | 10/20 [13:58<13:57, 83.73s/it]\u001b[A\n",
      " 55%|█████████████████████████████████████████████                                     | 11/20 [15:22<12:32, 83.62s/it]\u001b[A\n",
      " 60%|█████████████████████████████████████████████████▏                                | 12/20 [16:45<11:08, 83.55s/it]\u001b[A\n",
      " 65%|█████████████████████████████████████████████████████▎                            | 13/20 [18:10<09:47, 83.90s/it]\u001b[A\n",
      " 70%|█████████████████████████████████████████████████████████▍                        | 14/20 [19:34<08:24, 84.04s/it]\u001b[A\n",
      " 75%|█████████████████████████████████████████████████████████████▌                    | 15/20 [20:58<07:00, 84.01s/it]\u001b[A\n",
      " 80%|█████████████████████████████████████████████████████████████████▌                | 16/20 [22:22<05:36, 84.06s/it]\u001b[A\n",
      " 85%|█████████████████████████████████████████████████████████████████████▋            | 17/20 [23:46<04:11, 83.90s/it]\u001b[A\n",
      " 90%|█████████████████████████████████████████████████████████████████████████▊        | 18/20 [25:10<02:48, 84.04s/it]\u001b[A\n",
      " 95%|█████████████████████████████████████████████████████████████████████████████▉    | 19/20 [26:34<01:24, 84.05s/it]\u001b[A\n",
      "100%|██████████████████████████████████████████████████████████████████████████████████| 20/20 [27:58<00:00, 83.91s/it]\u001b[A\n",
      " 60%|████████████████████████████████████████████████                                | 3/5 [1:25:54<56:39, 1699.67s/it]\n",
      "  0%|                                                                                           | 0/20 [00:00<?, ?it/s]\u001b[A\n",
      "  5%|████▏                                                                              | 1/20 [01:26<27:27, 86.72s/it]\u001b[A\n",
      " 10%|████████▎                                                                          | 2/20 [02:53<26:02, 86.82s/it]\u001b[A\n",
      " 15%|████████████▍                                                                      | 3/20 [04:20<24:37, 86.90s/it]\u001b[A\n",
      " 20%|████████████████▌                                                                  | 4/20 [05:47<23:09, 86.84s/it]\u001b[A\n",
      " 25%|████████████████████▊                                                              | 5/20 [07:13<21:40, 86.70s/it]\u001b[A\n",
      " 30%|████████████████████████▉                                                          | 6/20 [08:39<20:10, 86.46s/it]\u001b[A\n",
      " 35%|█████████████████████████████                                                      | 7/20 [10:06<18:43, 86.40s/it]\u001b[A\n",
      " 40%|█████████████████████████████████▏                                                 | 8/20 [11:32<17:16, 86.41s/it]\u001b[A\n",
      " 45%|█████████████████████████████████████▎                                             | 9/20 [12:59<15:52, 86.55s/it]\u001b[A\n",
      " 50%|█████████████████████████████████████████                                         | 10/20 [14:26<14:26, 86.67s/it]\u001b[A\n",
      " 55%|█████████████████████████████████████████████                                     | 11/20 [15:52<12:59, 86.66s/it]\u001b[A\n",
      " 60%|█████████████████████████████████████████████████▏                                | 12/20 [17:20<11:35, 86.93s/it]\u001b[A\n",
      " 65%|█████████████████████████████████████████████████████▎                            | 13/20 [18:47<10:08, 86.94s/it]\u001b[A\n",
      " 70%|█████████████████████████████████████████████████████████▍                        | 14/20 [20:19<08:50, 88.34s/it]\u001b[A\n",
      " 75%|█████████████████████████████████████████████████████████████▌                    | 15/20 [21:49<07:25, 89.04s/it]\u001b[A\n",
      " 80%|█████████████████████████████████████████████████████████████████▌                | 16/20 [23:17<05:55, 88.79s/it]\u001b[A\n",
      " 85%|█████████████████████████████████████████████████████████████████████▋            | 17/20 [24:49<04:28, 89.56s/it]\u001b[A\n",
      " 90%|█████████████████████████████████████████████████████████████████████████▊        | 18/20 [26:21<03:00, 90.20s/it]\u001b[A\n",
      " 95%|█████████████████████████████████████████████████████████████████████████████▉    | 19/20 [28:16<01:37, 97.75s/it]\u001b[A\n",
      "100%|██████████████████████████████████████████████████████████████████████████████████| 20/20 [30:27<00:00, 91.36s/it]\u001b[A\n",
      " 80%|████████████████████████████████████████████████████████████████                | 4/5 [1:56:21<28:57, 1737.91s/it]\n",
      "  0%|                                                                                           | 0/20 [00:00<?, ?it/s]\u001b[A\n",
      "  5%|████                                                                              | 1/20 [01:56<36:45, 116.06s/it]\u001b[A\n",
      " 10%|████████▏                                                                         | 2/20 [03:33<33:08, 110.47s/it]\u001b[A\n",
      " 15%|████████████▎                                                                     | 3/20 [05:15<30:37, 108.06s/it]\u001b[A\n",
      " 20%|████████████████▍                                                                 | 4/20 [06:51<27:50, 104.41s/it]\u001b[A\n",
      " 25%|████████████████████▌                                                             | 5/20 [08:21<25:00, 100.04s/it]\u001b[A\n",
      " 30%|████████████████████████▉                                                          | 6/20 [09:51<22:38, 97.06s/it]\u001b[A\n",
      " 35%|█████████████████████████████                                                      | 7/20 [11:21<20:31, 94.71s/it]\u001b[A\n",
      " 40%|█████████████████████████████████▏                                                 | 8/20 [12:50<18:37, 93.10s/it]\u001b[A\n",
      " 45%|█████████████████████████████████████▎                                             | 9/20 [14:19<16:52, 92.01s/it]\u001b[A\n",
      " 50%|█████████████████████████████████████████                                         | 10/20 [15:49<15:12, 91.30s/it]\u001b[A\n",
      " 55%|█████████████████████████████████████████████                                     | 11/20 [17:18<13:36, 90.71s/it]\u001b[A\n",
      " 60%|█████████████████████████████████████████████████▏                                | 12/20 [18:48<12:03, 90.42s/it]\u001b[A\n",
      " 65%|█████████████████████████████████████████████████████▎                            | 13/20 [20:18<10:31, 90.21s/it]\u001b[A\n",
      " 70%|█████████████████████████████████████████████████████████▍                        | 14/20 [21:48<09:01, 90.21s/it]\u001b[A\n",
      " 75%|█████████████████████████████████████████████████████████████▌                    | 15/20 [23:18<07:30, 90.09s/it]\u001b[A\n",
      " 80%|█████████████████████████████████████████████████████████████████▌                | 16/20 [24:47<05:59, 89.83s/it]\u001b[A\n",
      " 85%|█████████████████████████████████████████████████████████████████████▋            | 17/20 [26:17<04:29, 89.74s/it]\u001b[A\n",
      " 90%|█████████████████████████████████████████████████████████████████████████▊        | 18/20 [27:46<02:59, 89.73s/it]\u001b[A\n",
      " 95%|█████████████████████████████████████████████████████████████████████████████▉    | 19/20 [29:20<01:30, 90.92s/it]\u001b[A\n",
      "100%|██████████████████████████████████████████████████████████████████████████████████| 20/20 [30:50<00:00, 92.52s/it]\u001b[A\n",
      "100%|████████████████████████████████████████████████████████████████████████████████| 5/5 [2:27:11<00:00, 1766.31s/it]\n"
     ]
    }
   ],
   "source": [
    "### 50 ITERATION\n",
    "combos = [5,10,15,20,25]\n",
    "\n",
    "for k in tqdm(range(5)):\n",
    "\n",
    "    ## INTO DE SA DE LA'SOIN MODDED ##\n",
    "    descNum = combos[k]\n",
    "    descMSE_descNum = []\n",
    "\n",
    "    for j in tqdm(range(20)):\n",
    "        # Initialize Values\n",
    "        initTemp, temp = 100, 100\n",
    "        tempEnd = 0.1\n",
    "        cooling_rate = 0.98\n",
    "        iteration = 50\n",
    "\n",
    "        # Simulated Annealing\n",
    "        bestList = []\n",
    "        bestMSEList = []\n",
    "        tempChange = []\n",
    "\n",
    "        # Initialize solution & Best MSE (Random descNum descriptor)\n",
    "        bestSol = np.random.choice(x_train.shape[1],descNum, replace=False)\n",
    "        bestSol = list(bestSol)\n",
    "        bestSol.sort()\n",
    "\n",
    "        # First MSE\n",
    "        bestMSE = calcMSE(bestSol, x_train, x_val, y_train, y_val, model)\n",
    "        while temp > tempEnd:\n",
    "            for i in range(iteration):\n",
    "\n",
    "                # Create new solution & new MSE\n",
    "                newSol = np.random.choice(x_train.shape[1], descNum, replace=False)\n",
    "                newMSE = calcMSE(newSol, x_train, x_val, y_train, y_val, model)\n",
    "                \n",
    "                # New solution is better based on MSE value\n",
    "                if newMSE < bestMSE :\n",
    "                    bestMSE = newMSE\n",
    "                    bestSol = newSol\n",
    "                    #bestList.append([bestMSE,bestSol])\n",
    "                    #tempChange.append(temp)\n",
    "                    #bestMSEList.append(bestMSE)\n",
    "                    \n",
    "                #Probability to accept bad solution\n",
    "                else :\n",
    "                    deltaMSE = newMSE - bestMSE\n",
    "                    K = (initTemp * np.log(0.8)) / deltaMSE\n",
    "                    \n",
    "                    if acceptanceProbability (bestMSE, newMSE, temp , K) > np.random.rand(1,1):\n",
    "                        bestMSE = newMSE\n",
    "                        bestSol = newSol\n",
    "                        #bestList.append([bestMSE,bestSol])\n",
    "                        #tempChange.append(temp)\n",
    "                        #bestMSEList.append(bestMSE)\n",
    "            \n",
    "            bestList.append([bestMSE,bestSol])\n",
    "            tempChange.append(temp)\n",
    "            bestMSEList.append(bestMSE)\n",
    "            temp *= cooling_rate\n",
    "\n",
    "        descMSE_descNum.append([bestList[-1][0],bestList[-1][1],bestMSEList,tempChange])\n",
    "       \n",
    "    # Extracting results\n",
    "    df_SA = pd.DataFrame(descMSE_descNum)\n",
    "    df_SA.columns=[\"MSE\",\"solution\",\"growth\", \"temp\"]\n",
    "    df_SA.reset_index(drop=True, inplace= True)\n",
    "\n",
    "    # Sort values\n",
    "    df_SA_sort = df_SA.copy()\n",
    "    df_SA_sort.sort_values('MSE', inplace=True)\n",
    "\n",
    "    # Get Descriptors name    \n",
    "    bestDescriptor = []\n",
    "    for i in df_SA_sort.iloc[0,1]:\n",
    "        bestDescriptor.append(descName[i])\n",
    "\n",
    "    df_SA.to_pickle(f\"./p/06_neue/raw_{combos[k]}.pkl\")\n",
    "    joblib.dump(bestDescriptor, f\"./p/06_neue/best_{combos[k]}.pkl\")"
   ]
  },
  {
   "cell_type": "markdown",
   "metadata": {},
   "source": [
    "## Plot MSE"
   ]
  },
  {
   "cell_type": "code",
   "execution_count": 32,
   "metadata": {},
   "outputs": [
    {
     "name": "stderr",
     "output_type": "stream",
     "text": [
      "100%|███████████████████████████████████████████████████████████████████████████████████| 5/5 [00:00<00:00, 835.52it/s]\n"
     ]
    },
    {
     "data": {
      "image/png": "[encoded data removed]",
      "text/plain": [
       "<Figure size 432x288 with 1 Axes>"
      ]
     },
     "metadata": {
      "needs_background": "light"
     },
     "output_type": "display_data"
    }
   ],
   "source": [
    "# MSE Plot\n",
    "bd_list = []\n",
    "bd_5 = joblib.load('./p/05_neue/raw_5.pkl')\n",
    "bd_10 = joblib.load('./p/05_neue/raw_10.pkl')\n",
    "bd_15 = joblib.load('./p/05_neue/raw_15.pkl')\n",
    "bd_20 = joblib.load('./p/05_neue/raw_20.pkl')\n",
    "bd_25 = joblib.load('./p/05_neue/raw_25.pkl')\n",
    "bd_list.extend([bd_5,bd_10,bd_15,bd_20,bd_25])\n",
    "\n",
    "list_MSE = []\n",
    "df_mse = pd.DataFrame(columns=['desc','mse'])\n",
    "x = [5,10,15,20,25]\n",
    "\n",
    "for i in tqdm(range(len(bd_list))):\n",
    "    bd_list[i].sort_values('MSE', inplace = True)\n",
    "    list_MSE.append(bd_list[i].iloc[0,0])\n",
    "    \n",
    "    \n",
    "df_mse['desc'] = [5,10,15,20,25]\n",
    "df_mse['mse'] = list_MSE\n",
    "\n",
    "fig, ax = plt.subplots()  # Create a figure and an axes.\n",
    "ax.set_xticks(x)\n",
    "\n",
    "plt.plot(x, df_mse['mse'], marker='.' ,markersize=13)\n",
    "plt.xlabel('Number of Descriptors')\n",
    "plt.ylabel('MSE')\n",
    "plt.show()"
   ]
  },
  {
   "cell_type": "markdown",
   "metadata": {},
   "source": [
    "# Model Development : SVR"
   ]
  },
  {
   "cell_type": "markdown",
   "metadata": {},
   "source": [
    "## Preparing Data"
   ]
  },
  {
   "cell_type": "code",
   "execution_count": 6,
   "metadata": {},
   "outputs": [],
   "source": [
    "# Load train and test data\n",
    "# IMPORTANT! LOOK AT THE LOADED FILES\n",
    "train = joblib.load('./p/05_neue/train.pkl', 'rb')\n",
    "test = joblib.load('./p/05_neue/test.pkl', 'rb')\n",
    "\n",
    "# Create params for kernels\n",
    "param={\n",
    "            'C': [0.1, 1, 10, 100, 1000],\n",
    "            'gamma': ['auto','scale'],\n",
    "            'degree': [1, 2, 3, 4, 5],\n",
    "            'epsilon':[0.1, 1, 10, 100, 1000]\n",
    "}\n",
    "\n",
    "# param_sig={\n",
    "#             'C': [0.1, 1, 10, 100, 1000],\n",
    "#             'gamma': ['auto','scale'],\n",
    "#             'epsilon':[0.1, 1, 10, 100, 1000]\n",
    "# }\n",
    "\n",
    "# param_poly={\n",
    "#             'C': [0.1, 1, 10, 100, 1000],\n",
    "#             'degree': [2, 3, 4, 5],\n",
    "#             'epsilon':[0.1, 1, 10, 100, 1000]\n",
    "# }\n",
    "\n",
    "# Create list of descriptors set\n",
    "# IMPORTANT! MUST BE SAME AS LOADED TRAIN & TEST\n",
    "bd_list = []\n",
    "bd_5 = joblib.load('./p/05_neue/best_5.pkl')\n",
    "bd_10 = joblib.load('./p/05_neue/best_10.pkl')\n",
    "bd_15 = joblib.load('./p/05_neue/best_15.pkl')\n",
    "bd_20 = joblib.load('./p/05_neue/best_20.pkl')\n",
    "bd_25 = joblib.load('./p/05_neue/best_25.pkl')\n",
    "bd_list.extend([bd_5,bd_10,bd_15,bd_20,bd_25])\n",
    "# bd_list.extend([bd_10])"
   ]
  },
  {
   "cell_type": "markdown",
   "metadata": {},
   "source": [
    "## SVR : RBF "
   ]
  },
  {
   "cell_type": "code",
   "execution_count": 7,
   "metadata": {},
   "outputs": [
    {
     "name": "stderr",
     "output_type": "stream",
     "text": [
      "100%|████████████████████████████████████████████████████████████████████████████████████| 5/5 [00:19<00:00,  3.95s/it]\n"
     ]
    }
   ],
   "source": [
    "r2_rbf = pd.DataFrame(columns=['desc','C','Gamma','Epsilon','r2_train','r2_test','mse_train','mse_test','train_pred','test_pred'])\n",
    "\n",
    "for i in tqdm(range(len(bd_list))):\n",
    "    \n",
    "    # Preparation data x & y\n",
    "    x_train = train.loc[:,bd_list[i]]\n",
    "    x_test = test.loc[:,bd_list[i]]\n",
    "    y_train = train.iloc[:, [-1]]\n",
    "    y_test = test.iloc[:,[-1]]\n",
    "    \n",
    "    # Feature scaler Using MinMaxScaler()\n",
    "    scaler = MinMaxScaler()\n",
    "    scaler.fit(x_train)\n",
    "    scale_x_train = scaler.transform(x_train)\n",
    "    scale_x_test = scaler.transform(x_test)\n",
    "    \n",
    "    # Search best params for SVR()\n",
    "    gsc = GridSearchCV(\n",
    "        estimator=SVR(kernel='rbf'),\n",
    "        param_grid=param,\n",
    "        cv=10, scoring='neg_mean_squared_error', verbose=0, n_jobs=-1)\n",
    "\n",
    "    gsc.fit(scale_x_train, y_train)\n",
    "    param_c = gsc.best_params_['C']\n",
    "    param_gamma = gsc.best_params_['gamma']\n",
    "    param_epsilon = gsc.best_params_['epsilon']\n",
    "    \n",
    "    # Assign best params to model\n",
    "    model = SVR(C=param_c, kernel=\"rbf\", gamma=param_gamma, epsilon=param_epsilon)\n",
    "    model.fit(scale_x_train, y_train)\n",
    "    \n",
    "    #Calculate prediction\n",
    "    y_train_pred = model.predict(scale_x_train)\n",
    "    y_test_pred = model.predict(scale_x_test)\n",
    "\n",
    "    #Calculate r2 score\n",
    "    r2_train = r2_score(y_train,y_train_pred)\n",
    "    r2_test = r2_score(y_test,y_test_pred)\n",
    "    \n",
    "    #Calculate MSE\n",
    "    mse_train = mean_squared_error(y_train,y_train_pred)\n",
    "    mse_test = mean_squared_error(y_test,y_test_pred)\n",
    "    \n",
    "    r2_rbf = r2_rbf.append(pd.Series([len(bd_list[i]),param_c, param_gamma, param_epsilon, r2_train, r2_test, mse_train, mse_test, y_train_pred, y_test_pred], index=r2_rbf.columns ), ignore_index=True)"
   ]
  },
  {
   "cell_type": "code",
   "execution_count": 8,
   "metadata": {},
   "outputs": [
    {
     "data": {
      "text/html": [
       "<div>\n",
       "<style scoped>\n",
       "    .dataframe tbody tr th:only-of-type {\n",
       "        vertical-align: middle;\n",
       "    }\n",
       "\n",
       "    .dataframe tbody tr th {\n",
       "        vertical-align: top;\n",
       "    }\n",
       "\n",
       "    .dataframe thead th {\n",
       "        text-align: right;\n",
       "    }\n",
       "</style>\n",
       "<table border=\"1\" class=\"dataframe\">\n",
       "  <thead>\n",
       "    <tr style=\"text-align: right;\">\n",
       "      <th></th>\n",
       "      <th>desc</th>\n",
       "      <th>C</th>\n",
       "      <th>Gamma</th>\n",
       "      <th>Epsilon</th>\n",
       "      <th>r2_train</th>\n",
       "      <th>r2_test</th>\n",
       "      <th>mse_train</th>\n",
       "      <th>mse_test</th>\n",
       "      <th>train_pred</th>\n",
       "      <th>test_pred</th>\n",
       "    </tr>\n",
       "  </thead>\n",
       "  <tbody>\n",
       "    <tr>\n",
       "      <th>0</th>\n",
       "      <td>5</td>\n",
       "      <td>10</td>\n",
       "      <td>scale</td>\n",
       "      <td>0.1</td>\n",
       "      <td>0.727393</td>\n",
       "      <td>0.560198</td>\n",
       "      <td>0.208755</td>\n",
       "      <td>0.247262</td>\n",
       "      <td>[6.461187257289496, 7.540549743702569, 6.58729...</td>\n",
       "      <td>[7.3655265000093575, 7.46782235995863, 6.53448...</td>\n",
       "    </tr>\n",
       "    <tr>\n",
       "      <th>1</th>\n",
       "      <td>10</td>\n",
       "      <td>100</td>\n",
       "      <td>auto</td>\n",
       "      <td>0.1</td>\n",
       "      <td>0.750714</td>\n",
       "      <td>0.538496</td>\n",
       "      <td>0.190896</td>\n",
       "      <td>0.259463</td>\n",
       "      <td>[6.290953259340387, 7.845325916904532, 6.05116...</td>\n",
       "      <td>[7.170015016411952, 7.26845834076229, 6.783837...</td>\n",
       "    </tr>\n",
       "    <tr>\n",
       "      <th>2</th>\n",
       "      <td>15</td>\n",
       "      <td>100</td>\n",
       "      <td>auto</td>\n",
       "      <td>0.1</td>\n",
       "      <td>0.768033</td>\n",
       "      <td>0.523612</td>\n",
       "      <td>0.177634</td>\n",
       "      <td>0.267831</td>\n",
       "      <td>[5.986392354895072, 7.845398726676429, 6.02407...</td>\n",
       "      <td>[7.113202854721418, 7.335815430769083, 6.69023...</td>\n",
       "    </tr>\n",
       "    <tr>\n",
       "      <th>3</th>\n",
       "      <td>20</td>\n",
       "      <td>100</td>\n",
       "      <td>auto</td>\n",
       "      <td>0.1</td>\n",
       "      <td>0.683806</td>\n",
       "      <td>0.501658</td>\n",
       "      <td>0.242132</td>\n",
       "      <td>0.280173</td>\n",
       "      <td>[6.12044315944767, 7.645395131307729, 6.354217...</td>\n",
       "      <td>[6.985667103031655, 7.063601335245127, 6.83959...</td>\n",
       "    </tr>\n",
       "    <tr>\n",
       "      <th>4</th>\n",
       "      <td>25</td>\n",
       "      <td>10</td>\n",
       "      <td>scale</td>\n",
       "      <td>0.1</td>\n",
       "      <td>0.932352</td>\n",
       "      <td>0.744962</td>\n",
       "      <td>0.051803</td>\n",
       "      <td>0.143385</td>\n",
       "      <td>[5.9858518446022435, 7.644961432781149, 6.9856...</td>\n",
       "      <td>[7.342998524579809, 7.057139109977396, 6.16102...</td>\n",
       "    </tr>\n",
       "  </tbody>\n",
       "</table>\n",
       "</div>"
      ],
      "text/plain": [
       "  desc    C  Gamma  Epsilon  r2_train   r2_test  mse_train  mse_test  \\\n",
       "0    5   10  scale      0.1  0.727393  0.560198   0.208755  0.247262   \n",
       "1   10  100   auto      0.1  0.750714  0.538496   0.190896  0.259463   \n",
       "2   15  100   auto      0.1  0.768033  0.523612   0.177634  0.267831   \n",
       "3   20  100   auto      0.1  0.683806  0.501658   0.242132  0.280173   \n",
       "4   25   10  scale      0.1  0.932352  0.744962   0.051803  0.143385   \n",
       "\n",
       "                                          train_pred  \\\n",
       "0  [6.461187257289496, 7.540549743702569, 6.58729...   \n",
       "1  [6.290953259340387, 7.845325916904532, 6.05116...   \n",
       "2  [5.986392354895072, 7.845398726676429, 6.02407...   \n",
       "3  [6.12044315944767, 7.645395131307729, 6.354217...   \n",
       "4  [5.9858518446022435, 7.644961432781149, 6.9856...   \n",
       "\n",
       "                                           test_pred  \n",
       "0  [7.3655265000093575, 7.46782235995863, 6.53448...  \n",
       "1  [7.170015016411952, 7.26845834076229, 6.783837...  \n",
       "2  [7.113202854721418, 7.335815430769083, 6.69023...  \n",
       "3  [6.985667103031655, 7.063601335245127, 6.83959...  \n",
       "4  [7.342998524579809, 7.057139109977396, 6.16102...  "
      ]
     },
     "execution_count": 8,
     "metadata": {},
     "output_type": "execute_result"
    }
   ],
   "source": [
    "# joblib.dump(r2_rbf, './p/0006_n1/r2_rbf_neue.pkl')\n",
    "# r2_rbf = joblib.load('./p/0006_n1/r2_rbf_neue.pkl')\n",
    "r2_rbf"
   ]
  },
  {
   "cell_type": "markdown",
   "metadata": {},
   "source": [
    "## SVR : Sigmoid"
   ]
  },
  {
   "cell_type": "code",
   "execution_count": 17,
   "metadata": {},
   "outputs": [
    {
     "name": "stderr",
     "output_type": "stream",
     "text": [
      "100%|████████████████████████████████████████████████████████████████████████████████████| 5/5 [00:21<00:00,  4.27s/it]\n"
     ]
    }
   ],
   "source": [
    "r2_sig = pd.DataFrame(columns=['desc','C','Gamma','Epsilon','r2_train','r2_test','mse_train','mse_test','train_pred','test_pred'])\n",
    "\n",
    "for i in tqdm(range(len(bd_list))):\n",
    "    \n",
    "    # Preparation data x & y\n",
    "    x_train = train.loc[:,bd_list[i]]\n",
    "    x_test = test.loc[:,bd_list[i]]\n",
    "    y_train = train.iloc[:, [-1]]\n",
    "    y_test = test.iloc[:,[-1]]\n",
    "    \n",
    "    # Feature scaler Using MinMaxScaler()\n",
    "    scaler = MinMaxScaler()\n",
    "    scaler.fit(x_train)\n",
    "    scale_x_train = scaler.transform(x_train)\n",
    "    scale_x_test = scaler.transform(x_test)\n",
    "    \n",
    "    # Search best params for SVR()\n",
    "    gsc = GridSearchCV(\n",
    "        estimator=SVR(kernel='sigmoid'),\n",
    "        param_grid=param,\n",
    "        cv=10, scoring='neg_mean_squared_error', verbose=0, n_jobs=-1)\n",
    "\n",
    "    gsc.fit(scale_x_train, y_train)\n",
    "    param_c = gsc.best_params_['C']\n",
    "    param_gamma = gsc.best_params_['gamma']\n",
    "    param_epsilon = gsc.best_params_['epsilon']\n",
    "    \n",
    "    # Assign best params to model\n",
    "    model = SVR(C=param_c, kernel=\"sigmoid\", gamma=param_gamma, epsilon = param_epsilon)\n",
    "    model.fit(scale_x_train, y_train)\n",
    "    \n",
    "    #Calculate prediction\n",
    "    y_train_pred = model.predict(scale_x_train)\n",
    "    y_test_pred = model.predict(scale_x_test)\n",
    "\n",
    "    #Calculate r2 score\n",
    "    r2_train = r2_score(y_train,y_train_pred)\n",
    "    r2_test = r2_score(y_test,y_test_pred)\n",
    "    \n",
    "    #Calculate MSE\n",
    "    mse_train = mean_squared_error(y_train,y_train_pred)\n",
    "    mse_test = mean_squared_error(y_test,y_test_pred)\n",
    "    \n",
    "    r2_sig = r2_sig.append(pd.Series([len(bd_list[i]),param_c, param_gamma, param_epsilon, r2_train, r2_test, mse_train, mse_test, y_train_pred, y_test_pred], index=r2_sig.columns ), ignore_index=True)"
   ]
  },
  {
   "cell_type": "code",
   "execution_count": 273,
   "metadata": {
    "code_folding": [
     0
    ]
   },
   "outputs": [
    {
     "name": "stderr",
     "output_type": "stream",
     "text": [
      "UsageError: Cell magic `%%DISBAND_LINEAR` not found.\n"
     ]
    }
   ],
   "source": [
    "%%DISBAND_LINEAR\n",
    "# r2_linear = pd.DataFrame(columns=['desc','C','degree','epsilon','r2_train','r2_test', 'mse_train','mse_test','train_pred','test_pred'])\n",
    "\n",
    "# for i in tqdm(range(len(bd_list))):\n",
    "    \n",
    "#     # Preparation data x & y\n",
    "#     x_train = train.loc[:,bd_list[i]]\n",
    "#     x_test = test.loc[:,bd_list[i]]\n",
    "#     y_train = train.iloc[:, [-1]]\n",
    "#     y_test = test.iloc[:,[-1]]\n",
    "    \n",
    "#     # Feature scaler Using MinMaxScaler()\n",
    "#     scaler = MinMaxScaler()\n",
    "#     scaler.fit(x_train)\n",
    "#     scale_x_train = scaler.transform(x_train)\n",
    "#     scale_x_test = scaler.transform(x_test)\n",
    "    \n",
    "#     # Search best params for SVR()\n",
    "#     gsc = GridSearchCV(\n",
    "#         estimator=SVR(kernel='linear'),\n",
    "#         param_grid=param_linear,\n",
    "#         cv=5, scoring='neg_mean_squared_error', verbose=0, n_jobs=-1)\n",
    "\n",
    "#     gsc.fit(scale_x_train, y_train)\n",
    "#     param_c = gsc.best_params_['C']\n",
    "#     param_degree = gsc.best_params_['degree']\n",
    "#     param_epsilon = gsc.best_params_['epsilon']\n",
    "    \n",
    "#     # Assign best params to model\n",
    "#     model = SVR(C=param_c, kernel=\"linear\", degree=param_degree, epsilon = param_epsilon)\n",
    "#     model.fit(scale_x_train, y_train)\n",
    "    \n",
    "#     #Calculate prediction\n",
    "#     y_train_pred = model.predict(scale_x_train)\n",
    "#     y_test_pred = model.predict(scale_x_test)\n",
    "\n",
    "#     #Calculate r2 score\n",
    "#     r2_train = r2_score(y_train,y_train_pred)\n",
    "#     r2_test = r2_score(y_test,y_test_pred)\n",
    "    \n",
    "#     #Calculate MSE\n",
    "#     mse_train = mean_squared_error(y_train,y_train_pred)\n",
    "#     mse_test = mean_squared_error(y_test,y_test_pred)\n",
    "    \n",
    "#     r2_linear = r2_linear.append(pd.Series([len(bd_list[i]),param_c, param_degree, param_epsilon, r2_train, r2_test, mse_train, mse_test, y_train_pred, y_test_pred], index=r2_linear.columns ), ignore_index=True)"
   ]
  },
  {
   "cell_type": "code",
   "execution_count": 18,
   "metadata": {},
   "outputs": [
    {
     "data": {
      "text/html": [
       "<div>\n",
       "<style scoped>\n",
       "    .dataframe tbody tr th:only-of-type {\n",
       "        vertical-align: middle;\n",
       "    }\n",
       "\n",
       "    .dataframe tbody tr th {\n",
       "        vertical-align: top;\n",
       "    }\n",
       "\n",
       "    .dataframe thead th {\n",
       "        text-align: right;\n",
       "    }\n",
       "</style>\n",
       "<table border=\"1\" class=\"dataframe\">\n",
       "  <thead>\n",
       "    <tr style=\"text-align: right;\">\n",
       "      <th></th>\n",
       "      <th>desc</th>\n",
       "      <th>C</th>\n",
       "      <th>Gamma</th>\n",
       "      <th>Epsilon</th>\n",
       "      <th>r2_train</th>\n",
       "      <th>r2_test</th>\n",
       "      <th>mse_train</th>\n",
       "      <th>mse_test</th>\n",
       "      <th>train_pred</th>\n",
       "      <th>test_pred</th>\n",
       "    </tr>\n",
       "  </thead>\n",
       "  <tbody>\n",
       "    <tr>\n",
       "      <th>0</th>\n",
       "      <td>5</td>\n",
       "      <td>10</td>\n",
       "      <td>auto</td>\n",
       "      <td>1</td>\n",
       "      <td>0.381748</td>\n",
       "      <td>0.441117</td>\n",
       "      <td>0.473440</td>\n",
       "      <td>0.314210</td>\n",
       "      <td>[6.732578615903071, 7.489930341498418, 6.20488...</td>\n",
       "      <td>[7.138238564979398, 7.161091204118763, 6.88239...</td>\n",
       "    </tr>\n",
       "    <tr>\n",
       "      <th>1</th>\n",
       "      <td>10</td>\n",
       "      <td>1</td>\n",
       "      <td>auto</td>\n",
       "      <td>0.1</td>\n",
       "      <td>0.474027</td>\n",
       "      <td>0.725503</td>\n",
       "      <td>0.402776</td>\n",
       "      <td>0.154325</td>\n",
       "      <td>[6.557176566403772, 7.455968565082725, 6.25914...</td>\n",
       "      <td>[7.108683152367865, 7.118288060101129, 6.95600...</td>\n",
       "    </tr>\n",
       "    <tr>\n",
       "      <th>2</th>\n",
       "      <td>15</td>\n",
       "      <td>1</td>\n",
       "      <td>auto</td>\n",
       "      <td>0.1</td>\n",
       "      <td>0.483501</td>\n",
       "      <td>0.696587</td>\n",
       "      <td>0.395520</td>\n",
       "      <td>0.170582</td>\n",
       "      <td>[6.558491774523275, 7.409131049578908, 6.27536...</td>\n",
       "      <td>[6.986121785694267, 7.028258125240105, 7.01976...</td>\n",
       "    </tr>\n",
       "    <tr>\n",
       "      <th>3</th>\n",
       "      <td>20</td>\n",
       "      <td>10</td>\n",
       "      <td>auto</td>\n",
       "      <td>1</td>\n",
       "      <td>0.503312</td>\n",
       "      <td>0.634319</td>\n",
       "      <td>0.380350</td>\n",
       "      <td>0.205590</td>\n",
       "      <td>[6.56820380565517, 7.518831727002551, 6.159192...</td>\n",
       "      <td>[7.152795542155465, 7.192962711803874, 6.87863...</td>\n",
       "    </tr>\n",
       "    <tr>\n",
       "      <th>4</th>\n",
       "      <td>25</td>\n",
       "      <td>1</td>\n",
       "      <td>auto</td>\n",
       "      <td>0.1</td>\n",
       "      <td>0.517868</td>\n",
       "      <td>0.710566</td>\n",
       "      <td>0.369203</td>\n",
       "      <td>0.162723</td>\n",
       "      <td>[6.6536780182618775, 7.544871569366714, 6.2844...</td>\n",
       "      <td>[7.090310098526999, 7.073463510640318, 6.99276...</td>\n",
       "    </tr>\n",
       "  </tbody>\n",
       "</table>\n",
       "</div>"
      ],
      "text/plain": [
       "  desc   C Gamma Epsilon  r2_train   r2_test  mse_train  mse_test  \\\n",
       "0    5  10  auto       1  0.381748  0.441117   0.473440  0.314210   \n",
       "1   10   1  auto     0.1  0.474027  0.725503   0.402776  0.154325   \n",
       "2   15   1  auto     0.1  0.483501  0.696587   0.395520  0.170582   \n",
       "3   20  10  auto       1  0.503312  0.634319   0.380350  0.205590   \n",
       "4   25   1  auto     0.1  0.517868  0.710566   0.369203  0.162723   \n",
       "\n",
       "                                          train_pred  \\\n",
       "0  [6.732578615903071, 7.489930341498418, 6.20488...   \n",
       "1  [6.557176566403772, 7.455968565082725, 6.25914...   \n",
       "2  [6.558491774523275, 7.409131049578908, 6.27536...   \n",
       "3  [6.56820380565517, 7.518831727002551, 6.159192...   \n",
       "4  [6.6536780182618775, 7.544871569366714, 6.2844...   \n",
       "\n",
       "                                           test_pred  \n",
       "0  [7.138238564979398, 7.161091204118763, 6.88239...  \n",
       "1  [7.108683152367865, 7.118288060101129, 6.95600...  \n",
       "2  [6.986121785694267, 7.028258125240105, 7.01976...  \n",
       "3  [7.152795542155465, 7.192962711803874, 6.87863...  \n",
       "4  [7.090310098526999, 7.073463510640318, 6.99276...  "
      ]
     },
     "execution_count": 18,
     "metadata": {},
     "output_type": "execute_result"
    }
   ],
   "source": [
    "# joblib.dump(r2_linear, './p/0006_n1/r2_linear_neue.pkl')\n",
    "# r2_linear = joblib.load('./p/0006_n1/r2_linear_neue.pkl')\n",
    "r2_sig"
   ]
  },
  {
   "cell_type": "markdown",
   "metadata": {},
   "source": [
    "## SVR : Polynomial "
   ]
  },
  {
   "cell_type": "code",
   "execution_count": 19,
   "metadata": {},
   "outputs": [
    {
     "name": "stderr",
     "output_type": "stream",
     "text": [
      "\r",
      "  0%|                                                                                            | 0/5 [00:00<?, ?it/s]"
     ]
    },
    {
     "ename": "KeyboardInterrupt",
     "evalue": "",
     "output_type": "error",
     "traceback": [
      "\u001b[1;31m---------------------------------------------------------------------------\u001b[0m",
      "\u001b[1;31mKeyboardInterrupt\u001b[0m                         Traceback (most recent call last)",
      "\u001b[1;32m<ipython-input-19-2a2402948b9b>\u001b[0m in \u001b[0;36m<module>\u001b[1;34m\u001b[0m\n\u001b[0;32m     21\u001b[0m         cv=10, scoring='neg_mean_squared_error', verbose=0, n_jobs=-1)\n\u001b[0;32m     22\u001b[0m \u001b[1;33m\u001b[0m\u001b[0m\n\u001b[1;32m---> 23\u001b[1;33m     \u001b[0mgsc\u001b[0m\u001b[1;33m.\u001b[0m\u001b[0mfit\u001b[0m\u001b[1;33m(\u001b[0m\u001b[0mscale_x_train\u001b[0m\u001b[1;33m,\u001b[0m \u001b[0my_train\u001b[0m\u001b[1;33m)\u001b[0m\u001b[1;33m\u001b[0m\u001b[1;33m\u001b[0m\u001b[0m\n\u001b[0m\u001b[0;32m     24\u001b[0m     \u001b[0mparam_c\u001b[0m \u001b[1;33m=\u001b[0m \u001b[0mgsc\u001b[0m\u001b[1;33m.\u001b[0m\u001b[0mbest_params_\u001b[0m\u001b[1;33m[\u001b[0m\u001b[1;34m'C'\u001b[0m\u001b[1;33m]\u001b[0m\u001b[1;33m\u001b[0m\u001b[1;33m\u001b[0m\u001b[0m\n\u001b[0;32m     25\u001b[0m     \u001b[0mparam_degree\u001b[0m \u001b[1;33m=\u001b[0m \u001b[0mgsc\u001b[0m\u001b[1;33m.\u001b[0m\u001b[0mbest_params_\u001b[0m\u001b[1;33m[\u001b[0m\u001b[1;34m'degree'\u001b[0m\u001b[1;33m]\u001b[0m\u001b[1;33m\u001b[0m\u001b[1;33m\u001b[0m\u001b[0m\n",
      "\u001b[1;32mc:\\users\\muhammad fajar rizqi\\appdata\\local\\programs\\python\\python38-32\\lib\\site-packages\\sklearn\\model_selection\\_search.py\u001b[0m in \u001b[0;36mfit\u001b[1;34m(self, X, y, groups, **fit_params)\u001b[0m\n\u001b[0;32m    708\u001b[0m                 \u001b[1;32mreturn\u001b[0m \u001b[0mresults\u001b[0m\u001b[1;33m\u001b[0m\u001b[1;33m\u001b[0m\u001b[0m\n\u001b[0;32m    709\u001b[0m \u001b[1;33m\u001b[0m\u001b[0m\n\u001b[1;32m--> 710\u001b[1;33m             \u001b[0mself\u001b[0m\u001b[1;33m.\u001b[0m\u001b[0m_run_search\u001b[0m\u001b[1;33m(\u001b[0m\u001b[0mevaluate_candidates\u001b[0m\u001b[1;33m)\u001b[0m\u001b[1;33m\u001b[0m\u001b[1;33m\u001b[0m\u001b[0m\n\u001b[0m\u001b[0;32m    711\u001b[0m \u001b[1;33m\u001b[0m\u001b[0m\n\u001b[0;32m    712\u001b[0m         \u001b[1;31m# For multi-metric evaluation, store the best_index_, best_params_ and\u001b[0m\u001b[1;33m\u001b[0m\u001b[1;33m\u001b[0m\u001b[1;33m\u001b[0m\u001b[0m\n",
      "\u001b[1;32mc:\\users\\muhammad fajar rizqi\\appdata\\local\\programs\\python\\python38-32\\lib\\site-packages\\sklearn\\model_selection\\_search.py\u001b[0m in \u001b[0;36m_run_search\u001b[1;34m(self, evaluate_candidates)\u001b[0m\n\u001b[0;32m   1149\u001b[0m     \u001b[1;32mdef\u001b[0m \u001b[0m_run_search\u001b[0m\u001b[1;33m(\u001b[0m\u001b[0mself\u001b[0m\u001b[1;33m,\u001b[0m \u001b[0mevaluate_candidates\u001b[0m\u001b[1;33m)\u001b[0m\u001b[1;33m:\u001b[0m\u001b[1;33m\u001b[0m\u001b[1;33m\u001b[0m\u001b[0m\n\u001b[0;32m   1150\u001b[0m         \u001b[1;34m\"\"\"Search all candidates in param_grid\"\"\"\u001b[0m\u001b[1;33m\u001b[0m\u001b[1;33m\u001b[0m\u001b[0m\n\u001b[1;32m-> 1151\u001b[1;33m         \u001b[0mevaluate_candidates\u001b[0m\u001b[1;33m(\u001b[0m\u001b[0mParameterGrid\u001b[0m\u001b[1;33m(\u001b[0m\u001b[0mself\u001b[0m\u001b[1;33m.\u001b[0m\u001b[0mparam_grid\u001b[0m\u001b[1;33m)\u001b[0m\u001b[1;33m)\u001b[0m\u001b[1;33m\u001b[0m\u001b[1;33m\u001b[0m\u001b[0m\n\u001b[0m\u001b[0;32m   1152\u001b[0m \u001b[1;33m\u001b[0m\u001b[0m\n\u001b[0;32m   1153\u001b[0m \u001b[1;33m\u001b[0m\u001b[0m\n",
      "\u001b[1;32mc:\\users\\muhammad fajar rizqi\\appdata\\local\\programs\\python\\python38-32\\lib\\site-packages\\sklearn\\model_selection\\_search.py\u001b[0m in \u001b[0;36mevaluate_candidates\u001b[1;34m(candidate_params)\u001b[0m\n\u001b[0;32m    680\u001b[0m                               n_splits, n_candidates, n_candidates * n_splits))\n\u001b[0;32m    681\u001b[0m \u001b[1;33m\u001b[0m\u001b[0m\n\u001b[1;32m--> 682\u001b[1;33m                 out = parallel(delayed(_fit_and_score)(clone(base_estimator),\n\u001b[0m\u001b[0;32m    683\u001b[0m                                                        \u001b[0mX\u001b[0m\u001b[1;33m,\u001b[0m \u001b[0my\u001b[0m\u001b[1;33m,\u001b[0m\u001b[1;33m\u001b[0m\u001b[1;33m\u001b[0m\u001b[0m\n\u001b[0;32m    684\u001b[0m                                                        \u001b[0mtrain\u001b[0m\u001b[1;33m=\u001b[0m\u001b[0mtrain\u001b[0m\u001b[1;33m,\u001b[0m \u001b[0mtest\u001b[0m\u001b[1;33m=\u001b[0m\u001b[0mtest\u001b[0m\u001b[1;33m,\u001b[0m\u001b[1;33m\u001b[0m\u001b[1;33m\u001b[0m\u001b[0m\n",
      "\u001b[1;32mc:\\users\\muhammad fajar rizqi\\appdata\\local\\programs\\python\\python38-32\\lib\\site-packages\\joblib\\parallel.py\u001b[0m in \u001b[0;36m__call__\u001b[1;34m(self, iterable)\u001b[0m\n\u001b[0;32m   1015\u001b[0m \u001b[1;33m\u001b[0m\u001b[0m\n\u001b[0;32m   1016\u001b[0m             \u001b[1;32mwith\u001b[0m \u001b[0mself\u001b[0m\u001b[1;33m.\u001b[0m\u001b[0m_backend\u001b[0m\u001b[1;33m.\u001b[0m\u001b[0mretrieval_context\u001b[0m\u001b[1;33m(\u001b[0m\u001b[1;33m)\u001b[0m\u001b[1;33m:\u001b[0m\u001b[1;33m\u001b[0m\u001b[1;33m\u001b[0m\u001b[0m\n\u001b[1;32m-> 1017\u001b[1;33m                 \u001b[0mself\u001b[0m\u001b[1;33m.\u001b[0m\u001b[0mretrieve\u001b[0m\u001b[1;33m(\u001b[0m\u001b[1;33m)\u001b[0m\u001b[1;33m\u001b[0m\u001b[1;33m\u001b[0m\u001b[0m\n\u001b[0m\u001b[0;32m   1018\u001b[0m             \u001b[1;31m# Make sure that we get a last message telling us we are done\u001b[0m\u001b[1;33m\u001b[0m\u001b[1;33m\u001b[0m\u001b[1;33m\u001b[0m\u001b[0m\n\u001b[0;32m   1019\u001b[0m             \u001b[0melapsed_time\u001b[0m \u001b[1;33m=\u001b[0m \u001b[0mtime\u001b[0m\u001b[1;33m.\u001b[0m\u001b[0mtime\u001b[0m\u001b[1;33m(\u001b[0m\u001b[1;33m)\u001b[0m \u001b[1;33m-\u001b[0m \u001b[0mself\u001b[0m\u001b[1;33m.\u001b[0m\u001b[0m_start_time\u001b[0m\u001b[1;33m\u001b[0m\u001b[1;33m\u001b[0m\u001b[0m\n",
      "\u001b[1;32mc:\\users\\muhammad fajar rizqi\\appdata\\local\\programs\\python\\python38-32\\lib\\site-packages\\joblib\\parallel.py\u001b[0m in \u001b[0;36mretrieve\u001b[1;34m(self)\u001b[0m\n\u001b[0;32m    907\u001b[0m             \u001b[1;32mtry\u001b[0m\u001b[1;33m:\u001b[0m\u001b[1;33m\u001b[0m\u001b[1;33m\u001b[0m\u001b[0m\n\u001b[0;32m    908\u001b[0m                 \u001b[1;32mif\u001b[0m \u001b[0mgetattr\u001b[0m\u001b[1;33m(\u001b[0m\u001b[0mself\u001b[0m\u001b[1;33m.\u001b[0m\u001b[0m_backend\u001b[0m\u001b[1;33m,\u001b[0m \u001b[1;34m'supports_timeout'\u001b[0m\u001b[1;33m,\u001b[0m \u001b[1;32mFalse\u001b[0m\u001b[1;33m)\u001b[0m\u001b[1;33m:\u001b[0m\u001b[1;33m\u001b[0m\u001b[1;33m\u001b[0m\u001b[0m\n\u001b[1;32m--> 909\u001b[1;33m                     \u001b[0mself\u001b[0m\u001b[1;33m.\u001b[0m\u001b[0m_output\u001b[0m\u001b[1;33m.\u001b[0m\u001b[0mextend\u001b[0m\u001b[1;33m(\u001b[0m\u001b[0mjob\u001b[0m\u001b[1;33m.\u001b[0m\u001b[0mget\u001b[0m\u001b[1;33m(\u001b[0m\u001b[0mtimeout\u001b[0m\u001b[1;33m=\u001b[0m\u001b[0mself\u001b[0m\u001b[1;33m.\u001b[0m\u001b[0mtimeout\u001b[0m\u001b[1;33m)\u001b[0m\u001b[1;33m)\u001b[0m\u001b[1;33m\u001b[0m\u001b[1;33m\u001b[0m\u001b[0m\n\u001b[0m\u001b[0;32m    910\u001b[0m                 \u001b[1;32melse\u001b[0m\u001b[1;33m:\u001b[0m\u001b[1;33m\u001b[0m\u001b[1;33m\u001b[0m\u001b[0m\n\u001b[0;32m    911\u001b[0m                     \u001b[0mself\u001b[0m\u001b[1;33m.\u001b[0m\u001b[0m_output\u001b[0m\u001b[1;33m.\u001b[0m\u001b[0mextend\u001b[0m\u001b[1;33m(\u001b[0m\u001b[0mjob\u001b[0m\u001b[1;33m.\u001b[0m\u001b[0mget\u001b[0m\u001b[1;33m(\u001b[0m\u001b[1;33m)\u001b[0m\u001b[1;33m)\u001b[0m\u001b[1;33m\u001b[0m\u001b[1;33m\u001b[0m\u001b[0m\n",
      "\u001b[1;32mc:\\users\\muhammad fajar rizqi\\appdata\\local\\programs\\python\\python38-32\\lib\\site-packages\\joblib\\_parallel_backends.py\u001b[0m in \u001b[0;36mwrap_future_result\u001b[1;34m(future, timeout)\u001b[0m\n\u001b[0;32m    560\u001b[0m         AsyncResults.get from multiprocessing.\"\"\"\n\u001b[0;32m    561\u001b[0m         \u001b[1;32mtry\u001b[0m\u001b[1;33m:\u001b[0m\u001b[1;33m\u001b[0m\u001b[1;33m\u001b[0m\u001b[0m\n\u001b[1;32m--> 562\u001b[1;33m             \u001b[1;32mreturn\u001b[0m \u001b[0mfuture\u001b[0m\u001b[1;33m.\u001b[0m\u001b[0mresult\u001b[0m\u001b[1;33m(\u001b[0m\u001b[0mtimeout\u001b[0m\u001b[1;33m=\u001b[0m\u001b[0mtimeout\u001b[0m\u001b[1;33m)\u001b[0m\u001b[1;33m\u001b[0m\u001b[1;33m\u001b[0m\u001b[0m\n\u001b[0m\u001b[0;32m    563\u001b[0m         \u001b[1;32mexcept\u001b[0m \u001b[0mLokyTimeoutError\u001b[0m\u001b[1;33m:\u001b[0m\u001b[1;33m\u001b[0m\u001b[1;33m\u001b[0m\u001b[0m\n\u001b[0;32m    564\u001b[0m             \u001b[1;32mraise\u001b[0m \u001b[0mTimeoutError\u001b[0m\u001b[1;33m(\u001b[0m\u001b[1;33m)\u001b[0m\u001b[1;33m\u001b[0m\u001b[1;33m\u001b[0m\u001b[0m\n",
      "\u001b[1;32mc:\\users\\muhammad fajar rizqi\\appdata\\local\\programs\\python\\python38-32\\lib\\concurrent\\futures\\_base.py\u001b[0m in \u001b[0;36mresult\u001b[1;34m(self, timeout)\u001b[0m\n\u001b[0;32m    432\u001b[0m                 \u001b[1;32mreturn\u001b[0m \u001b[0mself\u001b[0m\u001b[1;33m.\u001b[0m\u001b[0m__get_result\u001b[0m\u001b[1;33m(\u001b[0m\u001b[1;33m)\u001b[0m\u001b[1;33m\u001b[0m\u001b[1;33m\u001b[0m\u001b[0m\n\u001b[0;32m    433\u001b[0m \u001b[1;33m\u001b[0m\u001b[0m\n\u001b[1;32m--> 434\u001b[1;33m             \u001b[0mself\u001b[0m\u001b[1;33m.\u001b[0m\u001b[0m_condition\u001b[0m\u001b[1;33m.\u001b[0m\u001b[0mwait\u001b[0m\u001b[1;33m(\u001b[0m\u001b[0mtimeout\u001b[0m\u001b[1;33m)\u001b[0m\u001b[1;33m\u001b[0m\u001b[1;33m\u001b[0m\u001b[0m\n\u001b[0m\u001b[0;32m    435\u001b[0m \u001b[1;33m\u001b[0m\u001b[0m\n\u001b[0;32m    436\u001b[0m             \u001b[1;32mif\u001b[0m \u001b[0mself\u001b[0m\u001b[1;33m.\u001b[0m\u001b[0m_state\u001b[0m \u001b[1;32min\u001b[0m \u001b[1;33m[\u001b[0m\u001b[0mCANCELLED\u001b[0m\u001b[1;33m,\u001b[0m \u001b[0mCANCELLED_AND_NOTIFIED\u001b[0m\u001b[1;33m]\u001b[0m\u001b[1;33m:\u001b[0m\u001b[1;33m\u001b[0m\u001b[1;33m\u001b[0m\u001b[0m\n",
      "\u001b[1;32mc:\\users\\muhammad fajar rizqi\\appdata\\local\\programs\\python\\python38-32\\lib\\threading.py\u001b[0m in \u001b[0;36mwait\u001b[1;34m(self, timeout)\u001b[0m\n\u001b[0;32m    300\u001b[0m         \u001b[1;32mtry\u001b[0m\u001b[1;33m:\u001b[0m    \u001b[1;31m# restore state no matter what (e.g., KeyboardInterrupt)\u001b[0m\u001b[1;33m\u001b[0m\u001b[1;33m\u001b[0m\u001b[0m\n\u001b[0;32m    301\u001b[0m             \u001b[1;32mif\u001b[0m \u001b[0mtimeout\u001b[0m \u001b[1;32mis\u001b[0m \u001b[1;32mNone\u001b[0m\u001b[1;33m:\u001b[0m\u001b[1;33m\u001b[0m\u001b[1;33m\u001b[0m\u001b[0m\n\u001b[1;32m--> 302\u001b[1;33m                 \u001b[0mwaiter\u001b[0m\u001b[1;33m.\u001b[0m\u001b[0macquire\u001b[0m\u001b[1;33m(\u001b[0m\u001b[1;33m)\u001b[0m\u001b[1;33m\u001b[0m\u001b[1;33m\u001b[0m\u001b[0m\n\u001b[0m\u001b[0;32m    303\u001b[0m                 \u001b[0mgotit\u001b[0m \u001b[1;33m=\u001b[0m \u001b[1;32mTrue\u001b[0m\u001b[1;33m\u001b[0m\u001b[1;33m\u001b[0m\u001b[0m\n\u001b[0;32m    304\u001b[0m             \u001b[1;32melse\u001b[0m\u001b[1;33m:\u001b[0m\u001b[1;33m\u001b[0m\u001b[1;33m\u001b[0m\u001b[0m\n",
      "\u001b[1;31mKeyboardInterrupt\u001b[0m: "
     ]
    }
   ],
   "source": [
    "r2_poly = pd.DataFrame(columns=['desc','C','degree','epsilon','r2_train','r2_test', 'mse_train','mse_test','train_pred','test_pred'])\n",
    "\n",
    "for i in tqdm(range(len(bd_list))):\n",
    "    \n",
    "    # Preparation data x & y\n",
    "    x_train = train.loc[:,bd_list[i]]\n",
    "    x_test = test.loc[:,bd_list[i]]\n",
    "    y_train = train.iloc[:, [-1]]\n",
    "    y_test = test.iloc[:,[-1]]\n",
    "    \n",
    "    # Feature scaler Using MinMaxScaler()\n",
    "    scaler = MinMaxScaler()\n",
    "    scaler.fit(x_train)\n",
    "    scale_x_train = scaler.transform(x_train)\n",
    "    scale_x_test = scaler.transform(x_test)\n",
    "    \n",
    "    # Search best params for SVR()\n",
    "    gsc = GridSearchCV(\n",
    "        estimator=SVR(kernel='poly'),\n",
    "        param_grid=param,\n",
    "        cv=10, scoring='neg_mean_squared_error', verbose=0, n_jobs=-1)\n",
    "\n",
    "    gsc.fit(scale_x_train, y_train)\n",
    "    param_c = gsc.best_params_['C']\n",
    "    param_degree = gsc.best_params_['degree']\n",
    "    param_epsilon = gsc.best_params_['epsilon']\n",
    "    \n",
    "    # Assign best params to model\n",
    "    model = SVR(C=param_c, kernel=\"poly\", degree=param_degree, epsilon = param_epsilon)\n",
    "    model.fit(scale_x_train, y_train)\n",
    "    \n",
    "    #Calculate prediction\n",
    "    y_train_pred = model.predict(scale_x_train)\n",
    "    y_test_pred = model.predict(scale_x_test)\n",
    "\n",
    "    #Calculate r2 score\n",
    "    r2_train = r2_score(y_train,y_train_pred)\n",
    "    r2_test = r2_score(y_test,y_test_pred)\n",
    "    \n",
    "    #Calculate MSE\n",
    "    mse_train = mean_squared_error(y_train,y_train_pred)\n",
    "    mse_test = mean_squared_error(y_test,y_test_pred)\n",
    "    \n",
    "    r2_poly = r2_poly.append(pd.Series([len(bd_list[i]),param_c, param_degree, param_epsilon, r2_train, r2_test, mse_train, mse_test,y_train_pred, y_test_pred], index=r2_poly.columns ), ignore_index=True)"
   ]
  },
  {
   "cell_type": "code",
   "execution_count": null,
   "metadata": {},
   "outputs": [],
   "source": [
    "# joblib.dump(r2_poly, './p/0006_n1/r2_poly_neue.pkl')\n",
    "# r2_poly = joblib.load('./p/0006_n1/r2_poly_neue.pkl')\n",
    "r2_poly"
   ]
  },
  {
   "cell_type": "markdown",
   "metadata": {},
   "source": [
    "## R2 Plots for Model Development"
   ]
  },
  {
   "cell_type": "code",
   "execution_count": 119,
   "metadata": {},
   "outputs": [
    {
     "data": {
      "image/png": "[encoded data removed]",
      "text/plain": [
       "<Figure size 640x480 with 1 Axes>"
      ]
     },
     "metadata": {
      "needs_background": "light"
     },
     "output_type": "display_data"
    }
   ],
   "source": [
    "### plot\n",
    "# x = np.arange(5,26,5)\n",
    "x = [5,10,15,20,25]\n",
    "\n",
    "# Note that even in the OO-style, we use `.pyplot.figure` to create the figure.\n",
    "fig, ax = plt.subplots(figsize=(8, 6), dpi=80)  # Create a figure and an axes.\n",
    "\n",
    "ax.plot(x, r2_rbf.loc[:,'mse_train'], label='MSE Train',marker='.',markersize=10, lw=2, color='b')\n",
    "ax.plot(x, r2_rbf.loc[:,'mse_test'], label='MSE Val', marker='.', markersize=10, lw=2, ls='dotted', color='b') \n",
    "ax.plot(x, r2_linear.loc[:,'mse_train'], label='MSE Train', marker='.',markersize=10, lw=2,color='r')\n",
    "ax.plot(x, r2_linear.loc[:,'mse_test'], label='MSE Val', marker='.', markersize=10, lw=2, ls='dotted',color='r')\n",
    "ax.plot(x, r2_poly.loc[:,'mse_train'], label='MSE Train', marker='.', markersize=10, lw=2, color='g')\n",
    "ax.plot(x, r2_poly.loc[:,'mse_test'], label='MSE Val', marker='.', markersize=10, lw=2, ls='dotted', color='g')\n",
    "\n",
    "ax.set_xlabel('Number of Descriptors')\n",
    "ax.set_ylabel('MSE Score')\n",
    "# ax.set_title(\"SVR r2 score\")  \n",
    "ax.set_xticks(x)\n",
    "plt.grid()\n",
    "plt.legend(bbox_to_anchor=(1.05, 1), loc='upper left', borderaxespad=0.)\n",
    "# plt.savefig('./p/0003/r2_models_numdesc.png', format='png', dpi=1000, bbox_inches=\"tight\")    \n",
    "plt.show()"
   ]
  },
  {
   "cell_type": "markdown",
   "metadata": {},
   "source": [
    "# Model Validation"
   ]
  },
  {
   "cell_type": "markdown",
   "metadata": {},
   "source": [
    "## Validation Functions"
   ]
  },
  {
   "cell_type": "code",
   "execution_count": 20,
   "metadata": {
    "code_folding": [
     0,
     12,
     65,
     78,
     91,
     97,
     129,
     135,
     181,
     227,
     273,
     319
    ]
   },
   "outputs": [],
   "source": [
    "def r2_score(y, y_pred, y_train=None):\n",
    "    sse = 0; sst = 0\n",
    "    if y_train is None:        \n",
    "        y_mean = np.mean(y)\n",
    "    else:\n",
    "        y_mean = np.mean(y_train)\n",
    "    for i in range(len(y)):\n",
    "        sse += (y[i] - y_pred[i]) ** 2\n",
    "        sst += (y[i] - y_mean) ** 2\n",
    "    r2_score = 1 - (sse / sst)\n",
    "    return r2_score\n",
    "\n",
    "def qsar_param(y, y_pred, d_r2m=True):\n",
    "    results = []\n",
    "    _, _, y = normalize(y)\n",
    "    _, _, y_pred = normalize(y_pred)\n",
    "    y_mean = np.mean(y); y_pred_mean = np.mean(y_pred)\n",
    "    # calculate r2\n",
    "    num = 0; den_1 = 0; den_2 = 0\n",
    "    for i in range(len(y)):\n",
    "        num += (y[i] - y_mean) * (y_pred[i] - y_pred_mean)\n",
    "        den_1 += (y_pred[i] - y_pred_mean) ** 2\n",
    "        den_2 += (y[i] - y_mean) ** 2\n",
    "    r2 = num ** 2 / (den_1 * den_2)\n",
    "    results = {\"r2\": r2}\n",
    "    # calculate k and k_dash\n",
    "    n_data = len(y)\n",
    "    dot_ = 0; y_pred2 = 0; y2 = 0\n",
    "    for i in range(n_data):\n",
    "        dot_ += (y[i] * y_pred[i])\n",
    "        y_pred2 += y_pred[i] ** 2\n",
    "        y2 += y[i] ** 2\n",
    "    k = np.sum(dot_) / np.sum(y_pred2)\n",
    "    k_dash = np.sum(dot_) / np.sum(y2)\n",
    "    results[\"k\"] = k\n",
    "    results[\"k_dash\"] = k_dash\n",
    "    # calculate r2_0 and r2_0_dash\n",
    "    num = 0; num_dash = 0; den = 0; den_dash = 0\n",
    "    for i in range(n_data):\n",
    "        num += (y[i] - (k * y_pred[i])) ** 2\n",
    "        num_dash += (y_pred[i] - (k_dash * y[i])) ** 2\n",
    "        den += (y[i] - y_mean) ** 2\n",
    "        den_dash += (y_pred[i] - y_pred_mean) ** 2\n",
    "    r2_0 = 1 - (num / den)\n",
    "    r2_0_dash = 1 - (num_dash / den_dash)\n",
    "    #results.append(r2_0)\n",
    "    #results.append(r2_0_dash)\n",
    "    r2r0 = (r2 - r2_0)/r2\n",
    "    r2r0_dash = (r2 - r2_0_dash)/r2\n",
    "    results[\"r2r0\"] = r2r0\n",
    "    results[\"r2r0_dash\"] = r2r0_dash\n",
    "    r0r0_dash = np.abs(r2_0 - r2_0_dash)\n",
    "    results[\"r0r0_dash\"] = r0r0_dash\n",
    "    # calculate rm2 and rm2_dash\n",
    "    rm2 = r2 * (1 - np.sqrt(r2 - r2_0))\n",
    "    rm2_dash = r2 * (1 - np.sqrt(r2 - r2_0_dash))\n",
    "    #results.append(rm2)\n",
    "    #results.append(rm2_dash)\n",
    "    # calculate rm2_bar and d_rm2\n",
    "    rm2_bar = (rm2 + rm2_dash) / 2\n",
    "    d_rm2 = np.abs(rm2 - rm2_dash)\n",
    "    results[\"rm2_bar\"] = rm2_bar\n",
    "    results[\"d_rm2\"] = d_rm2\n",
    "    return results\n",
    "\n",
    "def q2_loo(model, X, y):\n",
    "    loo = LeaveOneOut()\n",
    "    y_pred = []\n",
    "    for train_index, test_index in loo.split(X):\n",
    "        X_train, X_test = X[train_index], X[test_index]\n",
    "        y_train, y_test = y[train_index], y[test_index]\n",
    "        model.fit(X_train, y_train)\n",
    "        tmp = model.predict(X_test)\n",
    "        #tmp = scaler_y.inverse_transform(tmp)\n",
    "        y_pred.append(list(tmp)[0])\n",
    "    r2 = r2_score(y, y_pred)\n",
    "    return r2\n",
    "\n",
    "def q2_looV2(model, X, y):\n",
    "    loo = LeaveOneOut()\n",
    "    y_pred = []\n",
    "    for train_index, test_index in loo.split(X):\n",
    "        X_train, X_test = X[train_index], X[test_index]\n",
    "        y_train, y_test = y[train_index], y[test_index]\n",
    "        model.fit(X_train, y_train)\n",
    "        tmp = model.predict(X_test)\n",
    "        #tmp = scaler_y.inverse_transform(tmp)\n",
    "        y_pred.append(list(tmp)[0])\n",
    "    r2 = r2_score(y, y_pred)\n",
    "    return r2, y_pred\n",
    "\n",
    "def normalize(X):\n",
    "    max_ = np.max(X, axis=0)\n",
    "    min_ = np.min(X, axis=0)\n",
    "    X_norm = (X - min_) / (max_ - min_)\n",
    "    return max_, min_, X_norm\n",
    "\n",
    "def leverage(XtX, X):\n",
    "    levs = []\n",
    "    for i in range(X.shape[0]):\n",
    "        x = X[i,:]\n",
    "        lev = x.dot(XtX).dot(x.T)\n",
    "        levs.append(lev)\n",
    "    return levs\n",
    "\n",
    "def y_random(estimator, X, y, n=10):\n",
    "    # non-random\n",
    "    estimator.fit(X, y)\n",
    "    y_pred = estimator.predict(X)    \n",
    "    r2_nr = r2_score(y, y_pred)\n",
    "    r_nr = np.sqrt(r2_nr)\n",
    "    n_data = X.shape[0]\n",
    "    # random\n",
    "    r2_rand = []\n",
    "    range_ = list(range(n_data))\n",
    "    for i in range(n):\n",
    "        new_range_ = copy.deepcopy(range_)\n",
    "        np.random.shuffle(new_range_)\n",
    "        y_new = []\n",
    "        for i in new_range_:\n",
    "            y_new.append(y[i])\n",
    "        y_new = np.array(y_new)\n",
    "        estimator.fit(X, y_new)\n",
    "        y_pred = estimator.predict(X)\n",
    "        r2_rand.append(r2_score(y_new, y_pred))\n",
    "    r2_rand_avg = np.average(r2_rand)\n",
    "    rp = r_nr * np.sqrt(r2_nr - r2_rand_avg)\n",
    "    return rp\n",
    "\n",
    "def standardize(X):\n",
    "    mean_ = np.mean(X, axis=0)\n",
    "    std_ = np.std(X, axis=0)\n",
    "    X_norm = (X - mean_) / std_\n",
    "    return X_norm, mean_, std_\n",
    "\n",
    "def applicability_domain(X_train, X_test, y_train_act, \n",
    "                         y_train_pred, y_test_act, y_test_pred):\n",
    "    # using wilson map\n",
    "    X_train, _, _ = standardize(X_train)\n",
    "    X_test, _, _ = standardize(X_test)\n",
    "    n, p = X_train.shape\n",
    "    # calculate standardized residuals\n",
    "    err_train = []; res_train = []\n",
    "    for i in range(len(y_train_pred)):\n",
    "        err_train.append(y_train_act[i] - y_train_pred[i])\n",
    "    rmse_train = np.sqrt(mse_score(y_train_act, y_train_pred))\n",
    "    for i in range(len(y_train_pred)):\n",
    "        tmp = err_train[i]/rmse_train\n",
    "        res_train.append(tmp)\n",
    "    err_test = []; res_test = []\n",
    "    for i in range(len(y_test_pred)):\n",
    "        err_test.append(y_test_act[i] - y_test_pred[i])\n",
    "    rmse_test = np.sqrt(mse_score(y_test_act, y_test_pred))\n",
    "    for i in range(len(y_test_pred)):\n",
    "        tmp = err_test[i]/rmse_test\n",
    "        res_test.append(tmp)    \n",
    "    #res_test = [a/rmse_test for a in err_test]\n",
    "    # calculate leverage\n",
    "    XtX = X_train.T.dot(X_train)\n",
    "    XtX = np.linalg.pinv(XtX)\n",
    "    lev_train = leverage(XtX, X_train)\n",
    "    lev_test = leverage(XtX, X_test)\n",
    "    h_star = (3 * (p + 1)) / n\n",
    "    print(h_star)\n",
    "    #return (lev_train, res_train, lev_test, res_test, h_star)\n",
    "    #plotting\n",
    "    plt.scatter(lev_train, res_train, c='b',marker='o', label='training data')\n",
    "    plt.scatter(lev_test, res_test, c='r',marker='^', label='test data')\n",
    "    plt.axhline(y=3, c='k', linewidth=0.8)\n",
    "    plt.axhline(y=-3, c='k', linewidth=0.8)\n",
    "    plt.axvline(x=h_star, c='k', linewidth=0.8)\n",
    "    #plt.xticks([0,0.1,0.2,0.3,0.4,0.5,h_star,0.6],[0,0.1,0.2,0.3,0.4,0.5,\"h$^*$\",0.6])\n",
    "    plt.text(h_star+0.001, 0, \"h$^*$\")\n",
    "    plt.xlim(0, h_star + 0.1)\n",
    "    plt.ylim(-4, 4)\n",
    "    plt.xlabel('leverage')\n",
    "    plt.ylabel('standardized residual')\n",
    "    plt.legend(loc='upper right')\n",
    "#     plt.savefig('./app_domain.png', format='png', dpi=1000, bbox_inches=\"tight\")    \n",
    "    plt.show()\n",
    "    \n",
    "def applicability_domain_rbf(X_train, X_test, y_train_act, \n",
    "                         y_train_pred, y_test_act, y_test_pred):\n",
    "    # using wilson map\n",
    "    X_train, _, _ = standardize(X_train)\n",
    "    X_test, _, _ = standardize(X_test)\n",
    "    n, p = X_train.shape\n",
    "    # calculate standardized residuals\n",
    "    err_train = []; res_train = []\n",
    "    for i in range(len(y_train_pred)):\n",
    "        err_train.append(y_train_act[i] - y_train_pred[i])\n",
    "    rmse_train = np.sqrt(mean_squared_error(y_train_act, y_train_pred))\n",
    "    for i in range(len(y_train_pred)):\n",
    "        tmp = err_train[i]/rmse_train\n",
    "        res_train.append(tmp)\n",
    "    err_test = []; res_test = []\n",
    "    for i in range(len(y_test_pred)):\n",
    "        err_test.append(y_test_act[i] - y_test_pred[i])\n",
    "    rmse_test = np.sqrt(mean_squared_error(y_test_act, y_test_pred))\n",
    "    for i in range(len(y_test_pred)):\n",
    "        tmp = err_test[i]/rmse_test\n",
    "        res_test.append(tmp)    \n",
    "    #res_test = [a/rmse_test for a in err_test]\n",
    "    # calculate leverage\n",
    "    XtX = X_train.T.dot(X_train)\n",
    "    XtX = np.linalg.pinv(XtX)\n",
    "    lev_train = leverage(XtX, X_train)\n",
    "    lev_test = leverage(XtX, X_test)\n",
    "    h_star = (3 * (p + 1)) / n\n",
    "    print(h_star)\n",
    "    #return (lev_train, res_train, lev_test, res_test, h_star)\n",
    "    #plotting\n",
    "    plt.scatter(lev_train, res_train, c='b',marker='o', label='training data')\n",
    "    plt.scatter(lev_test, res_test, c='r',marker='^', label='test data')\n",
    "    plt.axhline(y=3, c='k', linewidth=0.8)\n",
    "    plt.axhline(y=-3, c='k', linewidth=0.8)\n",
    "    plt.axvline(x=h_star, c='k', linewidth=0.8)\n",
    "    #plt.xticks([0,0.1,0.2,0.3,0.4,0.5,h_star,0.6],[0,0.1,0.2,0.3,0.4,0.5,\"h$^*$\",0.6])\n",
    "    plt.text(h_star+0.001, 0, \"h$^*$\")\n",
    "    plt.xlim(0, h_star + 0.1)\n",
    "    plt.ylim(-4, 4)\n",
    "    plt.xlabel('leverage')\n",
    "    plt.ylabel('standardized residual')\n",
    "    plt.legend(loc='upper right')\n",
    "    plt.savefig('./p/05_neue/rbf_app_domain_05.png', format='png', dpi=1000, bbox_inches=\"tight\")    \n",
    "    plt.show()\n",
    "    \n",
    "def applicability_domain_lin(X_train, X_test, y_train_act, \n",
    "                         y_train_pred, y_test_act, y_test_pred):\n",
    "    # using wilson map\n",
    "    X_train, _, _ = standardize(X_train)\n",
    "    X_test, _, _ = standardize(X_test)\n",
    "    n, p = X_train.shape\n",
    "    # calculate standardized residuals\n",
    "    err_train = []; res_train = []\n",
    "    for i in range(len(y_train_pred)):\n",
    "        err_train.append(y_train_act[i] - y_train_pred[i])\n",
    "    rmse_train = np.sqrt(mean_squared_error(y_train_act, y_train_pred))\n",
    "    for i in range(len(y_train_pred)):\n",
    "        tmp = err_train[i]/rmse_train\n",
    "        res_train.append(tmp)\n",
    "    err_test = []; res_test = []\n",
    "    for i in range(len(y_test_pred)):\n",
    "        err_test.append(y_test_act[i] - y_test_pred[i])\n",
    "    rmse_test = np.sqrt(mean_squared_error(y_test_act, y_test_pred))\n",
    "    for i in range(len(y_test_pred)):\n",
    "        tmp = err_test[i]/rmse_test\n",
    "        res_test.append(tmp)    \n",
    "    #res_test = [a/rmse_test for a in err_test]\n",
    "    # calculate leverage\n",
    "    XtX = X_train.T.dot(X_train)\n",
    "    XtX = np.linalg.pinv(XtX)\n",
    "    lev_train = leverage(XtX, X_train)\n",
    "    lev_test = leverage(XtX, X_test)\n",
    "    h_star = (3 * (p + 1)) / n\n",
    "    print(h_star)\n",
    "    #return (lev_train, res_train, lev_test, res_test, h_star)\n",
    "    #plotting\n",
    "    plt.scatter(lev_train, res_train, c='b',marker='o', label='training data')\n",
    "    plt.scatter(lev_test, res_test, c='r',marker='^', label='test data')\n",
    "    plt.axhline(y=3, c='k', linewidth=0.8)\n",
    "    plt.axhline(y=-3, c='k', linewidth=0.8)\n",
    "    plt.axvline(x=h_star, c='k', linewidth=0.8)\n",
    "    #plt.xticks([0,0.1,0.2,0.3,0.4,0.5,h_star,0.6],[0,0.1,0.2,0.3,0.4,0.5,\"h$^*$\",0.6])\n",
    "    plt.text(h_star+0.001, 0, \"h$^*$\")\n",
    "    plt.xlim(0, h_star + 0.1)\n",
    "    plt.ylim(-4, 4)\n",
    "    plt.xlabel('leverage')\n",
    "    plt.ylabel('standardized residual')\n",
    "    plt.legend(loc='upper right')\n",
    "    plt.savefig('./p/05_neue/lin_app_domain_05.png', format='png', dpi=1000, bbox_inches=\"tight\")    \n",
    "    plt.show()\n",
    "    \n",
    "def applicability_domain_sig(X_train, X_test, y_train_act, \n",
    "                         y_train_pred, y_test_act, y_test_pred):\n",
    "    # using wilson map\n",
    "    X_train, _, _ = standardize(X_train)\n",
    "    X_test, _, _ = standardize(X_test)\n",
    "    n, p = X_train.shape\n",
    "    # calculate standardized residuals\n",
    "    err_train = []; res_train = []\n",
    "    for i in range(len(y_train_pred)):\n",
    "        err_train.append(y_train_act[i] - y_train_pred[i])\n",
    "    rmse_train = np.sqrt(mean_squared_error(y_train_act, y_train_pred))\n",
    "    for i in range(len(y_train_pred)):\n",
    "        tmp = err_train[i]/rmse_train\n",
    "        res_train.append(tmp)\n",
    "    err_test = []; res_test = []\n",
    "    for i in range(len(y_test_pred)):\n",
    "        err_test.append(y_test_act[i] - y_test_pred[i])\n",
    "    rmse_test = np.sqrt(mean_squared_error(y_test_act, y_test_pred))\n",
    "    for i in range(len(y_test_pred)):\n",
    "        tmp = err_test[i]/rmse_test\n",
    "        res_test.append(tmp)    \n",
    "    #res_test = [a/rmse_test for a in err_test]\n",
    "    # calculate leverage\n",
    "    XtX = X_train.T.dot(X_train)\n",
    "    XtX = np.linalg.pinv(XtX)\n",
    "    lev_train = leverage(XtX, X_train)\n",
    "    lev_test = leverage(XtX, X_test)\n",
    "    h_star = (3 * (p + 1)) / n\n",
    "    print(h_star)\n",
    "    #return (lev_train, res_train, lev_test, res_test, h_star)\n",
    "    #plotting\n",
    "    plt.scatter(lev_train, res_train, c='b',marker='o', label='training data')\n",
    "    plt.scatter(lev_test, res_test, c='r',marker='^', label='test data')\n",
    "    plt.axhline(y=3, c='k', linewidth=0.8)\n",
    "    plt.axhline(y=-3, c='k', linewidth=0.8)\n",
    "    plt.axvline(x=h_star, c='k', linewidth=0.8)\n",
    "    #plt.xticks([0,0.1,0.2,0.3,0.4,0.5,h_star,0.6],[0,0.1,0.2,0.3,0.4,0.5,\"h$^*$\",0.6])\n",
    "    plt.text(h_star+0.001, 0, \"h$^*$\")\n",
    "    plt.xlim(0, h_star + 0.1)\n",
    "    plt.ylim(-4, 4)\n",
    "    plt.xlabel('leverage')\n",
    "    plt.ylabel('standardized residual')\n",
    "    plt.legend(loc='upper right')\n",
    "    plt.savefig('./p/05_neue/sig_app_domain_05.png', format='png', dpi=1000, bbox_inches=\"tight\")    \n",
    "    plt.show()\n",
    "      \n",
    "def applicability_domain_poly(X_train, X_test, y_train_act, \n",
    "                         y_train_pred, y_test_act, y_test_pred):\n",
    "    # using wilson map\n",
    "    X_train, _, _ = standardize(X_train)\n",
    "    X_test, _, _ = standardize(X_test)\n",
    "    n, p = X_train.shape\n",
    "    # calculate standardized residuals\n",
    "    err_train = []; res_train = []\n",
    "    for i in range(len(y_train_pred)):\n",
    "        err_train.append(y_train_act[i] - y_train_pred[i])\n",
    "    rmse_train = np.sqrt(mean_squared_error(y_train_act, y_train_pred))\n",
    "    for i in range(len(y_train_pred)):\n",
    "        tmp = err_train[i]/rmse_train\n",
    "        res_train.append(tmp)\n",
    "    err_test = []; res_test = []\n",
    "    for i in range(len(y_test_pred)):\n",
    "        err_test.append(y_test_act[i] - y_test_pred[i])\n",
    "    rmse_test = np.sqrt(mean_squared_error(y_test_act, y_test_pred))\n",
    "    for i in range(len(y_test_pred)):\n",
    "        tmp = err_test[i]/rmse_test\n",
    "        res_test.append(tmp)    \n",
    "    #res_test = [a/rmse_test for a in err_test]\n",
    "    # calculate leverage\n",
    "    XtX = X_train.T.dot(X_train)\n",
    "    XtX = np.linalg.pinv(XtX)\n",
    "    lev_train = leverage(XtX, X_train)\n",
    "    lev_test = leverage(XtX, X_test)\n",
    "    h_star = (3 * (p + 1)) / n\n",
    "    print(h_star)\n",
    "    #return (lev_train, res_train, lev_test, res_test, h_star)\n",
    "    #plotting\n",
    "    plt.scatter(lev_train, res_train, c='b',marker='o', label='training data')\n",
    "    plt.scatter(lev_test, res_test, c='r',marker='^', label='test data')\n",
    "    plt.axhline(y=3, c='k', linewidth=0.8)\n",
    "    plt.axhline(y=-3, c='k', linewidth=0.8)\n",
    "    plt.axvline(x=h_star, c='k', linewidth=0.8)\n",
    "    #plt.xticks([0,0.1,0.2,0.3,0.4,0.5,h_star,0.6],[0,0.1,0.2,0.3,0.4,0.5,\"h$^*$\",0.6])\n",
    "    plt.text(h_star+0.001, 0, \"h$^*$\")\n",
    "    plt.xlim(0, h_star + 0.1)\n",
    "    plt.ylim(-4, 4)\n",
    "    plt.xlabel('leverage')\n",
    "    plt.ylabel('standardized residual')\n",
    "    plt.legend(loc='upper right')\n",
    "    plt.savefig('./p/05_neue/poly_app_domain_05.png', format='png', dpi=1000, bbox_inches=\"tight\")    \n",
    "    plt.show()"
   ]
  },
  {
   "cell_type": "markdown",
   "metadata": {},
   "source": [
    "## Validation : Preparing Data"
   ]
  },
  {
   "cell_type": "code",
   "execution_count": 10,
   "metadata": {},
   "outputs": [
    {
     "data": {
      "text/plain": [
       "((74, 1876), (19, 1876))"
      ]
     },
     "execution_count": 10,
     "metadata": {},
     "output_type": "execute_result"
    }
   ],
   "source": [
    "data = pd.read_csv(\"data/all_data.csv\")\n",
    "\n",
    "# Use best desc based on r2_score model development\n",
    "desc = joblib.load('./p/05_neue/best_25.pkl')\n",
    "\n",
    "# Important! Use same datasets\n",
    "df_train = joblib.load('./p/05_neue/train.pkl')\n",
    "df_test = joblib.load('./p/05_neue/test.pkl')\n",
    "\n",
    "df_train.shape, df_test.shape"
   ]
  },
  {
   "cell_type": "markdown",
   "metadata": {},
   "source": [
    "## Validation : RBF"
   ]
  },
  {
   "cell_type": "markdown",
   "metadata": {},
   "source": [
    "### QSAR Param RBF"
   ]
  },
  {
   "cell_type": "code",
   "execution_count": 11,
   "metadata": {},
   "outputs": [
    {
     "data": {
      "text/plain": [
       "array([0.62960098])"
      ]
     },
     "execution_count": 11,
     "metadata": {},
     "output_type": "execute_result"
    }
   ],
   "source": [
    "X_train = df_train.loc[:,desc].to_numpy()\n",
    "X_test = df_test.loc[:,desc].to_numpy()\n",
    "y_train = df_train.iloc[:,[-1]].to_numpy()\n",
    "y_test = df_test.iloc[:,[-1]].to_numpy()\n",
    "\n",
    "scaler = MinMaxScaler()\n",
    "scaler.fit(X_train)\n",
    "scale_x_train = scaler.transform(X_train)\n",
    "scale_x_test = scaler.transform(X_test)\n",
    "\n",
    "param_grid={\n",
    "            'C': 10,\n",
    "            'gamma': 'scale',\n",
    "            'epsilon':0.1\n",
    "}\n",
    "\n",
    "c = param_grid['C']\n",
    "gam = param_grid['gamma']\n",
    "eps = param_grid['epsilon']\n",
    "\n",
    "model = SVR(kernel=\"rbf\", C=c, gamma=gam, epsilon=eps)\n",
    "\n",
    "model.fit(scale_x_train, y_train)\n",
    "y_train_pred = model.predict(scale_x_train)\n",
    "y_test_pred = model.predict(scale_x_test)\n",
    "\n",
    "q2_rbf = q2_loo(model, scale_x_train, y_train)\n",
    "\n",
    "# print RB Q2, Qsar_train, Qsar_test\n",
    "q2_rbf"
   ]
  },
  {
   "cell_type": "code",
   "execution_count": 12,
   "metadata": {},
   "outputs": [
    {
     "data": {
      "text/html": [
       "<div>\n",
       "<style scoped>\n",
       "    .dataframe tbody tr th:only-of-type {\n",
       "        vertical-align: middle;\n",
       "    }\n",
       "\n",
       "    .dataframe tbody tr th {\n",
       "        vertical-align: top;\n",
       "    }\n",
       "\n",
       "    .dataframe thead th {\n",
       "        text-align: right;\n",
       "    }\n",
       "</style>\n",
       "<table border=\"1\" class=\"dataframe\">\n",
       "  <thead>\n",
       "    <tr style=\"text-align: right;\">\n",
       "      <th></th>\n",
       "      <th>r2</th>\n",
       "      <th>k</th>\n",
       "      <th>k_dash</th>\n",
       "      <th>r2r0</th>\n",
       "      <th>r2r0_dash</th>\n",
       "      <th>r0r0_dash</th>\n",
       "      <th>rm2_bar</th>\n",
       "      <th>d_rm2</th>\n",
       "    </tr>\n",
       "  </thead>\n",
       "  <tbody>\n",
       "    <tr>\n",
       "      <th>0</th>\n",
       "      <td>0.933157</td>\n",
       "      <td>0.977727</td>\n",
       "      <td>1.015909</td>\n",
       "      <td>0.000587</td>\n",
       "      <td>0.00182</td>\n",
       "      <td>0.001151</td>\n",
       "      <td>0.903004</td>\n",
       "      <td>0.016614</td>\n",
       "    </tr>\n",
       "  </tbody>\n",
       "</table>\n",
       "</div>"
      ],
      "text/plain": [
       "         r2         k    k_dash      r2r0  r2r0_dash  r0r0_dash   rm2_bar  \\\n",
       "0  0.933157  0.977727  1.015909  0.000587    0.00182   0.001151  0.903004   \n",
       "\n",
       "      d_rm2  \n",
       "0  0.016614  "
      ]
     },
     "execution_count": 12,
     "metadata": {},
     "output_type": "execute_result"
    }
   ],
   "source": [
    "rbf_val_train = pd.DataFrame(qsar_param(y_train, y_train_pred))\n",
    "rbf_val_train"
   ]
  },
  {
   "cell_type": "code",
   "execution_count": 13,
   "metadata": {},
   "outputs": [
    {
     "data": {
      "text/html": [
       "<div>\n",
       "<style scoped>\n",
       "    .dataframe tbody tr th:only-of-type {\n",
       "        vertical-align: middle;\n",
       "    }\n",
       "\n",
       "    .dataframe tbody tr th {\n",
       "        vertical-align: top;\n",
       "    }\n",
       "\n",
       "    .dataframe thead th {\n",
       "        text-align: right;\n",
       "    }\n",
       "</style>\n",
       "<table border=\"1\" class=\"dataframe\">\n",
       "  <thead>\n",
       "    <tr style=\"text-align: right;\">\n",
       "      <th></th>\n",
       "      <th>r2</th>\n",
       "      <th>k</th>\n",
       "      <th>k_dash</th>\n",
       "      <th>r2r0</th>\n",
       "      <th>r2r0_dash</th>\n",
       "      <th>r0r0_dash</th>\n",
       "      <th>rm2_bar</th>\n",
       "      <th>d_rm2</th>\n",
       "    </tr>\n",
       "  </thead>\n",
       "  <tbody>\n",
       "    <tr>\n",
       "      <th>0</th>\n",
       "      <td>0.749398</td>\n",
       "      <td>0.945385</td>\n",
       "      <td>0.99289</td>\n",
       "      <td>0.029985</td>\n",
       "      <td>0.009999</td>\n",
       "      <td>0.014977</td>\n",
       "      <td>0.660795</td>\n",
       "      <td>0.047465</td>\n",
       "    </tr>\n",
       "  </tbody>\n",
       "</table>\n",
       "</div>"
      ],
      "text/plain": [
       "         r2         k   k_dash      r2r0  r2r0_dash  r0r0_dash   rm2_bar  \\\n",
       "0  0.749398  0.945385  0.99289  0.029985   0.009999   0.014977  0.660795   \n",
       "\n",
       "      d_rm2  \n",
       "0  0.047465  "
      ]
     },
     "execution_count": 13,
     "metadata": {},
     "output_type": "execute_result"
    }
   ],
   "source": [
    "rbf_val_test = pd.DataFrame(qsar_param(y_test, y_test_pred))\n",
    "rbf_val_test"
   ]
  },
  {
   "cell_type": "markdown",
   "metadata": {},
   "source": [
    "### CR2p (Y_random) RBF"
   ]
  },
  {
   "cell_type": "code",
   "execution_count": 24,
   "metadata": {},
   "outputs": [
    {
     "data": {
      "text/plain": [
       "array([0.51185608])"
      ]
     },
     "execution_count": 24,
     "metadata": {},
     "output_type": "execute_result"
    }
   ],
   "source": [
    "rp = y_random(model,scale_x_train,y_train)\n",
    "# joblib.dump(rp,'./p/0005_n1/rbf_crp2.pkl')\n",
    "rp"
   ]
  },
  {
   "cell_type": "markdown",
   "metadata": {},
   "source": [
    "### Applicability Domain RBF"
   ]
  },
  {
   "cell_type": "code",
   "execution_count": 231,
   "metadata": {},
   "outputs": [
    {
     "name": "stdout",
     "output_type": "stream",
     "text": [
      "0.8513513513513513\n"
     ]
    },
    {
     "data": {
      "image/png": "[encoded data removed]",
      "text/plain": [
       "<Figure size 432x288 with 1 Axes>"
      ]
     },
     "metadata": {
      "needs_background": "light"
     },
     "output_type": "display_data"
    }
   ],
   "source": [
    "applicability_domain_rbf(scale_x_train, scale_x_test, y_train,\n",
    "                     y_train_pred, y_test, y_test_pred)"
   ]
  },
  {
   "cell_type": "code",
   "execution_count": 25,
   "metadata": {},
   "outputs": [
    {
     "data": {
      "text/html": [
       "<div>\n",
       "<style scoped>\n",
       "    .dataframe tbody tr th:only-of-type {\n",
       "        vertical-align: middle;\n",
       "    }\n",
       "\n",
       "    .dataframe tbody tr th {\n",
       "        vertical-align: top;\n",
       "    }\n",
       "\n",
       "    .dataframe thead th {\n",
       "        text-align: right;\n",
       "    }\n",
       "</style>\n",
       "<table border=\"1\" class=\"dataframe\">\n",
       "  <thead>\n",
       "    <tr style=\"text-align: right;\">\n",
       "      <th></th>\n",
       "      <th>r2</th>\n",
       "      <th>q2</th>\n",
       "      <th>k</th>\n",
       "      <th>k_dash</th>\n",
       "      <th>r2r0</th>\n",
       "      <th>r2r0_dash</th>\n",
       "      <th>r0r0_dash</th>\n",
       "      <th>rm2_bar</th>\n",
       "      <th>d_rm2</th>\n",
       "      <th>y_random</th>\n",
       "    </tr>\n",
       "  </thead>\n",
       "  <tbody>\n",
       "    <tr>\n",
       "      <th>0</th>\n",
       "      <td>0.933157</td>\n",
       "      <td>0.629601</td>\n",
       "      <td>0.977727</td>\n",
       "      <td>1.015909</td>\n",
       "      <td>0.000587</td>\n",
       "      <td>0.001820</td>\n",
       "      <td>0.001151</td>\n",
       "      <td>0.903004</td>\n",
       "      <td>0.016614</td>\n",
       "      <td>0.511856</td>\n",
       "    </tr>\n",
       "    <tr>\n",
       "      <th>0</th>\n",
       "      <td>0.749398</td>\n",
       "      <td>0.629601</td>\n",
       "      <td>0.945385</td>\n",
       "      <td>0.992890</td>\n",
       "      <td>0.029985</td>\n",
       "      <td>0.009999</td>\n",
       "      <td>0.014977</td>\n",
       "      <td>0.660795</td>\n",
       "      <td>0.047465</td>\n",
       "      <td>0.511856</td>\n",
       "    </tr>\n",
       "  </tbody>\n",
       "</table>\n",
       "</div>"
      ],
      "text/plain": [
       "         r2        q2         k    k_dash      r2r0  r2r0_dash  r0r0_dash  \\\n",
       "0  0.933157  0.629601  0.977727  1.015909  0.000587   0.001820   0.001151   \n",
       "0  0.749398  0.629601  0.945385  0.992890  0.029985   0.009999   0.014977   \n",
       "\n",
       "    rm2_bar     d_rm2  y_random  \n",
       "0  0.903004  0.016614  0.511856  \n",
       "0  0.660795  0.047465  0.511856  "
      ]
     },
     "execution_count": 25,
     "metadata": {},
     "output_type": "execute_result"
    }
   ],
   "source": [
    "rbf_valid = pd.DataFrame()\n",
    "rbf_valid = rbf_valid.append(rbf_val_train)\n",
    "rbf_valid = rbf_valid.append(rbf_val_test)\n",
    "rbf_valid.insert(1,'q2', [q2_rbf[0], q2_rbf[0]])\n",
    "rbf_valid['y_random'] = [rp[0],rp[0]]\n",
    "# rbf_valid.to_csv(r'./p/05_neue/rbf_val_revise.csv', index= None, header = True)\n",
    "rbf_valid"
   ]
  },
  {
   "cell_type": "markdown",
   "metadata": {},
   "source": [
    "<!-- ## Validation : Linear -->"
   ]
  },
  {
   "cell_type": "markdown",
   "metadata": {},
   "source": [
    "## Validation : Sigmoid"
   ]
  },
  {
   "cell_type": "markdown",
   "metadata": {},
   "source": [
    "### QSAR Param Sigmoid"
   ]
  },
  {
   "cell_type": "code",
   "execution_count": 21,
   "metadata": {},
   "outputs": [
    {
     "data": {
      "text/plain": [
       "array([0.50122055])"
      ]
     },
     "execution_count": 21,
     "metadata": {},
     "output_type": "execute_result"
    }
   ],
   "source": [
    "X_train = df_train.loc[:,desc].to_numpy()\n",
    "X_test = df_test.loc[:,desc].to_numpy()\n",
    "y_train = df_train.iloc[:,[-1]].to_numpy()\n",
    "y_test = df_test.iloc[:,[-1]].to_numpy()\n",
    "\n",
    "scaler = MinMaxScaler()\n",
    "scaler.fit(X_train)\n",
    "scale_x_train = scaler.transform(X_train)\n",
    "scale_x_test = scaler.transform(X_test)\n",
    "\n",
    "param_grid={\n",
    "            'C': 1,\n",
    "            'gamma': 'auto',\n",
    "            'epsilon': 0.1\n",
    "}\n",
    "\n",
    "c = param_grid['C']\n",
    "gam = param_grid['gamma']\n",
    "eps = param_grid['epsilon']\n",
    "\n",
    "model_sig = SVR(kernel=\"sigmoid\", C= c, gamma= gam, epsilon=eps)\n",
    "\n",
    "model_sig.fit(scale_x_train, y_train)\n",
    "y_train_pred = model_sig.predict(scale_x_train)\n",
    "y_test_pred = model_sig.predict(scale_x_test)\n",
    "\n",
    "q2_lin = q2_loo(model_sig, scale_x_train, y_train)\n",
    "\n",
    "# print RB Q2, Qsar_train, Qsar_test\n",
    "q2_lin"
   ]
  },
  {
   "cell_type": "code",
   "execution_count": 22,
   "metadata": {},
   "outputs": [
    {
     "data": {
      "text/html": [
       "<div>\n",
       "<style scoped>\n",
       "    .dataframe tbody tr th:only-of-type {\n",
       "        vertical-align: middle;\n",
       "    }\n",
       "\n",
       "    .dataframe tbody tr th {\n",
       "        vertical-align: top;\n",
       "    }\n",
       "\n",
       "    .dataframe thead th {\n",
       "        text-align: right;\n",
       "    }\n",
       "</style>\n",
       "<table border=\"1\" class=\"dataframe\">\n",
       "  <thead>\n",
       "    <tr style=\"text-align: right;\">\n",
       "      <th></th>\n",
       "      <th>r2</th>\n",
       "      <th>k</th>\n",
       "      <th>k_dash</th>\n",
       "      <th>r2r0</th>\n",
       "      <th>r2r0_dash</th>\n",
       "      <th>r0r0_dash</th>\n",
       "      <th>rm2_bar</th>\n",
       "      <th>d_rm2</th>\n",
       "    </tr>\n",
       "  </thead>\n",
       "  <tbody>\n",
       "    <tr>\n",
       "      <th>0</th>\n",
       "      <td>0.533146</td>\n",
       "      <td>1.063694</td>\n",
       "      <td>0.849418</td>\n",
       "      <td>0.939437</td>\n",
       "      <td>0.00921</td>\n",
       "      <td>0.495947</td>\n",
       "      <td>0.325809</td>\n",
       "      <td>0.339955</td>\n",
       "    </tr>\n",
       "  </tbody>\n",
       "</table>\n",
       "</div>"
      ],
      "text/plain": [
       "         r2         k    k_dash      r2r0  r2r0_dash  r0r0_dash   rm2_bar  \\\n",
       "0  0.533146  1.063694  0.849418  0.939437    0.00921   0.495947  0.325809   \n",
       "\n",
       "      d_rm2  \n",
       "0  0.339955  "
      ]
     },
     "execution_count": 22,
     "metadata": {},
     "output_type": "execute_result"
    }
   ],
   "source": [
    "sig_val_train = pd.DataFrame(qsar_param(y_train, y_train_pred))\n",
    "sig_val_train"
   ]
  },
  {
   "cell_type": "code",
   "execution_count": 23,
   "metadata": {},
   "outputs": [
    {
     "data": {
      "text/html": [
       "<div>\n",
       "<style scoped>\n",
       "    .dataframe tbody tr th:only-of-type {\n",
       "        vertical-align: middle;\n",
       "    }\n",
       "\n",
       "    .dataframe tbody tr th {\n",
       "        vertical-align: top;\n",
       "    }\n",
       "\n",
       "    .dataframe thead th {\n",
       "        text-align: right;\n",
       "    }\n",
       "</style>\n",
       "<table border=\"1\" class=\"dataframe\">\n",
       "  <thead>\n",
       "    <tr style=\"text-align: right;\">\n",
       "      <th></th>\n",
       "      <th>r2</th>\n",
       "      <th>k</th>\n",
       "      <th>k_dash</th>\n",
       "      <th>r2r0</th>\n",
       "      <th>r2r0_dash</th>\n",
       "      <th>r0r0_dash</th>\n",
       "      <th>rm2_bar</th>\n",
       "      <th>d_rm2</th>\n",
       "    </tr>\n",
       "  </thead>\n",
       "  <tbody>\n",
       "    <tr>\n",
       "      <th>0</th>\n",
       "      <td>0.738526</td>\n",
       "      <td>0.92047</td>\n",
       "      <td>1.020509</td>\n",
       "      <td>0.011575</td>\n",
       "      <td>0.033444</td>\n",
       "      <td>0.016151</td>\n",
       "      <td>0.646351</td>\n",
       "      <td>0.047785</td>\n",
       "    </tr>\n",
       "  </tbody>\n",
       "</table>\n",
       "</div>"
      ],
      "text/plain": [
       "         r2        k    k_dash      r2r0  r2r0_dash  r0r0_dash   rm2_bar  \\\n",
       "0  0.738526  0.92047  1.020509  0.011575   0.033444   0.016151  0.646351   \n",
       "\n",
       "      d_rm2  \n",
       "0  0.047785  "
      ]
     },
     "execution_count": 23,
     "metadata": {},
     "output_type": "execute_result"
    }
   ],
   "source": [
    "sig_val_test = pd.DataFrame(qsar_param(y_test, y_test_pred))\n",
    "sig_val_test"
   ]
  },
  {
   "cell_type": "markdown",
   "metadata": {},
   "source": [
    "### CR2p (Y_random) Sigmoid"
   ]
  },
  {
   "cell_type": "code",
   "execution_count": 302,
   "metadata": {},
   "outputs": [
    {
     "data": {
      "text/plain": [
       "array([0.50545445])"
      ]
     },
     "execution_count": 302,
     "metadata": {},
     "output_type": "execute_result"
    }
   ],
   "source": [
    "rp_sig = y_random(model_sig,scale_x_train,y_train)\n",
    "# joblib.dump(rp_lin,'./p/0005_n1/lin_crp2.pkl')\n",
    "rp_sig"
   ]
  },
  {
   "cell_type": "markdown",
   "metadata": {},
   "source": [
    "### Applicability Domain Sigmoid"
   ]
  },
  {
   "cell_type": "code",
   "execution_count": 253,
   "metadata": {},
   "outputs": [
    {
     "name": "stdout",
     "output_type": "stream",
     "text": [
      "0.8513513513513513\n"
     ]
    },
    {
     "data": {
      "image/png": "[encoded data removed]",
      "text/plain": [
       "<Figure size 432x288 with 1 Axes>"
      ]
     },
     "metadata": {
      "needs_background": "light"
     },
     "output_type": "display_data"
    }
   ],
   "source": [
    "applicability_domain_sig(scale_x_train, scale_x_test, y_train,\n",
    "                     y_train_pred, y_test, y_test_pred)"
   ]
  },
  {
   "cell_type": "code",
   "execution_count": 309,
   "metadata": {},
   "outputs": [
    {
     "data": {
      "text/html": [
       "<div>\n",
       "<style scoped>\n",
       "    .dataframe tbody tr th:only-of-type {\n",
       "        vertical-align: middle;\n",
       "    }\n",
       "\n",
       "    .dataframe tbody tr th {\n",
       "        vertical-align: top;\n",
       "    }\n",
       "\n",
       "    .dataframe thead th {\n",
       "        text-align: right;\n",
       "    }\n",
       "</style>\n",
       "<table border=\"1\" class=\"dataframe\">\n",
       "  <thead>\n",
       "    <tr style=\"text-align: right;\">\n",
       "      <th></th>\n",
       "      <th>r2</th>\n",
       "      <th>q2</th>\n",
       "      <th>k</th>\n",
       "      <th>k_dash</th>\n",
       "      <th>r2r0</th>\n",
       "      <th>r2r0_dash</th>\n",
       "      <th>r0r0_dash</th>\n",
       "      <th>rm2_bar</th>\n",
       "      <th>d_rm2</th>\n",
       "      <th>y_random</th>\n",
       "    </tr>\n",
       "  </thead>\n",
       "  <tbody>\n",
       "    <tr>\n",
       "      <th>0</th>\n",
       "      <td>0.533146</td>\n",
       "      <td>0.501221</td>\n",
       "      <td>1.063694</td>\n",
       "      <td>0.849418</td>\n",
       "      <td>0.939437</td>\n",
       "      <td>0.009210</td>\n",
       "      <td>0.495947</td>\n",
       "      <td>0.325809</td>\n",
       "      <td>0.339955</td>\n",
       "      <td>0.533164</td>\n",
       "    </tr>\n",
       "    <tr>\n",
       "      <th>0</th>\n",
       "      <td>0.738526</td>\n",
       "      <td>0.501221</td>\n",
       "      <td>0.920470</td>\n",
       "      <td>1.020509</td>\n",
       "      <td>0.011575</td>\n",
       "      <td>0.033444</td>\n",
       "      <td>0.016151</td>\n",
       "      <td>0.646351</td>\n",
       "      <td>0.047785</td>\n",
       "      <td>0.533164</td>\n",
       "    </tr>\n",
       "  </tbody>\n",
       "</table>\n",
       "</div>"
      ],
      "text/plain": [
       "         r2        q2         k    k_dash      r2r0  r2r0_dash  r0r0_dash  \\\n",
       "0  0.533146  0.501221  1.063694  0.849418  0.939437   0.009210   0.495947   \n",
       "0  0.738526  0.501221  0.920470  1.020509  0.011575   0.033444   0.016151   \n",
       "\n",
       "    rm2_bar     d_rm2  y_random  \n",
       "0  0.325809  0.339955  0.533164  \n",
       "0  0.646351  0.047785  0.533164  "
      ]
     },
     "execution_count": 309,
     "metadata": {},
     "output_type": "execute_result"
    }
   ],
   "source": [
    "lin_valid = pd.DataFrame()\n",
    "lin_valid = lin_valid.append(lin_val_train)\n",
    "lin_valid = lin_valid.append(lin_val_test)\n",
    "lin_valid.insert(1,'q2', [q2_lin[0], q2_lin[0]])\n",
    "lin_valid['y_random'] = [rp_lin[0],rp_lin[0]]\n",
    "# lin_valid.to_csv(r'./p/05_neue/sig_val_neue_25.csv', index= None, header = True)\n",
    "lin_valid"
   ]
  },
  {
   "cell_type": "markdown",
   "metadata": {},
   "source": [
    "## Validation : Polynomial"
   ]
  },
  {
   "cell_type": "markdown",
   "metadata": {},
   "source": [
    "### QSAR Param Poly"
   ]
  },
  {
   "cell_type": "code",
   "execution_count": 291,
   "metadata": {},
   "outputs": [
    {
     "data": {
      "text/plain": [
       "0.5140223976407038"
      ]
     },
     "execution_count": 291,
     "metadata": {},
     "output_type": "execute_result"
    }
   ],
   "source": [
    "X_train = df_train.loc[:,desc].to_numpy()\n",
    "X_test = df_test.loc[:,desc].to_numpy()\n",
    "y_train = df_train.iloc[:,[-1]].to_numpy()\n",
    "y_test = df_test.iloc[:,[-1]].to_numpy()\n",
    "\n",
    "scaler = MinMaxScaler()\n",
    "scaler.fit(X_train)\n",
    "scale_x_train = scaler.transform(X_train)\n",
    "scale_x_test = scaler.transform(X_test)\n",
    "\n",
    "param_grid={\n",
    "            'C': 1,\n",
    "            'degree': 2,\n",
    "            'epsilon': 0.1\n",
    "}\n",
    "\n",
    "c = param_grid['C']\n",
    "deg = param_grid['degree']\n",
    "eps = param_grid['epsilon']\n",
    "\n",
    "model_pol = SVR(kernel=\"poly\", C= c, degree= deg, epsilon=eps)\n",
    "model_pol.fit(scale_x_train,y_train)\n",
    "y_train_pred = model_pol.predict(scale_x_train)\n",
    "y_test_pred = model_pol.predict(scale_x_test)\n",
    "\n",
    "q2_poly = q2_loo(model_pol, scale_x_train, y_train)\n",
    "\n",
    "# print RB Q2, Qsar_train, Qsar_test\n",
    "q2_poly"
   ]
  },
  {
   "cell_type": "code",
   "execution_count": 292,
   "metadata": {},
   "outputs": [
    {
     "data": {
      "text/html": [
       "<div>\n",
       "<style scoped>\n",
       "    .dataframe tbody tr th:only-of-type {\n",
       "        vertical-align: middle;\n",
       "    }\n",
       "\n",
       "    .dataframe tbody tr th {\n",
       "        vertical-align: top;\n",
       "    }\n",
       "\n",
       "    .dataframe thead th {\n",
       "        text-align: right;\n",
       "    }\n",
       "</style>\n",
       "<table border=\"1\" class=\"dataframe\">\n",
       "  <thead>\n",
       "    <tr style=\"text-align: right;\">\n",
       "      <th></th>\n",
       "      <th>r2</th>\n",
       "      <th>k</th>\n",
       "      <th>k_dash</th>\n",
       "      <th>r2r0</th>\n",
       "      <th>r2r0_dash</th>\n",
       "      <th>r0r0_dash</th>\n",
       "      <th>rm2_bar</th>\n",
       "      <th>d_rm2</th>\n",
       "    </tr>\n",
       "  </thead>\n",
       "  <tbody>\n",
       "    <tr>\n",
       "      <th>0</th>\n",
       "      <td>0.661838</td>\n",
       "      <td>1.130914</td>\n",
       "      <td>0.792139</td>\n",
       "      <td>1.067594</td>\n",
       "      <td>0.088858</td>\n",
       "      <td>0.647765</td>\n",
       "      <td>0.303424</td>\n",
       "      <td>0.395828</td>\n",
       "    </tr>\n",
       "  </tbody>\n",
       "</table>\n",
       "</div>"
      ],
      "text/plain": [
       "         r2         k    k_dash      r2r0  r2r0_dash  r0r0_dash   rm2_bar  \\\n",
       "0  0.661838  1.130914  0.792139  1.067594   0.088858   0.647765  0.303424   \n",
       "\n",
       "      d_rm2  \n",
       "0  0.395828  "
      ]
     },
     "execution_count": 292,
     "metadata": {},
     "output_type": "execute_result"
    }
   ],
   "source": [
    "poly_val_train = pd.DataFrame(qsar_param(y_train, y_train_pred))\n",
    "poly_val_train"
   ]
  },
  {
   "cell_type": "code",
   "execution_count": 293,
   "metadata": {},
   "outputs": [
    {
     "data": {
      "text/html": [
       "<div>\n",
       "<style scoped>\n",
       "    .dataframe tbody tr th:only-of-type {\n",
       "        vertical-align: middle;\n",
       "    }\n",
       "\n",
       "    .dataframe tbody tr th {\n",
       "        vertical-align: top;\n",
       "    }\n",
       "\n",
       "    .dataframe thead th {\n",
       "        text-align: right;\n",
       "    }\n",
       "</style>\n",
       "<table border=\"1\" class=\"dataframe\">\n",
       "  <thead>\n",
       "    <tr style=\"text-align: right;\">\n",
       "      <th></th>\n",
       "      <th>r2</th>\n",
       "      <th>k</th>\n",
       "      <th>k_dash</th>\n",
       "      <th>r2r0</th>\n",
       "      <th>r2r0_dash</th>\n",
       "      <th>r0r0_dash</th>\n",
       "      <th>rm2_bar</th>\n",
       "      <th>d_rm2</th>\n",
       "    </tr>\n",
       "  </thead>\n",
       "  <tbody>\n",
       "    <tr>\n",
       "      <th>0</th>\n",
       "      <td>0.520031</td>\n",
       "      <td>1.256453</td>\n",
       "      <td>0.676186</td>\n",
       "      <td>0.364645</td>\n",
       "      <td>0.009987</td>\n",
       "      <td>0.184433</td>\n",
       "      <td>0.388065</td>\n",
       "      <td>0.188976</td>\n",
       "    </tr>\n",
       "  </tbody>\n",
       "</table>\n",
       "</div>"
      ],
      "text/plain": [
       "         r2         k    k_dash      r2r0  r2r0_dash  r0r0_dash   rm2_bar  \\\n",
       "0  0.520031  1.256453  0.676186  0.364645   0.009987   0.184433  0.388065   \n",
       "\n",
       "      d_rm2  \n",
       "0  0.188976  "
      ]
     },
     "execution_count": 293,
     "metadata": {},
     "output_type": "execute_result"
    }
   ],
   "source": [
    "poly_val_test = pd.DataFrame(qsar_param(y_test, y_test_pred))\n",
    "poly_val_test"
   ]
  },
  {
   "cell_type": "markdown",
   "metadata": {},
   "source": [
    "### CR2p (Y_random) Poly"
   ]
  },
  {
   "cell_type": "code",
   "execution_count": 294,
   "metadata": {},
   "outputs": [
    {
     "data": {
      "text/plain": [
       "0.5558863585172423"
      ]
     },
     "execution_count": 294,
     "metadata": {},
     "output_type": "execute_result"
    }
   ],
   "source": [
    "rp_poly = y_random(model_pol,scale_x_train,y_train)\n",
    "# joblib.dump(rp_poly, './p/0005_n1/poly_cr2p')\n",
    "rp_poly"
   ]
  },
  {
   "cell_type": "markdown",
   "metadata": {},
   "source": [
    "### Applicability Domain Poly"
   ]
  },
  {
   "cell_type": "code",
   "execution_count": 241,
   "metadata": {},
   "outputs": [
    {
     "name": "stdout",
     "output_type": "stream",
     "text": [
      "0.8513513513513513\n"
     ]
    },
    {
     "data": {
      "image/png": "[encoded data removed]",
      "text/plain": [
       "<Figure size 432x288 with 1 Axes>"
      ]
     },
     "metadata": {
      "needs_background": "light"
     },
     "output_type": "display_data"
    }
   ],
   "source": [
    "applicability_domain_poly(X_train, X_test, y_train,\n",
    "                     y_train_pred, y_test, y_test_pred)"
   ]
  },
  {
   "cell_type": "code",
   "execution_count": 295,
   "metadata": {},
   "outputs": [
    {
     "data": {
      "text/html": [
       "<div>\n",
       "<style scoped>\n",
       "    .dataframe tbody tr th:only-of-type {\n",
       "        vertical-align: middle;\n",
       "    }\n",
       "\n",
       "    .dataframe tbody tr th {\n",
       "        vertical-align: top;\n",
       "    }\n",
       "\n",
       "    .dataframe thead th {\n",
       "        text-align: right;\n",
       "    }\n",
       "</style>\n",
       "<table border=\"1\" class=\"dataframe\">\n",
       "  <thead>\n",
       "    <tr style=\"text-align: right;\">\n",
       "      <th></th>\n",
       "      <th>r2</th>\n",
       "      <th>q2</th>\n",
       "      <th>k</th>\n",
       "      <th>k_dash</th>\n",
       "      <th>r2r0</th>\n",
       "      <th>r2r0_dash</th>\n",
       "      <th>r0r0_dash</th>\n",
       "      <th>rm2_bar</th>\n",
       "      <th>d_rm2</th>\n",
       "      <th>y_random</th>\n",
       "    </tr>\n",
       "  </thead>\n",
       "  <tbody>\n",
       "    <tr>\n",
       "      <th>0</th>\n",
       "      <td>0.661838</td>\n",
       "      <td>0.514022</td>\n",
       "      <td>1.130914</td>\n",
       "      <td>0.792139</td>\n",
       "      <td>1.067594</td>\n",
       "      <td>0.088858</td>\n",
       "      <td>0.647765</td>\n",
       "      <td>0.303424</td>\n",
       "      <td>0.395828</td>\n",
       "      <td>0.555886</td>\n",
       "    </tr>\n",
       "    <tr>\n",
       "      <th>0</th>\n",
       "      <td>0.520031</td>\n",
       "      <td>0.514022</td>\n",
       "      <td>1.256453</td>\n",
       "      <td>0.676186</td>\n",
       "      <td>0.364645</td>\n",
       "      <td>0.009987</td>\n",
       "      <td>0.184433</td>\n",
       "      <td>0.388065</td>\n",
       "      <td>0.188976</td>\n",
       "      <td>0.555886</td>\n",
       "    </tr>\n",
       "  </tbody>\n",
       "</table>\n",
       "</div>"
      ],
      "text/plain": [
       "         r2        q2         k    k_dash      r2r0  r2r0_dash  r0r0_dash  \\\n",
       "0  0.661838  0.514022  1.130914  0.792139  1.067594   0.088858   0.647765   \n",
       "0  0.520031  0.514022  1.256453  0.676186  0.364645   0.009987   0.184433   \n",
       "\n",
       "    rm2_bar     d_rm2  y_random  \n",
       "0  0.303424  0.395828  0.555886  \n",
       "0  0.388065  0.188976  0.555886  "
      ]
     },
     "execution_count": 295,
     "metadata": {},
     "output_type": "execute_result"
    }
   ],
   "source": [
    "poly_valid = pd.DataFrame()\n",
    "poly_valid = poly_valid.append(poly_val_train)\n",
    "poly_valid = poly_valid.append(poly_val_test)\n",
    "poly_valid.insert(1,'q2', [q2_poly, q2_poly])\n",
    "poly_valid['y_random'] = [rp_poly,rp_poly]\n",
    "# poly_valid.to_csv(r'./p/05_neue/poly_val_neue_20.csv', index= None, header = True)\n",
    "poly_valid"
   ]
  },
  {
   "cell_type": "markdown",
   "metadata": {},
   "source": [
    "# Graphs"
   ]
  },
  {
   "cell_type": "markdown",
   "metadata": {},
   "source": [
    "## Preparing data"
   ]
  },
  {
   "cell_type": "code",
   "execution_count": 20,
   "metadata": {},
   "outputs": [],
   "source": [
    "# data = pd.read_csv(\"data/all_data.csv\")\n",
    "\n",
    "desc = joblib.load('./p/0005_n1/best_0005_10.pkl')\n",
    "desc_raw = joblib.load('./p/0005_n1/raw_0005_10.pkl')\n",
    "df_train = joblib.load('./p/0005/train_0005.pkl')\n",
    "df_test = joblib.load('./p/0005/test_0005.pkl')\n",
    "\n",
    "pic = pd.read_csv(\"data/pIC50_target.csv\")\n",
    "df_pic = pic['pIC50']\n",
    "\n",
    "ytrain =  df_train.iloc[:,[-1]]\n",
    "ytest =  df_test.iloc[:,[-1]]"
   ]
  },
  {
   "cell_type": "markdown",
   "metadata": {},
   "source": [
    "## Plot Temperature Vs. Mse"
   ]
  },
  {
   "cell_type": "code",
   "execution_count": 184,
   "metadata": {},
   "outputs": [
    {
     "data": {
      "image/png": "[encoded data removed]",
      "text/plain": [
       "<Figure size 432x288 with 1 Axes>"
      ]
     },
     "metadata": {
      "needs_background": "light"
     },
     "output_type": "display_data"
    }
   ],
   "source": [
    "df = desc_raw.copy()\n",
    "df.sort_values('MSE', inplace = True)\n",
    "\n",
    "temp = df.iloc[0,3]\n",
    "growth = df.iloc[0,2]\n",
    "\n",
    "fig = plt.figure()\n",
    "plt.plot(temp, growth)\n",
    "plt.xlabel('Temp')\n",
    "plt.ylabel('MSE')\n",
    "# plt.ylim(0.1, 0.55)\n",
    "plt.xlim(105,-5)\n",
    "plt.savefig('./graph/growth_mse_05_10.png', format='png', dpi=1000, bbox_inches=\"tight\")    \n",
    "plt.show()"
   ]
  },
  {
   "cell_type": "markdown",
   "metadata": {},
   "source": [
    "## Plot MSE Vs. Num of Desc"
   ]
  },
  {
   "cell_type": "code",
   "execution_count": 25,
   "metadata": {},
   "outputs": [
    {
     "data": {
      "image/png": "[encoded data removed]",
      "text/plain": [
       "<Figure size 432x288 with 1 Axes>"
      ]
     },
     "metadata": {
      "needs_background": "light"
     },
     "output_type": "display_data"
    }
   ],
   "source": [
    "bd_list = []\n",
    "bd_5 = joblib.load('./p/0005_n1/raw_0005_5.pkl')\n",
    "bd_10 = joblib.load('./p/0005_n1/raw_0005_10.pkl')\n",
    "bd_15 = joblib.load('./p/0005_n1/raw_0005_15.pkl')\n",
    "bd_20 = joblib.load('./p/0005_n1/raw_0005_20.pkl')\n",
    "bd_25 = joblib.load('./p/0005_n1/raw_0005_25.pkl')\n",
    "bd_list.extend([bd_5,bd_10,bd_15,bd_20,bd_25])\n",
    "\n",
    "list_MSE = []\n",
    "x=[5,10,15,20,25]\n",
    "df_mse = pd.DataFrame(columns=['desc','mse'])\n",
    "\n",
    "for i in range(len(bd_list)):\n",
    "    bd_list[i].sort_values('MSE', inplace = True)\n",
    "    list_MSE.append(bd_list[i].iloc[0,0])\n",
    "     \n",
    "df_mse['desc'] = [5,10,15,20,25]\n",
    "df_mse['mse'] = list_MSE\n",
    "\n",
    "fig, ax = plt.subplots()  # Create a figure and an axes.\n",
    "ax.set_xticks(x)\n",
    "\n",
    "plt.xlabel('Number of Descriptor')\n",
    "plt.ylabel('MSE')\n",
    "plt.plot(x, df_mse['mse'], marker='.' ,markersize=12)\n",
    "# plt.savefig('./graph/mse_numdesc_05_10.png', format='png', dpi=1000, bbox_inches=\"tight\")    \n",
    "plt.show()"
   ]
  },
  {
   "cell_type": "markdown",
   "metadata": {},
   "source": [
    "## Histogram pIC50"
   ]
  },
  {
   "cell_type": "code",
   "execution_count": 16,
   "metadata": {},
   "outputs": [
    {
     "data": {
      "image/png": "[encoded data removed]",
      "text/plain": [
       "<Figure size 432x288 with 1 Axes>"
      ]
     },
     "metadata": {
      "needs_background": "light"
     },
     "output_type": "display_data"
    }
   ],
   "source": [
    "import scipy.stats as stats\n",
    "\n",
    "df_target = pd.read_csv(\"data/pIC50_target.csv\")\n",
    "\n",
    "targets = df_target.iloc[:,1]\n",
    "\n",
    "noise = targets\n",
    "density = stats.gaussian_kde(noise)\n",
    "n, x, _ = plt.hist(noise, bins=10, histtype=u'step', density=True)  \n",
    "plt.plot(x, density(x))\n",
    "plt.xlabel('pIC50')\n",
    "plt.ylabel('Frequency')\n",
    "plt.savefig('./graph/hist_pic50.png', format='png', dpi=1000, bbox_inches=\"tight\")\n",
    "plt.show()"
   ]
  },
  {
   "cell_type": "markdown",
   "metadata": {},
   "source": [
    "## Histogram MSE choosen desc"
   ]
  },
  {
   "cell_type": "code",
   "execution_count": 17,
   "metadata": {},
   "outputs": [
    {
     "data": {
      "image/png": "[encoded data removed]",
      "text/plain": [
       "<Figure size 432x288 with 1 Axes>"
      ]
     },
     "metadata": {
      "needs_background": "light"
     },
     "output_type": "display_data"
    }
   ],
   "source": [
    "df = desc_raw.copy()\n",
    "mse_temp = df.iloc[:,0]\n",
    "\n",
    "noise = mse_temp\n",
    "density = stats.gaussian_kde(noise)\n",
    "n, x, _ = plt.hist(noise, bins=10, histtype=u'step', density=True)  \n",
    "plt.plot(x, density(x))\n",
    "plt.xlabel('MSE')\n",
    "plt.ylabel('Frequency')\n",
    "plt.savefig('./graph/hist_mse_05_10.png', format='png', dpi=1000, bbox_inches=\"tight\")    \n",
    "plt.show()"
   ]
  },
  {
   "cell_type": "markdown",
   "metadata": {},
   "source": [
    "## Plot For RBF"
   ]
  },
  {
   "cell_type": "code",
   "execution_count": 209,
   "metadata": {},
   "outputs": [],
   "source": [
    "param_grid={\n",
    "            'C': 10,\n",
    "            'gamma': 'scale',\n",
    "            'epsilon':0.1\n",
    "}\n",
    "c = param_grid['C']\n",
    "gam = param_grid['gamma']\n",
    "eps = param_grid['epsilon']\n",
    "\n",
    "model = SVR(kernel=\"rbf\", C= c, gamma= gam, epsilon=eps)\n",
    "model.fit(scale_x_train, y_train)\n",
    "y_train_pred = model.predict(scale_x_train)\n",
    "y_test_pred = model.predict(scale_x_test)\n",
    "\n",
    "ytr = ytrain.iloc[:,0]\n",
    "ytr.tolist()\n",
    "yts = ytest.iloc[:,0]\n",
    "yts.tolist()\n",
    "\n",
    "train_res = ytr - y_train_pred\n",
    "test_res = yts - y_test_pred\n"
   ]
  },
  {
   "cell_type": "markdown",
   "metadata": {},
   "source": [
    "### Actual Vs. Predict"
   ]
  },
  {
   "cell_type": "code",
   "execution_count": 210,
   "metadata": {},
   "outputs": [
    {
     "data": {
      "image/png": "[encoded data removed]",
      "text/plain": [
       "<Figure size 432x288 with 1 Axes>"
      ]
     },
     "metadata": {
      "needs_background": "light"
     },
     "output_type": "display_data"
    }
   ],
   "source": [
    "fig = plt.figure()\n",
    "ax = plt.gca()\n",
    "ax.scatter(y_train, y_train_pred, color=\"b\" , label='Train')\n",
    "ax.scatter(y_test, y_test_pred, color=\"r\" , label='Test',marker='^')\n",
    "ax.legend(loc='top left')\n",
    "# ax.plot([0, 1], [0, 1], color=\"black\",transform=ax.transAxes)\n",
    "dl = np.linspace(*ax.get_xlim())\n",
    "ax.plot(dl, dl, color=\"black\")\n",
    "ax.set_aspect('equal')\n",
    "\n",
    "plt.xlabel('Experimental pIC50')\n",
    "plt.ylabel('Predicted pIC50')\n",
    "# plt.title('RBF Actual Vs Predict')\n",
    "plt.savefig('./graph/actpred_rbf_05_10.png', format='png', dpi=1000, bbox_inches=\"tight\")    \n",
    "plt.show()"
   ]
  },
  {
   "cell_type": "markdown",
   "metadata": {},
   "source": [
    "### Residual Plot"
   ]
  },
  {
   "cell_type": "code",
   "execution_count": 211,
   "metadata": {},
   "outputs": [
    {
     "data": {
      "image/png": "[encoded data removed]",
      "text/plain": [
       "<Figure size 432x288 with 1 Axes>"
      ]
     },
     "metadata": {
      "needs_background": "light"
     },
     "output_type": "display_data"
    }
   ],
   "source": [
    "fig = plt.figure()\n",
    "ax = plt.gca()\n",
    "ax.scatter(y_train_pred, train_res, color=\"b\" , label='Train' ,marker='o')\n",
    "ax.scatter(y_test_pred, test_res, color=\"red\" , label='test' ,marker='^')\n",
    "ax.legend(loc='top right')\n",
    "ax.axhline(linewidth= 1, color='black', linestyle='dashed')\n",
    "# plt.title('Residual SVR RBF')\n",
    "plt.ylim(-3,3)\n",
    "plt.xlabel('Predicted Values')\n",
    "plt.ylabel('Residuals')\n",
    "plt.savefig('./graph/res_rbf_05_10.png', format='png', dpi=1000, bbox_inches=\"tight\")    \n",
    "plt.show()"
   ]
  },
  {
   "cell_type": "markdown",
   "metadata": {},
   "source": [
    "## Plot For Linear"
   ]
  },
  {
   "cell_type": "code",
   "execution_count": 213,
   "metadata": {},
   "outputs": [],
   "source": [
    "param_grid={\n",
    "            'C': 10,\n",
    "            'degree': 1,\n",
    "            'epsilon': 0.1\n",
    "}\n",
    "\n",
    "c = param_grid['C']\n",
    "deg = param_grid['degree']\n",
    "eps = param_grid['epsilon']\n",
    "\n",
    "model_lin = SVR(kernel=\"linear\", C= c, degree= deg, epsilon=eps)\n",
    "model_lin.fit(scale_x_train, y_train)\n",
    "y_train_pred = model_lin.predict(scale_x_train)\n",
    "y_test_pred = model_lin.predict(scale_x_test)\n",
    "\n",
    "ytr = ytrain.iloc[:,0]\n",
    "ytr.tolist()\n",
    "yts = ytest.iloc[:,0]\n",
    "yts.tolist()\n",
    "\n",
    "train_res = ytr - y_train_pred\n",
    "test_res = yts - y_test_pred"
   ]
  },
  {
   "cell_type": "markdown",
   "metadata": {},
   "source": [
    "### Actual Vs. Predict"
   ]
  },
  {
   "cell_type": "code",
   "execution_count": 214,
   "metadata": {},
   "outputs": [
    {
     "data": {
      "image/png": "[encoded data removed]",
      "text/plain": [
       "<Figure size 432x288 with 1 Axes>"
      ]
     },
     "metadata": {
      "needs_background": "light"
     },
     "output_type": "display_data"
    }
   ],
   "source": [
    "fig = plt.figure()\n",
    "ax = plt.gca()\n",
    "ax.scatter(y_train, y_train_pred, color=\"b\" , label='Train')\n",
    "ax.scatter(y_test, y_test_pred, color=\"r\" , label='Test',marker='^')\n",
    "ax.legend(loc='top left')\n",
    "# ax.plot([0, 1], [0, 1], color=\"black\",transform=ax.transAxes)\n",
    "dl = np.linspace(*ax.get_xlim())\n",
    "ax.plot(dl, dl, color=\"black\")\n",
    "ax.set_aspect('equal')\n",
    "\n",
    "plt.xlabel('Experimental pIC50')\n",
    "plt.ylabel('Predicted pIC50')\n",
    "# plt.title('RBF Actual Vs Predict')\n",
    "plt.savefig('./graph/actpred_linear_05_10.png', format='png', dpi=1000, bbox_inches=\"tight\")    \n",
    "plt.show()"
   ]
  },
  {
   "cell_type": "markdown",
   "metadata": {},
   "source": [
    "### Residual Plot"
   ]
  },
  {
   "cell_type": "code",
   "execution_count": 215,
   "metadata": {},
   "outputs": [
    {
     "data": {
      "image/png": "[encoded data removed]",
      "text/plain": [
       "<Figure size 432x288 with 1 Axes>"
      ]
     },
     "metadata": {
      "needs_background": "light"
     },
     "output_type": "display_data"
    }
   ],
   "source": [
    "fig = plt.figure()\n",
    "ax = plt.gca()\n",
    "ax.scatter(y_train_pred, train_res, color=\"b\" , label='Train' ,marker='o')\n",
    "ax.scatter(y_test_pred, test_res, color=\"red\" , label='test' ,marker='^')\n",
    "ax.legend(loc='top right')\n",
    "ax.axhline(linewidth= 1, color='black', linestyle='dashed')\n",
    "# plt.title('Residual SVR RBF')\n",
    "plt.ylim(-3,3)\n",
    "plt.xlabel('Predicted Values')\n",
    "plt.ylabel('Residuals')\n",
    "plt.savefig('./graph/res_linear_05_10.png', format='png', dpi=1000, bbox_inches=\"tight\")    \n",
    "plt.show()"
   ]
  },
  {
   "cell_type": "markdown",
   "metadata": {},
   "source": [
    "## Plot For Poly"
   ]
  },
  {
   "cell_type": "code",
   "execution_count": 216,
   "metadata": {},
   "outputs": [],
   "source": [
    "param_grid={\n",
    "            'C': 10,\n",
    "            'degree': 2,\n",
    "            'epsilon': 0.1\n",
    "}\n",
    "\n",
    "c = param_grid['C']\n",
    "deg = param_grid['degree']\n",
    "eps = param_grid['epsilon']\n",
    "\n",
    "modelPol = SVR(kernel=\"poly\", C= c, degree= deg, epsilon=eps)\n",
    "modelPol.fit(scale_x_train, y_train)\n",
    "y_train_pred = modelPol.predict(scale_x_train)\n",
    "y_test_pred = modelPol.predict(scale_x_test)\n",
    "\n",
    "ytr = ytrain.iloc[:,0]\n",
    "ytr.tolist()\n",
    "yts = ytest.iloc[:,0]\n",
    "yts.tolist()\n",
    "\n",
    "train_res = ytr - y_train_pred\n",
    "test_res = yts - y_test_pred"
   ]
  },
  {
   "cell_type": "markdown",
   "metadata": {},
   "source": [
    "### Actual Vs. Predict"
   ]
  },
  {
   "cell_type": "code",
   "execution_count": 219,
   "metadata": {},
   "outputs": [
    {
     "data": {
      "image/png": "[encoded data removed]",
      "text/plain": [
       "<Figure size 432x288 with 1 Axes>"
      ]
     },
     "metadata": {
      "needs_background": "light"
     },
     "output_type": "display_data"
    }
   ],
   "source": [
    "fig = plt.figure()\n",
    "ax = plt.gca()\n",
    "ax.scatter(y_train, y_train_pred, color=\"b\" , label='Train')\n",
    "ax.scatter(y_test, y_test_pred, color=\"r\" , label='Test',marker='^')\n",
    "ax.legend(loc='top left')\n",
    "# ax.plot([0, 1], [0, 1], color=\"black\",transform=ax.transAxes)\n",
    "dl = np.linspace(*ax.get_xlim())\n",
    "ax.plot(dl, dl, color=\"black\")\n",
    "ax.set_aspect('equal')\n",
    "\n",
    "plt.xlabel('Experimental pIC50')\n",
    "plt.ylabel('Predicted pIC50')\n",
    "# plt.title('RBF Actual Vs Predict')\n",
    "plt.savefig('./graph/actpred_poly_05_10.png', format='png', dpi=1000, bbox_inches=\"tight\")    \n",
    "plt.show()"
   ]
  },
  {
   "cell_type": "markdown",
   "metadata": {},
   "source": [
    "### Residual Plot"
   ]
  },
  {
   "cell_type": "code",
   "execution_count": 220,
   "metadata": {},
   "outputs": [
    {
     "data": {
      "image/png": "[encoded data removed]",
      "text/plain": [
       "<Figure size 432x288 with 1 Axes>"
      ]
     },
     "metadata": {
      "needs_background": "light"
     },
     "output_type": "display_data"
    }
   ],
   "source": [
    "fig = plt.figure()\n",
    "ax = plt.gca()\n",
    "ax.scatter(y_train_pred, train_res, color=\"b\" , label='Train' ,marker='o')\n",
    "ax.scatter(y_test_pred, test_res, color=\"red\" , label='test' ,marker='^')\n",
    "ax.legend(loc='top right')\n",
    "ax.axhline(linewidth= 1, color='black', linestyle='dashed')\n",
    "# plt.title('Residual SVR RBF')\n",
    "plt.ylim(-3,3)\n",
    "plt.xlabel('Predicted Values')\n",
    "plt.ylabel('Residuals')\n",
    "plt.savefig('./graph/res_poly_05_10.png', format='png', dpi=1000, bbox_inches=\"tight\")    \n",
    "plt.show()"
   ]
  }
 ],
 "metadata": {
  "kernelspec": {
   "display_name": "Python 3",
   "language": "python",
   "name": "python3"
  },
  "language_info": {
   "codemirror_mode": {
    "name": "ipython",
    "version": 3
   },
   "file_extension": ".py",
   "mimetype": "text/x-python",
   "name": "python",
   "nbconvert_exporter": "python",
   "pygments_lexer": "ipython3",
   "version": "3.8.2"
  },
  "toc": {
   "base_numbering": 1,
   "nav_menu": {},
   "number_sections": true,
   "sideBar": true,
   "skip_h1_title": false,
   "title_cell": "Table of Contents",
   "title_sidebar": "Contents",
   "toc_cell": false,
   "toc_position": {
    "height": "calc(100% - 180px)",
    "left": "10px",
    "top": "150px",
    "width": "318px"
   },
   "toc_section_display": true,
   "toc_window_display": true
  },
  "varInspector": {
   "cols": {
    "lenName": 16,
    "lenType": 16,
    "lenVar": 40
   },
   "kernels_config": {
    "python": {
     "delete_cmd_postfix": "",
     "delete_cmd_prefix": "del ",
     "library": "var_list.py",
     "varRefreshCmd": "print(var_dic_list())"
    },
    "r": {
     "delete_cmd_postfix": ") ",
     "delete_cmd_prefix": "rm(",
     "library": "var_list.r",
     "varRefreshCmd": "cat(var_dic_list()) "
    }
   },
   "oldHeight": 593,
   "position": {
    "height": "40px",
    "left": "785.6px",
    "right": "20px",
    "top": "151px",
    "width": "695.6px"
   },
   "types_to_exclude": [
    "module",
    "function",
    "builtin_function_or_method",
    "instance",
    "_Feature"
   ],
   "varInspector_section_display": "none",
   "window_display": false
  }
 },
 "nbformat": 4,
 "nbformat_minor": 4
}
