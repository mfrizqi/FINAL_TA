{
 "cells": [
  {
   "cell_type": "code",
   "execution_count": 5,
   "metadata": {},
   "outputs": [],
   "source": [
    "import pandas as pd \n",
    "import numpy as np\n",
    "import pickle\n",
    "import matplotlib.pyplot as plt\n",
    "import joblib\n",
    "\n",
    "from sklearn import svm\n",
    "from sklearn.svm import NuSVR\n",
    "from sklearn.model_selection import GridSearchCV\n",
    "from sklearn.model_selection import train_test_split\n",
    "from sklearn.metrics import r2_score\n",
    "from sklearn.metrics import mean_squared_error\n",
    "from sklearn.preprocessing import MinMaxScaler\n",
    "from sklearn.preprocessing import StandardScaler\n",
    "from tqdm import tqdm\n",
    "\n",
    "import warnings\n",
    "warnings.filterwarnings('ignore')"
   ]
  },
  {
   "cell_type": "code",
   "execution_count": 6,
   "metadata": {},
   "outputs": [],
   "source": [
    "train = pickle.load(open('./pickle/train.pkl', 'rb'))\n",
    "test = pickle.load(open('./pickle/test.pkl', 'rb'))"
   ]
  },
  {
   "cell_type": "code",
   "execution_count": 7,
   "metadata": {},
   "outputs": [],
   "source": [
    "param_grid={\n",
    "            'C': [0.1, 1, 10, 100, 1000],\n",
    "            'degree': [1],\n",
    "}"
   ]
  },
  {
   "cell_type": "code",
   "execution_count": 8,
   "metadata": {},
   "outputs": [],
   "source": [
    "bd_list = []\n",
    "bd_5 = pickle.load(open('./pickle/trial_10/bestDesc_5_2050.pkl', 'rb'))\n",
    "bd_10 = pickle.load(open('./pickle/trial_10/bestDesc_10_2050.pkl', 'rb'))\n",
    "bd_15 = pickle.load(open('./pickle/trial_10/bestDesc_15_2050.pkl', 'rb'))\n",
    "bd_20 = pickle.load(open('./pickle/trial_10/bestDesc_20_2050.pkl', 'rb'))\n",
    "bd_25 = pickle.load(open('./pickle/trial_10/bestDesc_25_2050.pkl', 'rb'))\n",
    "bd_list.extend([bd_5,bd_10,bd_15,bd_20,bd_25])"
   ]
  },
  {
   "cell_type": "code",
   "execution_count": 9,
   "metadata": {},
   "outputs": [
    {
     "name": "stderr",
     "output_type": "stream",
     "text": [
      "100%|████████████████████████████████████████████████████████████████████████████████████| 5/5 [00:06<00:00,  1.30s/it]\n"
     ]
    }
   ],
   "source": [
    "r2_nusvr_linear = pd.DataFrame(columns=['Desc','C','Degree','r2_train','r2_test','train_pred','test_pred'])\n",
    "\n",
    "for i in tqdm(range(len(bd_list))):\n",
    "    # Assign labels to train and test\n",
    "    dfTrain = train.loc[:,bd_list[i]]\n",
    "    dfTest = test.loc[:,bd_list[i]]\n",
    "    \n",
    "    # Preparation fata x & y\n",
    "    x_train = dfTrain.iloc[:,:]\n",
    "    x_test = dfTest.iloc[:,:]\n",
    "    y_train = train.iloc[:, [-1]]\n",
    "    y_test = test.iloc[:,[-1]]\n",
    "    \n",
    "    # Feature scaler Using MinMaxScaler()\n",
    "    scaler = MinMaxScaler()\n",
    "    scaler.fit(x_train)\n",
    "    scale_x_train = scaler.transform(x_train)\n",
    "    scale_x_test = scaler.transform(x_test)\n",
    "    \n",
    "    # Search best params for SVR()\n",
    "    gsc = GridSearchCV(\n",
    "        estimator= NuSVR(kernel='linear'),\n",
    "        param_grid= param_grid,\n",
    "        cv=5, scoring='neg_mean_squared_error', verbose=0, n_jobs=-1)\n",
    "    \n",
    "    gsc.fit(scale_x_train, y_train)\n",
    "    param_c = gsc.best_params_['C']\n",
    "    param_degree = gsc.best_params_['degree']\n",
    "    \n",
    "    # Assign best params to model\n",
    "    model = NuSVR(C=param_c, kernel=\"linear\", degree=param_degree)\n",
    "    model.fit(scale_x_train, y_train)\n",
    "    \n",
    "    #Calculate prediction\n",
    "    y_train_pred = model.predict(scale_x_train)\n",
    "    y_test_pred = model.predict(scale_x_test)\n",
    "\n",
    "    #Calculate r2 score\n",
    "    r2_train = r2_score(y_train,y_train_pred)\n",
    "    r2_test = r2_score(y_test,y_test_pred)\n",
    "    \n",
    "    r2_nusvr_linear = r2_nusvr_linear.append(pd.Series([len(bd_list[i]),param_c, param_degree, r2_train, r2_test, y_train_pred, y_test_pred], index=r2_nusvr_linear.columns ), ignore_index=True)"
   ]
  },
  {
   "cell_type": "code",
   "execution_count": 10,
   "metadata": {},
   "outputs": [
    {
     "data": {
      "text/html": [
       "<div>\n",
       "<style scoped>\n",
       "    .dataframe tbody tr th:only-of-type {\n",
       "        vertical-align: middle;\n",
       "    }\n",
       "\n",
       "    .dataframe tbody tr th {\n",
       "        vertical-align: top;\n",
       "    }\n",
       "\n",
       "    .dataframe thead th {\n",
       "        text-align: right;\n",
       "    }\n",
       "</style>\n",
       "<table border=\"1\" class=\"dataframe\">\n",
       "  <thead>\n",
       "    <tr style=\"text-align: right;\">\n",
       "      <th></th>\n",
       "      <th>Desc</th>\n",
       "      <th>C</th>\n",
       "      <th>Degree</th>\n",
       "      <th>r2_train</th>\n",
       "      <th>r2_test</th>\n",
       "      <th>train_pred</th>\n",
       "      <th>test_pred</th>\n",
       "    </tr>\n",
       "  </thead>\n",
       "  <tbody>\n",
       "    <tr>\n",
       "      <th>0</th>\n",
       "      <td>5</td>\n",
       "      <td>100</td>\n",
       "      <td>1</td>\n",
       "      <td>0.614624</td>\n",
       "      <td>0.493891</td>\n",
       "      <td>[6.136125372347067, 7.0883882312852045, 6.8835...</td>\n",
       "      <td>[6.209386186305817, 6.280366689202605, 6.33714...</td>\n",
       "    </tr>\n",
       "    <tr>\n",
       "      <th>1</th>\n",
       "      <td>10</td>\n",
       "      <td>1000</td>\n",
       "      <td>1</td>\n",
       "      <td>0.711376</td>\n",
       "      <td>0.387296</td>\n",
       "      <td>[6.159291250793302, 7.1296059114199295, 7.0140...</td>\n",
       "      <td>[6.501257754357738, 6.432182143344306, 6.74860...</td>\n",
       "    </tr>\n",
       "    <tr>\n",
       "      <th>2</th>\n",
       "      <td>15</td>\n",
       "      <td>10</td>\n",
       "      <td>1</td>\n",
       "      <td>0.688329</td>\n",
       "      <td>0.435485</td>\n",
       "      <td>[6.312138657580119, 7.076309851473935, 6.90122...</td>\n",
       "      <td>[6.473996558315379, 6.355059159469404, 6.61694...</td>\n",
       "    </tr>\n",
       "    <tr>\n",
       "      <th>3</th>\n",
       "      <td>20</td>\n",
       "      <td>1000</td>\n",
       "      <td>1</td>\n",
       "      <td>0.769825</td>\n",
       "      <td>0.433446</td>\n",
       "      <td>[6.138532040616401, 7.046656691999278, 7.55471...</td>\n",
       "      <td>[6.359011504843483, 6.506978193074946, 6.16301...</td>\n",
       "    </tr>\n",
       "    <tr>\n",
       "      <th>4</th>\n",
       "      <td>25</td>\n",
       "      <td>1</td>\n",
       "      <td>1</td>\n",
       "      <td>0.663041</td>\n",
       "      <td>0.408284</td>\n",
       "      <td>[6.244133956090293, 7.099227410919104, 7.10188...</td>\n",
       "      <td>[6.46240406569448, 6.487341769089113, 6.667762...</td>\n",
       "    </tr>\n",
       "  </tbody>\n",
       "</table>\n",
       "</div>"
      ],
      "text/plain": [
       "  Desc     C Degree  r2_train   r2_test  \\\n",
       "0    5   100      1  0.614624  0.493891   \n",
       "1   10  1000      1  0.711376  0.387296   \n",
       "2   15    10      1  0.688329  0.435485   \n",
       "3   20  1000      1  0.769825  0.433446   \n",
       "4   25     1      1  0.663041  0.408284   \n",
       "\n",
       "                                          train_pred  \\\n",
       "0  [6.136125372347067, 7.0883882312852045, 6.8835...   \n",
       "1  [6.159291250793302, 7.1296059114199295, 7.0140...   \n",
       "2  [6.312138657580119, 7.076309851473935, 6.90122...   \n",
       "3  [6.138532040616401, 7.046656691999278, 7.55471...   \n",
       "4  [6.244133956090293, 7.099227410919104, 7.10188...   \n",
       "\n",
       "                                           test_pred  \n",
       "0  [6.209386186305817, 6.280366689202605, 6.33714...  \n",
       "1  [6.501257754357738, 6.432182143344306, 6.74860...  \n",
       "2  [6.473996558315379, 6.355059159469404, 6.61694...  \n",
       "3  [6.359011504843483, 6.506978193074946, 6.16301...  \n",
       "4  [6.46240406569448, 6.487341769089113, 6.667762...  "
      ]
     },
     "execution_count": 10,
     "metadata": {},
     "output_type": "execute_result"
    }
   ],
   "source": [
    "r2_nusvr_linear"
   ]
  },
  {
   "cell_type": "code",
   "execution_count": 11,
   "metadata": {},
   "outputs": [
    {
     "data": {
      "text/plain": [
       "['./pickle/trial_10/r2_nusvr_linear.pkl']"
      ]
     },
     "execution_count": 11,
     "metadata": {},
     "output_type": "execute_result"
    }
   ],
   "source": [
    "joblib.dump(r2_nusvr_linear, './pickle/trial_10/r2_nusvr_linear.pkl')"
   ]
  }
 ],
 "metadata": {
  "kernelspec": {
   "display_name": "Python 3",
   "language": "python",
   "name": "python3"
  },
  "language_info": {
   "codemirror_mode": {
    "name": "ipython",
    "version": 3
   },
   "file_extension": ".py",
   "mimetype": "text/x-python",
   "name": "python",
   "nbconvert_exporter": "python",
   "pygments_lexer": "ipython3",
   "version": "3.8.2"
  },
  "toc": {
   "base_numbering": 1,
   "nav_menu": {},
   "number_sections": true,
   "sideBar": true,
   "skip_h1_title": false,
   "title_cell": "Table of Contents",
   "title_sidebar": "Contents",
   "toc_cell": false,
   "toc_position": {},
   "toc_section_display": true,
   "toc_window_display": false
  }
 },
 "nbformat": 4,
 "nbformat_minor": 4
}
