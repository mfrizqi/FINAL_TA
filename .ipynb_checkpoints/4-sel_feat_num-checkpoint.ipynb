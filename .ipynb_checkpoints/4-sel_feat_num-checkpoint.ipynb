{
 "cells": [
  {
   "cell_type": "code",
   "execution_count": 1,
   "metadata": {},
   "outputs": [],
   "source": [
    "import joblib\n",
    "import pandas as pd\n",
    "import numpy as np\n",
    "from tqdm import tqdm_notebook as tqdm\n",
    "from matplotlib import pyplot as plt\n",
    "from sklearn.preprocessing import MinMaxScaler\n",
    "from sklearn.model_selection import cross_validate\n",
    "from sklearn.svm import SVR"
   ]
  },
  {
   "cell_type": "code",
   "execution_count": 3,
   "metadata": {},
   "outputs": [
    {
     "data": {
      "text/html": [
       "<div>\n",
       "<style scoped>\n",
       "    .dataframe tbody tr th:only-of-type {\n",
       "        vertical-align: middle;\n",
       "    }\n",
       "\n",
       "    .dataframe tbody tr th {\n",
       "        vertical-align: top;\n",
       "    }\n",
       "\n",
       "    .dataframe thead th {\n",
       "        text-align: right;\n",
       "    }\n",
       "</style>\n",
       "<table border=\"1\" class=\"dataframe\">\n",
       "  <thead>\n",
       "    <tr style=\"text-align: right;\">\n",
       "      <th></th>\n",
       "      <th>nAcid</th>\n",
       "      <th>ALogP</th>\n",
       "      <th>ALogp2</th>\n",
       "      <th>AMR</th>\n",
       "      <th>apol</th>\n",
       "      <th>naAromAtom</th>\n",
       "      <th>nAromBond</th>\n",
       "      <th>nAtom</th>\n",
       "      <th>nHeavyAtom</th>\n",
       "      <th>nH</th>\n",
       "      <th>...</th>\n",
       "      <th>P2s</th>\n",
       "      <th>E1s</th>\n",
       "      <th>E2s</th>\n",
       "      <th>E3s</th>\n",
       "      <th>Ts</th>\n",
       "      <th>As</th>\n",
       "      <th>Vs</th>\n",
       "      <th>Ks</th>\n",
       "      <th>Ds</th>\n",
       "      <th>pIC50</th>\n",
       "    </tr>\n",
       "  </thead>\n",
       "  <tbody>\n",
       "    <tr>\n",
       "      <th>40</th>\n",
       "      <td>0</td>\n",
       "      <td>-3.0563</td>\n",
       "      <td>9.340970</td>\n",
       "      <td>102.2151</td>\n",
       "      <td>58.973825</td>\n",
       "      <td>11</td>\n",
       "      <td>12</td>\n",
       "      <td>52</td>\n",
       "      <td>27</td>\n",
       "      <td>25</td>\n",
       "      <td>...</td>\n",
       "      <td>0.168327</td>\n",
       "      <td>0.586876</td>\n",
       "      <td>0.396976</td>\n",
       "      <td>0.382646</td>\n",
       "      <td>25.764905</td>\n",
       "      <td>114.419865</td>\n",
       "      <td>233.377340</td>\n",
       "      <td>0.686104</td>\n",
       "      <td>1.366498</td>\n",
       "      <td>5.886</td>\n",
       "    </tr>\n",
       "    <tr>\n",
       "      <th>37</th>\n",
       "      <td>0</td>\n",
       "      <td>-2.1531</td>\n",
       "      <td>4.635840</td>\n",
       "      <td>145.8341</td>\n",
       "      <td>79.623376</td>\n",
       "      <td>0</td>\n",
       "      <td>0</td>\n",
       "      <td>69</td>\n",
       "      <td>37</td>\n",
       "      <td>32</td>\n",
       "      <td>...</td>\n",
       "      <td>0.313827</td>\n",
       "      <td>0.608488</td>\n",
       "      <td>0.461856</td>\n",
       "      <td>0.330536</td>\n",
       "      <td>34.514137</td>\n",
       "      <td>274.017745</td>\n",
       "      <td>498.080922</td>\n",
       "      <td>0.496076</td>\n",
       "      <td>1.400881</td>\n",
       "      <td>7.745</td>\n",
       "    </tr>\n",
       "    <tr>\n",
       "      <th>52</th>\n",
       "      <td>0</td>\n",
       "      <td>-1.2132</td>\n",
       "      <td>1.471854</td>\n",
       "      <td>87.9564</td>\n",
       "      <td>43.932309</td>\n",
       "      <td>16</td>\n",
       "      <td>18</td>\n",
       "      <td>36</td>\n",
       "      <td>23</td>\n",
       "      <td>13</td>\n",
       "      <td>...</td>\n",
       "      <td>0.244036</td>\n",
       "      <td>0.606440</td>\n",
       "      <td>0.553745</td>\n",
       "      <td>0.214992</td>\n",
       "      <td>18.107324</td>\n",
       "      <td>64.212998</td>\n",
       "      <td>98.784043</td>\n",
       "      <td>0.610931</td>\n",
       "      <td>1.375177</td>\n",
       "      <td>6.886</td>\n",
       "    </tr>\n",
       "    <tr>\n",
       "      <th>74</th>\n",
       "      <td>0</td>\n",
       "      <td>0.7019</td>\n",
       "      <td>0.492664</td>\n",
       "      <td>139.2996</td>\n",
       "      <td>68.470653</td>\n",
       "      <td>23</td>\n",
       "      <td>25</td>\n",
       "      <td>56</td>\n",
       "      <td>35</td>\n",
       "      <td>21</td>\n",
       "      <td>...</td>\n",
       "      <td>0.114008</td>\n",
       "      <td>0.545582</td>\n",
       "      <td>0.404326</td>\n",
       "      <td>0.337579</td>\n",
       "      <td>41.457102</td>\n",
       "      <td>216.272881</td>\n",
       "      <td>459.395813</td>\n",
       "      <td>0.785537</td>\n",
       "      <td>1.287487</td>\n",
       "      <td>8.155</td>\n",
       "    </tr>\n",
       "    <tr>\n",
       "      <th>54</th>\n",
       "      <td>0</td>\n",
       "      <td>0.2280</td>\n",
       "      <td>0.051984</td>\n",
       "      <td>108.8676</td>\n",
       "      <td>53.821481</td>\n",
       "      <td>16</td>\n",
       "      <td>18</td>\n",
       "      <td>44</td>\n",
       "      <td>27</td>\n",
       "      <td>17</td>\n",
       "      <td>...</td>\n",
       "      <td>0.167460</td>\n",
       "      <td>0.505311</td>\n",
       "      <td>0.475601</td>\n",
       "      <td>0.272654</td>\n",
       "      <td>26.482181</td>\n",
       "      <td>114.456509</td>\n",
       "      <td>214.920943</td>\n",
       "      <td>0.704370</td>\n",
       "      <td>1.253567</td>\n",
       "      <td>7.076</td>\n",
       "    </tr>\n",
       "  </tbody>\n",
       "</table>\n",
       "<p>5 rows × 1876 columns</p>\n",
       "</div>"
      ],
      "text/plain": [
       "    nAcid   ALogP    ALogp2       AMR       apol  naAromAtom  nAromBond  \\\n",
       "40      0 -3.0563  9.340970  102.2151  58.973825          11         12   \n",
       "37      0 -2.1531  4.635840  145.8341  79.623376           0          0   \n",
       "52      0 -1.2132  1.471854   87.9564  43.932309          16         18   \n",
       "74      0  0.7019  0.492664  139.2996  68.470653          23         25   \n",
       "54      0  0.2280  0.051984  108.8676  53.821481          16         18   \n",
       "\n",
       "    nAtom  nHeavyAtom  nH  ...       P2s       E1s       E2s       E3s  \\\n",
       "40     52          27  25  ...  0.168327  0.586876  0.396976  0.382646   \n",
       "37     69          37  32  ...  0.313827  0.608488  0.461856  0.330536   \n",
       "52     36          23  13  ...  0.244036  0.606440  0.553745  0.214992   \n",
       "74     56          35  21  ...  0.114008  0.545582  0.404326  0.337579   \n",
       "54     44          27  17  ...  0.167460  0.505311  0.475601  0.272654   \n",
       "\n",
       "           Ts          As          Vs        Ks        Ds  pIC50  \n",
       "40  25.764905  114.419865  233.377340  0.686104  1.366498  5.886  \n",
       "37  34.514137  274.017745  498.080922  0.496076  1.400881  7.745  \n",
       "52  18.107324   64.212998   98.784043  0.610931  1.375177  6.886  \n",
       "74  41.457102  216.272881  459.395813  0.785537  1.287487  8.155  \n",
       "54  26.482181  114.456509  214.920943  0.704370  1.253567  7.076  \n",
       "\n",
       "[5 rows x 1876 columns]"
      ]
     },
     "execution_count": 3,
     "metadata": {},
     "output_type": "execute_result"
    }
   ],
   "source": [
    "# dataset = pd.read_csv(\"./dataset/train.csv\", index_col=0)\n",
    "dataset = joblib.load('./p/05_neue/train.pkl')\n",
    "dataset.head()"
   ]
  },
  {
   "cell_type": "code",
   "execution_count": 7,
   "metadata": {},
   "outputs": [],
   "source": [
    "kernel = \"rbf\" # --> diganti dengan rentang rbf, poly, sigmoid\n",
    "svr_model = SVR(kernel=kernel, gamma=\"scale\")\n",
    "y_train = dataset.iloc[:,[-1]].values\n",
    "y_train = y_train.ravel()\n",
    "cv_list = {}"
   ]
  },
  {
   "cell_type": "code",
   "execution_count": 8,
   "metadata": {},
   "outputs": [
    {
     "data": {
      "application/vnd.jupyter.widget-view+json": {
       "model_id": "c6102c3576bd46b4a327959a391a58bf",
       "version_major": 2,
       "version_minor": 0
      },
      "text/plain": [
       "HBox(children=(IntProgress(value=0, max=6), HTML(value='')))"
      ]
     },
     "metadata": {},
     "output_type": "display_data"
    },
    {
     "name": "stdout",
     "output_type": "stream",
     "text": [
      "\n"
     ]
    }
   ],
   "source": [
    "for i in tqdm(range(5,11)):\n",
    "    [mse_trial, temp, mse, sel_desc] = joblib.load(\"./pickle/sel_desc_{}.p\".format(i))\n",
    "    X_train = dataset.loc[:,sel_desc].values\n",
    "    cv_score = cross_validate(svr_model, X_train, y_train, cv=10, scoring=('r2', 'neg_mean_squared_error'))\n",
    "    mse_score = [-x for x in cv_score[\"test_neg_mean_squared_error\"]]\n",
    "    mse_score = np.average(mse_score)\n",
    "    cv_list[i] = mse_score"
   ]
  },
  {
   "cell_type": "code",
   "execution_count": 9,
   "metadata": {},
   "outputs": [
    {
     "data": {
      "text/plain": [
       "['./pickle/cv_list_rbf']"
      ]
     },
     "execution_count": 9,
     "metadata": {},
     "output_type": "execute_result"
    }
   ],
   "source": [
    "joblib.dump(cv_list, \"./pickle/cv_list_{}.p\".format(kernel))"
   ]
  },
  {
   "cell_type": "code",
   "execution_count": null,
   "metadata": {},
   "outputs": [],
   "source": []
  },
  {
   "cell_type": "code",
   "execution_count": null,
   "metadata": {},
   "outputs": [],
   "source": []
  }
 ],
 "metadata": {
  "kernelspec": {
   "display_name": "Python 3",
   "language": "python",
   "name": "python3"
  },
  "language_info": {
   "codemirror_mode": {
    "name": "ipython",
    "version": 3
   },
   "file_extension": ".py",
   "mimetype": "text/x-python",
   "name": "python",
   "nbconvert_exporter": "python",
   "pygments_lexer": "ipython3",
   "version": "3.8.2"
  },
  "toc": {
   "base_numbering": 1,
   "nav_menu": {},
   "number_sections": true,
   "sideBar": true,
   "skip_h1_title": false,
   "title_cell": "Table of Contents",
   "title_sidebar": "Contents",
   "toc_cell": false,
   "toc_position": {},
   "toc_section_display": true,
   "toc_window_display": false
  },
  "varInspector": {
   "cols": {
    "lenName": 16,
    "lenType": 16,
    "lenVar": 40
   },
   "kernels_config": {
    "python": {
     "delete_cmd_postfix": "",
     "delete_cmd_prefix": "del ",
     "library": "var_list.py",
     "varRefreshCmd": "print(var_dic_list())"
    },
    "r": {
     "delete_cmd_postfix": ") ",
     "delete_cmd_prefix": "rm(",
     "library": "var_list.r",
     "varRefreshCmd": "cat(var_dic_list()) "
    }
   },
   "types_to_exclude": [
    "module",
    "function",
    "builtin_function_or_method",
    "instance",
    "_Feature"
   ],
   "window_display": false
  }
 },
 "nbformat": 4,
 "nbformat_minor": 2
}
