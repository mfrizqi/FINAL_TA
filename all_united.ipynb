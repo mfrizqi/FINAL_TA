{
 "cells": [
  {
   "cell_type": "markdown",
   "metadata": {},
   "source": [
    "# Import Libraries"
   ]
  },
  {
   "cell_type": "code",
   "execution_count": 23,
   "metadata": {},
   "outputs": [],
   "source": [
    "import os\n",
    "import csv \n",
    "import math\n",
    "import joblib\n",
    "import pickle\n",
    "import warnings\n",
    "import copy\n",
    "from tqdm import tqdm\n",
    "\n",
    "import pandas as pd\n",
    "import numpy as np\n",
    "import statistics as stat\n",
    "import matplotlib.pyplot as plt \n",
    "\n",
    "from sklearn.model_selection import train_test_split\n",
    "from sklearn.model_selection import GridSearchCV\n",
    "from sklearn.model_selection import LeaveOneOut\n",
    "\n",
    "from sklearn.preprocessing import MinMaxScaler\n",
    "from sklearn.metrics import r2_score\n",
    "from sklearn.metrics import mean_squared_error\n",
    "\n",
    "from sklearn.linear_model import LinearRegression\n",
    "\n",
    "from sklearn.svm import SVR\n",
    "\n",
    "\n",
    "warnings.filterwarnings('ignore')"
   ]
  },
  {
   "cell_type": "markdown",
   "metadata": {},
   "source": [
    "# Splitting Data"
   ]
  },
  {
   "cell_type": "markdown",
   "metadata": {},
   "source": [
    "## Concate data padel with target"
   ]
  },
  {
   "cell_type": "code",
   "execution_count": null,
   "metadata": {},
   "outputs": [],
   "source": [
    "# Import data from csv into pandas DataFrame\n",
    "dfPadel = pd.read_csv(\"data/padel_desc.csv\")\n",
    "dtRawIC50 = pd.read_csv(\"data/pIC50_target.csv\")\n",
    "dtIC50 = dtRawIC50['pIC50']\n",
    "\n",
    "# Concatenate data dataframe (Padel,Cdk,Target)\n",
    "df = pd.concat([dfPadel,dtIC50], axis=1)\n",
    "df = df.drop(columns = ['Name'])\n",
    "\n",
    "# Export concatenated data\n",
    "# df.to_csv (r'data\\all_data.csv',index=False, header=True,sep=',')"
   ]
  },
  {
   "cell_type": "markdown",
   "metadata": {},
   "source": [
    "## Split Train & Test + PCC Correlation"
   ]
  },
  {
   "cell_type": "code",
   "execution_count": null,
   "metadata": {
    "code_folding": [],
    "scrolled": true
   },
   "outputs": [],
   "source": [
    "# Loop for finding correlation combination\n",
    "for i in range(10):\n",
    "    # Divide into training data and test data\n",
    "    dfTrain = df.sample(frac=0.8,random_state=i)\n",
    "    dfTest = df.drop(dfTrain.index)\n",
    "\n",
    "    # Find 100 descriptors with strongest correlation with pIC50\n",
    "    train_corr = dfTrain.corr()\n",
    "    train_corr = train_corr.iloc[:-1,[-1]]\n",
    "    train_corr.sort_values(\"pIC50\", ascending = False, inplace = True)\n",
    "    train_corr = train_corr.iloc[:100,:]\n",
    "\n",
    "    # Check for WTPT-3 only\n",
    "    if train_corr.index[0] == \"WTPT-3\":\n",
    "        print(\"i: %04d\"%i)\n",
    "        # Dump training and test data\n",
    "        dfTrain.to_pickle(\"./pickle/train_%04d.pkl\"%i)\n",
    "        dfTest.to_pickle(\"./pickle/test_%04d.pkl\"%i)\n",
    "        # Dump correlation data\n",
    "        train_corr.to_csv(r'data/dataCorr_%04d.pkl.csv'%i, index= None, header = True)\n",
    "        # Dump list of 100 strongest des\n",
    "        corr_100 = train_corr.index.values.tolist()[:100]\n",
    "        with open('./pickle/corr100_%04d.pkl'%i, 'wb') as f:\n",
    "            pickle.dump(corr_100, f)"
   ]
  },
  {
   "cell_type": "markdown",
   "metadata": {},
   "source": [
    "# Feature Selection : SA"
   ]
  },
  {
   "cell_type": "markdown",
   "metadata": {},
   "source": [
    "## SA Functions"
   ]
  },
  {
   "cell_type": "code",
   "execution_count": null,
   "metadata": {},
   "outputs": [],
   "source": [
    "def acceptanceProbability (bestMSE, newMSE, temp , K):\n",
    "        # If the new solution is worse, calculate an acceptance probability\n",
    "        return np.exp( K * (newMSE - bestMSE) / temp)\n",
    "    \n",
    "def calcMSE(combDesc, x_train, x_val, y_train, y_val, model):\n",
    "    x_train_slice = x_train.iloc[:,combDesc]\n",
    "    x_val_slice = x_val.iloc[:,combDesc]\n",
    "    \n",
    "    scaler = MinMaxScaler()\n",
    "    scaler.fit(x_train_slice)\n",
    "    scale_x_train = scaler.transform(x_train_slice)\n",
    "    scale_x_val = scaler.transform(x_val_slice)\n",
    "    \n",
    "    model.fit(scale_x_train, y_train)\n",
    "    y_pred = model.predict(scale_x_val)\n",
    "    return mean_squared_error(y_val, y_pred)"
   ]
  },
  {
   "cell_type": "markdown",
   "metadata": {},
   "source": [
    "## SA Prepare Data"
   ]
  },
  {
   "cell_type": "code",
   "execution_count": null,
   "metadata": {},
   "outputs": [],
   "source": [
    "corrs = []\n",
    "cor1 = joblib.load('./p/corr100_0003.pkl')\n",
    "cor2 = joblib.load('./p/corr100_0005.pkl')\n",
    "cor3 = joblib.load('./p/corr100_0006.pkl')\n",
    "cor4 = joblib.load('./p/corr100_0007.pkl')\n",
    "cor5 = joblib.load('./p/corr100_0008.pkl')\n",
    "\n",
    "trains = []\n",
    "tr1 = joblib.load('./p/train_0003.pkl')\n",
    "tr2 = joblib.load('./p/train_0005.pkl')\n",
    "tr3 = joblib.load('./p/train_0006.pkl')\n",
    "tr4 = joblib.load('./p/train_0007.pkl')\n",
    "tr5 = joblib.load('./p/train_0008.pkl')\n",
    "\n",
    "corrs.extend([cor1, cor2, cor3, cor4, cor5])\n",
    "trains.extend([tr1, tr2, tr3, tr4, tr5])\n",
    "\n",
    "#change index for data\n",
    "corr_100 = corrs[1]\n",
    "dft = trains[1]\n",
    "\n",
    "train = dft.loc[:,corr_100]\n",
    "train[\"pIC50\"] = dft.iloc[:, -1]\n",
    "descName = train.columns.values\n",
    "\n",
    "trained, val = train_test_split(train, test_size = 0.2, random_state = 10)\n",
    "\n",
    "x_train = trained.iloc[:,:-1]\n",
    "x_val = val.iloc[:,:-1]\n",
    "y_train = trained.iloc[:, [-1]]\n",
    "y_val = val.iloc[:,[-1]]\n",
    "\n",
    "model = LinearRegression()\n",
    "x_train.shape, x_val.shape, y_train.shape, y_val.shape"
   ]
  },
  {
   "cell_type": "markdown",
   "metadata": {},
   "source": [
    "## SA algorithm"
   ]
  },
  {
   "cell_type": "code",
   "execution_count": null,
   "metadata": {
    "code_folding": []
   },
   "outputs": [],
   "source": [
    "combos = [5,10,15,20,25]\n",
    "\n",
    "for k in tqdm(range(5)):\n",
    "\n",
    "    ## INTO DE SA DE LA'SOIN MODDED ##\n",
    "    descNum = combos[k]\n",
    "    descMSE_descNum = []\n",
    "\n",
    "    for j in tqdm(range(20)):\n",
    "        # Initialize Values\n",
    "        initTemp, temp = 100, 100\n",
    "        tempEnd = 0.1\n",
    "        cooling_rate = 0.98\n",
    "        iteration = 50\n",
    "\n",
    "        # Simulated Annealing\n",
    "        bestList = []\n",
    "        bestMSEList = []\n",
    "        tempChange = []\n",
    "        sounded = True\n",
    "\n",
    "        # Initialize solution & Best MSE (Random descNum descriptor)\n",
    "        bestSol = np.random.choice(x_train.shape[1],descNum, replace=False)\n",
    "        bestSol = list(bestSol)\n",
    "        bestSol.sort()\n",
    "\n",
    "        # First MSE\n",
    "        bestMSE = calcMSE(bestSol, x_train, x_val, y_train, y_val, model)\n",
    "        while temp > tempEnd:\n",
    "            for i in range(iteration):\n",
    "\n",
    "                # Create new solution & new MSE\n",
    "                newSol = np.random.choice(x_train.shape[1], descNum, replace=False)\n",
    "                newMSE = calcMSE(newSol, x_train, x_val, y_train, y_val, model)\n",
    "                deltaMSE = newMSE - bestMSE\n",
    "                \n",
    "                # New solution is better based on MSE value\n",
    "                if newMSE < bestMSE :\n",
    "                    bestMSE = newMSE\n",
    "                    bestSol = newSol\n",
    "                    bestList.append([bestMSE,bestSol])\n",
    "                    tempChange.append(temp)\n",
    "                    bestMSEList.append(bestMSE)\n",
    "                    \n",
    "                #Probability to accept bad solution\n",
    "                else :\n",
    "                    K = (initTemp * np.log(0.8)) / deltaMSE\n",
    "                    if acceptanceProbability (bestMSE, newMSE, temp , K) > np.random.rand(0,1):\n",
    "                        bestMSE = newMSE\n",
    "                        bestSol = newSol\n",
    "                        bestList.append([bestMSE,bestSol])\n",
    "                        tempChange.append(temp)\n",
    "                        bestMSEList.append(bestMSE)\n",
    "\n",
    "            temp *= cooling_rate\n",
    "\n",
    "        descMSE_descNum.append([bestList[-1][0],bestList[-1][1],bestMSEList,tempChange])\n",
    "       \n",
    "    # Extracting results\n",
    "    df_SA = pd.DataFrame(descMSE_descNum)\n",
    "    df_SA.columns=[\"MSE\",\"solution\",\"growth\", \"temp\"]\n",
    "    df_SA.reset_index(drop=True, inplace= True)\n",
    "\n",
    "    # Sort values\n",
    "    df_SA_sort = df_SA.copy()\n",
    "    df_SA_sort.sort_values('MSE', inplace=True)\n",
    "\n",
    "    # Get Descriptors name    \n",
    "    bestDescriptor = []\n",
    "    for i in df_SA_sort.iloc[0,1]:\n",
    "        bestDescriptor.append(descName[i])\n",
    "\n",
    "    bestSAGrowth = df_SA_sort.iloc[0,2]\n",
    "        \n",
    "    df_SA.to_pickle(\"./p/raw_0005_%02d.pkl\"%k)\n",
    "    joblib.dump(bestDescriptor, f\"./p/best_0005_{k}.pkl\")"
   ]
  },
  {
   "cell_type": "markdown",
   "metadata": {},
   "source": [
    "# Model Development : SVR"
   ]
  },
  {
   "cell_type": "markdown",
   "metadata": {},
   "source": [
    "## Preparing Data"
   ]
  },
  {
   "cell_type": "code",
   "execution_count": 4,
   "metadata": {},
   "outputs": [],
   "source": [
    "# Load train and test data\n",
    "# IMPORTANT! LOOK AT THE LOADED FILES\n",
    "train = joblib.load('./p/train_0003.pkl', 'rb')\n",
    "test = joblib.load('./p/test_0003.pkl', 'rb')\n",
    "\n",
    "# Create params for kernels\n",
    "param_rbf={\n",
    "            'C': [0.1, 1, 10, 100, 1000],\n",
    "            'gamma': ['auto','scale'],\n",
    "            'epsilon':[0.1, 1, 10, 100, 1000]\n",
    "}\n",
    "\n",
    "param_linear={\n",
    "            'C': [0.1, 1, 10, 100, 1000],\n",
    "            'degree': [1],\n",
    "            'epsilon':[0.1, 1, 10, 100, 1000]\n",
    "}\n",
    "\n",
    "param_poly={\n",
    "            'C': [0.1, 1, 10, 100, 1000],\n",
    "            'degree': [2, 3, 4, 5],\n",
    "            'epsilon':[0.1, 1, 10, 100, 1000]\n",
    "}\n",
    "\n",
    "# Create list of descriptors set\n",
    "# IMPORTANT! MUST BE SAME AS LOADED TRAIN & TEST\n",
    "bd_list = []\n",
    "bd_5 = joblib.load('./p/best_0003_0.pkl')\n",
    "bd_10 = joblib.load('./p/best_0003_1.pkl')\n",
    "bd_15 = joblib.load('./p/best_0003_2.pkl')\n",
    "bd_20 = joblib.load('./p/best_0003_3.pkl')\n",
    "bd_25 = joblib.load('./p/best_0003_4.pkl')\n",
    "bd_list.extend([bd_5,bd_10,bd_15,bd_20,bd_25])"
   ]
  },
  {
   "cell_type": "markdown",
   "metadata": {},
   "source": [
    "## SVR : RBF "
   ]
  },
  {
   "cell_type": "code",
   "execution_count": 5,
   "metadata": {},
   "outputs": [
    {
     "name": "stderr",
     "output_type": "stream",
     "text": [
      "100%|████████████████████████████████████████████████████████████████████████████████████| 5/5 [00:08<00:00,  1.72s/it]\n"
     ]
    }
   ],
   "source": [
    "r2_rbf = pd.DataFrame(columns=['desc','C','Gamma','Epsilon','r2_train','r2_test','train_pred','test_pred'])\n",
    "\n",
    "for i in tqdm(range(len(bd_list))):\n",
    "    # Assign labels to train and test\n",
    "    dfTrain = train.loc[:,bd_list[i]]\n",
    "    dfTest = test.loc[:,bd_list[i]]\n",
    "    \n",
    "    # Preparation data x & y\n",
    "    x_train = dfTrain.iloc[:,:]\n",
    "    x_test = dfTest.iloc[:,:]\n",
    "    y_train = train.iloc[:, [-1]]\n",
    "    y_test = test.iloc[:,[-1]]\n",
    "    \n",
    "    # Feature scaler Using MinMaxScaler()\n",
    "    scaler = MinMaxScaler()\n",
    "    scaler.fit(x_train)\n",
    "    scale_x_train = scaler.transform(x_train)\n",
    "    scale_x_test = scaler.transform(x_test)\n",
    "    \n",
    "    # Search best params for SVR()\n",
    "    gsc = GridSearchCV(\n",
    "        estimator=SVR(kernel='rbf'),\n",
    "        param_grid=param_rbf,\n",
    "        cv=5, scoring='neg_mean_squared_error', verbose=0, n_jobs=-1)\n",
    "\n",
    "    gsc.fit(scale_x_train, y_train)\n",
    "    param_c = gsc.best_params_['C']\n",
    "    param_gamma = gsc.best_params_['gamma']\n",
    "    param_epsilon = gsc.best_params_['epsilon']\n",
    "    \n",
    "    # Assign best params to model\n",
    "    model = SVR(C=param_c, kernel=\"rbf\", gamma=param_gamma, epsilon=param_epsilon)\n",
    "    model.fit(scale_x_train, y_train)\n",
    "    \n",
    "    #Calculate prediction\n",
    "    y_train_pred = model.predict(scale_x_train)\n",
    "    y_test_pred = model.predict(scale_x_test)\n",
    "\n",
    "    #Calculate r2 score\n",
    "    r2_train = r2_score(y_train,y_train_pred)\n",
    "    r2_test = r2_score(y_test,y_test_pred)\n",
    "    \n",
    "    r2_rbf = r2_rbf.append(pd.Series([len(bd_list[i]),param_c, param_gamma, param_epsilon, r2_train, r2_test, y_train_pred, y_test_pred], index=r2_rbf.columns ), ignore_index=True)"
   ]
  },
  {
   "cell_type": "code",
   "execution_count": 6,
   "metadata": {},
   "outputs": [
    {
     "data": {
      "text/html": [
       "<div>\n",
       "<style scoped>\n",
       "    .dataframe tbody tr th:only-of-type {\n",
       "        vertical-align: middle;\n",
       "    }\n",
       "\n",
       "    .dataframe tbody tr th {\n",
       "        vertical-align: top;\n",
       "    }\n",
       "\n",
       "    .dataframe thead th {\n",
       "        text-align: right;\n",
       "    }\n",
       "</style>\n",
       "<table border=\"1\" class=\"dataframe\">\n",
       "  <thead>\n",
       "    <tr style=\"text-align: right;\">\n",
       "      <th></th>\n",
       "      <th>desc</th>\n",
       "      <th>C</th>\n",
       "      <th>Gamma</th>\n",
       "      <th>Epsilon</th>\n",
       "      <th>r2_train</th>\n",
       "      <th>r2_test</th>\n",
       "      <th>train_pred</th>\n",
       "      <th>test_pred</th>\n",
       "    </tr>\n",
       "  </thead>\n",
       "  <tbody>\n",
       "    <tr>\n",
       "      <th>0</th>\n",
       "      <td>5</td>\n",
       "      <td>100</td>\n",
       "      <td>auto</td>\n",
       "      <td>0.1</td>\n",
       "      <td>0.674068</td>\n",
       "      <td>0.391796</td>\n",
       "      <td>[7.994387129979035, 8.240323249679992, 7.21645...</td>\n",
       "      <td>[6.1380405190032725, 7.001428261884403, 7.7257...</td>\n",
       "    </tr>\n",
       "    <tr>\n",
       "      <th>1</th>\n",
       "      <td>10</td>\n",
       "      <td>10</td>\n",
       "      <td>auto</td>\n",
       "      <td>0.1</td>\n",
       "      <td>0.547663</td>\n",
       "      <td>0.337347</td>\n",
       "      <td>[7.852818153558028, 8.088126581544334, 7.19517...</td>\n",
       "      <td>[6.466897723616807, 7.010567882080583, 7.48174...</td>\n",
       "    </tr>\n",
       "    <tr>\n",
       "      <th>2</th>\n",
       "      <td>15</td>\n",
       "      <td>10</td>\n",
       "      <td>auto</td>\n",
       "      <td>0.1</td>\n",
       "      <td>0.569568</td>\n",
       "      <td>0.343718</td>\n",
       "      <td>[8.021187570688681, 8.054948650669308, 7.18840...</td>\n",
       "      <td>[6.5111980114398165, 7.15897059232195, 7.62811...</td>\n",
       "    </tr>\n",
       "    <tr>\n",
       "      <th>3</th>\n",
       "      <td>20</td>\n",
       "      <td>10</td>\n",
       "      <td>auto</td>\n",
       "      <td>0.1</td>\n",
       "      <td>0.637957</td>\n",
       "      <td>0.437896</td>\n",
       "      <td>[8.00034249069443, 8.03641677637378, 7.1737899...</td>\n",
       "      <td>[6.248851574586528, 7.0649613461823275, 7.7681...</td>\n",
       "    </tr>\n",
       "    <tr>\n",
       "      <th>4</th>\n",
       "      <td>25</td>\n",
       "      <td>10</td>\n",
       "      <td>auto</td>\n",
       "      <td>0.1</td>\n",
       "      <td>0.595286</td>\n",
       "      <td>0.335919</td>\n",
       "      <td>[8.12579250577453, 7.854933501010557, 7.161085...</td>\n",
       "      <td>[6.527148026330326, 7.177201084500223, 7.60024...</td>\n",
       "    </tr>\n",
       "  </tbody>\n",
       "</table>\n",
       "</div>"
      ],
      "text/plain": [
       "  desc    C Gamma  Epsilon  r2_train   r2_test  \\\n",
       "0    5  100  auto      0.1  0.674068  0.391796   \n",
       "1   10   10  auto      0.1  0.547663  0.337347   \n",
       "2   15   10  auto      0.1  0.569568  0.343718   \n",
       "3   20   10  auto      0.1  0.637957  0.437896   \n",
       "4   25   10  auto      0.1  0.595286  0.335919   \n",
       "\n",
       "                                          train_pred  \\\n",
       "0  [7.994387129979035, 8.240323249679992, 7.21645...   \n",
       "1  [7.852818153558028, 8.088126581544334, 7.19517...   \n",
       "2  [8.021187570688681, 8.054948650669308, 7.18840...   \n",
       "3  [8.00034249069443, 8.03641677637378, 7.1737899...   \n",
       "4  [8.12579250577453, 7.854933501010557, 7.161085...   \n",
       "\n",
       "                                           test_pred  \n",
       "0  [6.1380405190032725, 7.001428261884403, 7.7257...  \n",
       "1  [6.466897723616807, 7.010567882080583, 7.48174...  \n",
       "2  [6.5111980114398165, 7.15897059232195, 7.62811...  \n",
       "3  [6.248851574586528, 7.0649613461823275, 7.7681...  \n",
       "4  [6.527148026330326, 7.177201084500223, 7.60024...  "
      ]
     },
     "execution_count": 6,
     "metadata": {},
     "output_type": "execute_result"
    }
   ],
   "source": [
    "joblib.dump(r2_rbf, './p/r2_rbf_0003.pkl')\n",
    "r2_rbf"
   ]
  },
  {
   "cell_type": "markdown",
   "metadata": {},
   "source": [
    "## SVR : Linear"
   ]
  },
  {
   "cell_type": "code",
   "execution_count": 8,
   "metadata": {},
   "outputs": [
    {
     "name": "stderr",
     "output_type": "stream",
     "text": [
      "100%|████████████████████████████████████████████████████████████████████████████████████| 5/5 [00:04<00:00,  1.13it/s]\n"
     ]
    }
   ],
   "source": [
    "r2_linear = pd.DataFrame(columns=['desc','C','degree','epsilon','r2_train','r2_test','train_pred','test_pred'])\n",
    "\n",
    "for i in tqdm(range(len(bd_list))):\n",
    "    # Assign labels to train and test\n",
    "    dfTrain = train.loc[:,bd_list[i]]\n",
    "    dfTest = test.loc[:,bd_list[i]]\n",
    "    \n",
    "    # Preparation data x & y\n",
    "    x_train = dfTrain.iloc[:,:]\n",
    "    x_test = dfTest.iloc[:,:]\n",
    "    y_train = train.iloc[:, [-1]]\n",
    "    y_test = test.iloc[:,[-1]]\n",
    "    \n",
    "    # Feature scaler Using MinMaxScaler()\n",
    "    scaler = MinMaxScaler()\n",
    "    scaler.fit(x_train)\n",
    "    scale_x_train = scaler.transform(x_train)\n",
    "    scale_x_test = scaler.transform(x_test)\n",
    "    \n",
    "    # Search best params for SVR()\n",
    "    gsc = GridSearchCV(\n",
    "        estimator=SVR(kernel='linear'),\n",
    "        param_grid=param_linear,\n",
    "        cv=5, scoring='neg_mean_squared_error', verbose=0, n_jobs=-1)\n",
    "\n",
    "    gsc.fit(scale_x_train, y_train)\n",
    "    param_c = gsc.best_params_['C']\n",
    "    param_degree = gsc.best_params_['degree']\n",
    "    param_epsilon = gsc.best_params_['epsilon']\n",
    "    \n",
    "    # Assign best params to model\n",
    "    model = SVR(C=param_c, kernel=\"linear\", degree=param_degree, epsilon = param_epsilon)\n",
    "    model.fit(scale_x_train, y_train)\n",
    "    \n",
    "    #Calculate prediction\n",
    "    y_train_pred = model.predict(scale_x_train)\n",
    "    y_test_pred = model.predict(scale_x_test)\n",
    "\n",
    "    #Calculate r2 score\n",
    "    r2_train = r2_score(y_train,y_train_pred)\n",
    "    r2_test = r2_score(y_test,y_test_pred)\n",
    "    \n",
    "    r2_linear = r2_linear.append(pd.Series([len(bd_list[i]),param_c, param_degree, param_epsilon, r2_train, r2_test, y_train_pred, y_test_pred], index=r2_linear.columns ), ignore_index=True)"
   ]
  },
  {
   "cell_type": "code",
   "execution_count": 9,
   "metadata": {},
   "outputs": [
    {
     "data": {
      "text/html": [
       "<div>\n",
       "<style scoped>\n",
       "    .dataframe tbody tr th:only-of-type {\n",
       "        vertical-align: middle;\n",
       "    }\n",
       "\n",
       "    .dataframe tbody tr th {\n",
       "        vertical-align: top;\n",
       "    }\n",
       "\n",
       "    .dataframe thead th {\n",
       "        text-align: right;\n",
       "    }\n",
       "</style>\n",
       "<table border=\"1\" class=\"dataframe\">\n",
       "  <thead>\n",
       "    <tr style=\"text-align: right;\">\n",
       "      <th></th>\n",
       "      <th>desc</th>\n",
       "      <th>C</th>\n",
       "      <th>degree</th>\n",
       "      <th>epsilon</th>\n",
       "      <th>r2_train</th>\n",
       "      <th>r2_test</th>\n",
       "      <th>train_pred</th>\n",
       "      <th>test_pred</th>\n",
       "    </tr>\n",
       "  </thead>\n",
       "  <tbody>\n",
       "    <tr>\n",
       "      <th>0</th>\n",
       "      <td>5</td>\n",
       "      <td>1000</td>\n",
       "      <td>1</td>\n",
       "      <td>0.1</td>\n",
       "      <td>0.636561</td>\n",
       "      <td>0.408322</td>\n",
       "      <td>[7.782645065966416, 8.262476186292442, 7.23103...</td>\n",
       "      <td>[6.242646904728498, 7.099524449642639, 7.72013...</td>\n",
       "    </tr>\n",
       "    <tr>\n",
       "      <th>1</th>\n",
       "      <td>10</td>\n",
       "      <td>1</td>\n",
       "      <td>1</td>\n",
       "      <td>0.1</td>\n",
       "      <td>0.512923</td>\n",
       "      <td>0.276692</td>\n",
       "      <td>[7.821404797756024, 8.05837912430642, 7.268753...</td>\n",
       "      <td>[6.574901555830472, 7.107098641925402, 7.51327...</td>\n",
       "    </tr>\n",
       "    <tr>\n",
       "      <th>2</th>\n",
       "      <td>15</td>\n",
       "      <td>10</td>\n",
       "      <td>1</td>\n",
       "      <td>0.1</td>\n",
       "      <td>0.599430</td>\n",
       "      <td>0.358507</td>\n",
       "      <td>[7.997103051552938, 8.184178253110904, 7.12594...</td>\n",
       "      <td>[6.573772731816509, 7.288151037451301, 7.62037...</td>\n",
       "    </tr>\n",
       "    <tr>\n",
       "      <th>3</th>\n",
       "      <td>20</td>\n",
       "      <td>1</td>\n",
       "      <td>1</td>\n",
       "      <td>0.1</td>\n",
       "      <td>0.614727</td>\n",
       "      <td>0.411647</td>\n",
       "      <td>[7.900562100861998, 8.020087731747443, 7.12285...</td>\n",
       "      <td>[6.272786014597807, 7.043019664201083, 7.74716...</td>\n",
       "    </tr>\n",
       "    <tr>\n",
       "      <th>4</th>\n",
       "      <td>25</td>\n",
       "      <td>1</td>\n",
       "      <td>1</td>\n",
       "      <td>0.1</td>\n",
       "      <td>0.582719</td>\n",
       "      <td>0.318393</td>\n",
       "      <td>[8.142485132574638, 7.868228430015912, 7.10453...</td>\n",
       "      <td>[6.59007338149123, 7.138427026443154, 7.507162...</td>\n",
       "    </tr>\n",
       "  </tbody>\n",
       "</table>\n",
       "</div>"
      ],
      "text/plain": [
       "  desc     C degree  epsilon  r2_train   r2_test  \\\n",
       "0    5  1000      1      0.1  0.636561  0.408322   \n",
       "1   10     1      1      0.1  0.512923  0.276692   \n",
       "2   15    10      1      0.1  0.599430  0.358507   \n",
       "3   20     1      1      0.1  0.614727  0.411647   \n",
       "4   25     1      1      0.1  0.582719  0.318393   \n",
       "\n",
       "                                          train_pred  \\\n",
       "0  [7.782645065966416, 8.262476186292442, 7.23103...   \n",
       "1  [7.821404797756024, 8.05837912430642, 7.268753...   \n",
       "2  [7.997103051552938, 8.184178253110904, 7.12594...   \n",
       "3  [7.900562100861998, 8.020087731747443, 7.12285...   \n",
       "4  [8.142485132574638, 7.868228430015912, 7.10453...   \n",
       "\n",
       "                                           test_pred  \n",
       "0  [6.242646904728498, 7.099524449642639, 7.72013...  \n",
       "1  [6.574901555830472, 7.107098641925402, 7.51327...  \n",
       "2  [6.573772731816509, 7.288151037451301, 7.62037...  \n",
       "3  [6.272786014597807, 7.043019664201083, 7.74716...  \n",
       "4  [6.59007338149123, 7.138427026443154, 7.507162...  "
      ]
     },
     "execution_count": 9,
     "metadata": {},
     "output_type": "execute_result"
    }
   ],
   "source": [
    "joblib.dump(r2_linear, './p/r2_linear_0003.pkl')\n",
    "r2_linear"
   ]
  },
  {
   "cell_type": "markdown",
   "metadata": {},
   "source": [
    "## SVR : Polynomial "
   ]
  },
  {
   "cell_type": "code",
   "execution_count": 10,
   "metadata": {},
   "outputs": [
    {
     "name": "stderr",
     "output_type": "stream",
     "text": [
      "100%|███████████████████████████████████████████████████████████████████████████████████| 5/5 [35:23<00:00, 424.67s/it]\n"
     ]
    }
   ],
   "source": [
    "r2_poly = pd.DataFrame(columns=['desc','C','degree','epsilon','r2_train','r2_test','train_pred','test_pred'])\n",
    "\n",
    "for i in tqdm(range(len(bd_list))):\n",
    "    # Assign labels to train and test\n",
    "    dfTrain = train.loc[:,bd_list[i]]\n",
    "    dfTest = test.loc[:,bd_list[i]]\n",
    "    \n",
    "    # Preparation data x & y\n",
    "    x_train = dfTrain.iloc[:,:]\n",
    "    x_test = dfTest.iloc[:,:]\n",
    "    y_train = train.iloc[:, [-1]]\n",
    "    y_test = test.iloc[:,[-1]]\n",
    "    \n",
    "    # Feature scaler Using MinMaxScaler()\n",
    "    scaler = MinMaxScaler()\n",
    "    scaler.fit(x_train)\n",
    "    scale_x_train = scaler.transform(x_train)\n",
    "    scale_x_test = scaler.transform(x_test)\n",
    "    \n",
    "    # Search best params for SVR()\n",
    "    gsc = GridSearchCV(\n",
    "        estimator=SVR(kernel='poly'),\n",
    "        param_grid=param_poly,\n",
    "        cv=5, scoring='neg_mean_squared_error', verbose=0, n_jobs=-1)\n",
    "\n",
    "    gsc.fit(scale_x_train, y_train)\n",
    "    param_c = gsc.best_params_['C']\n",
    "    param_degree = gsc.best_params_['degree']\n",
    "    param_epsilon = gsc.best_params_['epsilon']\n",
    "    \n",
    "    # Assign best params to model\n",
    "    model = SVR(C=param_c, kernel=\"poly\", degree=param_degree, epsilon = param_epsilon)\n",
    "    model.fit(scale_x_train, y_train)\n",
    "    \n",
    "    #Calculate prediction\n",
    "    y_train_pred = model.predict(scale_x_train)\n",
    "    y_test_pred = model.predict(scale_x_test)\n",
    "\n",
    "    #Calculate r2 score\n",
    "    r2_train = r2_score(y_train,y_train_pred)\n",
    "    r2_test = r2_score(y_test,y_test_pred)\n",
    "    \n",
    "    r2_poly = r2_poly.append(pd.Series([len(bd_list[i]),param_c, param_degree, param_epsilon, r2_train, r2_test, y_train_pred, y_test_pred], index=r2_poly.columns ), ignore_index=True)"
   ]
  },
  {
   "cell_type": "code",
   "execution_count": 11,
   "metadata": {},
   "outputs": [
    {
     "data": {
      "text/html": [
       "<div>\n",
       "<style scoped>\n",
       "    .dataframe tbody tr th:only-of-type {\n",
       "        vertical-align: middle;\n",
       "    }\n",
       "\n",
       "    .dataframe tbody tr th {\n",
       "        vertical-align: top;\n",
       "    }\n",
       "\n",
       "    .dataframe thead th {\n",
       "        text-align: right;\n",
       "    }\n",
       "</style>\n",
       "<table border=\"1\" class=\"dataframe\">\n",
       "  <thead>\n",
       "    <tr style=\"text-align: right;\">\n",
       "      <th></th>\n",
       "      <th>desc</th>\n",
       "      <th>C</th>\n",
       "      <th>degree</th>\n",
       "      <th>epsilon</th>\n",
       "      <th>r2_train</th>\n",
       "      <th>r2_test</th>\n",
       "      <th>train_pred</th>\n",
       "      <th>test_pred</th>\n",
       "    </tr>\n",
       "  </thead>\n",
       "  <tbody>\n",
       "    <tr>\n",
       "      <th>0</th>\n",
       "      <td>5</td>\n",
       "      <td>100</td>\n",
       "      <td>2</td>\n",
       "      <td>0.1</td>\n",
       "      <td>0.662553</td>\n",
       "      <td>0.403488</td>\n",
       "      <td>[7.791715328034031, 8.480917167548483, 6.98620...</td>\n",
       "      <td>[6.300511647845242, 7.0813303656193805, 7.7611...</td>\n",
       "    </tr>\n",
       "    <tr>\n",
       "      <th>1</th>\n",
       "      <td>10</td>\n",
       "      <td>1</td>\n",
       "      <td>2</td>\n",
       "      <td>0.1</td>\n",
       "      <td>0.546827</td>\n",
       "      <td>0.296477</td>\n",
       "      <td>[7.852278381838472, 8.290472980154275, 7.18800...</td>\n",
       "      <td>[6.4868060903759375, 7.007517340219664, 7.3974...</td>\n",
       "    </tr>\n",
       "    <tr>\n",
       "      <th>2</th>\n",
       "      <td>15</td>\n",
       "      <td>1</td>\n",
       "      <td>2</td>\n",
       "      <td>0.1</td>\n",
       "      <td>0.581517</td>\n",
       "      <td>0.355818</td>\n",
       "      <td>[8.020866315588194, 8.170196664569211, 7.11001...</td>\n",
       "      <td>[6.55416270721048, 7.246342003757149, 7.618573...</td>\n",
       "    </tr>\n",
       "    <tr>\n",
       "      <th>3</th>\n",
       "      <td>20</td>\n",
       "      <td>0.1</td>\n",
       "      <td>2</td>\n",
       "      <td>0.1</td>\n",
       "      <td>0.564712</td>\n",
       "      <td>0.398302</td>\n",
       "      <td>[8.064477450629223, 8.067373178786093, 7.11850...</td>\n",
       "      <td>[6.364690461529787, 6.999196075457645, 7.69662...</td>\n",
       "    </tr>\n",
       "    <tr>\n",
       "      <th>4</th>\n",
       "      <td>25</td>\n",
       "      <td>0.1</td>\n",
       "      <td>2</td>\n",
       "      <td>0.1</td>\n",
       "      <td>0.541260</td>\n",
       "      <td>0.298261</td>\n",
       "      <td>[8.206990355653865, 7.837670570978041, 7.14086...</td>\n",
       "      <td>[6.545586325164164, 7.05165896583687, 7.461812...</td>\n",
       "    </tr>\n",
       "  </tbody>\n",
       "</table>\n",
       "</div>"
      ],
      "text/plain": [
       "  desc    C degree  epsilon  r2_train   r2_test  \\\n",
       "0    5  100      2      0.1  0.662553  0.403488   \n",
       "1   10    1      2      0.1  0.546827  0.296477   \n",
       "2   15    1      2      0.1  0.581517  0.355818   \n",
       "3   20  0.1      2      0.1  0.564712  0.398302   \n",
       "4   25  0.1      2      0.1  0.541260  0.298261   \n",
       "\n",
       "                                          train_pred  \\\n",
       "0  [7.791715328034031, 8.480917167548483, 6.98620...   \n",
       "1  [7.852278381838472, 8.290472980154275, 7.18800...   \n",
       "2  [8.020866315588194, 8.170196664569211, 7.11001...   \n",
       "3  [8.064477450629223, 8.067373178786093, 7.11850...   \n",
       "4  [8.206990355653865, 7.837670570978041, 7.14086...   \n",
       "\n",
       "                                           test_pred  \n",
       "0  [6.300511647845242, 7.0813303656193805, 7.7611...  \n",
       "1  [6.4868060903759375, 7.007517340219664, 7.3974...  \n",
       "2  [6.55416270721048, 7.246342003757149, 7.618573...  \n",
       "3  [6.364690461529787, 6.999196075457645, 7.69662...  \n",
       "4  [6.545586325164164, 7.05165896583687, 7.461812...  "
      ]
     },
     "execution_count": 11,
     "metadata": {},
     "output_type": "execute_result"
    }
   ],
   "source": [
    "joblib.dump(r2_poly, './p/r2_poly_0003.pkl')\n",
    "r2_poly"
   ]
  },
  {
   "cell_type": "markdown",
   "metadata": {},
   "source": [
    "## R2 Plots for Model Development"
   ]
  },
  {
   "cell_type": "code",
   "execution_count": 12,
   "metadata": {},
   "outputs": [
    {
     "data": {
      "image/png": "[encoded data removed]",
      "text/plain": [
       "<Figure size 640x480 with 1 Axes>"
      ]
     },
     "metadata": {
      "needs_background": "light"
     },
     "output_type": "display_data"
    }
   ],
   "source": [
    "### plot\n",
    "# x = np.arange(5,26,5)\n",
    "x = [5,10,15,20,25]\n",
    "\n",
    "# Note that even in the OO-style, we use `.pyplot.figure` to create the figure.\n",
    "fig, ax = plt.subplots(figsize=(8, 6), dpi=80)  # Create a figure and an axes.\n",
    "\n",
    "ax.plot(x, r2_rbf.loc[:,'r2_train'], label='RBF Train',marker='.',markersize=10, lw=2, color='b')\n",
    "ax.plot(x, r2_rbf.loc[:,'r2_test'], label='RBF Val', marker='.', markersize=10, lw=2, ls='dotted', color='b') \n",
    "ax.plot(x, r2_linear.loc[:,'r2_train'], label='Linear Train', marker='.',markersize=10, lw=2,color='r')\n",
    "ax.plot(x, r2_linear.loc[:,'r2_test'], label='Linear Val', marker='.', markersize=10, lw=2, ls='dotted',color='r')\n",
    "ax.plot(x, r2_poly.loc[:,'r2_train'], label='Poly Train', marker='.', markersize=10, lw=2, color='g')\n",
    "ax.plot(x, r2_poly.loc[:,'r2_test'], label='Poly Val', marker='.', markersize=10, lw=2, ls='dotted', color='g')\n",
    "\n",
    "ax.set_xlabel('Number of Descriptors')\n",
    "ax.set_ylabel('R2 Score')\n",
    "# ax.set_title(\"SVR r2 score\")  \n",
    "ax.set_xticks(x)\n",
    "plt.grid()\n",
    "plt.legend(bbox_to_anchor=(1.05, 1), loc='upper left', borderaxespad=0.)\n",
    "# plt.savefig('./r2_models_numdesc_neue.png', format='png', dpi=1000, bbox_inches=\"tight\")    \n",
    "plt.show()"
   ]
  },
  {
   "cell_type": "markdown",
   "metadata": {},
   "source": [
    "# Model Validation"
   ]
  },
  {
   "cell_type": "markdown",
   "metadata": {},
   "source": [
    "## Validation Functions"
   ]
  },
  {
   "cell_type": "code",
   "execution_count": 13,
   "metadata": {
    "code_folding": [
     0,
     12,
     65,
     78,
     91,
     97,
     105,
     129,
     135,
     181
    ]
   },
   "outputs": [],
   "source": [
    "def r2_score(y, y_pred, y_train=None):\n",
    "    sse = 0; sst = 0\n",
    "    if y_train is None:        \n",
    "        y_mean = np.mean(y)\n",
    "    else:\n",
    "        y_mean = np.mean(y_train)\n",
    "    for i in range(len(y)):\n",
    "        sse += (y[i] - y_pred[i]) ** 2\n",
    "        sst += (y[i] - y_mean) ** 2\n",
    "    r2_score = 1 - (sse / sst)\n",
    "    return r2_score\n",
    "\n",
    "def qsar_param(y, y_pred, d_r2m=True):\n",
    "    results = []\n",
    "    _, _, y = normalize(y)\n",
    "    _, _, y_pred = normalize(y_pred)\n",
    "    y_mean = np.mean(y); y_pred_mean = np.mean(y_pred)\n",
    "    # calculate r2\n",
    "    num = 0; den_1 = 0; den_2 = 0\n",
    "    for i in range(len(y)):\n",
    "        num += (y[i] - y_mean) * (y_pred[i] - y_pred_mean)\n",
    "        den_1 += (y_pred[i] - y_pred_mean) ** 2\n",
    "        den_2 += (y[i] - y_mean) ** 2\n",
    "    r2 = num ** 2 / (den_1 * den_2)\n",
    "    results = {\"r2\": r2}\n",
    "    # calculate k and k_dash\n",
    "    n_data = len(y)\n",
    "    dot_ = 0; y_pred2 = 0; y2 = 0\n",
    "    for i in range(n_data):\n",
    "        dot_ += (y[i] * y_pred[i])\n",
    "        y_pred2 += y_pred[i] ** 2\n",
    "        y2 += y[i] ** 2\n",
    "    k = np.sum(dot_) / np.sum(y_pred2)\n",
    "    k_dash = np.sum(dot_) / np.sum(y2)\n",
    "    results[\"k\"] = k\n",
    "    results[\"k_dash\"] = k_dash\n",
    "    # calculate r2_0 and r2_0_dash\n",
    "    num = 0; num_dash = 0; den = 0; den_dash = 0\n",
    "    for i in range(n_data):\n",
    "        num += (y[i] - (k * y_pred[i])) ** 2\n",
    "        num_dash += (y_pred[i] - (k_dash * y[i])) ** 2\n",
    "        den += (y[i] - y_mean) ** 2\n",
    "        den_dash += (y_pred[i] - y_pred_mean) ** 2\n",
    "    r2_0 = 1 - (num / den)\n",
    "    r2_0_dash = 1 - (num_dash / den_dash)\n",
    "    #results.append(r2_0)\n",
    "    #results.append(r2_0_dash)\n",
    "    r2r0 = (r2 - r2_0)/r2\n",
    "    r2r0_dash = (r2 - r2_0_dash)/r2\n",
    "    results[\"r2r0\"] = r2r0\n",
    "    results[\"r2r0_dash\"] = r2r0_dash\n",
    "    r0r0_dash = np.abs(r2_0 - r2_0_dash)\n",
    "    results[\"r0r0_dash\"] = r0r0_dash\n",
    "    # calculate rm2 and rm2_dash\n",
    "    rm2 = r2 * (1 - np.sqrt(r2 - r2_0))\n",
    "    rm2_dash = r2 * (1 - np.sqrt(r2 - r2_0_dash))\n",
    "    #results.append(rm2)\n",
    "    #results.append(rm2_dash)\n",
    "    # calculate rm2_bar and d_rm2\n",
    "    rm2_bar = (rm2 + rm2_dash) / 2\n",
    "    d_rm2 = np.abs(rm2 - rm2_dash)\n",
    "    results[\"rm2_bar\"] = rm2_bar\n",
    "    results[\"d_rm2\"] = d_rm2\n",
    "    return results\n",
    "\n",
    "def q2_loo(model, X, y):\n",
    "    loo = LeaveOneOut()\n",
    "    y_pred = []\n",
    "    for train_index, test_index in loo.split(X):\n",
    "        X_train, X_test = X[train_index], X[test_index]\n",
    "        y_train, y_test = y[train_index], y[test_index]\n",
    "        model.fit(X_train, y_train)\n",
    "        tmp = model.predict(X_test)\n",
    "        #tmp = scaler_y.inverse_transform(tmp)\n",
    "        y_pred.append(list(tmp)[0])\n",
    "    r2 = r2_score(y, y_pred)\n",
    "    return r2\n",
    "\n",
    "def q2_looV2(model, X, y):\n",
    "    loo = LeaveOneOut()\n",
    "    y_pred = []\n",
    "    for train_index, test_index in loo.split(X):\n",
    "        X_train, X_test = X[train_index], X[test_index]\n",
    "        y_train, y_test = y[train_index], y[test_index]\n",
    "        model.fit(X_train, y_train)\n",
    "        tmp = model.predict(X_test)\n",
    "        #tmp = scaler_y.inverse_transform(tmp)\n",
    "        y_pred.append(list(tmp)[0])\n",
    "    r2 = r2_score(y, y_pred)\n",
    "    return r2, y_pred\n",
    "\n",
    "def normalize(X):\n",
    "    max_ = np.max(X, axis=0)\n",
    "    min_ = np.min(X, axis=0)\n",
    "    X_norm = (X - min_) / (max_ - min_)\n",
    "    return max_, min_, X_norm\n",
    "\n",
    "def leverage(XtX, X):\n",
    "    levs = []\n",
    "    for i in range(X.shape[0]):\n",
    "        x = X[i,:]\n",
    "        lev = x.dot(XtX).dot(x.T)\n",
    "        levs.append(lev)\n",
    "    return levs\n",
    "\n",
    "def y_random(estimator, X, y, n=10):\n",
    "    # non-random\n",
    "    estimator.fit(X, y)\n",
    "    y_pred = estimator.predict(X)    \n",
    "    r2_nr = r2_score(y, y_pred)\n",
    "    r_nr = np.sqrt(r2_nr)\n",
    "    n_data = X.shape[0]\n",
    "    # random\n",
    "    r2_rand = []\n",
    "    range_ = list(range(n_data))\n",
    "    for i in range(n):\n",
    "        new_range_ = copy.deepcopy(range_)\n",
    "        np.random.shuffle(new_range_)\n",
    "        y_new = []\n",
    "        for i in new_range_:\n",
    "            y_new.append(y[i])\n",
    "        y_new = np.array(y_new)\n",
    "        estimator.fit(X, y_new)\n",
    "        y_pred = estimator.predict(X)\n",
    "        r2_rand.append(r2_score(y_new, y_pred))\n",
    "    r2_rand_avg = np.average(r2_rand)\n",
    "    rp = r_nr * np.sqrt(r2_nr - r2_rand_avg)\n",
    "    return rp\n",
    "\n",
    "def standardize(X):\n",
    "    mean_ = np.mean(X, axis=0)\n",
    "    std_ = np.std(X, axis=0)\n",
    "    X_norm = (X - mean_) / std_\n",
    "    return X_norm, mean_, std_\n",
    "\n",
    "def applicability_domain(X_train, X_test, y_train_act, \n",
    "                         y_train_pred, y_test_act, y_test_pred):\n",
    "    # using wilson map\n",
    "    X_train, _, _ = standardize(X_train)\n",
    "    X_test, _, _ = standardize(X_test)\n",
    "    n, p = X_train.shape\n",
    "    # calculate standardized residuals\n",
    "    err_train = []; res_train = []\n",
    "    for i in range(len(y_train_pred)):\n",
    "        err_train.append(y_train_act[i] - y_train_pred[i])\n",
    "    rmse_train = np.sqrt(mse_score(y_train_act, y_train_pred))\n",
    "    for i in range(len(y_train_pred)):\n",
    "        tmp = err_train[i]/rmse_train\n",
    "        res_train.append(tmp)\n",
    "    err_test = []; res_test = []\n",
    "    for i in range(len(y_test_pred)):\n",
    "        err_test.append(y_test_act[i] - y_test_pred[i])\n",
    "    rmse_test = np.sqrt(mse_score(y_test_act, y_test_pred))\n",
    "    for i in range(len(y_test_pred)):\n",
    "        tmp = err_test[i]/rmse_test\n",
    "        res_test.append(tmp)    \n",
    "    #res_test = [a/rmse_test for a in err_test]\n",
    "    # calculate leverage\n",
    "    XtX = X_train.T.dot(X_train)\n",
    "    XtX = np.linalg.pinv(XtX)\n",
    "    lev_train = leverage(XtX, X_train)\n",
    "    lev_test = leverage(XtX, X_test)\n",
    "    h_star = (3 * (p + 1)) / n\n",
    "    print(h_star)\n",
    "    #return (lev_train, res_train, lev_test, res_test, h_star)\n",
    "    #plotting\n",
    "    plt.scatter(lev_train, res_train, c='b',marker='o', label='training data')\n",
    "    plt.scatter(lev_test, res_test, c='r',marker='^', label='test data')\n",
    "    plt.axhline(y=3, c='k', linewidth=0.8)\n",
    "    plt.axhline(y=-3, c='k', linewidth=0.8)\n",
    "    plt.axvline(x=h_star, c='k', linewidth=0.8)\n",
    "    #plt.xticks([0,0.1,0.2,0.3,0.4,0.5,h_star,0.6],[0,0.1,0.2,0.3,0.4,0.5,\"h$^*$\",0.6])\n",
    "    plt.text(h_star+0.001, 0, \"h$^*$\")\n",
    "    plt.xlim(0, h_star + 0.1)\n",
    "    plt.ylim(-4, 4)\n",
    "    plt.xlabel('leverage')\n",
    "    plt.ylabel('standardized residual')\n",
    "    plt.legend(loc='upper right')\n",
    "    plt.savefig('./app_domain.png', format='png', dpi=1000, bbox_inches=\"tight\")    \n",
    "    plt.show()\n",
    "    \n",
    "def applicability_domainV2(X_train, X_test, y_train_act, \n",
    "                         y_train_pred, y_test_act, y_test_pred):\n",
    "    # using wilson map\n",
    "    X_train, _, _ = standardize(X_train)\n",
    "    X_test, _, _ = standardize(X_test)\n",
    "    n, p = X_train.shape\n",
    "    # calculate standardized residuals\n",
    "    err_train = []; res_train = []\n",
    "    for i in range(len(y_train_pred)):\n",
    "        err_train.append(y_train_act[i] - y_train_pred[i])\n",
    "    rmse_train = np.sqrt(mean_squared_error(y_train_act, y_train_pred))\n",
    "    for i in range(len(y_train_pred)):\n",
    "        tmp = err_train[i]/rmse_train\n",
    "        res_train.append(tmp)\n",
    "    err_test = []; res_test = []\n",
    "    for i in range(len(y_test_pred)):\n",
    "        err_test.append(y_test_act[i] - y_test_pred[i])\n",
    "    rmse_test = np.sqrt(mean_squared_error(y_test_act, y_test_pred))\n",
    "    for i in range(len(y_test_pred)):\n",
    "        tmp = err_test[i]/rmse_test\n",
    "        res_test.append(tmp)    \n",
    "    #res_test = [a/rmse_test for a in err_test]\n",
    "    # calculate leverage\n",
    "    XtX = X_train.T.dot(X_train)\n",
    "    XtX = np.linalg.pinv(XtX)\n",
    "    lev_train = leverage(XtX, X_train)\n",
    "    lev_test = leverage(XtX, X_test)\n",
    "    h_star = (3 * (p + 1)) / n\n",
    "    print(h_star)\n",
    "    #return (lev_train, res_train, lev_test, res_test, h_star)\n",
    "    #plotting\n",
    "    plt.scatter(lev_train, res_train, c='b',marker='o', label='training data')\n",
    "    plt.scatter(lev_test, res_test, c='r',marker='^', label='test data')\n",
    "    plt.axhline(y=3, c='k', linewidth=0.8)\n",
    "    plt.axhline(y=-3, c='k', linewidth=0.8)\n",
    "    plt.axvline(x=h_star, c='k', linewidth=0.8)\n",
    "    #plt.xticks([0,0.1,0.2,0.3,0.4,0.5,h_star,0.6],[0,0.1,0.2,0.3,0.4,0.5,\"h$^*$\",0.6])\n",
    "    plt.text(h_star+0.001, 0, \"h$^*$\")\n",
    "    plt.xlim(0, h_star + 0.1)\n",
    "    plt.ylim(-4, 4)\n",
    "    plt.xlabel('leverage')\n",
    "    plt.ylabel('standardized residual')\n",
    "    plt.legend(loc='upper right')\n",
    "#     plt.savefig('./app_domain.png', format='png', dpi=1000, bbox_inches=\"tight\")    \n",
    "    plt.show()"
   ]
  },
  {
   "cell_type": "markdown",
   "metadata": {},
   "source": [
    "## Validation : Preparing Data"
   ]
  },
  {
   "cell_type": "code",
   "execution_count": 31,
   "metadata": {},
   "outputs": [
    {
     "data": {
      "text/plain": [
       "((74, 1876), (19, 1876))"
      ]
     },
     "execution_count": 31,
     "metadata": {},
     "output_type": "execute_result"
    }
   ],
   "source": [
    "\n",
    "data = pd.read_csv(\"data/all_data.csv\")\n",
    "\n",
    "# Use best desc based on r2_score model development\n",
    "desc = joblib.load('./p/best_0003_0.pkl')\n",
    "\n",
    "# Important! Use same datasets\n",
    "df_train = joblib.load('./p/train_0003.pkl')\n",
    "df_test = joblib.load('./p/test_0003.pkl')\n",
    "\n",
    "df_train.shape, df_test.shape"
   ]
  },
  {
   "cell_type": "markdown",
   "metadata": {},
   "source": [
    "## Validation : RBF"
   ]
  },
  {
   "cell_type": "markdown",
   "metadata": {},
   "source": [
    "### QSAR Param RBF"
   ]
  },
  {
   "cell_type": "code",
   "execution_count": 34,
   "metadata": {},
   "outputs": [
    {
     "data": {
      "text/plain": [
       "(0.5309880710407124,\n",
       "          r2        k    k_dash      r2r0  r2r0_dash  r0r0_dash   rm2_bar  \\\n",
       " 0  0.568694  1.27484  0.710176  1.283076   0.046894   0.703009  0.279366   \n",
       " \n",
       "       d_rm2  \n",
       " 0  0.392915  ,\n",
       "          r2         k    k_dash      r2r0  r2r0_dash  r0r0_dash   rm2_bar  \\\n",
       " 0  0.388936  1.168169  0.683649  2.167482   0.005594   0.840836  0.201313   \n",
       " \n",
       "       d_rm2  \n",
       " 0  0.338962  )"
      ]
     },
     "execution_count": 34,
     "metadata": {},
     "output_type": "execute_result"
    }
   ],
   "source": [
    "X_train = df_train.loc[:,desc].to_numpy()\n",
    "X_test = df_test.loc[:,desc].to_numpy()\n",
    "y_train = df_train.iloc[:,[-1]].to_numpy()\n",
    "y_test = df_test.iloc[:,[-1]].to_numpy()\n",
    "\n",
    "scaler = MinMaxScaler()\n",
    "scaler.fit(X_train)\n",
    "scale_x_train = scaler.transform(X_train)\n",
    "scale_x_test = scaler.transform(X_test)\n",
    "\n",
    "param_grid={\n",
    "            'C': 10,\n",
    "            'gamma': 'auto',\n",
    "            'epsilon':0.1\n",
    "}\n",
    "\n",
    "c = param_grid['C']\n",
    "gam = param_grid['gamma']\n",
    "eps = param_grid['epsilon']\n",
    "\n",
    "model = SVR(kernel=\"rbf\", C=c, gamma=gam, epsilon=eps)\n",
    "\n",
    "model.fit(scale_x_train, y_train)\n",
    "y_train_pred = model.predict(scale_x_train)\n",
    "y_test_pred = model.predict(scale_x_test)\n",
    "\n",
    "q2_rbf = q2_loo(model, scale_x_train, y_train)\n",
    "\n",
    "# print RB Q2, Qsar_train, Qsar_test\n",
    "q2_rbf, pd.DataFrame(qsar_param(y_train, y_train_pred)), pd.DataFrame(qsar_param(y_test, y_test_pred))"
   ]
  },
  {
   "cell_type": "markdown",
   "metadata": {},
   "source": [
    "### CR2p (Y_random) RBF"
   ]
  },
  {
   "cell_type": "code",
   "execution_count": 24,
   "metadata": {},
   "outputs": [
    {
     "data": {
      "text/plain": [
       "0.6357906126594154"
      ]
     },
     "execution_count": 24,
     "metadata": {},
     "output_type": "execute_result"
    }
   ],
   "source": [
    "rp = y_random(model,scale_x_train,y_train)\n",
    "rp"
   ]
  },
  {
   "cell_type": "markdown",
   "metadata": {},
   "source": [
    "### Applicability Domain RBF"
   ]
  },
  {
   "cell_type": "code",
   "execution_count": 25,
   "metadata": {},
   "outputs": [
    {
     "name": "stdout",
     "output_type": "stream",
     "text": [
      "0.8513513513513513\n"
     ]
    },
    {
     "data": {
      "image/png": "[encoded data removed]",
      "text/plain": [
       "<Figure size 432x288 with 1 Axes>"
      ]
     },
     "metadata": {
      "needs_background": "light"
     },
     "output_type": "display_data"
    }
   ],
   "source": [
    "applicability_domainV2(scale_x_train, scale_x_test, y_train,\n",
    "                     y_train_pred, y_test, y_test_pred)"
   ]
  },
  {
   "cell_type": "markdown",
   "metadata": {},
   "source": [
    "## Validation : Linear"
   ]
  },
  {
   "cell_type": "markdown",
   "metadata": {},
   "source": [
    "### QSAR Param Linear"
   ]
  },
  {
   "cell_type": "code",
   "execution_count": 26,
   "metadata": {},
   "outputs": [
    {
     "data": {
      "text/plain": [
       "(0.5464429773083572,\n",
       "          r2        k    k_dash      r2r0  r2r0_dash  r0r0_dash   rm2_bar  \\\n",
       " 0  0.617319  1.16123  0.786861  1.094524   0.059639   0.638855  0.304379   \n",
       " \n",
       "       d_rm2  \n",
       " 0  0.388983  ,\n",
       "         r2         k    k_dash      r2r0  r2r0_dash  r0r0_dash   rm2_bar  \\\n",
       " 0  0.43468  1.069863  0.763197  1.747301   0.011764   0.754403  0.229726   \n",
       " \n",
       "       d_rm2  \n",
       " 0  0.347742  )"
      ]
     },
     "execution_count": 26,
     "metadata": {},
     "output_type": "execute_result"
    }
   ],
   "source": [
    "X_train = df_train.loc[:,desc].to_numpy()\n",
    "X_test = df_test.loc[:,desc].to_numpy()\n",
    "y_train = df_train.iloc[:,[-1]].to_numpy()\n",
    "y_test = df_test.iloc[:,[-1]].to_numpy()\n",
    "\n",
    "scaler = MinMaxScaler()\n",
    "scaler.fit(X_train)\n",
    "scale_x_train = scaler.transform(X_train)\n",
    "scale_x_test = scaler.transform(X_test)\n",
    "\n",
    "param_grid={\n",
    "            'C': 1,\n",
    "            'degree': 1,\n",
    "            'epsilon': 0.1\n",
    "}\n",
    "\n",
    "c = param_grid['C']\n",
    "deg = param_grid['degree']\n",
    "eps = param_grid['epsilon']\n",
    "\n",
    "model_lin = SVR(kernel=\"linear\", C= c, degree= deg, epsilon=eps)\n",
    "\n",
    "model_lin.fit(scale_x_train, y_train)\n",
    "y_train_pred = model_lin.predict(scale_x_train)\n",
    "y_test_pred = model_lin.predict(scale_x_test)\n",
    "\n",
    "q2_lin = q2_loo(model_lin, scale_x_train, y_train)\n",
    "\n",
    "# print RB Q2, Qsar_train, Qsar_test\n",
    "q2_lin, pd.DataFrame(qsar_param(y_train, y_train_pred)), pd.DataFrame(qsar_param(y_test, y_test_pred))"
   ]
  },
  {
   "cell_type": "markdown",
   "metadata": {},
   "source": [
    "### CR2p (Y_random) Linear"
   ]
  },
  {
   "cell_type": "code",
   "execution_count": 27,
   "metadata": {},
   "outputs": [
    {
     "data": {
      "text/plain": [
       "0.595264935042166"
      ]
     },
     "execution_count": 27,
     "metadata": {},
     "output_type": "execute_result"
    }
   ],
   "source": [
    "rp_lin = y_random(model_lin,scale_x_train,y_train)\n",
    "rp_lin"
   ]
  },
  {
   "cell_type": "markdown",
   "metadata": {},
   "source": [
    "### Applicability Domain Linear"
   ]
  },
  {
   "cell_type": "code",
   "execution_count": 28,
   "metadata": {},
   "outputs": [
    {
     "name": "stdout",
     "output_type": "stream",
     "text": [
      "0.8513513513513513\n"
     ]
    },
    {
     "data": {
      "image/png": "[encoded data removed]",
      "text/plain": [
       "<Figure size 432x288 with 1 Axes>"
      ]
     },
     "metadata": {
      "needs_background": "light"
     },
     "output_type": "display_data"
    }
   ],
   "source": [
    "applicability_domainV2(scale_x_train, scale_x_test, y_train,\n",
    "                     y_train_pred, y_test, y_test_pred)"
   ]
  },
  {
   "cell_type": "markdown",
   "metadata": {},
   "source": [
    "## Validation : Polynomial"
   ]
  },
  {
   "cell_type": "markdown",
   "metadata": {},
   "source": [
    "### QSAR Param Poly"
   ]
  },
  {
   "cell_type": "code",
   "execution_count": 35,
   "metadata": {},
   "outputs": [
    {
     "data": {
      "text/plain": [
       "(0.46753431591336203,\n",
       "          r2         k    k_dash      r2r0  r2r0_dash  r0r0_dash   rm2_bar  \\\n",
       " 0  0.507876  1.577996  0.508727  3.795005   0.163155   1.844528  0.082234   \n",
       " \n",
       "      d_rm2  \n",
       " 0  0.55889  ,\n",
       "         r2         k    k_dash     r2r0  r2r0_dash  r0r0_dash   rm2_bar  \\\n",
       " 0  0.36696  1.295439  0.561524  3.63832   0.042657   1.319466  0.131998   \n",
       " \n",
       "       d_rm2  \n",
       " 0  0.378101  )"
      ]
     },
     "execution_count": 35,
     "metadata": {},
     "output_type": "execute_result"
    }
   ],
   "source": [
    "X_train = df_train.loc[:,desc].to_numpy()\n",
    "X_test = df_test.loc[:,desc].to_numpy()\n",
    "y_train = df_train.iloc[:,[-1]].to_numpy()\n",
    "y_test = df_test.iloc[:,[-1]].to_numpy()\n",
    "\n",
    "scaler = MinMaxScaler()\n",
    "scaler.fit(X_train)\n",
    "scale_x_train = scaler.transform(X_train)\n",
    "scale_x_test = scaler.transform(X_test)\n",
    "\n",
    "param_grid={\n",
    "            'C': 0.1,\n",
    "            'degree': 2,\n",
    "            'epsilon': 0.1\n",
    "}\n",
    "\n",
    "c = param_grid['C']\n",
    "deg = param_grid['degree']\n",
    "eps = param_grid['epsilon']\n",
    "\n",
    "model_pol = SVR(kernel=\"poly\", C= c, degree= deg, epsilon=eps)\n",
    "model_pol.fit(scale_x_train,y_train)\n",
    "y_train_pred = model_pol.predict(scale_x_train)\n",
    "y_test_pred = model_pol.predict(scale_x_test)\n",
    "\n",
    "q2_poly = q2_loo(model_pol, scale_x_train, y_train)\n",
    "\n",
    "# print RB Q2, Qsar_train, Qsar_test\n",
    "q2_poly, pd.DataFrame(qsar_param(y_train, y_train_pred)), pd.DataFrame(qsar_param(y_test, y_test_pred))"
   ]
  },
  {
   "cell_type": "markdown",
   "metadata": {},
   "source": [
    "### CR2p (Y_random) Poly"
   ]
  },
  {
   "cell_type": "code",
   "execution_count": 36,
   "metadata": {},
   "outputs": [
    {
     "data": {
      "text/plain": [
       "0.4901372979215187"
      ]
     },
     "execution_count": 36,
     "metadata": {},
     "output_type": "execute_result"
    }
   ],
   "source": [
    "rp_poly = y_random(model_pol,scale_x_train,y_train)\n",
    "rp_poly"
   ]
  },
  {
   "cell_type": "markdown",
   "metadata": {},
   "source": [
    "### Applicability Domain Poly"
   ]
  },
  {
   "cell_type": "code",
   "execution_count": 37,
   "metadata": {},
   "outputs": [
    {
     "name": "stdout",
     "output_type": "stream",
     "text": [
      "0.24324324324324326\n"
     ]
    },
    {
     "data": {
      "image/png": "[encoded data removed]",
      "text/plain": [
       "<Figure size 432x288 with 1 Axes>"
      ]
     },
     "metadata": {
      "needs_background": "light"
     },
     "output_type": "display_data"
    }
   ],
   "source": [
    "applicability_domainV2(X_train, X_test, y_train,\n",
    "                     y_train_pred, y_test, y_test_pred)"
   ]
  }
 ],
 "metadata": {
  "kernelspec": {
   "display_name": "Python 3",
   "language": "python",
   "name": "python3"
  },
  "language_info": {
   "codemirror_mode": {
    "name": "ipython",
    "version": 3
   },
   "file_extension": ".py",
   "mimetype": "text/x-python",
   "name": "python",
   "nbconvert_exporter": "python",
   "pygments_lexer": "ipython3",
   "version": "3.8.2"
  },
  "toc": {
   "base_numbering": 1,
   "nav_menu": {},
   "number_sections": true,
   "sideBar": true,
   "skip_h1_title": false,
   "title_cell": "Table of Contents",
   "title_sidebar": "Contents",
   "toc_cell": false,
   "toc_position": {
    "height": "calc(100% - 180px)",
    "left": "10px",
    "top": "150px",
    "width": "307.2px"
   },
   "toc_section_display": true,
   "toc_window_display": true
  },
  "varInspector": {
   "cols": {
    "lenName": 16,
    "lenType": 16,
    "lenVar": 40
   },
   "kernels_config": {
    "python": {
     "delete_cmd_postfix": "",
     "delete_cmd_prefix": "del ",
     "library": "var_list.py",
     "varRefreshCmd": "print(var_dic_list())"
    },
    "r": {
     "delete_cmd_postfix": ") ",
     "delete_cmd_prefix": "rm(",
     "library": "var_list.r",
     "varRefreshCmd": "cat(var_dic_list()) "
    }
   },
   "oldHeight": 593,
   "position": {
    "height": "40px",
    "left": "830.6px",
    "right": "20px",
    "top": "157px",
    "width": "695.6px"
   },
   "types_to_exclude": [
    "module",
    "function",
    "builtin_function_or_method",
    "instance",
    "_Feature"
   ],
   "varInspector_section_display": "none",
   "window_display": false
  }
 },
 "nbformat": 4,
 "nbformat_minor": 4
}
