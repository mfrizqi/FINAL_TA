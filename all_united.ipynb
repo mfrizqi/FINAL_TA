{
 "cells": [
  {
   "cell_type": "markdown",
   "metadata": {},
   "source": [
    "# Import Libraries"
   ]
  },
  {
   "cell_type": "code",
   "execution_count": 4,
   "metadata": {},
   "outputs": [],
   "source": [
    "import os\n",
    "import csv \n",
    "import math\n",
    "import joblib\n",
    "import pickle\n",
    "import warnings\n",
    "import copy\n",
    "from tqdm import tqdm\n",
    "\n",
    "import pandas as pd\n",
    "import numpy as np\n",
    "import statistics as stat\n",
    "import matplotlib.pyplot as plt \n",
    "\n",
    "from sklearn.model_selection import train_test_split\n",
    "from sklearn.model_selection import GridSearchCV\n",
    "from sklearn.model_selection import LeaveOneOut\n",
    "\n",
    "from sklearn.preprocessing import MinMaxScaler\n",
    "from sklearn.metrics import r2_score\n",
    "from sklearn.metrics import mean_squared_error\n",
    "\n",
    "from sklearn.linear_model import LinearRegression\n",
    "\n",
    "from sklearn.svm import SVR\n",
    "\n",
    "warnings.filterwarnings('ignore')"
   ]
  },
  {
   "cell_type": "markdown",
   "metadata": {},
   "source": [
    "# Splitting Data"
   ]
  },
  {
   "cell_type": "markdown",
   "metadata": {},
   "source": [
    "## Concate data padel with target"
   ]
  },
  {
   "cell_type": "code",
   "execution_count": null,
   "metadata": {},
   "outputs": [],
   "source": [
    "# Import data from csv into pandas DataFrame\n",
    "dfPadel = pd.read_csv(\"data/padel_desc.csv\")\n",
    "dtRawIC50 = pd.read_csv(\"data/pIC50_target.csv\")\n",
    "dtIC50 = dtRawIC50['pIC50']\n",
    "\n",
    "# Concatenate data dataframe (Padel,Cdk,Target)\n",
    "df = pd.concat([dfPadel,dtIC50], axis=1)\n",
    "df = df.drop(columns = ['Name'])\n",
    "\n",
    "# Export concatenated data\n",
    "# df.to_csv (r'data\\all_data.csv',index=False, header=True,sep=',')"
   ]
  },
  {
   "cell_type": "markdown",
   "metadata": {},
   "source": [
    "## Split Train & Test + PCC Correlation"
   ]
  },
  {
   "cell_type": "code",
   "execution_count": null,
   "metadata": {
    "code_folding": [],
    "scrolled": true
   },
   "outputs": [],
   "source": [
    "# Loop for finding correlation combination\n",
    "for i in range(10):\n",
    "    # Divide into training data and test data\n",
    "    dfTrain = df.sample(frac=0.8,random_state=i)\n",
    "    dfTest = df.drop(dfTrain.index)\n",
    "\n",
    "    # Find 100 descriptors with strongest correlation with pIC50\n",
    "    train_corr = dfTrain.corr()\n",
    "    train_corr = train_corr.iloc[:-1,[-1]]\n",
    "    train_corr.sort_values(\"pIC50\", ascending = False, inplace = True)\n",
    "    train_corr = train_corr.iloc[:100,:]\n",
    "\n",
    "    # Check for WTPT-3 only\n",
    "    if train_corr.index[0] == \"WTPT-3\":\n",
    "        print(\"i: %04d\"%i)\n",
    "        # Dump training and test data\n",
    "        dfTrain.to_pickle(\"./pickle/train_%04d.pkl\"%i)\n",
    "        dfTest.to_pickle(\"./pickle/test_%04d.pkl\"%i)\n",
    "        # Dump correlation data\n",
    "        train_corr.to_csv(r'data/dataCorr_%04d.pkl.csv'%i, index= None, header = True)\n",
    "        # Dump list of 100 strongest des\n",
    "        corr_100 = train_corr.index.values.tolist()[:100]\n",
    "        with open('./pickle/corr100_%04d.pkl'%i, 'wb') as f:\n",
    "            pickle.dump(corr_100, f)"
   ]
  },
  {
   "cell_type": "markdown",
   "metadata": {},
   "source": [
    "# Feature Selection : SA"
   ]
  },
  {
   "cell_type": "markdown",
   "metadata": {},
   "source": [
    "## SA Functions"
   ]
  },
  {
   "cell_type": "code",
   "execution_count": 2,
   "metadata": {},
   "outputs": [],
   "source": [
    "def acceptanceProbability (bestMSE, newMSE, temp , K):\n",
    "        # If the new solution is worse, calculate an acceptance probability\n",
    "        return np.exp( K * (newMSE - bestMSE) / temp)\n",
    "    \n",
    "def calcMSE(combDesc, x_train, x_val, y_train, y_val, model):\n",
    "    x_train_slice = x_train.iloc[:,combDesc]\n",
    "    x_val_slice = x_val.iloc[:,combDesc]\n",
    "    \n",
    "    scaler = MinMaxScaler()\n",
    "    scaler.fit(x_train_slice)\n",
    "    scale_x_train = scaler.transform(x_train_slice)\n",
    "    scale_x_val = scaler.transform(x_val_slice)\n",
    "    \n",
    "    model.fit(scale_x_train, y_train)\n",
    "    y_pred = model.predict(scale_x_val)\n",
    "    return mean_squared_error(y_val, y_pred)"
   ]
  },
  {
   "cell_type": "markdown",
   "metadata": {},
   "source": [
    "## SA Prepare Data"
   ]
  },
  {
   "cell_type": "code",
   "execution_count": 3,
   "metadata": {},
   "outputs": [
    {
     "data": {
      "text/plain": [
       "((59, 100), (15, 100), (59, 1), (15, 1))"
      ]
     },
     "execution_count": 3,
     "metadata": {},
     "output_type": "execute_result"
    }
   ],
   "source": [
    "corrs = []\n",
    "cor1 = joblib.load('./p/0003/corr100_0003.pkl')\n",
    "cor2 = joblib.load('./p/0005/corr100_0005.pkl')\n",
    "cor3 = joblib.load('./p/0006/corr100_0006.pkl')\n",
    "cor4 = joblib.load('./p/0007/corr100_0007.pkl')\n",
    "cor5 = joblib.load('./p/0008/corr100_0008.pkl')\n",
    "\n",
    "trains = []\n",
    "tr1 = joblib.load('./p/0003/train_0003.pkl')\n",
    "tr2 = joblib.load('./p/0005/train_0005.pkl')\n",
    "tr3 = joblib.load('./p/0006/train_0006.pkl')\n",
    "tr4 = joblib.load('./p/0007/train_0007.pkl')\n",
    "tr5 = joblib.load('./p/0008/train_0008.pkl')\n",
    "\n",
    "            #    0,    1,    2,   3,     4\n",
    "corrs.extend([cor1, cor2, cor3, cor4, cor5])\n",
    "            #    0,   1,   2,  3,    4\n",
    "trains.extend([tr1, tr2, tr3, tr4, tr5])\n",
    "\n",
    "#change index for data\n",
    "corr_100 = corrs[2]\n",
    "dft = trains[2]\n",
    "\n",
    "train = dft.loc[:,corr_100]\n",
    "train[\"pIC50\"] = dft.iloc[:, -1]\n",
    "descName = train.columns.values\n",
    "\n",
    "trained, val = train_test_split(train, test_size = 0.2, random_state = 45)\n",
    "\n",
    "x_train = trained.iloc[:,:-1]\n",
    "x_val = val.iloc[:,:-1]\n",
    "y_train = trained.iloc[:, [-1]]\n",
    "y_val = val.iloc[:,[-1]]\n",
    "\n",
    "model = LinearRegression()\n",
    "x_train.shape, x_val.shape, y_train.shape, y_val.shape"
   ]
  },
  {
   "cell_type": "markdown",
   "metadata": {},
   "source": [
    "## SA algorithm"
   ]
  },
  {
   "cell_type": "code",
   "execution_count": 4,
   "metadata": {
    "code_folding": [],
    "scrolled": true
   },
   "outputs": [
    {
     "name": "stderr",
     "output_type": "stream",
     "text": [
      "  0%|                                                                                            | 0/5 [00:00<?, ?it/s]\n",
      "  0%|                                                                                           | 0/20 [00:00<?, ?it/s]\u001b[A\n",
      "  5%|████▏                                                                              | 1/20 [01:21<25:50, 81.58s/it]\u001b[A\n",
      " 10%|████████▎                                                                          | 2/20 [02:41<24:18, 81.05s/it]\u001b[A\n",
      " 15%|████████████▍                                                                      | 3/20 [04:00<22:49, 80.53s/it]\u001b[A\n",
      " 20%|████████████████▌                                                                  | 4/20 [05:19<21:18, 79.88s/it]\u001b[A\n",
      " 25%|████████████████████▊                                                              | 5/20 [06:37<19:53, 79.56s/it]\u001b[A\n",
      " 30%|████████████████████████▉                                                          | 6/20 [07:56<18:31, 79.36s/it]\u001b[A\n",
      " 35%|█████████████████████████████                                                      | 7/20 [09:16<17:11, 79.36s/it]\u001b[A\n",
      " 40%|█████████████████████████████████▏                                                 | 8/20 [10:35<15:52, 79.36s/it]\u001b[A\n",
      " 45%|█████████████████████████████████████▎                                             | 9/20 [11:54<14:31, 79.21s/it]\u001b[A\n",
      " 50%|█████████████████████████████████████████                                         | 10/20 [13:16<13:20, 80.04s/it]\u001b[A\n",
      " 55%|█████████████████████████████████████████████                                     | 11/20 [14:34<11:55, 79.50s/it]\u001b[A\n",
      " 60%|█████████████████████████████████████████████████▏                                | 12/20 [15:53<10:34, 79.30s/it]\u001b[A\n",
      " 65%|█████████████████████████████████████████████████████▎                            | 13/20 [17:11<09:13, 79.08s/it]\u001b[A\n",
      " 70%|█████████████████████████████████████████████████████████▍                        | 14/20 [18:30<07:54, 79.00s/it]\u001b[A\n",
      " 75%|█████████████████████████████████████████████████████████████▌                    | 15/20 [19:49<06:34, 78.92s/it]\u001b[A\n",
      " 80%|█████████████████████████████████████████████████████████████████▌                | 16/20 [21:07<05:14, 78.73s/it]\u001b[A\n",
      " 85%|█████████████████████████████████████████████████████████████████████▋            | 17/20 [22:27<03:56, 78.93s/it]\u001b[A\n",
      " 90%|█████████████████████████████████████████████████████████████████████████▊        | 18/20 [23:47<02:38, 79.20s/it]\u001b[A\n",
      " 95%|█████████████████████████████████████████████████████████████████████████████▉    | 19/20 [25:05<01:18, 78.96s/it]\u001b[A\n",
      "100%|██████████████████████████████████████████████████████████████████████████████████| 20/20 [26:25<00:00, 79.28s/it]\u001b[A\n",
      " 20%|████████████████                                                                | 1/5 [26:25<1:45:43, 1585.76s/it]\n",
      "  0%|                                                                                           | 0/20 [00:00<?, ?it/s]\u001b[A\n",
      "  5%|████▏                                                                              | 1/20 [01:23<26:19, 83.15s/it]\u001b[A\n",
      " 10%|████████▎                                                                          | 2/20 [02:44<24:48, 82.72s/it]\u001b[A\n",
      " 15%|████████████▍                                                                      | 3/20 [04:06<23:22, 82.49s/it]\u001b[A\n",
      " 20%|████████████████▌                                                                  | 4/20 [05:29<22:02, 82.65s/it]\u001b[A\n",
      " 25%|████████████████████▊                                                              | 5/20 [06:52<20:40, 82.70s/it]\u001b[A\n",
      " 30%|████████████████████████▉                                                          | 6/20 [08:14<19:15, 82.55s/it]\u001b[A\n",
      " 35%|█████████████████████████████                                                      | 7/20 [09:38<17:56, 82.77s/it]\u001b[A\n",
      " 40%|█████████████████████████████████▏                                                 | 8/20 [11:00<16:31, 82.65s/it]\u001b[A\n",
      " 45%|█████████████████████████████████████▎                                             | 9/20 [12:23<15:09, 82.67s/it]\u001b[A\n",
      " 50%|█████████████████████████████████████████                                         | 10/20 [13:46<13:47, 82.70s/it]\u001b[A\n",
      " 55%|█████████████████████████████████████████████                                     | 11/20 [15:07<12:20, 82.33s/it]\u001b[A\n",
      " 60%|█████████████████████████████████████████████████▏                                | 12/20 [16:29<10:58, 82.35s/it]\u001b[A\n",
      " 65%|█████████████████████████████████████████████████████▎                            | 13/20 [17:51<09:35, 82.24s/it]\u001b[A\n",
      " 70%|█████████████████████████████████████████████████████████▍                        | 14/20 [19:13<08:13, 82.21s/it]\u001b[A\n",
      " 75%|█████████████████████████████████████████████████████████████▌                    | 15/20 [20:36<06:51, 82.25s/it]\u001b[A\n",
      " 80%|█████████████████████████████████████████████████████████████████▌                | 16/20 [22:01<05:32, 83.20s/it]\u001b[A\n",
      " 85%|█████████████████████████████████████████████████████████████████████▋            | 17/20 [23:24<04:08, 82.96s/it]\u001b[A\n",
      " 90%|█████████████████████████████████████████████████████████████████████████▊        | 18/20 [24:45<02:45, 82.55s/it]\u001b[A\n",
      " 95%|█████████████████████████████████████████████████████████████████████████████▉    | 19/20 [26:09<01:23, 83.05s/it]\u001b[A\n",
      "100%|██████████████████████████████████████████████████████████████████████████████████| 20/20 [27:32<00:00, 82.64s/it]\u001b[A\n",
      " 40%|████████████████████████████████                                                | 2/5 [53:58<1:20:17, 1605.90s/it]\n",
      "  0%|                                                                                           | 0/20 [00:00<?, ?it/s]\u001b[A\n",
      "  5%|████▏                                                                              | 1/20 [01:25<26:58, 85.20s/it]\u001b[A\n",
      " 10%|████████▎                                                                          | 2/20 [02:50<25:33, 85.18s/it]\u001b[A\n",
      " 15%|████████████▍                                                                      | 3/20 [04:16<24:10, 85.35s/it]\u001b[A\n",
      " 20%|████████████████▌                                                                  | 4/20 [05:41<22:44, 85.25s/it]\u001b[A\n",
      " 25%|████████████████████▊                                                              | 5/20 [07:06<21:18, 85.23s/it]\u001b[A\n",
      " 30%|████████████████████████▉                                                          | 6/20 [08:31<19:54, 85.29s/it]\u001b[A\n",
      " 35%|█████████████████████████████                                                      | 7/20 [09:57<18:29, 85.38s/it]\u001b[A\n",
      " 40%|█████████████████████████████████▏                                                 | 8/20 [11:31<17:37, 88.12s/it]\u001b[A\n",
      " 45%|█████████████████████████████████████▎                                             | 9/20 [13:10<16:42, 91.15s/it]\u001b[A\n",
      " 50%|█████████████████████████████████████████                                         | 10/20 [14:50<15:38, 93.80s/it]\u001b[A\n",
      " 55%|█████████████████████████████████████████████                                     | 11/20 [16:18<13:49, 92.13s/it]\u001b[A\n",
      " 60%|█████████████████████████████████████████████████▏                                | 12/20 [17:48<12:12, 91.51s/it]\u001b[A\n",
      " 65%|█████████████████████████████████████████████████████▎                            | 13/20 [19:19<10:39, 91.34s/it]\u001b[A\n",
      " 70%|█████████████████████████████████████████████████████████▍                        | 14/20 [20:47<09:03, 90.52s/it]\u001b[A\n",
      " 75%|█████████████████████████████████████████████████████████████▌                    | 15/20 [22:17<07:31, 90.21s/it]\u001b[A\n",
      " 80%|█████████████████████████████████████████████████████████████████▌                | 16/20 [23:43<05:55, 88.90s/it]\u001b[A\n",
      " 85%|█████████████████████████████████████████████████████████████████████▋            | 17/20 [25:08<04:23, 87.96s/it]\u001b[A\n",
      " 90%|█████████████████████████████████████████████████████████████████████████▊        | 18/20 [26:36<02:55, 87.79s/it]\u001b[A\n",
      " 95%|█████████████████████████████████████████████████████████████████████████████▉    | 19/20 [28:08<01:29, 89.01s/it]\u001b[A\n",
      "100%|██████████████████████████████████████████████████████████████████████████████████| 20/20 [29:35<00:00, 88.79s/it]\u001b[A\n",
      " 60%|████████████████████████████████████████████████                                | 3/5 [1:23:34<55:13, 1656.91s/it]\n",
      "  0%|                                                                                           | 0/20 [00:00<?, ?it/s]\u001b[A\n",
      "  5%|████▏                                                                              | 1/20 [01:30<28:36, 90.35s/it]\u001b[A\n",
      " 10%|████████▎                                                                          | 2/20 [03:03<27:19, 91.06s/it]\u001b[A\n",
      " 15%|████████████▍                                                                      | 3/20 [04:32<25:38, 90.49s/it]\u001b[A\n",
      " 20%|████████████████▌                                                                  | 4/20 [06:00<23:55, 89.70s/it]\u001b[A\n",
      " 25%|████████████████████▊                                                              | 5/20 [07:28<22:17, 89.19s/it]\u001b[A\n",
      " 30%|████████████████████████▉                                                          | 6/20 [08:56<20:45, 88.97s/it]\u001b[A\n",
      " 35%|█████████████████████████████                                                      | 7/20 [10:24<19:13, 88.71s/it]\u001b[A\n",
      " 40%|█████████████████████████████████▏                                                 | 8/20 [11:52<17:42, 88.52s/it]\u001b[A\n",
      " 45%|█████████████████████████████████████▎                                             | 9/20 [13:21<16:13, 88.47s/it]\u001b[A\n",
      " 50%|█████████████████████████████████████████                                         | 10/20 [14:49<14:44, 88.47s/it]\u001b[A\n",
      " 55%|█████████████████████████████████████████████                                     | 11/20 [16:17<13:15, 88.38s/it]\u001b[A\n",
      " 60%|█████████████████████████████████████████████████▏                                | 12/20 [17:46<11:48, 88.52s/it]\u001b[A\n",
      " 65%|█████████████████████████████████████████████████████▎                            | 13/20 [19:15<10:19, 88.54s/it]\u001b[A\n",
      " 70%|█████████████████████████████████████████████████████████▍                        | 14/20 [20:43<08:51, 88.62s/it]\u001b[A\n",
      " 75%|█████████████████████████████████████████████████████████████▌                    | 15/20 [22:12<07:22, 88.53s/it]\u001b[A\n",
      " 80%|█████████████████████████████████████████████████████████████████▌                | 16/20 [23:40<05:53, 88.47s/it]\u001b[A\n",
      " 85%|█████████████████████████████████████████████████████████████████████▋            | 17/20 [25:16<04:32, 90.73s/it]\u001b[A\n",
      " 90%|█████████████████████████████████████████████████████████████████████████▊        | 18/20 [26:49<03:02, 91.32s/it]\u001b[A\n",
      " 95%|█████████████████████████████████████████████████████████████████████████████▉    | 19/20 [28:23<01:32, 92.17s/it]\u001b[A\n",
      "100%|██████████████████████████████████████████████████████████████████████████████████| 20/20 [29:52<00:00, 89.65s/it]\u001b[A\n",
      " 80%|████████████████████████████████████████████████████████████████                | 4/5 [1:53:27<28:17, 1697.72s/it]\n",
      "  0%|                                                                                           | 0/20 [00:00<?, ?it/s]\u001b[A\n",
      "  5%|████▏                                                                              | 1/20 [01:31<29:05, 91.87s/it]\u001b[A\n",
      " 10%|████████▎                                                                          | 2/20 [03:03<27:32, 91.79s/it]\u001b[A\n",
      " 15%|████████████▍                                                                      | 3/20 [04:35<25:59, 91.76s/it]\u001b[A\n",
      " 20%|████████████████▌                                                                  | 4/20 [06:06<24:26, 91.66s/it]\u001b[A\n",
      " 25%|████████████████████▊                                                              | 5/20 [07:38<22:54, 91.61s/it]\u001b[A\n",
      " 30%|████████████████████████▉                                                          | 6/20 [09:11<21:31, 92.28s/it]\u001b[A\n",
      " 35%|█████████████████████████████                                                      | 7/20 [10:43<19:56, 92.06s/it]\u001b[A\n",
      " 40%|█████████████████████████████████▏                                                 | 8/20 [12:14<18:21, 91.76s/it]\u001b[A\n",
      " 45%|█████████████████████████████████████▎                                             | 9/20 [13:45<16:46, 91.50s/it]\u001b[A\n",
      " 50%|█████████████████████████████████████████                                         | 10/20 [15:18<15:18, 91.83s/it]\u001b[A\n",
      " 55%|█████████████████████████████████████████████                                     | 11/20 [16:49<13:46, 91.85s/it]\u001b[A\n",
      " 60%|█████████████████████████████████████████████████▏                                | 12/20 [18:21<12:13, 91.67s/it]\u001b[A\n",
      " 65%|█████████████████████████████████████████████████████▎                            | 13/20 [19:52<10:41, 91.71s/it]\u001b[A\n",
      " 70%|█████████████████████████████████████████████████████████▍                        | 14/20 [21:23<09:08, 91.47s/it]\u001b[A\n",
      " 75%|█████████████████████████████████████████████████████████████▌                    | 15/20 [22:54<07:36, 91.35s/it]\u001b[A\n",
      " 80%|█████████████████████████████████████████████████████████████████▌                | 16/20 [24:26<06:05, 91.32s/it]\u001b[A\n",
      " 85%|█████████████████████████████████████████████████████████████████████▋            | 17/20 [25:57<04:33, 91.32s/it]\u001b[A\n",
      " 90%|█████████████████████████████████████████████████████████████████████████▊        | 18/20 [27:28<03:02, 91.13s/it]\u001b[A\n",
      " 95%|█████████████████████████████████████████████████████████████████████████████▉    | 19/20 [28:59<01:31, 91.22s/it]\u001b[A\n",
      "100%|██████████████████████████████████████████████████████████████████████████████████| 20/20 [30:31<00:00, 91.56s/it]\u001b[A\n",
      "100%|████████████████████████████████████████████████████████████████████████████████| 5/5 [2:23:58<00:00, 1727.77s/it]\n"
     ]
    }
   ],
   "source": [
    "### 50 ITERATION\n",
    "combos = [5,10,15,20,25]\n",
    "\n",
    "for k in tqdm(range(5)):\n",
    "\n",
    "    ## INTO DE SA DE LA'SOIN MODDED ##\n",
    "    descNum = combos[k]\n",
    "    descMSE_descNum = []\n",
    "\n",
    "    for j in tqdm(range(20)):\n",
    "        # Initialize Values\n",
    "        initTemp, temp = 100, 100\n",
    "        tempEnd = 0.1\n",
    "        cooling_rate = 0.98\n",
    "        iteration = 50\n",
    "\n",
    "        # Simulated Annealing\n",
    "        bestList = []\n",
    "        bestMSEList = []\n",
    "        tempChange = []\n",
    "\n",
    "        # Initialize solution & Best MSE (Random descNum descriptor)\n",
    "        bestSol = np.random.choice(x_train.shape[1],descNum, replace=False)\n",
    "        bestSol = list(bestSol)\n",
    "        bestSol.sort()\n",
    "\n",
    "        # First MSE\n",
    "        bestMSE = calcMSE(bestSol, x_train, x_val, y_train, y_val, model)\n",
    "        while temp > tempEnd:\n",
    "            for i in range(iteration):\n",
    "\n",
    "                # Create new solution & new MSE\n",
    "                newSol = np.random.choice(x_train.shape[1], descNum, replace=False)\n",
    "                newMSE = calcMSE(newSol, x_train, x_val, y_train, y_val, model)\n",
    "                \n",
    "                # New solution is better based on MSE value\n",
    "                if newMSE < bestMSE :\n",
    "                    bestMSE = newMSE\n",
    "                    bestSol = newSol\n",
    "                    #bestList.append([bestMSE,bestSol])\n",
    "                    #tempChange.append(temp)\n",
    "                    #bestMSEList.append(bestMSE)\n",
    "                    \n",
    "                #Probability to accept bad solution\n",
    "                else :\n",
    "                    deltaMSE = newMSE - bestMSE\n",
    "                    K = (initTemp * np.log(0.8)) / deltaMSE\n",
    "                    \n",
    "                    if acceptanceProbability (bestMSE, newMSE, temp , K) > np.random.rand(1,1):\n",
    "                        bestMSE = newMSE\n",
    "                        bestSol = newSol\n",
    "                        #bestList.append([bestMSE,bestSol])\n",
    "                        #tempChange.append(temp)\n",
    "                        #bestMSEList.append(bestMSE)\n",
    "            \n",
    "            bestList.append([bestMSE,bestSol])\n",
    "            tempChange.append(temp)\n",
    "            bestMSEList.append(bestMSE)\n",
    "            temp *= cooling_rate\n",
    "\n",
    "        descMSE_descNum.append([bestList[-1][0],bestList[-1][1],bestMSEList,tempChange])\n",
    "       \n",
    "    # Extracting results\n",
    "    df_SA = pd.DataFrame(descMSE_descNum)\n",
    "    df_SA.columns=[\"MSE\",\"solution\",\"growth\", \"temp\"]\n",
    "    df_SA.reset_index(drop=True, inplace= True)\n",
    "\n",
    "    # Sort values\n",
    "    df_SA_sort = df_SA.copy()\n",
    "    df_SA_sort.sort_values('MSE', inplace=True)\n",
    "\n",
    "    # Get Descriptors name    \n",
    "    bestDescriptor = []\n",
    "    for i in df_SA_sort.iloc[0,1]:\n",
    "        bestDescriptor.append(descName[i])\n",
    "\n",
    "    df_SA.to_pickle(f\"./p/0006_n1/raw_0006_{combos[k]}.pkl\")\n",
    "    joblib.dump(bestDescriptor, f\"./p/0006_n1/best_0006_{combos[k]}.pkl\")"
   ]
  },
  {
   "cell_type": "markdown",
   "metadata": {},
   "source": [
    "## Plot MSE"
   ]
  },
  {
   "cell_type": "code",
   "execution_count": 39,
   "metadata": {},
   "outputs": [
    {
     "name": "stderr",
     "output_type": "stream",
     "text": [
      "100%|███████████████████████████████████████████████████████████████████████████████████| 5/5 [00:00<00:00, 626.76it/s]\n"
     ]
    },
    {
     "data": {
      "image/png": "[encoded data removed]",
      "text/plain": [
       "<Figure size 432x288 with 1 Axes>"
      ]
     },
     "metadata": {
      "needs_background": "light"
     },
     "output_type": "display_data"
    }
   ],
   "source": [
    "# MSE Plot\n",
    "bd_list = []\n",
    "bd_5 = joblib.load('./p/0005_n1/raw_0005_5.pkl')\n",
    "bd_10 = joblib.load('./p/0005_n1/raw_0005_10.pkl')\n",
    "bd_15 = joblib.load('./p/0005_n1/raw_0005_15.pkl')\n",
    "bd_20 = joblib.load('./p/0005_n1/raw_0005_20.pkl')\n",
    "bd_25 = joblib.load('./p/0005_n1/raw_0005_25.pkl')\n",
    "bd_list.extend([bd_5,bd_10,bd_15,bd_20,bd_25])\n",
    "\n",
    "list_MSE = []\n",
    "df_mse = pd.DataFrame(columns=['desc','mse'])\n",
    "x = [5,10,15,20,25]\n",
    "\n",
    "for i in tqdm(range(len(bd_list))):\n",
    "    bd_list[i].sort_values('MSE', inplace = True)\n",
    "    list_MSE.append(bd_list[i].iloc[0,0])\n",
    "    \n",
    "    \n",
    "df_mse['desc'] = [5,10,15,20,25]\n",
    "df_mse['mse'] = list_MSE\n",
    "\n",
    "fig, ax = plt.subplots()  # Create a figure and an axes.\n",
    "ax.set_xticks(x)\n",
    "\n",
    "plt.plot(x, df_mse['mse'], marker='.' ,markersize=13)\n",
    "plt.xlabel('Number of Descriptors')\n",
    "plt.ylabel('MSE')\n",
    "plt.show()"
   ]
  },
  {
   "cell_type": "markdown",
   "metadata": {},
   "source": [
    "# Model Development : SVR"
   ]
  },
  {
   "cell_type": "markdown",
   "metadata": {},
   "source": [
    "## Preparing Data"
   ]
  },
  {
   "cell_type": "code",
   "execution_count": 41,
   "metadata": {},
   "outputs": [],
   "source": [
    "# Load train and test data\n",
    "# IMPORTANT! LOOK AT THE LOADED FILES\n",
    "train = joblib.load('./p/0005/train_0005.pkl', 'rb')\n",
    "test = joblib.load('./p/0005/test_0005.pkl', 'rb')\n",
    "\n",
    "# Create params for kernels\n",
    "param_rbf={\n",
    "            'C': [0.1, 1, 10, 100, 1000],\n",
    "            'gamma': ['auto','scale'],\n",
    "            'epsilon':[0.1, 1, 10, 100, 1000]\n",
    "}\n",
    "\n",
    "param_linear={\n",
    "            'C': [0.1, 1, 10, 100, 1000],\n",
    "            'degree': [1],\n",
    "            'epsilon':[0.1, 1, 10, 100, 1000]\n",
    "}\n",
    "\n",
    "param_poly={\n",
    "            'C': [0.1, 1, 10, 100, 1000],\n",
    "            'degree': [2, 3, 4, 5],\n",
    "            'epsilon':[0.1, 1, 10, 100, 1000]\n",
    "}\n",
    "\n",
    "# Create list of descriptors set\n",
    "# IMPORTANT! MUST BE SAME AS LOADED TRAIN & TEST\n",
    "bd_list = []\n",
    "bd_5 = joblib.load('./p/0005_n1/best_0005_5.pkl')\n",
    "bd_10 = joblib.load('./p/0005_n1/best_0005_10.pkl')\n",
    "bd_15 = joblib.load('./p/0005_n1/best_0005_15.pkl')\n",
    "bd_20 = joblib.load('./p/0005_n1/best_0005_20.pkl')\n",
    "bd_25 = joblib.load('./p/0005_n1/best_0005_25.pkl')\n",
    "bd_list.extend([bd_5,bd_10,bd_15,bd_20,bd_25])"
   ]
  },
  {
   "cell_type": "markdown",
   "metadata": {},
   "source": [
    "## SVR : RBF "
   ]
  },
  {
   "cell_type": "code",
   "execution_count": 42,
   "metadata": {},
   "outputs": [
    {
     "name": "stderr",
     "output_type": "stream",
     "text": [
      "100%|████████████████████████████████████████████████████████████████████████████████████| 5/5 [00:07<00:00,  1.45s/it]\n"
     ]
    }
   ],
   "source": [
    "r2_rbf = pd.DataFrame(columns=['desc','C','Gamma','Epsilon','r2_train','r2_test','train_pred','test_pred'])\n",
    "\n",
    "for i in tqdm(range(len(bd_list))):\n",
    "    \n",
    "    # Preparation data x & y\n",
    "    x_train = train.loc[:,bd_list[i]]\n",
    "    x_test = test.loc[:,bd_list[i]]\n",
    "    y_train = train.iloc[:, [-1]]\n",
    "    y_test = test.iloc[:,[-1]]\n",
    "    \n",
    "    # Feature scaler Using MinMaxScaler()\n",
    "    scaler = MinMaxScaler()\n",
    "    scaler.fit(x_train)\n",
    "    scale_x_train = scaler.transform(x_train)\n",
    "    scale_x_test = scaler.transform(x_test)\n",
    "    \n",
    "    # Search best params for SVR()\n",
    "    gsc = GridSearchCV(\n",
    "        estimator=SVR(kernel='rbf'),\n",
    "        param_grid=param_rbf,\n",
    "        cv=5, scoring='neg_mean_squared_error', verbose=0, n_jobs=-1)\n",
    "\n",
    "    gsc.fit(scale_x_train, y_train)\n",
    "    param_c = gsc.best_params_['C']\n",
    "    param_gamma = gsc.best_params_['gamma']\n",
    "    param_epsilon = gsc.best_params_['epsilon']\n",
    "    \n",
    "    # Assign best params to model\n",
    "    model = SVR(C=param_c, kernel=\"rbf\", gamma=param_gamma, epsilon=param_epsilon)\n",
    "    model.fit(scale_x_train, y_train)\n",
    "    \n",
    "    #Calculate prediction\n",
    "    y_train_pred = model.predict(scale_x_train)\n",
    "    y_test_pred = model.predict(scale_x_test)\n",
    "\n",
    "    #Calculate r2 score\n",
    "    r2_train = r2_score(y_train,y_train_pred)\n",
    "    r2_test = r2_score(y_test,y_test_pred)\n",
    "    \n",
    "    r2_rbf = r2_rbf.append(pd.Series([len(bd_list[i]),param_c, param_gamma, param_epsilon, r2_train, r2_test, y_train_pred, y_test_pred], index=r2_rbf.columns ), ignore_index=True)"
   ]
  },
  {
   "cell_type": "code",
   "execution_count": 44,
   "metadata": {},
   "outputs": [
    {
     "data": {
      "text/html": [
       "<div>\n",
       "<style scoped>\n",
       "    .dataframe tbody tr th:only-of-type {\n",
       "        vertical-align: middle;\n",
       "    }\n",
       "\n",
       "    .dataframe tbody tr th {\n",
       "        vertical-align: top;\n",
       "    }\n",
       "\n",
       "    .dataframe thead th {\n",
       "        text-align: right;\n",
       "    }\n",
       "</style>\n",
       "<table border=\"1\" class=\"dataframe\">\n",
       "  <thead>\n",
       "    <tr style=\"text-align: right;\">\n",
       "      <th></th>\n",
       "      <th>desc</th>\n",
       "      <th>C</th>\n",
       "      <th>Gamma</th>\n",
       "      <th>Epsilon</th>\n",
       "      <th>r2_train</th>\n",
       "      <th>r2_test</th>\n",
       "      <th>train_pred</th>\n",
       "      <th>test_pred</th>\n",
       "    </tr>\n",
       "  </thead>\n",
       "  <tbody>\n",
       "    <tr>\n",
       "      <th>0</th>\n",
       "      <td>5</td>\n",
       "      <td>1000</td>\n",
       "      <td>auto</td>\n",
       "      <td>0.1</td>\n",
       "      <td>0.751894</td>\n",
       "      <td>0.377799</td>\n",
       "      <td>[5.827186180474718, 7.856057101914479, 6.57926...</td>\n",
       "      <td>[7.302132616199009, 7.3888874472227775, 6.2624...</td>\n",
       "    </tr>\n",
       "    <tr>\n",
       "      <th>1</th>\n",
       "      <td>10</td>\n",
       "      <td>10</td>\n",
       "      <td>scale</td>\n",
       "      <td>0.1</td>\n",
       "      <td>0.837593</td>\n",
       "      <td>0.613808</td>\n",
       "      <td>[5.985624391199954, 7.645372868075312, 6.42641...</td>\n",
       "      <td>[7.495874873384412, 7.510310994075349, 6.19338...</td>\n",
       "    </tr>\n",
       "    <tr>\n",
       "      <th>2</th>\n",
       "      <td>15</td>\n",
       "      <td>10</td>\n",
       "      <td>auto</td>\n",
       "      <td>0.1</td>\n",
       "      <td>0.663377</td>\n",
       "      <td>0.598002</td>\n",
       "      <td>[6.302944985403234, 7.548903790191631, 6.13629...</td>\n",
       "      <td>[7.185570264673777, 7.206626710753887, 6.63806...</td>\n",
       "    </tr>\n",
       "    <tr>\n",
       "      <th>3</th>\n",
       "      <td>20</td>\n",
       "      <td>100</td>\n",
       "      <td>auto</td>\n",
       "      <td>0.1</td>\n",
       "      <td>0.759090</td>\n",
       "      <td>0.710471</td>\n",
       "      <td>[6.208832532474693, 7.7756258986612234, 6.2036...</td>\n",
       "      <td>[7.185798978858633, 7.2548772273576585, 6.5620...</td>\n",
       "    </tr>\n",
       "    <tr>\n",
       "      <th>4</th>\n",
       "      <td>25</td>\n",
       "      <td>100</td>\n",
       "      <td>scale</td>\n",
       "      <td>0.1</td>\n",
       "      <td>0.988589</td>\n",
       "      <td>0.451543</td>\n",
       "      <td>[5.785980410531562, 7.6447084102149025, 6.9861...</td>\n",
       "      <td>[7.1861869697092935, 7.1075732837020045, 6.248...</td>\n",
       "    </tr>\n",
       "  </tbody>\n",
       "</table>\n",
       "</div>"
      ],
      "text/plain": [
       "  desc     C  Gamma  Epsilon  r2_train   r2_test  \\\n",
       "0    5  1000   auto      0.1  0.751894  0.377799   \n",
       "1   10    10  scale      0.1  0.837593  0.613808   \n",
       "2   15    10   auto      0.1  0.663377  0.598002   \n",
       "3   20   100   auto      0.1  0.759090  0.710471   \n",
       "4   25   100  scale      0.1  0.988589  0.451543   \n",
       "\n",
       "                                          train_pred  \\\n",
       "0  [5.827186180474718, 7.856057101914479, 6.57926...   \n",
       "1  [5.985624391199954, 7.645372868075312, 6.42641...   \n",
       "2  [6.302944985403234, 7.548903790191631, 6.13629...   \n",
       "3  [6.208832532474693, 7.7756258986612234, 6.2036...   \n",
       "4  [5.785980410531562, 7.6447084102149025, 6.9861...   \n",
       "\n",
       "                                           test_pred  \n",
       "0  [7.302132616199009, 7.3888874472227775, 6.2624...  \n",
       "1  [7.495874873384412, 7.510310994075349, 6.19338...  \n",
       "2  [7.185570264673777, 7.206626710753887, 6.63806...  \n",
       "3  [7.185798978858633, 7.2548772273576585, 6.5620...  \n",
       "4  [7.1861869697092935, 7.1075732837020045, 6.248...  "
      ]
     },
     "execution_count": 44,
     "metadata": {},
     "output_type": "execute_result"
    }
   ],
   "source": [
    "# joblib.dump(r2_rbf, './p/0006_n1/r2_rbf_neue.pkl')\n",
    "# r2_rbf = joblib.load('./p/0006_n1/r2_rbf_neue.pkl')\n",
    "r2_rbf"
   ]
  },
  {
   "cell_type": "markdown",
   "metadata": {},
   "source": [
    "## SVR : Linear"
   ]
  },
  {
   "cell_type": "code",
   "execution_count": 45,
   "metadata": {},
   "outputs": [
    {
     "name": "stderr",
     "output_type": "stream",
     "text": [
      "100%|████████████████████████████████████████████████████████████████████████████████████| 5/5 [00:02<00:00,  1.90it/s]\n"
     ]
    }
   ],
   "source": [
    "r2_linear = pd.DataFrame(columns=['desc','C','degree','epsilon','r2_train','r2_test','train_pred','test_pred'])\n",
    "\n",
    "for i in tqdm(range(len(bd_list))):\n",
    "    \n",
    "    # Preparation data x & y\n",
    "    x_train = train.loc[:,bd_list[i]]\n",
    "    x_test = test.loc[:,bd_list[i]]\n",
    "    y_train = train.iloc[:, [-1]]\n",
    "    y_test = test.iloc[:,[-1]]\n",
    "    \n",
    "    # Feature scaler Using MinMaxScaler()\n",
    "    scaler = MinMaxScaler()\n",
    "    scaler.fit(x_train)\n",
    "    scale_x_train = scaler.transform(x_train)\n",
    "    scale_x_test = scaler.transform(x_test)\n",
    "    \n",
    "    # Search best params for SVR()\n",
    "    gsc = GridSearchCV(\n",
    "        estimator=SVR(kernel='linear'),\n",
    "        param_grid=param_linear,\n",
    "        cv=5, scoring='neg_mean_squared_error', verbose=0, n_jobs=-1)\n",
    "\n",
    "    gsc.fit(scale_x_train, y_train)\n",
    "    param_c = gsc.best_params_['C']\n",
    "    param_degree = gsc.best_params_['degree']\n",
    "    param_epsilon = gsc.best_params_['epsilon']\n",
    "    \n",
    "    # Assign best params to model\n",
    "    model = SVR(C=param_c, kernel=\"linear\", degree=param_degree, epsilon = param_epsilon)\n",
    "    model.fit(scale_x_train, y_train)\n",
    "    \n",
    "    #Calculate prediction\n",
    "    y_train_pred = model.predict(scale_x_train)\n",
    "    y_test_pred = model.predict(scale_x_test)\n",
    "\n",
    "    #Calculate r2 score\n",
    "    r2_train = r2_score(y_train,y_train_pred)\n",
    "    r2_test = r2_score(y_test,y_test_pred)\n",
    "    \n",
    "    r2_linear = r2_linear.append(pd.Series([len(bd_list[i]),param_c, param_degree, param_epsilon, r2_train, r2_test, y_train_pred, y_test_pred], index=r2_linear.columns ), ignore_index=True)"
   ]
  },
  {
   "cell_type": "code",
   "execution_count": 46,
   "metadata": {},
   "outputs": [
    {
     "data": {
      "text/html": [
       "<div>\n",
       "<style scoped>\n",
       "    .dataframe tbody tr th:only-of-type {\n",
       "        vertical-align: middle;\n",
       "    }\n",
       "\n",
       "    .dataframe tbody tr th {\n",
       "        vertical-align: top;\n",
       "    }\n",
       "\n",
       "    .dataframe thead th {\n",
       "        text-align: right;\n",
       "    }\n",
       "</style>\n",
       "<table border=\"1\" class=\"dataframe\">\n",
       "  <thead>\n",
       "    <tr style=\"text-align: right;\">\n",
       "      <th></th>\n",
       "      <th>desc</th>\n",
       "      <th>C</th>\n",
       "      <th>degree</th>\n",
       "      <th>epsilon</th>\n",
       "      <th>r2_train</th>\n",
       "      <th>r2_test</th>\n",
       "      <th>train_pred</th>\n",
       "      <th>test_pred</th>\n",
       "    </tr>\n",
       "  </thead>\n",
       "  <tbody>\n",
       "    <tr>\n",
       "      <th>0</th>\n",
       "      <td>5</td>\n",
       "      <td>1000</td>\n",
       "      <td>1</td>\n",
       "      <td>0.1</td>\n",
       "      <td>0.604945</td>\n",
       "      <td>0.536981</td>\n",
       "      <td>[6.259761696723191, 7.6457058977787, 6.0926125...</td>\n",
       "      <td>[6.829682979845276, 6.928030798153233, 6.48318...</td>\n",
       "    </tr>\n",
       "    <tr>\n",
       "      <th>1</th>\n",
       "      <td>10</td>\n",
       "      <td>10</td>\n",
       "      <td>1</td>\n",
       "      <td>0.1</td>\n",
       "      <td>0.621871</td>\n",
       "      <td>0.653866</td>\n",
       "      <td>[6.721584325244292, 7.472024477267512, 5.95159...</td>\n",
       "      <td>[7.18625327264993, 7.2353437921706405, 6.78776...</td>\n",
       "    </tr>\n",
       "    <tr>\n",
       "      <th>2</th>\n",
       "      <td>15</td>\n",
       "      <td>1</td>\n",
       "      <td>1</td>\n",
       "      <td>0.1</td>\n",
       "      <td>0.599082</td>\n",
       "      <td>0.630382</td>\n",
       "      <td>[6.405686544835811, 7.270317222160819, 6.23408...</td>\n",
       "      <td>[7.100932613800058, 7.12864574158182, 6.758558...</td>\n",
       "    </tr>\n",
       "    <tr>\n",
       "      <th>3</th>\n",
       "      <td>20</td>\n",
       "      <td>10</td>\n",
       "      <td>1</td>\n",
       "      <td>0.1</td>\n",
       "      <td>0.702875</td>\n",
       "      <td>0.720793</td>\n",
       "      <td>[6.448982217617401, 7.469576577232419, 6.12942...</td>\n",
       "      <td>[6.986247841957694, 7.0553569905006865, 6.5665...</td>\n",
       "    </tr>\n",
       "    <tr>\n",
       "      <th>4</th>\n",
       "      <td>25</td>\n",
       "      <td>1</td>\n",
       "      <td>1</td>\n",
       "      <td>0.1</td>\n",
       "      <td>0.641173</td>\n",
       "      <td>0.695201</td>\n",
       "      <td>[6.409187755525373, 7.355248922951276, 6.48488...</td>\n",
       "      <td>[6.881053435334151, 6.6861115412409795, 6.7151...</td>\n",
       "    </tr>\n",
       "  </tbody>\n",
       "</table>\n",
       "</div>"
      ],
      "text/plain": [
       "  desc     C degree  epsilon  r2_train   r2_test  \\\n",
       "0    5  1000      1      0.1  0.604945  0.536981   \n",
       "1   10    10      1      0.1  0.621871  0.653866   \n",
       "2   15     1      1      0.1  0.599082  0.630382   \n",
       "3   20    10      1      0.1  0.702875  0.720793   \n",
       "4   25     1      1      0.1  0.641173  0.695201   \n",
       "\n",
       "                                          train_pred  \\\n",
       "0  [6.259761696723191, 7.6457058977787, 6.0926125...   \n",
       "1  [6.721584325244292, 7.472024477267512, 5.95159...   \n",
       "2  [6.405686544835811, 7.270317222160819, 6.23408...   \n",
       "3  [6.448982217617401, 7.469576577232419, 6.12942...   \n",
       "4  [6.409187755525373, 7.355248922951276, 6.48488...   \n",
       "\n",
       "                                           test_pred  \n",
       "0  [6.829682979845276, 6.928030798153233, 6.48318...  \n",
       "1  [7.18625327264993, 7.2353437921706405, 6.78776...  \n",
       "2  [7.100932613800058, 7.12864574158182, 6.758558...  \n",
       "3  [6.986247841957694, 7.0553569905006865, 6.5665...  \n",
       "4  [6.881053435334151, 6.6861115412409795, 6.7151...  "
      ]
     },
     "execution_count": 46,
     "metadata": {},
     "output_type": "execute_result"
    }
   ],
   "source": [
    "# joblib.dump(r2_linear, './p/0006_n1/r2_linear_neue.pkl')\n",
    "# r2_linear = joblib.load('./p/0006_n1/r2_linear_neue.pkl')\n",
    "r2_linear"
   ]
  },
  {
   "cell_type": "markdown",
   "metadata": {},
   "source": [
    "## SVR : Polynomial "
   ]
  },
  {
   "cell_type": "code",
   "execution_count": 15,
   "metadata": {},
   "outputs": [
    {
     "name": "stderr",
     "output_type": "stream",
     "text": [
      "100%|███████████████████████████████████████████████████████████████████████████████████| 5/5 [13:37<00:00, 163.57s/it]\n"
     ]
    }
   ],
   "source": [
    "r2_poly = pd.DataFrame(columns=['desc','C','degree','epsilon','r2_train','r2_test','train_pred','test_pred'])\n",
    "\n",
    "for i in tqdm(range(len(bd_list))):\n",
    "    \n",
    "    # Preparation data x & y\n",
    "    x_train = train.loc[:,bd_list[i]]\n",
    "    x_test = test.loc[:,bd_list[i]]\n",
    "    y_train = train.iloc[:, [-1]]\n",
    "    y_test = test.iloc[:,[-1]]\n",
    "    \n",
    "    # Feature scaler Using MinMaxScaler()\n",
    "    scaler = MinMaxScaler()\n",
    "    scaler.fit(x_train)\n",
    "    scale_x_train = scaler.transform(x_train)\n",
    "    scale_x_test = scaler.transform(x_test)\n",
    "    \n",
    "    # Search best params for SVR()\n",
    "    gsc = GridSearchCV(\n",
    "        estimator=SVR(kernel='poly'),\n",
    "        param_grid=param_poly,\n",
    "        cv=5, scoring='neg_mean_squared_error', verbose=0, n_jobs=-1)\n",
    "\n",
    "    gsc.fit(scale_x_train, y_train)\n",
    "    param_c = gsc.best_params_['C']\n",
    "    param_degree = gsc.best_params_['degree']\n",
    "    param_epsilon = gsc.best_params_['epsilon']\n",
    "    \n",
    "    # Assign best params to model\n",
    "    model = SVR(C=param_c, kernel=\"poly\", degree=param_degree, epsilon = param_epsilon)\n",
    "    model.fit(scale_x_train, y_train)\n",
    "    \n",
    "    #Calculate prediction\n",
    "    y_train_pred = model.predict(scale_x_train)\n",
    "    y_test_pred = model.predict(scale_x_test)\n",
    "\n",
    "    #Calculate r2 score\n",
    "    r2_train = r2_score(y_train,y_train_pred)\n",
    "    r2_test = r2_score(y_test,y_test_pred)\n",
    "    \n",
    "    r2_poly = r2_poly.append(pd.Series([len(bd_list[i]),param_c, param_degree, param_epsilon, r2_train, r2_test, y_train_pred, y_test_pred], index=r2_poly.columns ), ignore_index=True)"
   ]
  },
  {
   "cell_type": "code",
   "execution_count": 16,
   "metadata": {},
   "outputs": [
    {
     "data": {
      "text/html": [
       "<div>\n",
       "<style scoped>\n",
       "    .dataframe tbody tr th:only-of-type {\n",
       "        vertical-align: middle;\n",
       "    }\n",
       "\n",
       "    .dataframe tbody tr th {\n",
       "        vertical-align: top;\n",
       "    }\n",
       "\n",
       "    .dataframe thead th {\n",
       "        text-align: right;\n",
       "    }\n",
       "</style>\n",
       "<table border=\"1\" class=\"dataframe\">\n",
       "  <thead>\n",
       "    <tr style=\"text-align: right;\">\n",
       "      <th></th>\n",
       "      <th>desc</th>\n",
       "      <th>C</th>\n",
       "      <th>degree</th>\n",
       "      <th>epsilon</th>\n",
       "      <th>r2_train</th>\n",
       "      <th>r2_test</th>\n",
       "      <th>train_pred</th>\n",
       "      <th>test_pred</th>\n",
       "    </tr>\n",
       "  </thead>\n",
       "  <tbody>\n",
       "    <tr>\n",
       "      <th>0</th>\n",
       "      <td>5</td>\n",
       "      <td>10</td>\n",
       "      <td>2</td>\n",
       "      <td>0.1</td>\n",
       "      <td>0.582809</td>\n",
       "      <td>0.162610</td>\n",
       "      <td>[6.531045840089309, 6.973571295585268, 6.38081...</td>\n",
       "      <td>[6.494664176091527, 6.557542804540136, 7.18718...</td>\n",
       "    </tr>\n",
       "    <tr>\n",
       "      <th>1</th>\n",
       "      <td>10</td>\n",
       "      <td>10</td>\n",
       "      <td>2</td>\n",
       "      <td>0.1</td>\n",
       "      <td>0.700945</td>\n",
       "      <td>0.589258</td>\n",
       "      <td>[6.752899286772264, 7.503277921782187, 6.20928...</td>\n",
       "      <td>[5.989362202787996, 6.589583404870568, 7.26747...</td>\n",
       "    </tr>\n",
       "    <tr>\n",
       "      <th>2</th>\n",
       "      <td>15</td>\n",
       "      <td>10</td>\n",
       "      <td>2</td>\n",
       "      <td>0.1</td>\n",
       "      <td>0.706295</td>\n",
       "      <td>0.606288</td>\n",
       "      <td>[6.844743465703837, 7.265331034581643, 6.15495...</td>\n",
       "      <td>[6.136925050668766, 6.652900817703867, 7.13042...</td>\n",
       "    </tr>\n",
       "    <tr>\n",
       "      <th>3</th>\n",
       "      <td>20</td>\n",
       "      <td>10</td>\n",
       "      <td>2</td>\n",
       "      <td>0.1</td>\n",
       "      <td>0.650787</td>\n",
       "      <td>0.512330</td>\n",
       "      <td>[6.809105555664954, 7.521422452352884, 6.12990...</td>\n",
       "      <td>[6.42426701445098, 6.635527475777221, 7.245611...</td>\n",
       "    </tr>\n",
       "    <tr>\n",
       "      <th>4</th>\n",
       "      <td>25</td>\n",
       "      <td>1</td>\n",
       "      <td>2</td>\n",
       "      <td>0.1</td>\n",
       "      <td>0.662759</td>\n",
       "      <td>0.411443</td>\n",
       "      <td>[6.78127975139056, 7.384957631542009, 6.121682...</td>\n",
       "      <td>[6.475526264158646, 6.340372378485958, 7.07009...</td>\n",
       "    </tr>\n",
       "  </tbody>\n",
       "</table>\n",
       "</div>"
      ],
      "text/plain": [
       "  desc   C degree  epsilon  r2_train   r2_test  \\\n",
       "0    5  10      2      0.1  0.582809  0.162610   \n",
       "1   10  10      2      0.1  0.700945  0.589258   \n",
       "2   15  10      2      0.1  0.706295  0.606288   \n",
       "3   20  10      2      0.1  0.650787  0.512330   \n",
       "4   25   1      2      0.1  0.662759  0.411443   \n",
       "\n",
       "                                          train_pred  \\\n",
       "0  [6.531045840089309, 6.973571295585268, 6.38081...   \n",
       "1  [6.752899286772264, 7.503277921782187, 6.20928...   \n",
       "2  [6.844743465703837, 7.265331034581643, 6.15495...   \n",
       "3  [6.809105555664954, 7.521422452352884, 6.12990...   \n",
       "4  [6.78127975139056, 7.384957631542009, 6.121682...   \n",
       "\n",
       "                                           test_pred  \n",
       "0  [6.494664176091527, 6.557542804540136, 7.18718...  \n",
       "1  [5.989362202787996, 6.589583404870568, 7.26747...  \n",
       "2  [6.136925050668766, 6.652900817703867, 7.13042...  \n",
       "3  [6.42426701445098, 6.635527475777221, 7.245611...  \n",
       "4  [6.475526264158646, 6.340372378485958, 7.07009...  "
      ]
     },
     "execution_count": 16,
     "metadata": {},
     "output_type": "execute_result"
    }
   ],
   "source": [
    "joblib.dump(r2_poly, './p/0006_n1/r2_poly_neue.pkl')\n",
    "r2_poly = joblib.load('./p/0006_n1/r2_poly_neue.pkl')\n",
    "r2_poly"
   ]
  },
  {
   "cell_type": "markdown",
   "metadata": {},
   "source": [
    "## R2 Plots for Model Development"
   ]
  },
  {
   "cell_type": "code",
   "execution_count": 24,
   "metadata": {},
   "outputs": [
    {
     "data": {
      "image/png": "[encoded data removed]",
      "text/plain": [
       "<Figure size 640x480 with 1 Axes>"
      ]
     },
     "metadata": {
      "needs_background": "light"
     },
     "output_type": "display_data"
    }
   ],
   "source": [
    "### plot\n",
    "# x = np.arange(5,26,5)\n",
    "x = [5,10,15,20,25]\n",
    "\n",
    "# Note that even in the OO-style, we use `.pyplot.figure` to create the figure.\n",
    "fig, ax = plt.subplots(figsize=(8, 6), dpi=80)  # Create a figure and an axes.\n",
    "\n",
    "ax.plot(x, r2_rbf.loc[:,'r2_train'], label='RBF Train',marker='.',markersize=10, lw=2, color='b')\n",
    "ax.plot(x, r2_rbf.loc[:,'r2_test'], label='RBF Val', marker='.', markersize=10, lw=2, ls='dotted', color='b') \n",
    "ax.plot(x, r2_linear.loc[:,'r2_train'], label='Linear Train', marker='.',markersize=10, lw=2,color='r')\n",
    "ax.plot(x, r2_linear.loc[:,'r2_test'], label='Linear Val', marker='.', markersize=10, lw=2, ls='dotted',color='r')\n",
    "ax.plot(x, r2_poly.loc[:,'r2_train'], label='Poly Train', marker='.', markersize=10, lw=2, color='g')\n",
    "ax.plot(x, r2_poly.loc[:,'r2_test'], label='Poly Val', marker='.', markersize=10, lw=2, ls='dotted', color='g')\n",
    "\n",
    "ax.set_xlabel('Number of Descriptors')\n",
    "ax.set_ylabel('R2 Score')\n",
    "# ax.set_title(\"SVR r2 score\")  \n",
    "ax.set_xticks(x)\n",
    "plt.grid()\n",
    "plt.legend(bbox_to_anchor=(1.05, 1), loc='upper left', borderaxespad=0.)\n",
    "# plt.savefig('./p/0003/r2_models_numdesc.png', format='png', dpi=1000, bbox_inches=\"tight\")    \n",
    "plt.show()"
   ]
  },
  {
   "cell_type": "markdown",
   "metadata": {},
   "source": [
    "# Model Validation"
   ]
  },
  {
   "cell_type": "markdown",
   "metadata": {},
   "source": [
    "## Validation Functions"
   ]
  },
  {
   "cell_type": "code",
   "execution_count": 126,
   "metadata": {
    "code_folding": [
     0,
     12,
     65,
     78,
     91,
     97,
     105,
     129,
     135,
     181,
     227,
     273
    ]
   },
   "outputs": [],
   "source": [
    "def r2_score(y, y_pred, y_train=None):\n",
    "    sse = 0; sst = 0\n",
    "    if y_train is None:        \n",
    "        y_mean = np.mean(y)\n",
    "    else:\n",
    "        y_mean = np.mean(y_train)\n",
    "    for i in range(len(y)):\n",
    "        sse += (y[i] - y_pred[i]) ** 2\n",
    "        sst += (y[i] - y_mean) ** 2\n",
    "    r2_score = 1 - (sse / sst)\n",
    "    return r2_score\n",
    "\n",
    "def qsar_param(y, y_pred, d_r2m=True):\n",
    "    results = []\n",
    "    _, _, y = normalize(y)\n",
    "    _, _, y_pred = normalize(y_pred)\n",
    "    y_mean = np.mean(y); y_pred_mean = np.mean(y_pred)\n",
    "    # calculate r2\n",
    "    num = 0; den_1 = 0; den_2 = 0\n",
    "    for i in range(len(y)):\n",
    "        num += (y[i] - y_mean) * (y_pred[i] - y_pred_mean)\n",
    "        den_1 += (y_pred[i] - y_pred_mean) ** 2\n",
    "        den_2 += (y[i] - y_mean) ** 2\n",
    "    r2 = num ** 2 / (den_1 * den_2)\n",
    "    results = {\"r2\": r2}\n",
    "    # calculate k and k_dash\n",
    "    n_data = len(y)\n",
    "    dot_ = 0; y_pred2 = 0; y2 = 0\n",
    "    for i in range(n_data):\n",
    "        dot_ += (y[i] * y_pred[i])\n",
    "        y_pred2 += y_pred[i] ** 2\n",
    "        y2 += y[i] ** 2\n",
    "    k = np.sum(dot_) / np.sum(y_pred2)\n",
    "    k_dash = np.sum(dot_) / np.sum(y2)\n",
    "    results[\"k\"] = k\n",
    "    results[\"k_dash\"] = k_dash\n",
    "    # calculate r2_0 and r2_0_dash\n",
    "    num = 0; num_dash = 0; den = 0; den_dash = 0\n",
    "    for i in range(n_data):\n",
    "        num += (y[i] - (k * y_pred[i])) ** 2\n",
    "        num_dash += (y_pred[i] - (k_dash * y[i])) ** 2\n",
    "        den += (y[i] - y_mean) ** 2\n",
    "        den_dash += (y_pred[i] - y_pred_mean) ** 2\n",
    "    r2_0 = 1 - (num / den)\n",
    "    r2_0_dash = 1 - (num_dash / den_dash)\n",
    "    #results.append(r2_0)\n",
    "    #results.append(r2_0_dash)\n",
    "    r2r0 = (r2 - r2_0)/r2\n",
    "    r2r0_dash = (r2 - r2_0_dash)/r2\n",
    "    results[\"r2r0\"] = r2r0\n",
    "    results[\"r2r0_dash\"] = r2r0_dash\n",
    "    r0r0_dash = np.abs(r2_0 - r2_0_dash)\n",
    "    results[\"r0r0_dash\"] = r0r0_dash\n",
    "    # calculate rm2 and rm2_dash\n",
    "    rm2 = r2 * (1 - np.sqrt(r2 - r2_0))\n",
    "    rm2_dash = r2 * (1 - np.sqrt(r2 - r2_0_dash))\n",
    "    #results.append(rm2)\n",
    "    #results.append(rm2_dash)\n",
    "    # calculate rm2_bar and d_rm2\n",
    "    rm2_bar = (rm2 + rm2_dash) / 2\n",
    "    d_rm2 = np.abs(rm2 - rm2_dash)\n",
    "    results[\"rm2_bar\"] = rm2_bar\n",
    "    results[\"d_rm2\"] = d_rm2\n",
    "    return results\n",
    "\n",
    "def q2_loo(model, X, y):\n",
    "    loo = LeaveOneOut()\n",
    "    y_pred = []\n",
    "    for train_index, test_index in loo.split(X):\n",
    "        X_train, X_test = X[train_index], X[test_index]\n",
    "        y_train, y_test = y[train_index], y[test_index]\n",
    "        model.fit(X_train, y_train)\n",
    "        tmp = model.predict(X_test)\n",
    "        #tmp = scaler_y.inverse_transform(tmp)\n",
    "        y_pred.append(list(tmp)[0])\n",
    "    r2 = r2_score(y, y_pred)\n",
    "    return r2\n",
    "\n",
    "def q2_looV2(model, X, y):\n",
    "    loo = LeaveOneOut()\n",
    "    y_pred = []\n",
    "    for train_index, test_index in loo.split(X):\n",
    "        X_train, X_test = X[train_index], X[test_index]\n",
    "        y_train, y_test = y[train_index], y[test_index]\n",
    "        model.fit(X_train, y_train)\n",
    "        tmp = model.predict(X_test)\n",
    "        #tmp = scaler_y.inverse_transform(tmp)\n",
    "        y_pred.append(list(tmp)[0])\n",
    "    r2 = r2_score(y, y_pred)\n",
    "    return r2, y_pred\n",
    "\n",
    "def normalize(X):\n",
    "    max_ = np.max(X, axis=0)\n",
    "    min_ = np.min(X, axis=0)\n",
    "    X_norm = (X - min_) / (max_ - min_)\n",
    "    return max_, min_, X_norm\n",
    "\n",
    "def leverage(XtX, X):\n",
    "    levs = []\n",
    "    for i in range(X.shape[0]):\n",
    "        x = X[i,:]\n",
    "        lev = x.dot(XtX).dot(x.T)\n",
    "        levs.append(lev)\n",
    "    return levs\n",
    "\n",
    "def y_random(estimator, X, y, n=10):\n",
    "    # non-random\n",
    "    estimator.fit(X, y)\n",
    "    y_pred = estimator.predict(X)    \n",
    "    r2_nr = r2_score(y, y_pred)\n",
    "    r_nr = np.sqrt(r2_nr)\n",
    "    n_data = X.shape[0]\n",
    "    # random\n",
    "    r2_rand = []\n",
    "    range_ = list(range(n_data))\n",
    "    for i in range(n):\n",
    "        new_range_ = copy.deepcopy(range_)\n",
    "        np.random.shuffle(new_range_)\n",
    "        y_new = []\n",
    "        for i in new_range_:\n",
    "            y_new.append(y[i])\n",
    "        y_new = np.array(y_new)\n",
    "        estimator.fit(X, y_new)\n",
    "        y_pred = estimator.predict(X)\n",
    "        r2_rand.append(r2_score(y_new, y_pred))\n",
    "    r2_rand_avg = np.average(r2_rand)\n",
    "    rp = r_nr * np.sqrt(r2_nr - r2_rand_avg)\n",
    "    return rp\n",
    "\n",
    "def standardize(X):\n",
    "    mean_ = np.mean(X, axis=0)\n",
    "    std_ = np.std(X, axis=0)\n",
    "    X_norm = (X - mean_) / std_\n",
    "    return X_norm, mean_, std_\n",
    "\n",
    "def applicability_domain(X_train, X_test, y_train_act, \n",
    "                         y_train_pred, y_test_act, y_test_pred):\n",
    "    # using wilson map\n",
    "    X_train, _, _ = standardize(X_train)\n",
    "    X_test, _, _ = standardize(X_test)\n",
    "    n, p = X_train.shape\n",
    "    # calculate standardized residuals\n",
    "    err_train = []; res_train = []\n",
    "    for i in range(len(y_train_pred)):\n",
    "        err_train.append(y_train_act[i] - y_train_pred[i])\n",
    "    rmse_train = np.sqrt(mse_score(y_train_act, y_train_pred))\n",
    "    for i in range(len(y_train_pred)):\n",
    "        tmp = err_train[i]/rmse_train\n",
    "        res_train.append(tmp)\n",
    "    err_test = []; res_test = []\n",
    "    for i in range(len(y_test_pred)):\n",
    "        err_test.append(y_test_act[i] - y_test_pred[i])\n",
    "    rmse_test = np.sqrt(mse_score(y_test_act, y_test_pred))\n",
    "    for i in range(len(y_test_pred)):\n",
    "        tmp = err_test[i]/rmse_test\n",
    "        res_test.append(tmp)    \n",
    "    #res_test = [a/rmse_test for a in err_test]\n",
    "    # calculate leverage\n",
    "    XtX = X_train.T.dot(X_train)\n",
    "    XtX = np.linalg.pinv(XtX)\n",
    "    lev_train = leverage(XtX, X_train)\n",
    "    lev_test = leverage(XtX, X_test)\n",
    "    h_star = (3 * (p + 1)) / n\n",
    "    print(h_star)\n",
    "    #return (lev_train, res_train, lev_test, res_test, h_star)\n",
    "    #plotting\n",
    "    plt.scatter(lev_train, res_train, c='b',marker='o', label='training data')\n",
    "    plt.scatter(lev_test, res_test, c='r',marker='^', label='test data')\n",
    "    plt.axhline(y=3, c='k', linewidth=0.8)\n",
    "    plt.axhline(y=-3, c='k', linewidth=0.8)\n",
    "    plt.axvline(x=h_star, c='k', linewidth=0.8)\n",
    "    #plt.xticks([0,0.1,0.2,0.3,0.4,0.5,h_star,0.6],[0,0.1,0.2,0.3,0.4,0.5,\"h$^*$\",0.6])\n",
    "    plt.text(h_star+0.001, 0, \"h$^*$\")\n",
    "    plt.xlim(0, h_star + 0.1)\n",
    "    plt.ylim(-4, 4)\n",
    "    plt.xlabel('leverage')\n",
    "    plt.ylabel('standardized residual')\n",
    "    plt.legend(loc='upper right')\n",
    "#     plt.savefig('./app_domain.png', format='png', dpi=1000, bbox_inches=\"tight\")    \n",
    "    plt.show()\n",
    "    \n",
    "def applicability_domain_rbf(X_train, X_test, y_train_act, \n",
    "                         y_train_pred, y_test_act, y_test_pred):\n",
    "    # using wilson map\n",
    "    X_train, _, _ = standardize(X_train)\n",
    "    X_test, _, _ = standardize(X_test)\n",
    "    n, p = X_train.shape\n",
    "    # calculate standardized residuals\n",
    "    err_train = []; res_train = []\n",
    "    for i in range(len(y_train_pred)):\n",
    "        err_train.append(y_train_act[i] - y_train_pred[i])\n",
    "    rmse_train = np.sqrt(mean_squared_error(y_train_act, y_train_pred))\n",
    "    for i in range(len(y_train_pred)):\n",
    "        tmp = err_train[i]/rmse_train\n",
    "        res_train.append(tmp)\n",
    "    err_test = []; res_test = []\n",
    "    for i in range(len(y_test_pred)):\n",
    "        err_test.append(y_test_act[i] - y_test_pred[i])\n",
    "    rmse_test = np.sqrt(mean_squared_error(y_test_act, y_test_pred))\n",
    "    for i in range(len(y_test_pred)):\n",
    "        tmp = err_test[i]/rmse_test\n",
    "        res_test.append(tmp)    \n",
    "    #res_test = [a/rmse_test for a in err_test]\n",
    "    # calculate leverage\n",
    "    XtX = X_train.T.dot(X_train)\n",
    "    XtX = np.linalg.pinv(XtX)\n",
    "    lev_train = leverage(XtX, X_train)\n",
    "    lev_test = leverage(XtX, X_test)\n",
    "    h_star = (3 * (p + 1)) / n\n",
    "    print(h_star)\n",
    "    #return (lev_train, res_train, lev_test, res_test, h_star)\n",
    "    #plotting\n",
    "    plt.scatter(lev_train, res_train, c='b',marker='o', label='training data')\n",
    "    plt.scatter(lev_test, res_test, c='r',marker='^', label='test data')\n",
    "    plt.axhline(y=3, c='k', linewidth=0.8)\n",
    "    plt.axhline(y=-3, c='k', linewidth=0.8)\n",
    "    plt.axvline(x=h_star, c='k', linewidth=0.8)\n",
    "    #plt.xticks([0,0.1,0.2,0.3,0.4,0.5,h_star,0.6],[0,0.1,0.2,0.3,0.4,0.5,\"h$^*$\",0.6])\n",
    "    plt.text(h_star+0.001, 0, \"h$^*$\")\n",
    "    plt.xlim(0, h_star + 0.1)\n",
    "    plt.ylim(-4, 4)\n",
    "    plt.xlabel('leverage')\n",
    "    plt.ylabel('standardized residual')\n",
    "    plt.legend(loc='upper right')\n",
    "    plt.savefig('./graph/rbf_app_domain_05.png', format='png', dpi=1000, bbox_inches=\"tight\")    \n",
    "    plt.show()\n",
    "    \n",
    "def applicability_domain_lin(X_train, X_test, y_train_act, \n",
    "                         y_train_pred, y_test_act, y_test_pred):\n",
    "    # using wilson map\n",
    "    X_train, _, _ = standardize(X_train)\n",
    "    X_test, _, _ = standardize(X_test)\n",
    "    n, p = X_train.shape\n",
    "    # calculate standardized residuals\n",
    "    err_train = []; res_train = []\n",
    "    for i in range(len(y_train_pred)):\n",
    "        err_train.append(y_train_act[i] - y_train_pred[i])\n",
    "    rmse_train = np.sqrt(mean_squared_error(y_train_act, y_train_pred))\n",
    "    for i in range(len(y_train_pred)):\n",
    "        tmp = err_train[i]/rmse_train\n",
    "        res_train.append(tmp)\n",
    "    err_test = []; res_test = []\n",
    "    for i in range(len(y_test_pred)):\n",
    "        err_test.append(y_test_act[i] - y_test_pred[i])\n",
    "    rmse_test = np.sqrt(mean_squared_error(y_test_act, y_test_pred))\n",
    "    for i in range(len(y_test_pred)):\n",
    "        tmp = err_test[i]/rmse_test\n",
    "        res_test.append(tmp)    \n",
    "    #res_test = [a/rmse_test for a in err_test]\n",
    "    # calculate leverage\n",
    "    XtX = X_train.T.dot(X_train)\n",
    "    XtX = np.linalg.pinv(XtX)\n",
    "    lev_train = leverage(XtX, X_train)\n",
    "    lev_test = leverage(XtX, X_test)\n",
    "    h_star = (3 * (p + 1)) / n\n",
    "    print(h_star)\n",
    "    #return (lev_train, res_train, lev_test, res_test, h_star)\n",
    "    #plotting\n",
    "    plt.scatter(lev_train, res_train, c='b',marker='o', label='training data')\n",
    "    plt.scatter(lev_test, res_test, c='r',marker='^', label='test data')\n",
    "    plt.axhline(y=3, c='k', linewidth=0.8)\n",
    "    plt.axhline(y=-3, c='k', linewidth=0.8)\n",
    "    plt.axvline(x=h_star, c='k', linewidth=0.8)\n",
    "    #plt.xticks([0,0.1,0.2,0.3,0.4,0.5,h_star,0.6],[0,0.1,0.2,0.3,0.4,0.5,\"h$^*$\",0.6])\n",
    "    plt.text(h_star+0.001, 0, \"h$^*$\")\n",
    "    plt.xlim(0, h_star + 0.1)\n",
    "    plt.ylim(-4, 4)\n",
    "    plt.xlabel('leverage')\n",
    "    plt.ylabel('standardized residual')\n",
    "    plt.legend(loc='upper right')\n",
    "    plt.savefig('./graph/lin_app_domain_05.png', format='png', dpi=1000, bbox_inches=\"tight\")    \n",
    "    plt.show()\n",
    "    \n",
    "def applicability_domain_poly(X_train, X_test, y_train_act, \n",
    "                         y_train_pred, y_test_act, y_test_pred):\n",
    "    # using wilson map\n",
    "    X_train, _, _ = standardize(X_train)\n",
    "    X_test, _, _ = standardize(X_test)\n",
    "    n, p = X_train.shape\n",
    "    # calculate standardized residuals\n",
    "    err_train = []; res_train = []\n",
    "    for i in range(len(y_train_pred)):\n",
    "        err_train.append(y_train_act[i] - y_train_pred[i])\n",
    "    rmse_train = np.sqrt(mean_squared_error(y_train_act, y_train_pred))\n",
    "    for i in range(len(y_train_pred)):\n",
    "        tmp = err_train[i]/rmse_train\n",
    "        res_train.append(tmp)\n",
    "    err_test = []; res_test = []\n",
    "    for i in range(len(y_test_pred)):\n",
    "        err_test.append(y_test_act[i] - y_test_pred[i])\n",
    "    rmse_test = np.sqrt(mean_squared_error(y_test_act, y_test_pred))\n",
    "    for i in range(len(y_test_pred)):\n",
    "        tmp = err_test[i]/rmse_test\n",
    "        res_test.append(tmp)    \n",
    "    #res_test = [a/rmse_test for a in err_test]\n",
    "    # calculate leverage\n",
    "    XtX = X_train.T.dot(X_train)\n",
    "    XtX = np.linalg.pinv(XtX)\n",
    "    lev_train = leverage(XtX, X_train)\n",
    "    lev_test = leverage(XtX, X_test)\n",
    "    h_star = (3 * (p + 1)) / n\n",
    "    print(h_star)\n",
    "    #return (lev_train, res_train, lev_test, res_test, h_star)\n",
    "    #plotting\n",
    "    plt.scatter(lev_train, res_train, c='b',marker='o', label='training data')\n",
    "    plt.scatter(lev_test, res_test, c='r',marker='^', label='test data')\n",
    "    plt.axhline(y=3, c='k', linewidth=0.8)\n",
    "    plt.axhline(y=-3, c='k', linewidth=0.8)\n",
    "    plt.axvline(x=h_star, c='k', linewidth=0.8)\n",
    "    #plt.xticks([0,0.1,0.2,0.3,0.4,0.5,h_star,0.6],[0,0.1,0.2,0.3,0.4,0.5,\"h$^*$\",0.6])\n",
    "    plt.text(h_star+0.001, 0, \"h$^*$\")\n",
    "    plt.xlim(0, h_star + 0.1)\n",
    "    plt.ylim(-4, 4)\n",
    "    plt.xlabel('leverage')\n",
    "    plt.ylabel('standardized residual')\n",
    "    plt.legend(loc='upper right')\n",
    "    plt.savefig('./graph/poly_app_domain_05.png', format='png', dpi=1000, bbox_inches=\"tight\")    \n",
    "    plt.show()"
   ]
  },
  {
   "cell_type": "markdown",
   "metadata": {},
   "source": [
    "## Validation : Preparing Data"
   ]
  },
  {
   "cell_type": "code",
   "execution_count": 81,
   "metadata": {},
   "outputs": [
    {
     "data": {
      "text/plain": [
       "((74, 1876), (19, 1876))"
      ]
     },
     "execution_count": 81,
     "metadata": {},
     "output_type": "execute_result"
    }
   ],
   "source": [
    "data = pd.read_csv(\"data/all_data.csv\")\n",
    "\n",
    "# Use best desc based on r2_score model development\n",
    "desc = joblib.load('./p/0005_n1/best_0005_10.pkl')\n",
    "\n",
    "# Important! Use same datasets\n",
    "df_train = joblib.load('./p/0005/train_0005.pkl')\n",
    "df_test = joblib.load('./p/0005/test_0005.pkl')\n",
    "\n",
    "df_train.shape, df_test.shape"
   ]
  },
  {
   "cell_type": "markdown",
   "metadata": {},
   "source": [
    "## Validation : RBF"
   ]
  },
  {
   "cell_type": "markdown",
   "metadata": {},
   "source": [
    "### QSAR Param RBF"
   ]
  },
  {
   "cell_type": "code",
   "execution_count": 122,
   "metadata": {},
   "outputs": [
    {
     "data": {
      "text/plain": [
       "array([0.59761519])"
      ]
     },
     "execution_count": 122,
     "metadata": {},
     "output_type": "execute_result"
    }
   ],
   "source": [
    "X_train = df_train.loc[:,desc].to_numpy()\n",
    "X_test = df_test.loc[:,desc].to_numpy()\n",
    "y_train = df_train.iloc[:,[-1]].to_numpy()\n",
    "y_test = df_test.iloc[:,[-1]].to_numpy()\n",
    "\n",
    "scaler = MinMaxScaler()\n",
    "scaler.fit(X_train)\n",
    "scale_x_train = scaler.transform(X_train)\n",
    "scale_x_test = scaler.transform(X_test)\n",
    "\n",
    "param_grid={\n",
    "            'C': 10,\n",
    "            'gamma': 'scale',\n",
    "            'epsilon':0.1\n",
    "}\n",
    "\n",
    "c = param_grid['C']\n",
    "gam = param_grid['gamma']\n",
    "eps = param_grid['epsilon']\n",
    "\n",
    "model = SVR(kernel=\"rbf\", C=c, gamma=gam, epsilon=eps)\n",
    "\n",
    "model.fit(scale_x_train, y_train)\n",
    "y_train_pred = model.predict(scale_x_train)\n",
    "y_test_pred = model.predict(scale_x_test)\n",
    "\n",
    "q2_rbf = q2_loo(model, scale_x_train, y_train)\n",
    "\n",
    "# print RB Q2, Qsar_train, Qsar_test\n",
    "q2_rbf"
   ]
  },
  {
   "cell_type": "code",
   "execution_count": 83,
   "metadata": {},
   "outputs": [
    {
     "data": {
      "text/html": [
       "<div>\n",
       "<style scoped>\n",
       "    .dataframe tbody tr th:only-of-type {\n",
       "        vertical-align: middle;\n",
       "    }\n",
       "\n",
       "    .dataframe tbody tr th {\n",
       "        vertical-align: top;\n",
       "    }\n",
       "\n",
       "    .dataframe thead th {\n",
       "        text-align: right;\n",
       "    }\n",
       "</style>\n",
       "<table border=\"1\" class=\"dataframe\">\n",
       "  <thead>\n",
       "    <tr style=\"text-align: right;\">\n",
       "      <th></th>\n",
       "      <th>r2</th>\n",
       "      <th>k</th>\n",
       "      <th>k_dash</th>\n",
       "      <th>r2r0</th>\n",
       "      <th>r2r0_dash</th>\n",
       "      <th>r0r0_dash</th>\n",
       "      <th>rm2_bar</th>\n",
       "      <th>d_rm2</th>\n",
       "    </tr>\n",
       "  </thead>\n",
       "  <tbody>\n",
       "    <tr>\n",
       "      <th>0</th>\n",
       "      <td>0.842697</td>\n",
       "      <td>1.044453</td>\n",
       "      <td>0.926964</td>\n",
       "      <td>0.192187</td>\n",
       "      <td>0.035595</td>\n",
       "      <td>0.13196</td>\n",
       "      <td>0.600156</td>\n",
       "      <td>0.193184</td>\n",
       "    </tr>\n",
       "  </tbody>\n",
       "</table>\n",
       "</div>"
      ],
      "text/plain": [
       "         r2         k    k_dash      r2r0  r2r0_dash  r0r0_dash   rm2_bar  \\\n",
       "0  0.842697  1.044453  0.926964  0.192187   0.035595    0.13196  0.600156   \n",
       "\n",
       "      d_rm2  \n",
       "0  0.193184  "
      ]
     },
     "execution_count": 83,
     "metadata": {},
     "output_type": "execute_result"
    }
   ],
   "source": [
    "rbf_val_train = pd.DataFrame(qsar_param(y_train, y_train_pred))\n",
    "rbf_val_train"
   ]
  },
  {
   "cell_type": "code",
   "execution_count": 84,
   "metadata": {},
   "outputs": [
    {
     "data": {
      "text/html": [
       "<div>\n",
       "<style scoped>\n",
       "    .dataframe tbody tr th:only-of-type {\n",
       "        vertical-align: middle;\n",
       "    }\n",
       "\n",
       "    .dataframe tbody tr th {\n",
       "        vertical-align: top;\n",
       "    }\n",
       "\n",
       "    .dataframe thead th {\n",
       "        text-align: right;\n",
       "    }\n",
       "</style>\n",
       "<table border=\"1\" class=\"dataframe\">\n",
       "  <thead>\n",
       "    <tr style=\"text-align: right;\">\n",
       "      <th></th>\n",
       "      <th>r2</th>\n",
       "      <th>k</th>\n",
       "      <th>k_dash</th>\n",
       "      <th>r2r0</th>\n",
       "      <th>r2r0_dash</th>\n",
       "      <th>r0r0_dash</th>\n",
       "      <th>rm2_bar</th>\n",
       "      <th>d_rm2</th>\n",
       "    </tr>\n",
       "  </thead>\n",
       "  <tbody>\n",
       "    <tr>\n",
       "      <th>0</th>\n",
       "      <td>0.634547</td>\n",
       "      <td>0.884778</td>\n",
       "      <td>1.036497</td>\n",
       "      <td>0.005912</td>\n",
       "      <td>0.158927</td>\n",
       "      <td>0.097095</td>\n",
       "      <td>0.514359</td>\n",
       "      <td>0.162643</td>\n",
       "    </tr>\n",
       "  </tbody>\n",
       "</table>\n",
       "</div>"
      ],
      "text/plain": [
       "         r2         k    k_dash      r2r0  r2r0_dash  r0r0_dash   rm2_bar  \\\n",
       "0  0.634547  0.884778  1.036497  0.005912   0.158927   0.097095  0.514359   \n",
       "\n",
       "      d_rm2  \n",
       "0  0.162643  "
      ]
     },
     "execution_count": 84,
     "metadata": {},
     "output_type": "execute_result"
    }
   ],
   "source": [
    "rbf_val_test = pd.DataFrame(qsar_param(y_test, y_test_pred))\n",
    "rbf_val_test"
   ]
  },
  {
   "cell_type": "markdown",
   "metadata": {},
   "source": [
    "### CR2p (Y_random) RBF"
   ]
  },
  {
   "cell_type": "code",
   "execution_count": 85,
   "metadata": {},
   "outputs": [
    {
     "data": {
      "text/plain": [
       "array([0.63746412])"
      ]
     },
     "execution_count": 85,
     "metadata": {},
     "output_type": "execute_result"
    }
   ],
   "source": [
    "rp = y_random(model,scale_x_train,y_train)\n",
    "joblib.dump(rp,'./p/0005_n1/rbf_crp2.pkl')\n",
    "rp"
   ]
  },
  {
   "cell_type": "markdown",
   "metadata": {},
   "source": [
    "### Applicability Domain RBF"
   ]
  },
  {
   "cell_type": "code",
   "execution_count": 127,
   "metadata": {},
   "outputs": [
    {
     "name": "stdout",
     "output_type": "stream",
     "text": [
      "0.44594594594594594\n"
     ]
    },
    {
     "data": {
      "image/png": "[encoded data removed]",
      "text/plain": [
       "<Figure size 432x288 with 1 Axes>"
      ]
     },
     "metadata": {
      "needs_background": "light"
     },
     "output_type": "display_data"
    }
   ],
   "source": [
    "applicability_domain_rbf(scale_x_train, scale_x_test, y_train,\n",
    "                     y_train_pred, y_test, y_test_pred)"
   ]
  },
  {
   "cell_type": "code",
   "execution_count": 153,
   "metadata": {},
   "outputs": [
    {
     "data": {
      "text/html": [
       "<div>\n",
       "<style scoped>\n",
       "    .dataframe tbody tr th:only-of-type {\n",
       "        vertical-align: middle;\n",
       "    }\n",
       "\n",
       "    .dataframe tbody tr th {\n",
       "        vertical-align: top;\n",
       "    }\n",
       "\n",
       "    .dataframe thead th {\n",
       "        text-align: right;\n",
       "    }\n",
       "</style>\n",
       "<table border=\"1\" class=\"dataframe\">\n",
       "  <thead>\n",
       "    <tr style=\"text-align: right;\">\n",
       "      <th></th>\n",
       "      <th>r2</th>\n",
       "      <th>q2</th>\n",
       "      <th>k</th>\n",
       "      <th>k_dash</th>\n",
       "      <th>r2r0</th>\n",
       "      <th>r2r0_dash</th>\n",
       "      <th>r0r0_dash</th>\n",
       "      <th>rm2_bar</th>\n",
       "      <th>d_rm2</th>\n",
       "      <th>y_random</th>\n",
       "    </tr>\n",
       "  </thead>\n",
       "  <tbody>\n",
       "    <tr>\n",
       "      <th>0</th>\n",
       "      <td>0.842697</td>\n",
       "      <td>0.597615</td>\n",
       "      <td>1.044453</td>\n",
       "      <td>0.926964</td>\n",
       "      <td>0.192187</td>\n",
       "      <td>0.035595</td>\n",
       "      <td>0.131960</td>\n",
       "      <td>0.600156</td>\n",
       "      <td>0.193184</td>\n",
       "      <td>0.637464</td>\n",
       "    </tr>\n",
       "    <tr>\n",
       "      <th>0</th>\n",
       "      <td>0.634547</td>\n",
       "      <td>0.597615</td>\n",
       "      <td>0.884778</td>\n",
       "      <td>1.036497</td>\n",
       "      <td>0.005912</td>\n",
       "      <td>0.158927</td>\n",
       "      <td>0.097095</td>\n",
       "      <td>0.514359</td>\n",
       "      <td>0.162643</td>\n",
       "      <td>0.637464</td>\n",
       "    </tr>\n",
       "  </tbody>\n",
       "</table>\n",
       "</div>"
      ],
      "text/plain": [
       "         r2        q2         k    k_dash      r2r0  r2r0_dash  r0r0_dash  \\\n",
       "0  0.842697  0.597615  1.044453  0.926964  0.192187   0.035595   0.131960   \n",
       "0  0.634547  0.597615  0.884778  1.036497  0.005912   0.158927   0.097095   \n",
       "\n",
       "    rm2_bar     d_rm2  y_random  \n",
       "0  0.600156  0.193184  0.637464  \n",
       "0  0.514359  0.162643  0.637464  "
      ]
     },
     "execution_count": 153,
     "metadata": {},
     "output_type": "execute_result"
    }
   ],
   "source": [
    "rbf_valid = pd.DataFrame()\n",
    "rbf_valid = rbf_valid.append(rbf_val_train)\n",
    "rbf_valid = rbf_valid.append(rbf_val_test)\n",
    "rbf_valid.insert(1,'q2', [q2_rbf[0], q2_rbf[0]])\n",
    "rbf_valid['y_random'] = [rp[0],rp[0]]\n",
    "rbf_valid.to_csv(r'./p/0005_n1/rbf_val_neue.csv', index= None, header = True)\n",
    "rbf_valid"
   ]
  },
  {
   "cell_type": "markdown",
   "metadata": {},
   "source": [
    "<!-- ## Validation : Linear -->"
   ]
  },
  {
   "cell_type": "markdown",
   "metadata": {},
   "source": [
    "## Validation : Linear"
   ]
  },
  {
   "cell_type": "markdown",
   "metadata": {},
   "source": [
    "### QSAR Param Linear"
   ]
  },
  {
   "cell_type": "code",
   "execution_count": 158,
   "metadata": {},
   "outputs": [
    {
     "data": {
      "text/plain": [
       "array([0.54826769])"
      ]
     },
     "execution_count": 158,
     "metadata": {},
     "output_type": "execute_result"
    }
   ],
   "source": [
    "X_train = df_train.loc[:,desc].to_numpy()\n",
    "X_test = df_test.loc[:,desc].to_numpy()\n",
    "y_train = df_train.iloc[:,[-1]].to_numpy()\n",
    "y_test = df_test.iloc[:,[-1]].to_numpy()\n",
    "\n",
    "scaler = MinMaxScaler()\n",
    "scaler.fit(X_train)\n",
    "scale_x_train = scaler.transform(X_train)\n",
    "scale_x_test = scaler.transform(X_test)\n",
    "\n",
    "param_grid={\n",
    "            'C': 10,\n",
    "            'degree': 1,\n",
    "            'epsilon': 0.1\n",
    "}\n",
    "\n",
    "c = param_grid['C']\n",
    "deg = param_grid['degree']\n",
    "eps = param_grid['epsilon']\n",
    "\n",
    "model_lin = SVR(kernel=\"linear\", C= c, degree= deg, epsilon=eps)\n",
    "\n",
    "model_lin.fit(scale_x_train, y_train)\n",
    "y_train_pred = model_lin.predict(scale_x_train)\n",
    "y_test_pred = model_lin.predict(scale_x_test)\n",
    "\n",
    "q2_lin = q2_loo(model_lin, scale_x_train, y_train)\n",
    "\n",
    "# print RB Q2, Qsar_train, Qsar_test\n",
    "q2_lin"
   ]
  },
  {
   "cell_type": "code",
   "execution_count": 159,
   "metadata": {},
   "outputs": [
    {
     "data": {
      "text/html": [
       "<div>\n",
       "<style scoped>\n",
       "    .dataframe tbody tr th:only-of-type {\n",
       "        vertical-align: middle;\n",
       "    }\n",
       "\n",
       "    .dataframe tbody tr th {\n",
       "        vertical-align: top;\n",
       "    }\n",
       "\n",
       "    .dataframe thead th {\n",
       "        text-align: right;\n",
       "    }\n",
       "</style>\n",
       "<table border=\"1\" class=\"dataframe\">\n",
       "  <thead>\n",
       "    <tr style=\"text-align: right;\">\n",
       "      <th></th>\n",
       "      <th>r2</th>\n",
       "      <th>k</th>\n",
       "      <th>k_dash</th>\n",
       "      <th>r2r0</th>\n",
       "      <th>r2r0_dash</th>\n",
       "      <th>r0r0_dash</th>\n",
       "      <th>rm2_bar</th>\n",
       "      <th>d_rm2</th>\n",
       "    </tr>\n",
       "  </thead>\n",
       "  <tbody>\n",
       "    <tr>\n",
       "      <th>0</th>\n",
       "      <td>0.622942</td>\n",
       "      <td>1.115858</td>\n",
       "      <td>0.828736</td>\n",
       "      <td>0.606308</td>\n",
       "      <td>0.017721</td>\n",
       "      <td>0.366655</td>\n",
       "      <td>0.398796</td>\n",
       "      <td>0.317389</td>\n",
       "    </tr>\n",
       "  </tbody>\n",
       "</table>\n",
       "</div>"
      ],
      "text/plain": [
       "         r2         k    k_dash      r2r0  r2r0_dash  r0r0_dash   rm2_bar  \\\n",
       "0  0.622942  1.115858  0.828736  0.606308   0.017721   0.366655  0.398796   \n",
       "\n",
       "      d_rm2  \n",
       "0  0.317389  "
      ]
     },
     "execution_count": 159,
     "metadata": {},
     "output_type": "execute_result"
    }
   ],
   "source": [
    "lin_val_train = pd.DataFrame(qsar_param(y_train, y_train_pred))\n",
    "lin_val_train"
   ]
  },
  {
   "cell_type": "code",
   "execution_count": 156,
   "metadata": {},
   "outputs": [
    {
     "data": {
      "text/html": [
       "<div>\n",
       "<style scoped>\n",
       "    .dataframe tbody tr th:only-of-type {\n",
       "        vertical-align: middle;\n",
       "    }\n",
       "\n",
       "    .dataframe tbody tr th {\n",
       "        vertical-align: top;\n",
       "    }\n",
       "\n",
       "    .dataframe thead th {\n",
       "        text-align: right;\n",
       "    }\n",
       "</style>\n",
       "<table border=\"1\" class=\"dataframe\">\n",
       "  <thead>\n",
       "    <tr style=\"text-align: right;\">\n",
       "      <th></th>\n",
       "      <th>r2</th>\n",
       "      <th>k</th>\n",
       "      <th>k_dash</th>\n",
       "      <th>r2r0</th>\n",
       "      <th>r2r0_dash</th>\n",
       "      <th>r0r0_dash</th>\n",
       "      <th>rm2_bar</th>\n",
       "      <th>d_rm2</th>\n",
       "    </tr>\n",
       "  </thead>\n",
       "  <tbody>\n",
       "    <tr>\n",
       "      <th>0</th>\n",
       "      <td>0.701601</td>\n",
       "      <td>1.048975</td>\n",
       "      <td>0.865025</td>\n",
       "      <td>0.16234</td>\n",
       "      <td>0.001247</td>\n",
       "      <td>0.113023</td>\n",
       "      <td>0.572834</td>\n",
       "      <td>0.21603</td>\n",
       "    </tr>\n",
       "  </tbody>\n",
       "</table>\n",
       "</div>"
      ],
      "text/plain": [
       "         r2         k    k_dash     r2r0  r2r0_dash  r0r0_dash   rm2_bar  \\\n",
       "0  0.701601  1.048975  0.865025  0.16234   0.001247   0.113023  0.572834   \n",
       "\n",
       "     d_rm2  \n",
       "0  0.21603  "
      ]
     },
     "execution_count": 156,
     "metadata": {},
     "output_type": "execute_result"
    }
   ],
   "source": [
    "lin_val_test = pd.DataFrame(qsar_param(y_test, y_test_pred))\n",
    "lin_val_test"
   ]
  },
  {
   "cell_type": "markdown",
   "metadata": {},
   "source": [
    "### CR2p (Y_random) Linear"
   ]
  },
  {
   "cell_type": "code",
   "execution_count": 157,
   "metadata": {},
   "outputs": [
    {
     "data": {
      "text/plain": [
       "array([0.58614356])"
      ]
     },
     "execution_count": 157,
     "metadata": {},
     "output_type": "execute_result"
    }
   ],
   "source": [
    "rp_lin = y_random(model_lin,scale_x_train,y_train)\n",
    "joblib.dump(rp_lin,'./p/0005_n1/lin_crp2.pkl')\n",
    "rp_lin"
   ]
  },
  {
   "cell_type": "markdown",
   "metadata": {},
   "source": [
    "### Applicability Domain Linear"
   ]
  },
  {
   "cell_type": "code",
   "execution_count": 133,
   "metadata": {},
   "outputs": [
    {
     "name": "stdout",
     "output_type": "stream",
     "text": [
      "0.44594594594594594\n"
     ]
    },
    {
     "data": {
      "image/png": "[encoded data removed]",
      "text/plain": [
       "<Figure size 432x288 with 1 Axes>"
      ]
     },
     "metadata": {
      "needs_background": "light"
     },
     "output_type": "display_data"
    }
   ],
   "source": [
    "applicability_domain_lin(scale_x_train, scale_x_test, y_train,\n",
    "                     y_train_pred, y_test, y_test_pred)"
   ]
  },
  {
   "cell_type": "code",
   "execution_count": 150,
   "metadata": {},
   "outputs": [
    {
     "data": {
      "text/html": [
       "<div>\n",
       "<style scoped>\n",
       "    .dataframe tbody tr th:only-of-type {\n",
       "        vertical-align: middle;\n",
       "    }\n",
       "\n",
       "    .dataframe tbody tr th {\n",
       "        vertical-align: top;\n",
       "    }\n",
       "\n",
       "    .dataframe thead th {\n",
       "        text-align: right;\n",
       "    }\n",
       "</style>\n",
       "<table border=\"1\" class=\"dataframe\">\n",
       "  <thead>\n",
       "    <tr style=\"text-align: right;\">\n",
       "      <th></th>\n",
       "      <th>r2</th>\n",
       "      <th>q2</th>\n",
       "      <th>k</th>\n",
       "      <th>k_dash</th>\n",
       "      <th>r2r0</th>\n",
       "      <th>r2r0_dash</th>\n",
       "      <th>r0r0_dash</th>\n",
       "      <th>rm2_bar</th>\n",
       "      <th>d_rm2</th>\n",
       "      <th>y_random</th>\n",
       "    </tr>\n",
       "  </thead>\n",
       "  <tbody>\n",
       "    <tr>\n",
       "      <th>0</th>\n",
       "      <td>0.622942</td>\n",
       "      <td>0.548268</td>\n",
       "      <td>1.115858</td>\n",
       "      <td>0.828736</td>\n",
       "      <td>0.606308</td>\n",
       "      <td>0.017721</td>\n",
       "      <td>0.366655</td>\n",
       "      <td>0.398796</td>\n",
       "      <td>0.317389</td>\n",
       "      <td>0.58591</td>\n",
       "    </tr>\n",
       "    <tr>\n",
       "      <th>0</th>\n",
       "      <td>0.701601</td>\n",
       "      <td>0.548268</td>\n",
       "      <td>1.048975</td>\n",
       "      <td>0.865025</td>\n",
       "      <td>0.162340</td>\n",
       "      <td>0.001247</td>\n",
       "      <td>0.113023</td>\n",
       "      <td>0.572834</td>\n",
       "      <td>0.216030</td>\n",
       "      <td>0.58591</td>\n",
       "    </tr>\n",
       "  </tbody>\n",
       "</table>\n",
       "</div>"
      ],
      "text/plain": [
       "         r2        q2         k    k_dash      r2r0  r2r0_dash  r0r0_dash  \\\n",
       "0  0.622942  0.548268  1.115858  0.828736  0.606308   0.017721   0.366655   \n",
       "0  0.701601  0.548268  1.048975  0.865025  0.162340   0.001247   0.113023   \n",
       "\n",
       "    rm2_bar     d_rm2  y_random  \n",
       "0  0.398796  0.317389   0.58591  \n",
       "0  0.572834  0.216030   0.58591  "
      ]
     },
     "execution_count": 150,
     "metadata": {},
     "output_type": "execute_result"
    }
   ],
   "source": [
    "lin_valid = pd.DataFrame()\n",
    "lin_valid = lin_valid.append(lin_val_train)\n",
    "lin_valid = lin_valid.append(lin_val_test)\n",
    "lin_valid.insert(1,'q2', [q2_lin[0], q2_lin[0]])\n",
    "lin_valid['y_random'] = [rp_lin[0],rp_lin[0]]\n",
    "lin_valid.to_csv(r'./p/0005_n1/lin_val_neue.csv', index= None, header = True)\n",
    "lin_valid"
   ]
  },
  {
   "cell_type": "markdown",
   "metadata": {},
   "source": [
    "## Validation : Polynomial"
   ]
  },
  {
   "cell_type": "markdown",
   "metadata": {},
   "source": [
    "### QSAR Param Poly"
   ]
  },
  {
   "cell_type": "code",
   "execution_count": 160,
   "metadata": {},
   "outputs": [
    {
     "data": {
      "text/plain": [
       "array([0.62519427])"
      ]
     },
     "execution_count": 160,
     "metadata": {},
     "output_type": "execute_result"
    }
   ],
   "source": [
    "X_train = df_train.loc[:,desc].to_numpy()\n",
    "X_test = df_test.loc[:,desc].to_numpy()\n",
    "y_train = df_train.iloc[:,[-1]].to_numpy()\n",
    "y_test = df_test.iloc[:,[-1]].to_numpy()\n",
    "\n",
    "scaler = MinMaxScaler()\n",
    "scaler.fit(X_train)\n",
    "scale_x_train = scaler.transform(X_train)\n",
    "scale_x_test = scaler.transform(X_test)\n",
    "\n",
    "param_grid={\n",
    "            'C': 10,\n",
    "            'degree': 2,\n",
    "            'epsilon': 0.1\n",
    "}\n",
    "\n",
    "c = param_grid['C']\n",
    "deg = param_grid['degree']\n",
    "eps = param_grid['epsilon']\n",
    "\n",
    "model_pol = SVR(kernel=\"poly\", C= c, degree= deg, epsilon=eps)\n",
    "model_pol.fit(scale_x_train,y_train)\n",
    "y_train_pred = model_pol.predict(scale_x_train)\n",
    "y_test_pred = model_pol.predict(scale_x_test)\n",
    "\n",
    "q2_poly = q2_loo(model_pol, scale_x_train, y_train)\n",
    "\n",
    "# print RB Q2, Qsar_train, Qsar_test\n",
    "q2_poly"
   ]
  },
  {
   "cell_type": "code",
   "execution_count": 161,
   "metadata": {},
   "outputs": [
    {
     "data": {
      "text/html": [
       "<div>\n",
       "<style scoped>\n",
       "    .dataframe tbody tr th:only-of-type {\n",
       "        vertical-align: middle;\n",
       "    }\n",
       "\n",
       "    .dataframe tbody tr th {\n",
       "        vertical-align: top;\n",
       "    }\n",
       "\n",
       "    .dataframe thead th {\n",
       "        text-align: right;\n",
       "    }\n",
       "</style>\n",
       "<table border=\"1\" class=\"dataframe\">\n",
       "  <thead>\n",
       "    <tr style=\"text-align: right;\">\n",
       "      <th></th>\n",
       "      <th>r2</th>\n",
       "      <th>k</th>\n",
       "      <th>k_dash</th>\n",
       "      <th>r2r0</th>\n",
       "      <th>r2r0_dash</th>\n",
       "      <th>r0r0_dash</th>\n",
       "      <th>rm2_bar</th>\n",
       "      <th>d_rm2</th>\n",
       "    </tr>\n",
       "  </thead>\n",
       "  <tbody>\n",
       "    <tr>\n",
       "      <th>0</th>\n",
       "      <td>0.687312</td>\n",
       "      <td>1.216075</td>\n",
       "      <td>0.743107</td>\n",
       "      <td>0.950778</td>\n",
       "      <td>0.090635</td>\n",
       "      <td>0.591187</td>\n",
       "      <td>0.323734</td>\n",
       "      <td>0.384065</td>\n",
       "    </tr>\n",
       "  </tbody>\n",
       "</table>\n",
       "</div>"
      ],
      "text/plain": [
       "         r2         k    k_dash      r2r0  r2r0_dash  r0r0_dash   rm2_bar  \\\n",
       "0  0.687312  1.216075  0.743107  0.950778   0.090635   0.591187  0.323734   \n",
       "\n",
       "      d_rm2  \n",
       "0  0.384065  "
      ]
     },
     "execution_count": 161,
     "metadata": {},
     "output_type": "execute_result"
    }
   ],
   "source": [
    "poly_val_train = pd.DataFrame(qsar_param(y_train, y_train_pred))\n",
    "poly_val_train"
   ]
  },
  {
   "cell_type": "code",
   "execution_count": 162,
   "metadata": {},
   "outputs": [
    {
     "data": {
      "text/html": [
       "<div>\n",
       "<style scoped>\n",
       "    .dataframe tbody tr th:only-of-type {\n",
       "        vertical-align: middle;\n",
       "    }\n",
       "\n",
       "    .dataframe tbody tr th {\n",
       "        vertical-align: top;\n",
       "    }\n",
       "\n",
       "    .dataframe thead th {\n",
       "        text-align: right;\n",
       "    }\n",
       "</style>\n",
       "<table border=\"1\" class=\"dataframe\">\n",
       "  <thead>\n",
       "    <tr style=\"text-align: right;\">\n",
       "      <th></th>\n",
       "      <th>r2</th>\n",
       "      <th>k</th>\n",
       "      <th>k_dash</th>\n",
       "      <th>r2r0</th>\n",
       "      <th>r2r0_dash</th>\n",
       "      <th>r0r0_dash</th>\n",
       "      <th>rm2_bar</th>\n",
       "      <th>d_rm2</th>\n",
       "    </tr>\n",
       "  </thead>\n",
       "  <tbody>\n",
       "    <tr>\n",
       "      <th>0</th>\n",
       "      <td>0.597547</td>\n",
       "      <td>1.024331</td>\n",
       "      <td>0.835418</td>\n",
       "      <td>0.401259</td>\n",
       "      <td>0.003273</td>\n",
       "      <td>0.237815</td>\n",
       "      <td>0.438036</td>\n",
       "      <td>0.266173</td>\n",
       "    </tr>\n",
       "  </tbody>\n",
       "</table>\n",
       "</div>"
      ],
      "text/plain": [
       "         r2         k    k_dash      r2r0  r2r0_dash  r0r0_dash   rm2_bar  \\\n",
       "0  0.597547  1.024331  0.835418  0.401259   0.003273   0.237815  0.438036   \n",
       "\n",
       "      d_rm2  \n",
       "0  0.266173  "
      ]
     },
     "execution_count": 162,
     "metadata": {},
     "output_type": "execute_result"
    }
   ],
   "source": [
    "poly_val_test = pd.DataFrame(qsar_param(y_test, y_test_pred))\n",
    "poly_val_test"
   ]
  },
  {
   "cell_type": "markdown",
   "metadata": {},
   "source": [
    "### CR2p (Y_random) Poly"
   ]
  },
  {
   "cell_type": "code",
   "execution_count": 163,
   "metadata": {},
   "outputs": [
    {
     "data": {
      "text/plain": [
       "array([0.61321928])"
      ]
     },
     "execution_count": 163,
     "metadata": {},
     "output_type": "execute_result"
    }
   ],
   "source": [
    "rp_poly = y_random(model_pol,scale_x_train,y_train)\n",
    "joblib.dump(rp_poly, './p/0005_n1/poly_cr2p')\n",
    "rp_poly"
   ]
  },
  {
   "cell_type": "markdown",
   "metadata": {},
   "source": [
    "### Applicability Domain Poly"
   ]
  },
  {
   "cell_type": "raw",
   "metadata": {},
   "source": [
    "applicability_domain_poly(X_train, X_test, y_train,\n",
    "                     y_train_pred, y_test, y_test_pred)"
   ]
  },
  {
   "cell_type": "code",
   "execution_count": 167,
   "metadata": {},
   "outputs": [
    {
     "data": {
      "text/html": [
       "<div>\n",
       "<style scoped>\n",
       "    .dataframe tbody tr th:only-of-type {\n",
       "        vertical-align: middle;\n",
       "    }\n",
       "\n",
       "    .dataframe tbody tr th {\n",
       "        vertical-align: top;\n",
       "    }\n",
       "\n",
       "    .dataframe thead th {\n",
       "        text-align: right;\n",
       "    }\n",
       "</style>\n",
       "<table border=\"1\" class=\"dataframe\">\n",
       "  <thead>\n",
       "    <tr style=\"text-align: right;\">\n",
       "      <th></th>\n",
       "      <th>r2</th>\n",
       "      <th>q2</th>\n",
       "      <th>k</th>\n",
       "      <th>k_dash</th>\n",
       "      <th>r2r0</th>\n",
       "      <th>r2r0_dash</th>\n",
       "      <th>r0r0_dash</th>\n",
       "      <th>rm2_bar</th>\n",
       "      <th>d_rm2</th>\n",
       "      <th>y_random</th>\n",
       "    </tr>\n",
       "  </thead>\n",
       "  <tbody>\n",
       "    <tr>\n",
       "      <th>0</th>\n",
       "      <td>0.687312</td>\n",
       "      <td>0.625194</td>\n",
       "      <td>1.216075</td>\n",
       "      <td>0.743107</td>\n",
       "      <td>0.950778</td>\n",
       "      <td>0.090635</td>\n",
       "      <td>0.591187</td>\n",
       "      <td>0.323734</td>\n",
       "      <td>0.384065</td>\n",
       "      <td>0.613219</td>\n",
       "    </tr>\n",
       "    <tr>\n",
       "      <th>0</th>\n",
       "      <td>0.597547</td>\n",
       "      <td>0.625194</td>\n",
       "      <td>1.024331</td>\n",
       "      <td>0.835418</td>\n",
       "      <td>0.401259</td>\n",
       "      <td>0.003273</td>\n",
       "      <td>0.237815</td>\n",
       "      <td>0.438036</td>\n",
       "      <td>0.266173</td>\n",
       "      <td>0.613219</td>\n",
       "    </tr>\n",
       "  </tbody>\n",
       "</table>\n",
       "</div>"
      ],
      "text/plain": [
       "         r2        q2         k    k_dash      r2r0  r2r0_dash  r0r0_dash  \\\n",
       "0  0.687312  0.625194  1.216075  0.743107  0.950778   0.090635   0.591187   \n",
       "0  0.597547  0.625194  1.024331  0.835418  0.401259   0.003273   0.237815   \n",
       "\n",
       "    rm2_bar     d_rm2  y_random  \n",
       "0  0.323734  0.384065  0.613219  \n",
       "0  0.438036  0.266173  0.613219  "
      ]
     },
     "execution_count": 167,
     "metadata": {},
     "output_type": "execute_result"
    }
   ],
   "source": [
    "poly_valid = pd.DataFrame()\n",
    "poly_valid = poly_valid.append(poly_val_train)\n",
    "poly_valid = poly_valid.append(poly_val_test)\n",
    "poly_valid.insert(1,'q2', [q2_poly[0], q2_poly[0]])\n",
    "poly_valid['y_random'] = [rp_poly[0],rp_poly[0]]\n",
    "poly_valid.to_csv(r'./p/0005_n1/poly_val_neue.csv', index= None, header = True)\n",
    "poly_valid"
   ]
  },
  {
   "cell_type": "markdown",
   "metadata": {},
   "source": [
    "# Graphs"
   ]
  },
  {
   "cell_type": "markdown",
   "metadata": {},
   "source": [
    "## Preparing data"
   ]
  },
  {
   "cell_type": "code",
   "execution_count": 20,
   "metadata": {},
   "outputs": [],
   "source": [
    "# data = pd.read_csv(\"data/all_data.csv\")\n",
    "\n",
    "desc = joblib.load('./p/0005_n1/best_0005_10.pkl')\n",
    "desc_raw = joblib.load('./p/0005_n1/raw_0005_10.pkl')\n",
    "df_train = joblib.load('./p/0005/train_0005.pkl')\n",
    "df_test = joblib.load('./p/0005/test_0005.pkl')\n",
    "\n",
    "pic = pd.read_csv(\"data/pIC50_target.csv\")\n",
    "df_pic = pic['pIC50']\n",
    "\n",
    "ytrain =  df_train.iloc[:,[-1]]\n",
    "ytest =  df_test.iloc[:,[-1]]"
   ]
  },
  {
   "cell_type": "markdown",
   "metadata": {},
   "source": [
    "## Plot Temperature Vs. Mse"
   ]
  },
  {
   "cell_type": "code",
   "execution_count": 184,
   "metadata": {},
   "outputs": [
    {
     "data": {
      "image/png": "[encoded data removed]",
      "text/plain": [
       "<Figure size 432x288 with 1 Axes>"
      ]
     },
     "metadata": {
      "needs_background": "light"
     },
     "output_type": "display_data"
    }
   ],
   "source": [
    "df = desc_raw.copy()\n",
    "df.sort_values('MSE', inplace = True)\n",
    "\n",
    "temp = df.iloc[0,3]\n",
    "growth = df.iloc[0,2]\n",
    "\n",
    "fig = plt.figure()\n",
    "plt.plot(temp, growth)\n",
    "plt.xlabel('Temp')\n",
    "plt.ylabel('MSE')\n",
    "# plt.ylim(0.1, 0.55)\n",
    "plt.xlim(105,-5)\n",
    "plt.savefig('./graph/growth_mse_05_10.png', format='png', dpi=1000, bbox_inches=\"tight\")    \n",
    "plt.show()"
   ]
  },
  {
   "cell_type": "markdown",
   "metadata": {},
   "source": [
    "## Plot MSE Vs. Num of Desc"
   ]
  },
  {
   "cell_type": "code",
   "execution_count": 25,
   "metadata": {},
   "outputs": [
    {
     "data": {
      "image/png": "[encoded data removed]",
      "text/plain": [
       "<Figure size 432x288 with 1 Axes>"
      ]
     },
     "metadata": {
      "needs_background": "light"
     },
     "output_type": "display_data"
    }
   ],
   "source": [
    "bd_list = []\n",
    "bd_5 = joblib.load('./p/0005_n1/raw_0005_5.pkl')\n",
    "bd_10 = joblib.load('./p/0005_n1/raw_0005_10.pkl')\n",
    "bd_15 = joblib.load('./p/0005_n1/raw_0005_15.pkl')\n",
    "bd_20 = joblib.load('./p/0005_n1/raw_0005_20.pkl')\n",
    "bd_25 = joblib.load('./p/0005_n1/raw_0005_25.pkl')\n",
    "bd_list.extend([bd_5,bd_10,bd_15,bd_20,bd_25])\n",
    "\n",
    "list_MSE = []\n",
    "x=[5,10,15,20,25]\n",
    "df_mse = pd.DataFrame(columns=['desc','mse'])\n",
    "\n",
    "for i in range(len(bd_list)):\n",
    "    bd_list[i].sort_values('MSE', inplace = True)\n",
    "    list_MSE.append(bd_list[i].iloc[0,0])\n",
    "     \n",
    "df_mse['desc'] = [5,10,15,20,25]\n",
    "df_mse['mse'] = list_MSE\n",
    "\n",
    "fig, ax = plt.subplots()  # Create a figure and an axes.\n",
    "ax.set_xticks(x)\n",
    "\n",
    "plt.xlabel('Number of Descriptor')\n",
    "plt.ylabel('MSE')\n",
    "plt.plot(x, df_mse['mse'], marker='.' ,markersize=12)\n",
    "# plt.savefig('./graph/mse_numdesc_05_10.png', format='png', dpi=1000, bbox_inches=\"tight\")    \n",
    "plt.show()"
   ]
  },
  {
   "cell_type": "markdown",
   "metadata": {},
   "source": [
    "## Histogram pIC50"
   ]
  },
  {
   "cell_type": "code",
   "execution_count": 16,
   "metadata": {},
   "outputs": [
    {
     "data": {
      "image/png": "[encoded data removed]",
      "text/plain": [
       "<Figure size 432x288 with 1 Axes>"
      ]
     },
     "metadata": {
      "needs_background": "light"
     },
     "output_type": "display_data"
    }
   ],
   "source": [
    "import scipy.stats as stats\n",
    "\n",
    "df_target = pd.read_csv(\"data/pIC50_target.csv\")\n",
    "\n",
    "targets = df_target.iloc[:,1]\n",
    "\n",
    "noise = targets\n",
    "density = stats.gaussian_kde(noise)\n",
    "n, x, _ = plt.hist(noise, bins=10, histtype=u'step', density=True)  \n",
    "plt.plot(x, density(x))\n",
    "plt.xlabel('pIC50')\n",
    "plt.ylabel('Frequency')\n",
    "plt.savefig('./graph/hist_pic50.png', format='png', dpi=1000, bbox_inches=\"tight\")\n",
    "plt.show()"
   ]
  },
  {
   "cell_type": "markdown",
   "metadata": {},
   "source": [
    "## Histogram MSE choosen desc"
   ]
  },
  {
   "cell_type": "code",
   "execution_count": 17,
   "metadata": {},
   "outputs": [
    {
     "data": {
      "image/png": "[encoded data removed]",
      "text/plain": [
       "<Figure size 432x288 with 1 Axes>"
      ]
     },
     "metadata": {
      "needs_background": "light"
     },
     "output_type": "display_data"
    }
   ],
   "source": [
    "df = desc_raw.copy()\n",
    "mse_temp = df.iloc[:,0]\n",
    "\n",
    "noise = mse_temp\n",
    "density = stats.gaussian_kde(noise)\n",
    "n, x, _ = plt.hist(noise, bins=10, histtype=u'step', density=True)  \n",
    "plt.plot(x, density(x))\n",
    "plt.xlabel('MSE')\n",
    "plt.ylabel('Frequency')\n",
    "plt.savefig('./graph/hist_mse_05_10.png', format='png', dpi=1000, bbox_inches=\"tight\")    \n",
    "plt.show()"
   ]
  },
  {
   "cell_type": "markdown",
   "metadata": {},
   "source": [
    "## Plot For RBF"
   ]
  },
  {
   "cell_type": "code",
   "execution_count": 209,
   "metadata": {},
   "outputs": [],
   "source": [
    "param_grid={\n",
    "            'C': 10,\n",
    "            'gamma': 'scale',\n",
    "            'epsilon':0.1\n",
    "}\n",
    "c = param_grid['C']\n",
    "gam = param_grid['gamma']\n",
    "eps = param_grid['epsilon']\n",
    "\n",
    "model = SVR(kernel=\"rbf\", C= c, gamma= gam, epsilon=eps)\n",
    "model.fit(scale_x_train, y_train)\n",
    "y_train_pred = model.predict(scale_x_train)\n",
    "y_test_pred = model.predict(scale_x_test)\n",
    "\n",
    "ytr = ytrain.iloc[:,0]\n",
    "ytr.tolist()\n",
    "yts = ytest.iloc[:,0]\n",
    "yts.tolist()\n",
    "\n",
    "train_res = ytr - y_train_pred\n",
    "test_res = yts - y_test_pred\n"
   ]
  },
  {
   "cell_type": "markdown",
   "metadata": {},
   "source": [
    "### Actual Vs. Predict"
   ]
  },
  {
   "cell_type": "code",
   "execution_count": 210,
   "metadata": {},
   "outputs": [
    {
     "data": {
      "image/png": "[encoded data removed]",
      "text/plain": [
       "<Figure size 432x288 with 1 Axes>"
      ]
     },
     "metadata": {
      "needs_background": "light"
     },
     "output_type": "display_data"
    }
   ],
   "source": [
    "fig = plt.figure()\n",
    "ax = plt.gca()\n",
    "ax.scatter(y_train, y_train_pred, color=\"b\" , label='Train')\n",
    "ax.scatter(y_test, y_test_pred, color=\"r\" , label='Test',marker='^')\n",
    "ax.legend(loc='top left')\n",
    "# ax.plot([0, 1], [0, 1], color=\"black\",transform=ax.transAxes)\n",
    "dl = np.linspace(*ax.get_xlim())\n",
    "ax.plot(dl, dl, color=\"black\")\n",
    "ax.set_aspect('equal')\n",
    "\n",
    "plt.xlabel('Experimental pIC50')\n",
    "plt.ylabel('Predicted pIC50')\n",
    "# plt.title('RBF Actual Vs Predict')\n",
    "plt.savefig('./graph/actpred_rbf_05_10.png', format='png', dpi=1000, bbox_inches=\"tight\")    \n",
    "plt.show()"
   ]
  },
  {
   "cell_type": "markdown",
   "metadata": {},
   "source": [
    "### Residual Plot"
   ]
  },
  {
   "cell_type": "code",
   "execution_count": 211,
   "metadata": {},
   "outputs": [
    {
     "data": {
      "image/png": "[encoded data removed]",
      "text/plain": [
       "<Figure size 432x288 with 1 Axes>"
      ]
     },
     "metadata": {
      "needs_background": "light"
     },
     "output_type": "display_data"
    }
   ],
   "source": [
    "fig = plt.figure()\n",
    "ax = plt.gca()\n",
    "ax.scatter(y_train_pred, train_res, color=\"b\" , label='Train' ,marker='o')\n",
    "ax.scatter(y_test_pred, test_res, color=\"red\" , label='test' ,marker='^')\n",
    "ax.legend(loc='top right')\n",
    "ax.axhline(linewidth= 1, color='black', linestyle='dashed')\n",
    "# plt.title('Residual SVR RBF')\n",
    "plt.ylim(-3,3)\n",
    "plt.xlabel('Predicted Values')\n",
    "plt.ylabel('Residuals')\n",
    "plt.savefig('./graph/res_rbf_05_10.png', format='png', dpi=1000, bbox_inches=\"tight\")    \n",
    "plt.show()"
   ]
  },
  {
   "cell_type": "markdown",
   "metadata": {},
   "source": [
    "## Plot For Linear"
   ]
  },
  {
   "cell_type": "code",
   "execution_count": 213,
   "metadata": {},
   "outputs": [],
   "source": [
    "param_grid={\n",
    "            'C': 10,\n",
    "            'degree': 1,\n",
    "            'epsilon': 0.1\n",
    "}\n",
    "\n",
    "c = param_grid['C']\n",
    "deg = param_grid['degree']\n",
    "eps = param_grid['epsilon']\n",
    "\n",
    "model_lin = SVR(kernel=\"linear\", C= c, degree= deg, epsilon=eps)\n",
    "model_lin.fit(scale_x_train, y_train)\n",
    "y_train_pred = model_lin.predict(scale_x_train)\n",
    "y_test_pred = model_lin.predict(scale_x_test)\n",
    "\n",
    "ytr = ytrain.iloc[:,0]\n",
    "ytr.tolist()\n",
    "yts = ytest.iloc[:,0]\n",
    "yts.tolist()\n",
    "\n",
    "train_res = ytr - y_train_pred\n",
    "test_res = yts - y_test_pred"
   ]
  },
  {
   "cell_type": "markdown",
   "metadata": {},
   "source": [
    "### Actual Vs. Predict"
   ]
  },
  {
   "cell_type": "code",
   "execution_count": 214,
   "metadata": {},
   "outputs": [
    {
     "data": {
      "image/png": "[encoded data removed]",
      "text/plain": [
       "<Figure size 432x288 with 1 Axes>"
      ]
     },
     "metadata": {
      "needs_background": "light"
     },
     "output_type": "display_data"
    }
   ],
   "source": [
    "fig = plt.figure()\n",
    "ax = plt.gca()\n",
    "ax.scatter(y_train, y_train_pred, color=\"b\" , label='Train')\n",
    "ax.scatter(y_test, y_test_pred, color=\"r\" , label='Test',marker='^')\n",
    "ax.legend(loc='top left')\n",
    "# ax.plot([0, 1], [0, 1], color=\"black\",transform=ax.transAxes)\n",
    "dl = np.linspace(*ax.get_xlim())\n",
    "ax.plot(dl, dl, color=\"black\")\n",
    "ax.set_aspect('equal')\n",
    "\n",
    "plt.xlabel('Experimental pIC50')\n",
    "plt.ylabel('Predicted pIC50')\n",
    "# plt.title('RBF Actual Vs Predict')\n",
    "plt.savefig('./graph/actpred_linear_05_10.png', format='png', dpi=1000, bbox_inches=\"tight\")    \n",
    "plt.show()"
   ]
  },
  {
   "cell_type": "markdown",
   "metadata": {},
   "source": [
    "### Residual Plot"
   ]
  },
  {
   "cell_type": "code",
   "execution_count": 215,
   "metadata": {},
   "outputs": [
    {
     "data": {
      "image/png": "[encoded data removed]",
      "text/plain": [
       "<Figure size 432x288 with 1 Axes>"
      ]
     },
     "metadata": {
      "needs_background": "light"
     },
     "output_type": "display_data"
    }
   ],
   "source": [
    "fig = plt.figure()\n",
    "ax = plt.gca()\n",
    "ax.scatter(y_train_pred, train_res, color=\"b\" , label='Train' ,marker='o')\n",
    "ax.scatter(y_test_pred, test_res, color=\"red\" , label='test' ,marker='^')\n",
    "ax.legend(loc='top right')\n",
    "ax.axhline(linewidth= 1, color='black', linestyle='dashed')\n",
    "# plt.title('Residual SVR RBF')\n",
    "plt.ylim(-3,3)\n",
    "plt.xlabel('Predicted Values')\n",
    "plt.ylabel('Residuals')\n",
    "plt.savefig('./graph/res_linear_05_10.png', format='png', dpi=1000, bbox_inches=\"tight\")    \n",
    "plt.show()"
   ]
  },
  {
   "cell_type": "markdown",
   "metadata": {},
   "source": [
    "## Plot For Poly"
   ]
  },
  {
   "cell_type": "code",
   "execution_count": 216,
   "metadata": {},
   "outputs": [],
   "source": [
    "param_grid={\n",
    "            'C': 10,\n",
    "            'degree': 2,\n",
    "            'epsilon': 0.1\n",
    "}\n",
    "\n",
    "c = param_grid['C']\n",
    "deg = param_grid['degree']\n",
    "eps = param_grid['epsilon']\n",
    "\n",
    "modelPol = SVR(kernel=\"poly\", C= c, degree= deg, epsilon=eps)\n",
    "modelPol.fit(scale_x_train, y_train)\n",
    "y_train_pred = modelPol.predict(scale_x_train)\n",
    "y_test_pred = modelPol.predict(scale_x_test)\n",
    "\n",
    "ytr = ytrain.iloc[:,0]\n",
    "ytr.tolist()\n",
    "yts = ytest.iloc[:,0]\n",
    "yts.tolist()\n",
    "\n",
    "train_res = ytr - y_train_pred\n",
    "test_res = yts - y_test_pred"
   ]
  },
  {
   "cell_type": "markdown",
   "metadata": {},
   "source": [
    "### Actual Vs. Predict"
   ]
  },
  {
   "cell_type": "code",
   "execution_count": 219,
   "metadata": {},
   "outputs": [
    {
     "data": {
      "image/png": "[encoded data removed]",
      "text/plain": [
       "<Figure size 432x288 with 1 Axes>"
      ]
     },
     "metadata": {
      "needs_background": "light"
     },
     "output_type": "display_data"
    }
   ],
   "source": [
    "fig = plt.figure()\n",
    "ax = plt.gca()\n",
    "ax.scatter(y_train, y_train_pred, color=\"b\" , label='Train')\n",
    "ax.scatter(y_test, y_test_pred, color=\"r\" , label='Test',marker='^')\n",
    "ax.legend(loc='top left')\n",
    "# ax.plot([0, 1], [0, 1], color=\"black\",transform=ax.transAxes)\n",
    "dl = np.linspace(*ax.get_xlim())\n",
    "ax.plot(dl, dl, color=\"black\")\n",
    "ax.set_aspect('equal')\n",
    "\n",
    "plt.xlabel('Experimental pIC50')\n",
    "plt.ylabel('Predicted pIC50')\n",
    "# plt.title('RBF Actual Vs Predict')\n",
    "plt.savefig('./graph/actpred_poly_05_10.png', format='png', dpi=1000, bbox_inches=\"tight\")    \n",
    "plt.show()"
   ]
  },
  {
   "cell_type": "markdown",
   "metadata": {},
   "source": [
    "### Residual Plot"
   ]
  },
  {
   "cell_type": "code",
   "execution_count": 220,
   "metadata": {},
   "outputs": [
    {
     "data": {
      "image/png": "[encoded data removed]",
      "text/plain": [
       "<Figure size 432x288 with 1 Axes>"
      ]
     },
     "metadata": {
      "needs_background": "light"
     },
     "output_type": "display_data"
    }
   ],
   "source": [
    "fig = plt.figure()\n",
    "ax = plt.gca()\n",
    "ax.scatter(y_train_pred, train_res, color=\"b\" , label='Train' ,marker='o')\n",
    "ax.scatter(y_test_pred, test_res, color=\"red\" , label='test' ,marker='^')\n",
    "ax.legend(loc='top right')\n",
    "ax.axhline(linewidth= 1, color='black', linestyle='dashed')\n",
    "# plt.title('Residual SVR RBF')\n",
    "plt.ylim(-3,3)\n",
    "plt.xlabel('Predicted Values')\n",
    "plt.ylabel('Residuals')\n",
    "plt.savefig('./graph/res_poly_05_10.png', format='png', dpi=1000, bbox_inches=\"tight\")    \n",
    "plt.show()"
   ]
  }
 ],
 "metadata": {
  "kernelspec": {
   "display_name": "Python 3",
   "language": "python",
   "name": "python3"
  },
  "language_info": {
   "codemirror_mode": {
    "name": "ipython",
    "version": 3
   },
   "file_extension": ".py",
   "mimetype": "text/x-python",
   "name": "python",
   "nbconvert_exporter": "python",
   "pygments_lexer": "ipython3",
   "version": "3.8.2"
  },
  "toc": {
   "base_numbering": 1,
   "nav_menu": {},
   "number_sections": true,
   "sideBar": true,
   "skip_h1_title": false,
   "title_cell": "Table of Contents",
   "title_sidebar": "Contents",
   "toc_cell": false,
   "toc_position": {
    "height": "calc(100% - 180px)",
    "left": "10px",
    "top": "150px",
    "width": "303px"
   },
   "toc_section_display": true,
   "toc_window_display": true
  },
  "varInspector": {
   "cols": {
    "lenName": 16,
    "lenType": 16,
    "lenVar": 40
   },
   "kernels_config": {
    "python": {
     "delete_cmd_postfix": "",
     "delete_cmd_prefix": "del ",
     "library": "var_list.py",
     "varRefreshCmd": "print(var_dic_list())"
    },
    "r": {
     "delete_cmd_postfix": ") ",
     "delete_cmd_prefix": "rm(",
     "library": "var_list.r",
     "varRefreshCmd": "cat(var_dic_list()) "
    }
   },
   "oldHeight": 593,
   "position": {
    "height": "40px",
    "left": "785.6px",
    "right": "20px",
    "top": "151px",
    "width": "695.6px"
   },
   "types_to_exclude": [
    "module",
    "function",
    "builtin_function_or_method",
    "instance",
    "_Feature"
   ],
   "varInspector_section_display": "none",
   "window_display": false
  }
 },
 "nbformat": 4,
 "nbformat_minor": 4
}
