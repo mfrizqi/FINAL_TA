{
 "cells": [
  {
   "cell_type": "code",
   "execution_count": 64,
   "metadata": {},
   "outputs": [],
   "source": [
    "import joblib\n",
    "import pandas as pd\n",
    "import numpy as np\n",
    "from tqdm import tqdm_notebook as tqdm\n",
    "from matplotlib import pyplot as plt\n",
    "from sklearn.preprocessing import MinMaxScaler\n",
    "from sklearn.model_selection import cross_validate\n",
    "from sklearn.svm import SVR\n",
    "\n",
    "import warnings\n",
    "\n",
    "warnings.filterwarnings('ignore')"
   ]
  },
  {
   "cell_type": "code",
   "execution_count": 65,
   "metadata": {},
   "outputs": [
    {
     "data": {
      "text/plain": [
       "(74, 1876)"
      ]
     },
     "execution_count": 65,
     "metadata": {},
     "output_type": "execute_result"
    }
   ],
   "source": [
    "# dataset = pd.read_csv(\"./dataset/train.csv\", index_col=0)\n",
    "dataset = joblib.load('./p/05_neue/train.pkl')\n",
    "dataset.shape"
   ]
  },
  {
   "cell_type": "code",
   "execution_count": 72,
   "metadata": {},
   "outputs": [],
   "source": [
    "kernel = \"rbf\" # --> diganti dengan rentang rbf, poly, sigmoid\n",
    "svr_model = SVR(kernel=kernel, gamma=\"scale\")\n",
    "y_train = dataset.iloc[:,[-1]].values\n",
    "y_train = y_train.ravel()\n",
    "cv_list = {}"
   ]
  },
  {
   "cell_type": "code",
   "execution_count": 73,
   "metadata": {},
   "outputs": [
    {
     "data": {
      "application/vnd.jupyter.widget-view+json": {
       "model_id": "0c08a7629ae54c27ac11c13470f69ce7",
       "version_major": 2,
       "version_minor": 0
      },
      "text/plain": [
       "HBox(children=(FloatProgress(value=0.0, max=5.0), HTML(value='')))"
      ]
     },
     "metadata": {},
     "output_type": "display_data"
    },
    {
     "name": "stdout",
     "output_type": "stream",
     "text": [
      "['Kier3', 'GATS7v', 'SpMAD_Dzv', 'SpAbs_Dzp', 'WPATH']\n",
      "['SpDiam_Dt', 'SpMax_Dt', 'piPC1', 'SHssNH', 'SpMin8_Bhp', 'nHBAcc_Lipinski', 'AATS8v', 'GRAV-2', 'SpAD_Dzp', 'ETA_Eta_F']\n",
      "['EE_Dzp', 'WNSA-1', 'GRAV-2', 'ATSC0c', 'ETA_Eta_F_L', 'AATS8v', 'SpMin8_Bhp', 'MOMI-X', 'SHssNH', 'SHBa', 'nssNH', 'WPSA-3', 'GRAVH-3', 'Tp', 'MOMI-Y']\n",
      "['piPC1', 'PNSA-2', 'VR3_D', 'ATS0m', 'SpMax6_Bhs', 'SpDiam_Dzv', 'MOMI-X', 'Kier3', 'SpAD_D', 'WPSA-3', 'IC3', 'EE_Dt', 'ATS6m', 'GATS7v', 'GRAV-4', 'nHBDon', 'SpAD_Dzv', 'nssNH', 'SpAD_Dzp', 'ATSC0c']\n",
      "['SpMAD_Dzp', 'nHBa', 'ATS4m', 'nHBd', 'EE_Dzp', 'SssNH', 'nHBAcc', 'Kier2', 'GRAV-1', 'nHssNH', 'SpMin8_Bhp', 'ATS8m', 'WNSA-2', 'ATS0m', 'ATS7m', 'SpMax5_Bhm', 'MW', 'VR3_D', 'MLFER_L', 'SM1_Dze', 'Kier3', 'GRAVH-2', 'nN', 'Tv', 'SpMax6_Bhs']\n",
      "\n"
     ]
    }
   ],
   "source": [
    "combos=[5,10,15,20,25]\n",
    "for i in tqdm(range(5)):\n",
    "#     [mse_trial, temp, mse, sel_desc] = joblib.load(\"./pickle/sel_desc_{}.p\".format(i))\n",
    "#     [mse_trial, temp, mse, sel_desc] = joblib.load(f\"./p/05_neue/raw_{combos[i]}.pkl\")\n",
    "    sel_desc = joblib.load(f\"./p/05_neue/best_{combos[i]}.pkl\")\n",
    "    print(sel_desc)\n",
    "    X_train = dataset.loc[:,sel_desc].values\n",
    "    cv_score = cross_validate(svr_model, X_train, y_train, cv=10, scoring=('r2', 'neg_mean_squared_error'))\n",
    "    mse_score = [-x for x in cv_score[\"test_neg_mean_squared_error\"]]\n",
    "    mse_score = np.average(mse_score)\n",
    "    cv_list[i] = mse_score"
   ]
  },
  {
   "cell_type": "code",
   "execution_count": 69,
   "metadata": {},
   "outputs": [
    {
     "data": {
      "text/plain": [
       "['./p/05_neue/cv_list_sigmoid.p']"
      ]
     },
     "execution_count": 69,
     "metadata": {},
     "output_type": "execute_result"
    }
   ],
   "source": [
    "joblib.dump(cv_list, \"./p/05_neue/cv_list_{}.p\".format(kernel))"
   ]
  },
  {
   "cell_type": "code",
   "execution_count": null,
   "metadata": {},
   "outputs": [],
   "source": []
  },
  {
   "cell_type": "code",
   "execution_count": null,
   "metadata": {},
   "outputs": [],
   "source": []
  }
 ],
 "metadata": {
  "kernelspec": {
   "display_name": "Python 3",
   "language": "python",
   "name": "python3"
  },
  "language_info": {
   "codemirror_mode": {
    "name": "ipython",
    "version": 3
   },
   "file_extension": ".py",
   "mimetype": "text/x-python",
   "name": "python",
   "nbconvert_exporter": "python",
   "pygments_lexer": "ipython3",
   "version": "3.8.2"
  },
  "toc": {
   "base_numbering": 1,
   "nav_menu": {},
   "number_sections": true,
   "sideBar": true,
   "skip_h1_title": false,
   "title_cell": "Table of Contents",
   "title_sidebar": "Contents",
   "toc_cell": false,
   "toc_position": {},
   "toc_section_display": true,
   "toc_window_display": false
  },
  "varInspector": {
   "cols": {
    "lenName": 16,
    "lenType": 16,
    "lenVar": 40
   },
   "kernels_config": {
    "python": {
     "delete_cmd_postfix": "",
     "delete_cmd_prefix": "del ",
     "library": "var_list.py",
     "varRefreshCmd": "print(var_dic_list())"
    },
    "r": {
     "delete_cmd_postfix": ") ",
     "delete_cmd_prefix": "rm(",
     "library": "var_list.r",
     "varRefreshCmd": "cat(var_dic_list()) "
    }
   },
   "types_to_exclude": [
    "module",
    "function",
    "builtin_function_or_method",
    "instance",
    "_Feature"
   ],
   "window_display": false
  }
 },
 "nbformat": 4,
 "nbformat_minor": 2
}
