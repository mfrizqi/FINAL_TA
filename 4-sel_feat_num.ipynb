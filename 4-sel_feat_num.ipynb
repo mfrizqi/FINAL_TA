{
 "cells": [
  {
   "cell_type": "code",
   "execution_count": 5,
   "metadata": {},
   "outputs": [],
   "source": [
    "import joblib\n",
    "import pandas as pd\n",
    "import numpy as np\n",
    "from tqdm import tqdm_notebook as tqdm\n",
    "from matplotlib import pyplot as plt\n",
    "from sklearn.preprocessing import MinMaxScaler\n",
    "from sklearn.model_selection import cross_validate\n",
    "from sklearn.svm import SVR\n",
    "\n",
    "import warnings\n",
    "\n",
    "warnings.filterwarnings('ignore')"
   ]
  },
  {
   "cell_type": "code",
   "execution_count": 17,
   "metadata": {},
   "outputs": [
    {
     "data": {
      "text/plain": [
       "(74, 1876)"
      ]
     },
     "execution_count": 17,
     "metadata": {},
     "output_type": "execute_result"
    }
   ],
   "source": [
    "dataset = joblib.load('./p/05_low/train.pkl')\n",
    "dataset.shape"
   ]
  },
  {
   "cell_type": "code",
   "execution_count": 14,
   "metadata": {},
   "outputs": [],
   "source": [
    "kernel = \"sigmoid\" # --> diganti dengan rentang rbf, poly, sigmoid\n",
    "svr_model = SVR(kernel=kernel, gamma=\"scale\")\n",
    "y_train = dataset.iloc[:,[-1]].values\n",
    "y_train = y_train.ravel()\n",
    "cv_list = {}"
   ]
  },
  {
   "cell_type": "code",
   "execution_count": 15,
   "metadata": {},
   "outputs": [
    {
     "data": {
      "application/vnd.jupyter.widget-view+json": {
       "model_id": "5200518291bc4412b36e5268e0399f5d",
       "version_major": 2,
       "version_minor": 0
      },
      "text/plain": [
       "HBox(children=(FloatProgress(value=0.0, max=5.0), HTML(value='')))"
      ]
     },
     "metadata": {},
     "output_type": "display_data"
    },
    {
     "name": "stdout",
     "output_type": "stream",
     "text": [
      "['ATS1s', 'ETA_Alpha', 'EE_Dzp', 'EE_Dzv', 'AATS8v']\n",
      "['AATS8m', 'SP-2', 'Kier2', 'SpAD_Dzp', 'MOMI-X', 'SpMAD_D', 'ATS3m', 'topoRadius', 'Tv', 'SpDiam_D']\n",
      "['SpMAD_Dzv', 'TopoPSA', 'ETA_Beta', 'ATS6m', 'SpDiam_D', 'SpMAD_D', 'ETA_Eta_R', 'AATS8m', 'ETA_Eta_F_L', 'EE_Dzv', 'EE_Dzp', 'SpMAD_Dzp', 'ATS8m', 'nHBint9', 'nBonds']\n",
      "['SpMAD_Dzv', 'Vv', 'SpAbs_Dzp', 'ETA_Beta_s', 'WNSA-2', 'nN', 'ETA_Eta_F_L', 'VR3_D', 'ATS6m', 'ATS5m', 'SpMAD_D', 'GRAVH-1', 'Zagreb', 'nHBAcc_Lipinski', 'GRAV-2', 'MOMI-X', 'SpAD_D', 'Tv', 'ATS8m', 'MW']\n",
      "['SpDiam_D', 'GRAVH-1', 'GRAV-6', 'ATS0m', 'ATS8m', 'ATS5s', 'WPSA-3', 'SssNH', 'ETA_Beta_s', 'SP-0', 'SpMAD_Dzv', 'SpMAD_Dzp', 'ATS5m', 'SHBa', 'WPATH', 'Tp', 'nHBAcc_Lipinski', 'MLFER_L', 'WTPT-3', 'WNSA-3', 'MOMI-Y', 'GRAVH-2', 'SpAD_Dzp', 'topoRadius', 'SP-4']\n",
      "\n"
     ]
    }
   ],
   "source": [
    "combos=[5,10,15,20,25]\n",
    "for i in tqdm(range(5)):\n",
    "#     [mse_trial, temp, mse, sel_desc] = joblib.load(\"./pickle/sel_desc_{}.p\".format(i))\n",
    "#     [mse_trial, temp, mse, sel_desc] = joblib.load(f\"./p/05_neue/raw_{combos[i]}.pkl\")\n",
    "    sel_desc = joblib.load(f\"./p/05_low/best_{combos[i]}.pkl\")\n",
    "    print(sel_desc)\n",
    "    X_train = dataset.loc[:,sel_desc].values\n",
    "    cv_score = cross_validate(svr_model, X_train, y_train, cv=10, scoring=('r2', 'neg_mean_squared_error'))\n",
    "    mse_score = [-x for x in cv_score[\"test_neg_mean_squared_error\"]]\n",
    "    mse_score = np.average(mse_score)\n",
    "    cv_list[i] = mse_score"
   ]
  },
  {
   "cell_type": "code",
   "execution_count": 16,
   "metadata": {},
   "outputs": [
    {
     "data": {
      "text/plain": [
       "['./p/05_low/cv_list_sigmoid.p']"
      ]
     },
     "execution_count": 16,
     "metadata": {},
     "output_type": "execute_result"
    }
   ],
   "source": [
    "joblib.dump(cv_list, \"./p/05_low/cv_list_{}.p\".format(kernel))"
   ]
  },
  {
   "cell_type": "code",
   "execution_count": null,
   "metadata": {},
   "outputs": [],
   "source": []
  },
  {
   "cell_type": "code",
   "execution_count": null,
   "metadata": {},
   "outputs": [],
   "source": []
  }
 ],
 "metadata": {
  "kernelspec": {
   "display_name": "Python 3",
   "language": "python",
   "name": "python3"
  },
  "language_info": {
   "codemirror_mode": {
    "name": "ipython",
    "version": 3
   },
   "file_extension": ".py",
   "mimetype": "text/x-python",
   "name": "python",
   "nbconvert_exporter": "python",
   "pygments_lexer": "ipython3",
   "version": "3.8.2"
  },
  "toc": {
   "base_numbering": 1,
   "nav_menu": {},
   "number_sections": true,
   "sideBar": true,
   "skip_h1_title": false,
   "title_cell": "Table of Contents",
   "title_sidebar": "Contents",
   "toc_cell": false,
   "toc_position": {},
   "toc_section_display": true,
   "toc_window_display": false
  },
  "varInspector": {
   "cols": {
    "lenName": 16,
    "lenType": 16,
    "lenVar": 40
   },
   "kernels_config": {
    "python": {
     "delete_cmd_postfix": "",
     "delete_cmd_prefix": "del ",
     "library": "var_list.py",
     "varRefreshCmd": "print(var_dic_list())"
    },
    "r": {
     "delete_cmd_postfix": ") ",
     "delete_cmd_prefix": "rm(",
     "library": "var_list.r",
     "varRefreshCmd": "cat(var_dic_list()) "
    }
   },
   "types_to_exclude": [
    "module",
    "function",
    "builtin_function_or_method",
    "instance",
    "_Feature"
   ],
   "window_display": false
  }
 },
 "nbformat": 4,
 "nbformat_minor": 2
}
