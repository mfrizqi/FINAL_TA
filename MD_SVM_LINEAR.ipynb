{
 "cells": [
  {
   "cell_type": "code",
   "execution_count": 1,
   "metadata": {},
   "outputs": [],
   "source": [
    "import pandas as pd \n",
    "import numpy as np\n",
    "import pickle\n",
    "import matplotlib.pyplot as plt\n",
    "import joblib\n",
    "\n",
    "from sklearn import svm\n",
    "from sklearn.svm import SVR\n",
    "from sklearn.model_selection import GridSearchCV\n",
    "from sklearn.model_selection import train_test_split\n",
    "from sklearn.metrics import r2_score\n",
    "from sklearn.metrics import mean_squared_error\n",
    "from sklearn.preprocessing import MinMaxScaler\n",
    "from sklearn.preprocessing import StandardScaler\n",
    "from tqdm import tqdm\n",
    "\n",
    "import warnings\n",
    "warnings.filterwarnings('ignore')"
   ]
  },
  {
   "cell_type": "markdown",
   "metadata": {},
   "source": [
    "# Single SVM"
   ]
  },
  {
   "cell_type": "code",
   "execution_count": 2,
   "metadata": {
    "code_folding": []
   },
   "outputs": [],
   "source": [
    "bestDesc = joblib.load('./pickle/with_temp/best_25Desc_neue.pkl')\n",
    "train = pickle.load(open('./pickle/train.pkl', 'rb'))\n",
    "test = pickle.load(open('./pickle/test.pkl', 'rb'))"
   ]
  },
  {
   "cell_type": "code",
   "execution_count": 3,
   "metadata": {},
   "outputs": [
    {
     "data": {
      "text/plain": [
       "((74, 5),\n",
       " (19, 5),\n",
       " ['SpMAD_Dzp', 'nHeavyAtom', 'GRAV-4', 'GRAV-6', 'SpDiam_Dzp'])"
      ]
     },
     "execution_count": 3,
     "metadata": {},
     "output_type": "execute_result"
    }
   ],
   "source": [
    "dfTrain = train.loc[:,bestDesc]\n",
    "dfTest = test.loc[:,bestDesc]\n",
    "\n",
    "dfTrain.shape, dfTest.shape, bestDesc"
   ]
  },
  {
   "cell_type": "code",
   "execution_count": 56,
   "metadata": {
    "code_folding": []
   },
   "outputs": [],
   "source": [
    "# 0. Preparation Data\n",
    "x_train = dfTrain.iloc[:,:]\n",
    "x_test = dfTest.iloc[:,:]\n",
    "y_train = train.iloc[:, [-1]]\n",
    "y_test = test.iloc[:,[-1]]"
   ]
  },
  {
   "cell_type": "code",
   "execution_count": 5,
   "metadata": {},
   "outputs": [],
   "source": [
    "# Feature Scaler Using MinMaxScaler()\n",
    "scaler = MinMaxScaler()\n",
    "scaler.fit(x_train)\n",
    "scale_x_train = scaler.transform(x_train)\n",
    "scale_x_test = scaler.transform(x_test)"
   ]
  },
  {
   "cell_type": "code",
   "execution_count": 6,
   "metadata": {
    "code_folding": []
   },
   "outputs": [],
   "source": [
    "param_grid={\n",
    "            'C': [0.1, 1, 10, 100, 1000],\n",
    "            'degree': [1],\n",
    "}"
   ]
  },
  {
   "cell_type": "code",
   "execution_count": 7,
   "metadata": {},
   "outputs": [],
   "source": [
    "gsc = GridSearchCV(\n",
    "        estimator=SVR(kernel='poly'),\n",
    "        param_grid=param_grid,\n",
    "        cv=5, scoring='neg_mean_squared_error', verbose=4, n_jobs=-1)"
   ]
  },
  {
   "cell_type": "code",
   "execution_count": 8,
   "metadata": {},
   "outputs": [
    {
     "name": "stdout",
     "output_type": "stream",
     "text": [
      "Fitting 5 folds for each of 5 candidates, totalling 25 fits\n"
     ]
    },
    {
     "name": "stderr",
     "output_type": "stream",
     "text": [
      "[Parallel(n_jobs=-1)]: Using backend LokyBackend with 4 concurrent workers.\n",
      "[Parallel(n_jobs=-1)]: Done  17 tasks      | elapsed:    6.7s\n",
      "[Parallel(n_jobs=-1)]: Done  25 out of  25 | elapsed:    7.5s remaining:    0.0s\n",
      "[Parallel(n_jobs=-1)]: Done  25 out of  25 | elapsed:    7.5s finished\n"
     ]
    },
    {
     "data": {
      "text/plain": [
       "GridSearchCV(cv=5, error_score=nan,\n",
       "             estimator=SVR(C=1.0, cache_size=200, coef0=0.0, degree=3,\n",
       "                           epsilon=0.1, gamma='scale', kernel='poly',\n",
       "                           max_iter=-1, shrinking=True, tol=0.001,\n",
       "                           verbose=False),\n",
       "             iid='deprecated', n_jobs=-1,\n",
       "             param_grid={'C': [0.1, 1, 10, 100, 1000], 'degree': [1]},\n",
       "             pre_dispatch='2*n_jobs', refit=True, return_train_score=False,\n",
       "             scoring='neg_mean_squared_error', verbose=4)"
      ]
     },
     "execution_count": 8,
     "metadata": {},
     "output_type": "execute_result"
    }
   ],
   "source": [
    "gsc.fit(scale_x_train, y_train)"
   ]
  },
  {
   "cell_type": "code",
   "execution_count": 9,
   "metadata": {},
   "outputs": [
    {
     "data": {
      "text/plain": [
       "{'C': 100, 'degree': 1}"
      ]
     },
     "execution_count": 9,
     "metadata": {},
     "output_type": "execute_result"
    }
   ],
   "source": [
    "gsc.best_params_"
   ]
  },
  {
   "cell_type": "code",
   "execution_count": 10,
   "metadata": {},
   "outputs": [
    {
     "name": "stdout",
     "output_type": "stream",
     "text": [
      "Best score: -0.2256692877066066\n"
     ]
    }
   ],
   "source": [
    "# View the accuracy score\n",
    "print('Best score:', gsc.best_score_) "
   ]
  },
  {
   "cell_type": "code",
   "execution_count": 11,
   "metadata": {},
   "outputs": [
    {
     "name": "stdout",
     "output_type": "stream",
     "text": [
      "Best C: 100\n",
      "Best Kernel: poly\n",
      "Best Degree: 1\n"
     ]
    }
   ],
   "source": [
    "# View the best parameters for the model found using grid search\n",
    "print('Best C:',gsc.best_estimator_.C) \n",
    "print('Best Kernel:',gsc.best_estimator_.kernel)\n",
    "print('Best Degree:',gsc.best_estimator_.degree)"
   ]
  },
  {
   "cell_type": "code",
   "execution_count": 12,
   "metadata": {},
   "outputs": [
    {
     "data": {
      "text/plain": [
       "SVR(C=100, cache_size=200, coef0=0.0, degree=1, epsilon=0.1, gamma='scale',\n",
       "    kernel='poly', max_iter=-1, shrinking=True, tol=0.001, verbose=False)"
      ]
     },
     "execution_count": 12,
     "metadata": {},
     "output_type": "execute_result"
    }
   ],
   "source": [
    "model = SVR(C=gsc.best_params_['C'],kernel=\"poly\", degree=gsc.best_params_['degree'])\n",
    "model"
   ]
  },
  {
   "cell_type": "code",
   "execution_count": 13,
   "metadata": {},
   "outputs": [
    {
     "data": {
      "text/plain": [
       "SVR(C=100, cache_size=200, coef0=0.0, degree=1, epsilon=0.1, gamma='scale',\n",
       "    kernel='poly', max_iter=-1, shrinking=True, tol=0.001, verbose=False)"
      ]
     },
     "execution_count": 13,
     "metadata": {},
     "output_type": "execute_result"
    }
   ],
   "source": [
    "model.fit(scale_x_train, y_train)"
   ]
  },
  {
   "cell_type": "code",
   "execution_count": 14,
   "metadata": {},
   "outputs": [
    {
     "data": {
      "text/plain": [
       "(array([6.10558121, 7.01652171, 6.81515535, 7.02179832, 7.37435662,\n",
       "        7.15207206, 5.97625945, 6.00257797, 7.65351966, 7.27277819,\n",
       "        6.49843881, 7.89225472, 6.31902878, 6.55452099, 6.34847506,\n",
       "        6.7863566 , 7.30784447, 6.82744741, 6.82122083, 6.89205459,\n",
       "        7.86171997, 7.17082   , 6.12083616, 7.19413034, 5.99840788,\n",
       "        7.63399572, 7.68531797, 6.56707099, 6.76789282, 8.47001847,\n",
       "        6.50753454, 7.42229309, 7.9989738 , 6.9088566 , 6.17108057,\n",
       "        8.20369417, 6.38856612, 7.3869545 , 6.80245285, 6.06602508,\n",
       "        6.92292992, 7.85869183, 7.50084643, 7.68605752, 7.00522056,\n",
       "        6.70636358, 6.85146422, 7.22509804, 8.05289124, 6.96816971,\n",
       "        7.90578404, 6.74715976, 7.35189682, 7.65061201, 6.02075408,\n",
       "        6.93047624, 6.11510278, 7.74743144, 7.05780409, 6.5119061 ,\n",
       "        8.09562776, 6.7064193 , 6.78456821, 6.84214512, 7.54930329,\n",
       "        6.41457752, 7.51455755, 7.00612982, 7.53446931, 7.00665002,\n",
       "        6.96436048, 6.8102439 , 6.36824059, 8.1680103 ]),\n",
       " array([6.26053775, 6.34892316, 6.44901288, 6.14498264, 7.82704069,\n",
       "        7.00582076, 6.90125864, 6.40595494, 7.5011039 , 6.41810369,\n",
       "        7.03139462, 7.12220408, 6.42090294, 6.75741528, 6.83681208,\n",
       "        5.65083902, 7.01652171, 7.33784991, 7.54858416]))"
      ]
     },
     "execution_count": 14,
     "metadata": {},
     "output_type": "execute_result"
    }
   ],
   "source": [
    "y_train_pred = model.predict(scale_x_train)\n",
    "y_test_pred = model.predict(scale_x_test)\n",
    "y_train_pred, y_test_pred"
   ]
  },
  {
   "cell_type": "code",
   "execution_count": 15,
   "metadata": {},
   "outputs": [
    {
     "data": {
      "text/plain": [
       "(0.6580718493491047, 0.44870625929559205)"
      ]
     },
     "execution_count": 15,
     "metadata": {},
     "output_type": "execute_result"
    }
   ],
   "source": [
    "r2_train = r2_score(y_train,y_train_pred)\n",
    "r2_test = r2_score(y_test,y_test_pred)\n",
    "\n",
    "r2_train, r2_test"
   ]
  },
  {
   "cell_type": "code",
   "execution_count": 17,
   "metadata": {},
   "outputs": [
    {
     "name": "stdout",
     "output_type": "stream",
     "text": [
      "[5.638] 6.105581209470048\n",
      "[7.086] 7.016521711850632\n",
      "[7.921] 6.815155354998441\n",
      "[7.921] 7.021798320975935\n",
      "[7.046] 7.3743566184594185\n",
      "[7.921] 7.152072061436942\n",
      "[6.076] 5.976259454265214\n",
      "[6.194] 6.0025779664216286\n",
      "[8.155] 7.653519659227103\n",
      "[7.638] 7.272778187393473\n",
      "[6.197] 6.498438806886074\n",
      "[8.301] 7.892254722285688\n",
      "[6.038] 6.319028776214142\n",
      "[7.276] 6.554520986992318\n",
      "[6.167] 6.348475064137719\n",
      "[6.523] 6.786356598689994\n",
      "[7.745] 7.307844468352786\n",
      "[6.288] 6.827447405380869\n",
      "[7.091] 6.821220833243305\n",
      "[7.244] 6.892054592123389\n",
      "[8.155] 7.861719967090866\n",
      "[6.62] 7.170820003691605\n",
      "[6.509] 6.120836158302214\n",
      "[6.721] 7.19413033963784\n",
      "[6.31] 5.9984078764416635\n",
      "[8.155] 7.633995722984227\n",
      "[7.569] 7.685317974020594\n",
      "[6.366] 6.567070991381658\n",
      "[6.456] 6.767892823136978\n",
      "[8.155] 8.470018468099656\n",
      "[7.678] 6.507534544676534\n",
      "[7.523] 7.422293094967503\n",
      "[8.046] 7.998973796034792\n",
      "[6.512] 6.908856597393341\n",
      "[6.076] 6.171080565456907\n",
      "[7.553] 8.203694170959384\n",
      "[5.886] 6.388566116864157\n",
      "[7.585] 7.386954503747947\n",
      "[6.444] 6.802452850526751\n",
      "[5.886] 6.066025079434975\n",
      "[6.903] 6.922929922930538\n",
      "[7.959] 7.858691830440679\n",
      "[8.155] 7.5008464256164045\n",
      "[8.301] 7.686057515637262\n",
      "[8.097] 7.005220555115474\n",
      "[6.468] 6.706363584261825\n",
      "[6.959] 6.851464224549235\n",
      "[6.959] 7.225098043380998\n",
      "[7.886] 8.052891243997724\n",
      "[6.733] 6.968169713799997\n",
      "[7.921] 7.905784042853187\n",
      "[7.244] 6.747159758917436\n",
      "[8.046] 7.351896818540044\n",
      "[8.] 7.6506120064758845\n",
      "[5.721] 6.020754077262299\n",
      "[7.26] 6.930476235313253\n",
      "[6.347] 6.115102783628035\n",
      "[7.222] 7.74743144370976\n",
      "[7.119] 7.057804085022357\n",
      "[6.824] 6.5119060985916795\n",
      "[8.] 8.095627760940065\n",
      "[6.971] 6.7064193006334305\n",
      "[6.468] 6.784568209847325\n",
      "[6.057] 6.842145124354746\n",
      "[7.523] 7.549303289685926\n",
      "[6.108] 6.414577519360111\n",
      "[7.337] 7.5145575484586145\n",
      "[6.921] 7.006129821677777\n",
      "[8.046] 7.534469313519284\n",
      "[6.824] 7.0066500224212716\n",
      "[7.301] 6.964360483566369\n",
      "[6.71] 6.810243900101599\n",
      "[6.468] 6.368240590079014\n",
      "[7.62] 8.16801030369064\n"
     ]
    }
   ],
   "source": [
    "for i in range(len(y_train)):\n",
    "    print(y_train.values[i], y_train_pred[i])"
   ]
  },
  {
   "cell_type": "code",
   "execution_count": 18,
   "metadata": {
    "code_folding": []
   },
   "outputs": [
    {
     "name": "stdout",
     "output_type": "stream",
     "text": [
      "[4.456] 6.260537752318643\n",
      "[4.347] 6.348923161974798\n",
      "[6.065] 6.449012884702003\n",
      "[6.886] 6.144982640032889\n",
      "[7.796] 7.827040691994884\n",
      "[8.187] 7.005820763187134\n",
      "[7.076] 6.901258636186557\n",
      "[6.046] 6.405954939456168\n",
      "[8.155] 7.501103895464811\n",
      "[7.174] 6.418103691396719\n",
      "[8.155] 7.031394615572057\n",
      "[7.678] 7.122204075350768\n",
      "[5.347] 6.420902939238412\n",
      "[6.947] 6.757415275420416\n",
      "[6.319] 6.836812084388302\n",
      "[5.854] 5.650839021742345\n",
      "[7.699] 7.016521711850632\n",
      "[7.194] 7.337849911990733\n",
      "[8.046] 7.548584155301714\n"
     ]
    }
   ],
   "source": [
    "for i in range(len(y_test)):\n",
    "    print(y_test.values[i], y_test_pred[i])"
   ]
  },
  {
   "cell_type": "code",
   "execution_count": 131,
   "metadata": {},
   "outputs": [
    {
     "data": {
      "text/html": [
       "<div>\n",
       "<style scoped>\n",
       "    .dataframe tbody tr th:only-of-type {\n",
       "        vertical-align: middle;\n",
       "    }\n",
       "\n",
       "    .dataframe tbody tr th {\n",
       "        vertical-align: top;\n",
       "    }\n",
       "\n",
       "    .dataframe thead th {\n",
       "        text-align: right;\n",
       "    }\n",
       "</style>\n",
       "<table border=\"1\" class=\"dataframe\">\n",
       "  <thead>\n",
       "    <tr style=\"text-align: right;\">\n",
       "      <th></th>\n",
       "      <th>pIC50</th>\n",
       "      <th>pred</th>\n",
       "      <th>pos</th>\n",
       "    </tr>\n",
       "  </thead>\n",
       "  <tbody>\n",
       "    <tr>\n",
       "      <th>0</th>\n",
       "      <td>4.456</td>\n",
       "      <td>6.260538</td>\n",
       "      <td>test</td>\n",
       "    </tr>\n",
       "    <tr>\n",
       "      <th>1</th>\n",
       "      <td>4.347</td>\n",
       "      <td>6.348923</td>\n",
       "      <td>test</td>\n",
       "    </tr>\n",
       "    <tr>\n",
       "      <th>2</th>\n",
       "      <td>6.046</td>\n",
       "      <td>6.405955</td>\n",
       "      <td>test</td>\n",
       "    </tr>\n",
       "    <tr>\n",
       "      <th>3</th>\n",
       "      <td>6.710</td>\n",
       "      <td>6.810244</td>\n",
       "      <td>train</td>\n",
       "    </tr>\n",
       "    <tr>\n",
       "      <th>4</th>\n",
       "      <td>6.947</td>\n",
       "      <td>6.757415</td>\n",
       "      <td>test</td>\n",
       "    </tr>\n",
       "    <tr>\n",
       "      <th>5</th>\n",
       "      <td>6.038</td>\n",
       "      <td>6.319029</td>\n",
       "      <td>train</td>\n",
       "    </tr>\n",
       "    <tr>\n",
       "      <th>6</th>\n",
       "      <td>6.903</td>\n",
       "      <td>6.922930</td>\n",
       "      <td>train</td>\n",
       "    </tr>\n",
       "    <tr>\n",
       "      <th>7</th>\n",
       "      <td>7.699</td>\n",
       "      <td>7.016522</td>\n",
       "      <td>test</td>\n",
       "    </tr>\n",
       "    <tr>\n",
       "      <th>8</th>\n",
       "      <td>7.119</td>\n",
       "      <td>7.057804</td>\n",
       "      <td>train</td>\n",
       "    </tr>\n",
       "    <tr>\n",
       "      <th>9</th>\n",
       "      <td>7.086</td>\n",
       "      <td>7.016522</td>\n",
       "      <td>train</td>\n",
       "    </tr>\n",
       "    <tr>\n",
       "      <th>10</th>\n",
       "      <td>7.194</td>\n",
       "      <td>7.337850</td>\n",
       "      <td>test</td>\n",
       "    </tr>\n",
       "    <tr>\n",
       "      <th>11</th>\n",
       "      <td>7.585</td>\n",
       "      <td>7.386955</td>\n",
       "      <td>train</td>\n",
       "    </tr>\n",
       "    <tr>\n",
       "      <th>12</th>\n",
       "      <td>6.347</td>\n",
       "      <td>6.115103</td>\n",
       "      <td>train</td>\n",
       "    </tr>\n",
       "    <tr>\n",
       "      <th>13</th>\n",
       "      <td>6.512</td>\n",
       "      <td>6.908857</td>\n",
       "      <td>train</td>\n",
       "    </tr>\n",
       "    <tr>\n",
       "      <th>14</th>\n",
       "      <td>6.057</td>\n",
       "      <td>6.842145</td>\n",
       "      <td>train</td>\n",
       "    </tr>\n",
       "    <tr>\n",
       "      <th>15</th>\n",
       "      <td>6.108</td>\n",
       "      <td>6.414578</td>\n",
       "      <td>train</td>\n",
       "    </tr>\n",
       "    <tr>\n",
       "      <th>16</th>\n",
       "      <td>7.678</td>\n",
       "      <td>6.507535</td>\n",
       "      <td>train</td>\n",
       "    </tr>\n",
       "    <tr>\n",
       "      <th>17</th>\n",
       "      <td>8.046</td>\n",
       "      <td>7.351897</td>\n",
       "      <td>train</td>\n",
       "    </tr>\n",
       "    <tr>\n",
       "      <th>18</th>\n",
       "      <td>7.921</td>\n",
       "      <td>7.021798</td>\n",
       "      <td>train</td>\n",
       "    </tr>\n",
       "    <tr>\n",
       "      <th>19</th>\n",
       "      <td>7.921</td>\n",
       "      <td>7.152072</td>\n",
       "      <td>train</td>\n",
       "    </tr>\n",
       "    <tr>\n",
       "      <th>20</th>\n",
       "      <td>7.921</td>\n",
       "      <td>6.815155</td>\n",
       "      <td>train</td>\n",
       "    </tr>\n",
       "    <tr>\n",
       "      <th>21</th>\n",
       "      <td>6.076</td>\n",
       "      <td>5.976259</td>\n",
       "      <td>train</td>\n",
       "    </tr>\n",
       "    <tr>\n",
       "      <th>22</th>\n",
       "      <td>6.310</td>\n",
       "      <td>5.998408</td>\n",
       "      <td>train</td>\n",
       "    </tr>\n",
       "    <tr>\n",
       "      <th>23</th>\n",
       "      <td>6.194</td>\n",
       "      <td>6.002578</td>\n",
       "      <td>train</td>\n",
       "    </tr>\n",
       "    <tr>\n",
       "      <th>24</th>\n",
       "      <td>5.721</td>\n",
       "      <td>6.020754</td>\n",
       "      <td>train</td>\n",
       "    </tr>\n",
       "    <tr>\n",
       "      <th>25</th>\n",
       "      <td>5.638</td>\n",
       "      <td>6.105581</td>\n",
       "      <td>train</td>\n",
       "    </tr>\n",
       "    <tr>\n",
       "      <th>26</th>\n",
       "      <td>6.319</td>\n",
       "      <td>6.836812</td>\n",
       "      <td>test</td>\n",
       "    </tr>\n",
       "    <tr>\n",
       "      <th>27</th>\n",
       "      <td>6.509</td>\n",
       "      <td>6.120836</td>\n",
       "      <td>train</td>\n",
       "    </tr>\n",
       "    <tr>\n",
       "      <th>28</th>\n",
       "      <td>6.167</td>\n",
       "      <td>6.348475</td>\n",
       "      <td>train</td>\n",
       "    </tr>\n",
       "    <tr>\n",
       "      <th>29</th>\n",
       "      <td>6.065</td>\n",
       "      <td>6.449013</td>\n",
       "      <td>test</td>\n",
       "    </tr>\n",
       "    <tr>\n",
       "      <th>...</th>\n",
       "      <td>...</td>\n",
       "      <td>...</td>\n",
       "      <td>...</td>\n",
       "    </tr>\n",
       "    <tr>\n",
       "      <th>63</th>\n",
       "      <td>7.523</td>\n",
       "      <td>7.422293</td>\n",
       "      <td>train</td>\n",
       "    </tr>\n",
       "    <tr>\n",
       "      <th>64</th>\n",
       "      <td>8.155</td>\n",
       "      <td>7.501104</td>\n",
       "      <td>test</td>\n",
       "    </tr>\n",
       "    <tr>\n",
       "      <th>65</th>\n",
       "      <td>7.523</td>\n",
       "      <td>7.549303</td>\n",
       "      <td>train</td>\n",
       "    </tr>\n",
       "    <tr>\n",
       "      <th>66</th>\n",
       "      <td>6.468</td>\n",
       "      <td>6.706364</td>\n",
       "      <td>train</td>\n",
       "    </tr>\n",
       "    <tr>\n",
       "      <th>67</th>\n",
       "      <td>7.046</td>\n",
       "      <td>7.374357</td>\n",
       "      <td>train</td>\n",
       "    </tr>\n",
       "    <tr>\n",
       "      <th>68</th>\n",
       "      <td>7.337</td>\n",
       "      <td>7.514558</td>\n",
       "      <td>train</td>\n",
       "    </tr>\n",
       "    <tr>\n",
       "      <th>69</th>\n",
       "      <td>8.187</td>\n",
       "      <td>7.005821</td>\n",
       "      <td>test</td>\n",
       "    </tr>\n",
       "    <tr>\n",
       "      <th>70</th>\n",
       "      <td>8.046</td>\n",
       "      <td>7.998974</td>\n",
       "      <td>train</td>\n",
       "    </tr>\n",
       "    <tr>\n",
       "      <th>71</th>\n",
       "      <td>7.959</td>\n",
       "      <td>7.858692</td>\n",
       "      <td>train</td>\n",
       "    </tr>\n",
       "    <tr>\n",
       "      <th>72</th>\n",
       "      <td>8.000</td>\n",
       "      <td>8.095628</td>\n",
       "      <td>train</td>\n",
       "    </tr>\n",
       "    <tr>\n",
       "      <th>73</th>\n",
       "      <td>8.155</td>\n",
       "      <td>8.470018</td>\n",
       "      <td>train</td>\n",
       "    </tr>\n",
       "    <tr>\n",
       "      <th>74</th>\n",
       "      <td>8.155</td>\n",
       "      <td>7.633996</td>\n",
       "      <td>train</td>\n",
       "    </tr>\n",
       "    <tr>\n",
       "      <th>75</th>\n",
       "      <td>7.620</td>\n",
       "      <td>8.168010</td>\n",
       "      <td>train</td>\n",
       "    </tr>\n",
       "    <tr>\n",
       "      <th>76</th>\n",
       "      <td>8.155</td>\n",
       "      <td>7.861720</td>\n",
       "      <td>train</td>\n",
       "    </tr>\n",
       "    <tr>\n",
       "      <th>77</th>\n",
       "      <td>7.553</td>\n",
       "      <td>8.203694</td>\n",
       "      <td>train</td>\n",
       "    </tr>\n",
       "    <tr>\n",
       "      <th>78</th>\n",
       "      <td>8.301</td>\n",
       "      <td>7.892255</td>\n",
       "      <td>train</td>\n",
       "    </tr>\n",
       "    <tr>\n",
       "      <th>79</th>\n",
       "      <td>7.796</td>\n",
       "      <td>7.827041</td>\n",
       "      <td>test</td>\n",
       "    </tr>\n",
       "    <tr>\n",
       "      <th>80</th>\n",
       "      <td>8.097</td>\n",
       "      <td>7.005221</td>\n",
       "      <td>train</td>\n",
       "    </tr>\n",
       "    <tr>\n",
       "      <th>81</th>\n",
       "      <td>7.222</td>\n",
       "      <td>7.747431</td>\n",
       "      <td>train</td>\n",
       "    </tr>\n",
       "    <tr>\n",
       "      <th>82</th>\n",
       "      <td>7.886</td>\n",
       "      <td>8.052891</td>\n",
       "      <td>train</td>\n",
       "    </tr>\n",
       "    <tr>\n",
       "      <th>83</th>\n",
       "      <td>7.569</td>\n",
       "      <td>7.685318</td>\n",
       "      <td>train</td>\n",
       "    </tr>\n",
       "    <tr>\n",
       "      <th>84</th>\n",
       "      <td>8.155</td>\n",
       "      <td>7.500846</td>\n",
       "      <td>train</td>\n",
       "    </tr>\n",
       "    <tr>\n",
       "      <th>85</th>\n",
       "      <td>8.046</td>\n",
       "      <td>7.534469</td>\n",
       "      <td>train</td>\n",
       "    </tr>\n",
       "    <tr>\n",
       "      <th>86</th>\n",
       "      <td>8.046</td>\n",
       "      <td>7.548584</td>\n",
       "      <td>test</td>\n",
       "    </tr>\n",
       "    <tr>\n",
       "      <th>87</th>\n",
       "      <td>7.244</td>\n",
       "      <td>6.747160</td>\n",
       "      <td>train</td>\n",
       "    </tr>\n",
       "    <tr>\n",
       "      <th>88</th>\n",
       "      <td>8.301</td>\n",
       "      <td>7.686058</td>\n",
       "      <td>train</td>\n",
       "    </tr>\n",
       "    <tr>\n",
       "      <th>89</th>\n",
       "      <td>6.620</td>\n",
       "      <td>7.170820</td>\n",
       "      <td>train</td>\n",
       "    </tr>\n",
       "    <tr>\n",
       "      <th>90</th>\n",
       "      <td>8.155</td>\n",
       "      <td>7.653520</td>\n",
       "      <td>train</td>\n",
       "    </tr>\n",
       "    <tr>\n",
       "      <th>91</th>\n",
       "      <td>7.921</td>\n",
       "      <td>7.905784</td>\n",
       "      <td>train</td>\n",
       "    </tr>\n",
       "    <tr>\n",
       "      <th>92</th>\n",
       "      <td>8.000</td>\n",
       "      <td>7.650612</td>\n",
       "      <td>train</td>\n",
       "    </tr>\n",
       "  </tbody>\n",
       "</table>\n",
       "<p>93 rows × 3 columns</p>\n",
       "</div>"
      ],
      "text/plain": [
       "    pIC50      pred    pos\n",
       "0   4.456  6.260538   test\n",
       "1   4.347  6.348923   test\n",
       "2   6.046  6.405955   test\n",
       "3   6.710  6.810244  train\n",
       "4   6.947  6.757415   test\n",
       "5   6.038  6.319029  train\n",
       "6   6.903  6.922930  train\n",
       "7   7.699  7.016522   test\n",
       "8   7.119  7.057804  train\n",
       "9   7.086  7.016522  train\n",
       "10  7.194  7.337850   test\n",
       "11  7.585  7.386955  train\n",
       "12  6.347  6.115103  train\n",
       "13  6.512  6.908857  train\n",
       "14  6.057  6.842145  train\n",
       "15  6.108  6.414578  train\n",
       "16  7.678  6.507535  train\n",
       "17  8.046  7.351897  train\n",
       "18  7.921  7.021798  train\n",
       "19  7.921  7.152072  train\n",
       "20  7.921  6.815155  train\n",
       "21  6.076  5.976259  train\n",
       "22  6.310  5.998408  train\n",
       "23  6.194  6.002578  train\n",
       "24  5.721  6.020754  train\n",
       "25  5.638  6.105581  train\n",
       "26  6.319  6.836812   test\n",
       "27  6.509  6.120836  train\n",
       "28  6.167  6.348475  train\n",
       "29  6.065  6.449013   test\n",
       "..    ...       ...    ...\n",
       "63  7.523  7.422293  train\n",
       "64  8.155  7.501104   test\n",
       "65  7.523  7.549303  train\n",
       "66  6.468  6.706364  train\n",
       "67  7.046  7.374357  train\n",
       "68  7.337  7.514558  train\n",
       "69  8.187  7.005821   test\n",
       "70  8.046  7.998974  train\n",
       "71  7.959  7.858692  train\n",
       "72  8.000  8.095628  train\n",
       "73  8.155  8.470018  train\n",
       "74  8.155  7.633996  train\n",
       "75  7.620  8.168010  train\n",
       "76  8.155  7.861720  train\n",
       "77  7.553  8.203694  train\n",
       "78  8.301  7.892255  train\n",
       "79  7.796  7.827041   test\n",
       "80  8.097  7.005221  train\n",
       "81  7.222  7.747431  train\n",
       "82  7.886  8.052891  train\n",
       "83  7.569  7.685318  train\n",
       "84  8.155  7.500846  train\n",
       "85  8.046  7.534469  train\n",
       "86  8.046  7.548584   test\n",
       "87  7.244  6.747160  train\n",
       "88  8.301  7.686058  train\n",
       "89  6.620  7.170820  train\n",
       "90  8.155  7.653520  train\n",
       "91  7.921  7.905784  train\n",
       "92  8.000  7.650612  train\n",
       "\n",
       "[93 rows x 3 columns]"
      ]
     },
     "execution_count": 131,
     "metadata": {},
     "output_type": "execute_result"
    }
   ],
   "source": [
    "# idx_train = y_train\n",
    "# idx_test = y_test\n",
    "tr_pos = ['train'] * len(y_train_pred)\n",
    "ts_pos = ['test'] * len(y_test_pred)\n",
    "\n",
    "#Create dataframe for y_true\n",
    "ytrue = y_train\n",
    "ytrue = ytrue.append(y_test)\n",
    "\n",
    "#Create dataframe for y_pred\n",
    "pred = np.append(y_train_pred,y_test_pred)\n",
    "pred_pos = np.append(tr_pos,ts_pos)\n",
    "ypred = pd.DataFrame(pred, columns=['pred'])\n",
    "ypred['pos'] = pred_pos\n",
    "ypred.index = ytrue.index\n",
    "\n",
    "#Create dataframe for y_true & y_pred\n",
    "linear_pred = pd.DataFrame()\n",
    "linear_pred = pd.concat([ytrue, ypred], axis=1, ignore_index=False)\n",
    "lin_sort = linear_pred.sort_index(axis=0)\n",
    "# lin_sort.to_csv (r'data\\linear_pred.csv',index=True, header=True,sep=',')\n",
    "lin_sort"
   ]
  },
  {
   "cell_type": "code",
   "execution_count": 77,
   "metadata": {},
   "outputs": [],
   "source": [
    "# train_list = pd.DataFrame()\n",
    "# train_list = train_list.append(idx_train)\n",
    "# train_list['pred'] = y_train_pred\n",
    "# train_list.sort_index(axis=0)"
   ]
  },
  {
   "cell_type": "code",
   "execution_count": 76,
   "metadata": {},
   "outputs": [],
   "source": [
    "# test_list = pd.DataFrame()\n",
    "# test_list = test_list.append(idx_test)\n",
    "# test_list['pred'] = y_test_pred\n",
    "# test_list.sort_index(axis=0)"
   ]
  },
  {
   "cell_type": "code",
   "execution_count": 49,
   "metadata": {},
   "outputs": [],
   "source": [
    "idx_uni = idx_true"
   ]
  },
  {
   "cell_type": "markdown",
   "metadata": {},
   "source": [
    "# Looping  SVM"
   ]
  },
  {
   "cell_type": "code",
   "execution_count": 2,
   "metadata": {},
   "outputs": [],
   "source": [
    "train = pickle.load(open('./pickle/train.pkl', 'rb'))\n",
    "test = pickle.load(open('./pickle/test.pkl', 'rb'))"
   ]
  },
  {
   "cell_type": "code",
   "execution_count": 3,
   "metadata": {},
   "outputs": [],
   "source": [
    "param_grid={\n",
    "            'C': [0.1, 1, 10, 100, 1000],\n",
    "            'epsilon': [0.1, 1, 10, 100, 1000],\n",
    "            'degree': [1],\n",
    "}"
   ]
  },
  {
   "cell_type": "code",
   "execution_count": 4,
   "metadata": {},
   "outputs": [],
   "source": [
    "bd_list = []\n",
    "bd_5 = joblib.load('./pickle/with_temp/best_5desc.pkl')\n",
    "bd_10 = joblib.load('./pickle/with_temp/best_10desc.pkl')\n",
    "bd_15 = joblib.load('./pickle/with_temp/best_15desc.pkl')\n",
    "bd_20 = joblib.load('./pickle/with_temp/best_20desc.pkl')\n",
    "bd_25 = joblib.load('./pickle/with_temp/best_25neue_force2.pkl')\n",
    "bd_list.extend([bd_5,bd_10,bd_15,bd_20,bd_25])"
   ]
  },
  {
   "cell_type": "code",
   "execution_count": 5,
   "metadata": {
    "code_folding": [
     1
    ],
    "scrolled": true
   },
   "outputs": [
    {
     "name": "stderr",
     "output_type": "stream",
     "text": [
      "100%|████████████████████████████████████████████████████████████████████████████████████| 5/5 [00:06<00:00,  1.21s/it]\n"
     ]
    }
   ],
   "source": [
    "r2_linear = pd.DataFrame(columns=['desc','C','degree','epsilon','r2_train','r2_test','train_pred','test_pred'])\n",
    "\n",
    "for i in tqdm(range(len(bd_list))):\n",
    "    # Assign labels to train and test\n",
    "    dfTrain = train.loc[:,bd_list[i]]\n",
    "    dfTest = test.loc[:,bd_list[i]]\n",
    "    \n",
    "    # Preparation data x & y\n",
    "    x_train = dfTrain.iloc[:,:]\n",
    "    x_test = dfTest.iloc[:,:]\n",
    "    y_train = train.iloc[:, [-1]]\n",
    "    y_test = test.iloc[:,[-1]]\n",
    "    \n",
    "    # Feature scaler Using MinMaxScaler()\n",
    "    scaler = MinMaxScaler()\n",
    "    scaler.fit(x_train)\n",
    "    scale_x_train = scaler.transform(x_train)\n",
    "    scale_x_test = scaler.transform(x_test)\n",
    "    \n",
    "    # Search best params for SVR()\n",
    "    gsc = GridSearchCV(\n",
    "        estimator=SVR(kernel='poly'),\n",
    "        param_grid=param_grid,\n",
    "        cv=5, scoring='neg_mean_squared_error', verbose=0, n_jobs=-1)\n",
    "\n",
    "    gsc.fit(scale_x_train, y_train)\n",
    "    param_c = gsc.best_params_['C']\n",
    "    param_degree = gsc.best_params_['degree']\n",
    "    param_epsilon = gsc.best_params_['epsilon']\n",
    "    \n",
    "    # Assign best params to model\n",
    "    model = SVR(C=param_c, kernel=\"linear\", degree=param_degree, epsilon = param_epsilon)\n",
    "    model.fit(scale_x_train, y_train)\n",
    "    \n",
    "    #Calculate prediction\n",
    "    y_train_pred = model.predict(scale_x_train)\n",
    "    y_test_pred = model.predict(scale_x_test)\n",
    "\n",
    "    #Calculate r2 score\n",
    "    r2_train = r2_score(y_train,y_train_pred)\n",
    "    r2_test = r2_score(y_test,y_test_pred)\n",
    "    \n",
    "    r2_linear = r2_linear.append(pd.Series([len(bd_list[i]),param_c, param_degree, param_epsilon, r2_train, r2_test, y_train_pred, y_test_pred], index=r2_linear.columns ), ignore_index=True)"
   ]
  },
  {
   "cell_type": "code",
   "execution_count": 6,
   "metadata": {
    "scrolled": true
   },
   "outputs": [
    {
     "data": {
      "text/html": [
       "<div>\n",
       "<style scoped>\n",
       "    .dataframe tbody tr th:only-of-type {\n",
       "        vertical-align: middle;\n",
       "    }\n",
       "\n",
       "    .dataframe tbody tr th {\n",
       "        vertical-align: top;\n",
       "    }\n",
       "\n",
       "    .dataframe thead th {\n",
       "        text-align: right;\n",
       "    }\n",
       "</style>\n",
       "<table border=\"1\" class=\"dataframe\">\n",
       "  <thead>\n",
       "    <tr style=\"text-align: right;\">\n",
       "      <th></th>\n",
       "      <th>desc</th>\n",
       "      <th>C</th>\n",
       "      <th>degree</th>\n",
       "      <th>epsilon</th>\n",
       "      <th>r2_train</th>\n",
       "      <th>r2_test</th>\n",
       "      <th>train_pred</th>\n",
       "      <th>test_pred</th>\n",
       "    </tr>\n",
       "  </thead>\n",
       "  <tbody>\n",
       "    <tr>\n",
       "      <th>0</th>\n",
       "      <td>5</td>\n",
       "      <td>100</td>\n",
       "      <td>1</td>\n",
       "      <td>0.1</td>\n",
       "      <td>0.646213</td>\n",
       "      <td>0.433277</td>\n",
       "      <td>[6.161268777959449, 7.024454925344428, 6.80713...</td>\n",
       "      <td>[6.290453953988986, 6.369107311264229, 6.46185...</td>\n",
       "    </tr>\n",
       "    <tr>\n",
       "      <th>1</th>\n",
       "      <td>10</td>\n",
       "      <td>1000</td>\n",
       "      <td>1</td>\n",
       "      <td>0.1</td>\n",
       "      <td>0.735066</td>\n",
       "      <td>0.383717</td>\n",
       "      <td>[6.114813422406908, 7.11184879231453, 7.343099...</td>\n",
       "      <td>[6.435277362132436, 6.564580360587596, 6.59022...</td>\n",
       "    </tr>\n",
       "    <tr>\n",
       "      <th>2</th>\n",
       "      <td>15</td>\n",
       "      <td>10</td>\n",
       "      <td>1</td>\n",
       "      <td>0.1</td>\n",
       "      <td>0.646906</td>\n",
       "      <td>0.176670</td>\n",
       "      <td>[6.456152601507498, 7.0942683964659965, 6.7839...</td>\n",
       "      <td>[6.9826344030002945, 7.091034293239329, 6.5321...</td>\n",
       "    </tr>\n",
       "    <tr>\n",
       "      <th>3</th>\n",
       "      <td>20</td>\n",
       "      <td>1000</td>\n",
       "      <td>1</td>\n",
       "      <td>0.1</td>\n",
       "      <td>0.791319</td>\n",
       "      <td>0.216127</td>\n",
       "      <td>[5.7385422873782765, 6.987586679435662, 7.4503...</td>\n",
       "      <td>[6.745952862234116, 6.91371001888292, 6.210958...</td>\n",
       "    </tr>\n",
       "    <tr>\n",
       "      <th>4</th>\n",
       "      <td>25</td>\n",
       "      <td>0.1</td>\n",
       "      <td>1</td>\n",
       "      <td>0.1</td>\n",
       "      <td>0.610495</td>\n",
       "      <td>0.324558</td>\n",
       "      <td>[6.408861473823444, 7.169741568140091, 6.99255...</td>\n",
       "      <td>[6.579959263885294, 6.620212934918186, 6.82138...</td>\n",
       "    </tr>\n",
       "  </tbody>\n",
       "</table>\n",
       "</div>"
      ],
      "text/plain": [
       "  desc     C degree  epsilon  r2_train   r2_test  \\\n",
       "0    5   100      1      0.1  0.646213  0.433277   \n",
       "1   10  1000      1      0.1  0.735066  0.383717   \n",
       "2   15    10      1      0.1  0.646906  0.176670   \n",
       "3   20  1000      1      0.1  0.791319  0.216127   \n",
       "4   25   0.1      1      0.1  0.610495  0.324558   \n",
       "\n",
       "                                          train_pred  \\\n",
       "0  [6.161268777959449, 7.024454925344428, 6.80713...   \n",
       "1  [6.114813422406908, 7.11184879231453, 7.343099...   \n",
       "2  [6.456152601507498, 7.0942683964659965, 6.7839...   \n",
       "3  [5.7385422873782765, 6.987586679435662, 7.4503...   \n",
       "4  [6.408861473823444, 7.169741568140091, 6.99255...   \n",
       "\n",
       "                                           test_pred  \n",
       "0  [6.290453953988986, 6.369107311264229, 6.46185...  \n",
       "1  [6.435277362132436, 6.564580360587596, 6.59022...  \n",
       "2  [6.9826344030002945, 7.091034293239329, 6.5321...  \n",
       "3  [6.745952862234116, 6.91371001888292, 6.210958...  \n",
       "4  [6.579959263885294, 6.620212934918186, 6.82138...  "
      ]
     },
     "execution_count": 6,
     "metadata": {},
     "output_type": "execute_result"
    }
   ],
   "source": [
    "r2_linear"
   ]
  },
  {
   "cell_type": "code",
   "execution_count": 15,
   "metadata": {},
   "outputs": [
    {
     "data": {
      "text/plain": [
       "['./pickle/with_temp/r2_linear_neue.pkl']"
      ]
     },
     "execution_count": 15,
     "metadata": {},
     "output_type": "execute_result"
    }
   ],
   "source": [
    "joblib.dump(r2_linear, './pickle/with_temp/r2_linear_neue.pkl')"
   ]
  }
 ],
 "metadata": {
  "kernelspec": {
   "display_name": "Python 3",
   "language": "python",
   "name": "python3"
  },
  "language_info": {
   "codemirror_mode": {
    "name": "ipython",
    "version": 3
   },
   "file_extension": ".py",
   "mimetype": "text/x-python",
   "name": "python",
   "nbconvert_exporter": "python",
   "pygments_lexer": "ipython3",
   "version": "3.8.2"
  },
  "toc": {
   "base_numbering": 1,
   "nav_menu": {},
   "number_sections": true,
   "sideBar": true,
   "skip_h1_title": false,
   "title_cell": "Table of Contents",
   "title_sidebar": "Contents",
   "toc_cell": false,
   "toc_position": {},
   "toc_section_display": true,
   "toc_window_display": false
  }
 },
 "nbformat": 4,
 "nbformat_minor": 4
}
