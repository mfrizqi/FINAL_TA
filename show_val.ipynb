{
 "cells": [
  {
   "cell_type": "code",
   "execution_count": 1,
   "metadata": {},
   "outputs": [],
   "source": [
    "import joblib\n",
    "import pandas as pd"
   ]
  },
  {
   "cell_type": "code",
   "execution_count": 2,
   "metadata": {},
   "outputs": [
    {
     "data": {
      "text/html": [
       "<div>\n",
       "<style scoped>\n",
       "    .dataframe tbody tr th:only-of-type {\n",
       "        vertical-align: middle;\n",
       "    }\n",
       "\n",
       "    .dataframe tbody tr th {\n",
       "        vertical-align: top;\n",
       "    }\n",
       "\n",
       "    .dataframe thead th {\n",
       "        text-align: right;\n",
       "    }\n",
       "</style>\n",
       "<table border=\"1\" class=\"dataframe\">\n",
       "  <thead>\n",
       "    <tr style=\"text-align: right;\">\n",
       "      <th></th>\n",
       "      <th>desc</th>\n",
       "      <th>C</th>\n",
       "      <th>Gamma</th>\n",
       "      <th>Epsilon</th>\n",
       "      <th>r2_train</th>\n",
       "      <th>r2_test</th>\n",
       "      <th>mse_train</th>\n",
       "      <th>mse_test</th>\n",
       "      <th>train_pred</th>\n",
       "      <th>test_pred</th>\n",
       "    </tr>\n",
       "  </thead>\n",
       "  <tbody>\n",
       "    <tr>\n",
       "      <th>0</th>\n",
       "      <td>5</td>\n",
       "      <td>10</td>\n",
       "      <td>scale</td>\n",
       "      <td>0.1</td>\n",
       "      <td>0.791062</td>\n",
       "      <td>0.572826</td>\n",
       "      <td>0.159999</td>\n",
       "      <td>0.240162</td>\n",
       "      <td>[6.060797071606271, 7.319913330755074, 5.92458...</td>\n",
       "      <td>[7.208959873075485, 7.391254510466805, 6.51627...</td>\n",
       "    </tr>\n",
       "  </tbody>\n",
       "</table>\n",
       "</div>"
      ],
      "text/plain": [
       "  desc   C  Gamma  Epsilon  r2_train   r2_test  mse_train  mse_test  \\\n",
       "0    5  10  scale      0.1  0.791062  0.572826   0.159999  0.240162   \n",
       "\n",
       "                                          train_pred  \\\n",
       "0  [6.060797071606271, 7.319913330755074, 5.92458...   \n",
       "\n",
       "                                           test_pred  \n",
       "0  [7.208959873075485, 7.391254510466805, 6.51627...  "
      ]
     },
     "execution_count": 2,
     "metadata": {},
     "output_type": "execute_result"
    }
   ],
   "source": [
    "rbf = joblib.load('./p/05_low/md_rbf.pkl')\n",
    "# rbf_val = pd.read_csv('./p/0005_n1/rbf_val_20.csv')\n",
    "# rbf_val\n",
    "rbf"
   ]
  },
  {
   "cell_type": "code",
   "execution_count": 6,
   "metadata": {},
   "outputs": [
    {
     "data": {
      "text/html": [
       "<div>\n",
       "<style scoped>\n",
       "    .dataframe tbody tr th:only-of-type {\n",
       "        vertical-align: middle;\n",
       "    }\n",
       "\n",
       "    .dataframe tbody tr th {\n",
       "        vertical-align: top;\n",
       "    }\n",
       "\n",
       "    .dataframe thead th {\n",
       "        text-align: right;\n",
       "    }\n",
       "</style>\n",
       "<table border=\"1\" class=\"dataframe\">\n",
       "  <thead>\n",
       "    <tr style=\"text-align: right;\">\n",
       "      <th></th>\n",
       "      <th>desc</th>\n",
       "      <th>C</th>\n",
       "      <th>Gamma</th>\n",
       "      <th>Epsilon</th>\n",
       "      <th>r2_train</th>\n",
       "      <th>r2_test</th>\n",
       "      <th>mse_train</th>\n",
       "      <th>mse_test</th>\n",
       "      <th>train_pred</th>\n",
       "      <th>test_pred</th>\n",
       "    </tr>\n",
       "  </thead>\n",
       "  <tbody>\n",
       "    <tr>\n",
       "      <th>0</th>\n",
       "      <td>5</td>\n",
       "      <td>10</td>\n",
       "      <td>auto</td>\n",
       "      <td>1</td>\n",
       "      <td>0.398292</td>\n",
       "      <td>0.437504</td>\n",
       "      <td>0.460771</td>\n",
       "      <td>0.316242</td>\n",
       "      <td>[6.54789437859852, 7.444964235113304, 6.157605...</td>\n",
       "      <td>[7.104262299370923, 7.130180802880607, 6.81519...</td>\n",
       "    </tr>\n",
       "  </tbody>\n",
       "</table>\n",
       "</div>"
      ],
      "text/plain": [
       "  desc   C Gamma Epsilon  r2_train   r2_test  mse_train  mse_test  \\\n",
       "0    5  10  auto       1  0.398292  0.437504   0.460771  0.316242   \n",
       "\n",
       "                                          train_pred  \\\n",
       "0  [6.54789437859852, 7.444964235113304, 6.157605...   \n",
       "\n",
       "                                           test_pred  \n",
       "0  [7.104262299370923, 7.130180802880607, 6.81519...  "
      ]
     },
     "execution_count": 6,
     "metadata": {},
     "output_type": "execute_result"
    }
   ],
   "source": [
    "lin = joblib.load('./p/05_low/md_sigmoid.pkl')\n",
    "# lin_val = pd.read_csv('./p/0005_n1/lin_val_20.csv')\n",
    "# lin_val\n",
    "lin"
   ]
  },
  {
   "cell_type": "code",
   "execution_count": 7,
   "metadata": {},
   "outputs": [
    {
     "data": {
      "text/html": [
       "<div>\n",
       "<style scoped>\n",
       "    .dataframe tbody tr th:only-of-type {\n",
       "        vertical-align: middle;\n",
       "    }\n",
       "\n",
       "    .dataframe tbody tr th {\n",
       "        vertical-align: top;\n",
       "    }\n",
       "\n",
       "    .dataframe thead th {\n",
       "        text-align: right;\n",
       "    }\n",
       "</style>\n",
       "<table border=\"1\" class=\"dataframe\">\n",
       "  <thead>\n",
       "    <tr style=\"text-align: right;\">\n",
       "      <th></th>\n",
       "      <th>desc</th>\n",
       "      <th>C</th>\n",
       "      <th>degree</th>\n",
       "      <th>epsilon</th>\n",
       "      <th>r2_train</th>\n",
       "      <th>r2_test</th>\n",
       "      <th>mse_train</th>\n",
       "      <th>mse_test</th>\n",
       "      <th>train_pred</th>\n",
       "      <th>test_pred</th>\n",
       "    </tr>\n",
       "  </thead>\n",
       "  <tbody>\n",
       "    <tr>\n",
       "      <th>0</th>\n",
       "      <td>5</td>\n",
       "      <td>1000</td>\n",
       "      <td>2</td>\n",
       "      <td>0.1</td>\n",
       "      <td>0.72034</td>\n",
       "      <td>0.405353</td>\n",
       "      <td>0.214156</td>\n",
       "      <td>0.334317</td>\n",
       "      <td>[6.371939982418214, 7.156051005682118, 5.67172...</td>\n",
       "      <td>[7.063206412598108, 7.20393888416004, 6.712992...</td>\n",
       "    </tr>\n",
       "  </tbody>\n",
       "</table>\n",
       "</div>"
      ],
      "text/plain": [
       "  desc     C degree  epsilon  r2_train   r2_test  mse_train  mse_test  \\\n",
       "0    5  1000      2      0.1   0.72034  0.405353   0.214156  0.334317   \n",
       "\n",
       "                                          train_pred  \\\n",
       "0  [6.371939982418214, 7.156051005682118, 5.67172...   \n",
       "\n",
       "                                           test_pred  \n",
       "0  [7.063206412598108, 7.20393888416004, 6.712992...  "
      ]
     },
     "execution_count": 7,
     "metadata": {},
     "output_type": "execute_result"
    }
   ],
   "source": [
    "poly = joblib.load('./p/05_low/md_poly.pkl')\n",
    "# poly_val = pd.read_csv('./p/0005_n1/poly_val_20.csv')\n",
    "# poly_val\n",
    "poly"
   ]
  },
  {
   "cell_type": "code",
   "execution_count": null,
   "metadata": {},
   "outputs": [],
   "source": []
  }
 ],
 "metadata": {
  "kernelspec": {
   "display_name": "Python 3",
   "language": "python",
   "name": "python3"
  },
  "language_info": {
   "codemirror_mode": {
    "name": "ipython",
    "version": 3
   },
   "file_extension": ".py",
   "mimetype": "text/x-python",
   "name": "python",
   "nbconvert_exporter": "python",
   "pygments_lexer": "ipython3",
   "version": "3.8.2"
  },
  "toc": {
   "base_numbering": 1,
   "nav_menu": {},
   "number_sections": true,
   "sideBar": true,
   "skip_h1_title": false,
   "title_cell": "Table of Contents",
   "title_sidebar": "Contents",
   "toc_cell": false,
   "toc_position": {},
   "toc_section_display": true,
   "toc_window_display": false
  },
  "varInspector": {
   "cols": {
    "lenName": 16,
    "lenType": 16,
    "lenVar": 40
   },
   "kernels_config": {
    "python": {
     "delete_cmd_postfix": "",
     "delete_cmd_prefix": "del ",
     "library": "var_list.py",
     "varRefreshCmd": "print(var_dic_list())"
    },
    "r": {
     "delete_cmd_postfix": ") ",
     "delete_cmd_prefix": "rm(",
     "library": "var_list.r",
     "varRefreshCmd": "cat(var_dic_list()) "
    }
   },
   "types_to_exclude": [
    "module",
    "function",
    "builtin_function_or_method",
    "instance",
    "_Feature"
   ],
   "window_display": false
  }
 },
 "nbformat": 4,
 "nbformat_minor": 4
}
