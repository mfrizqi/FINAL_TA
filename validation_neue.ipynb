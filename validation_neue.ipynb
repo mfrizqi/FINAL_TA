{
 "cells": [
  {
   "cell_type": "code",
   "execution_count": 1,
   "metadata": {},
   "outputs": [],
   "source": [
    "import copy\n",
    "import joblib\n",
    "import numpy as np\n",
    "import pandas as pd\n",
    "import matplotlib.pyplot as plt\n",
    "\n",
    "from sklearn.svm import SVR\n",
    "from sklearn.model_selection import LeaveOneOut\n",
    "from sklearn.metrics import mean_squared_error\n",
    "from sklearn.preprocessing import MinMaxScaler\n",
    "from sklearn.metrics import r2_score as r2_nilai\n",
    "\n",
    "import warnings\n",
    "warnings.filterwarnings('ignore')"
   ]
  },
  {
   "cell_type": "code",
   "execution_count": 10,
   "metadata": {
    "code_folding": [
     0,
     12,
     65,
     78,
     91,
     97,
     105,
     129,
     135
    ]
   },
   "outputs": [],
   "source": [
    "def r2_score(y, y_pred, y_train=None):\n",
    "    sse = 0; sst = 0\n",
    "    if y_train is None:        \n",
    "        y_mean = np.mean(y)\n",
    "    else:\n",
    "        y_mean = np.mean(y_train)\n",
    "    for i in range(len(y)):\n",
    "        sse += (y[i] - y_pred[i]) ** 2\n",
    "        sst += (y[i] - y_mean) ** 2\n",
    "    r2_score = 1 - (sse / sst)\n",
    "    return r2_score\n",
    "\n",
    "def qsar_param(y, y_pred, d_r2m=True):\n",
    "    results = []\n",
    "    _, _, y = normalize(y)\n",
    "    _, _, y_pred = normalize(y_pred)\n",
    "    y_mean = np.mean(y); y_pred_mean = np.mean(y_pred)\n",
    "    # calculate r2\n",
    "    num = 0; den_1 = 0; den_2 = 0\n",
    "    for i in range(len(y)):\n",
    "        num += (y[i] - y_mean) * (y_pred[i] - y_pred_mean)\n",
    "        den_1 += (y_pred[i] - y_pred_mean) ** 2\n",
    "        den_2 += (y[i] - y_mean) ** 2\n",
    "    r2 = num ** 2 / (den_1 * den_2)\n",
    "    results = {\"r2\": r2}\n",
    "    # calculate k and k_dash\n",
    "    n_data = len(y)\n",
    "    dot_ = 0; y_pred2 = 0; y2 = 0\n",
    "    for i in range(n_data):\n",
    "        dot_ += (y[i] * y_pred[i])\n",
    "        y_pred2 += y_pred[i] ** 2\n",
    "        y2 += y[i] ** 2\n",
    "    k = np.sum(dot_) / np.sum(y_pred2)\n",
    "    k_dash = np.sum(dot_) / np.sum(y2)\n",
    "    results[\"k\"] = k\n",
    "    results[\"k_dash\"] = k_dash\n",
    "    # calculate r2_0 and r2_0_dash\n",
    "    num = 0; num_dash = 0; den = 0; den_dash = 0\n",
    "    for i in range(n_data):\n",
    "        num += (y[i] - (k * y_pred[i])) ** 2\n",
    "        num_dash += (y_pred[i] - (k_dash * y[i])) ** 2\n",
    "        den += (y[i] - y_mean) ** 2\n",
    "        den_dash += (y_pred[i] - y_pred_mean) ** 2\n",
    "    r2_0 = 1 - (num / den)\n",
    "    r2_0_dash = 1 - (num_dash / den_dash)\n",
    "    #results.append(r2_0)\n",
    "    #results.append(r2_0_dash)\n",
    "    r2r0 = (r2 - r2_0)/r2\n",
    "    r2r0_dash = (r2 - r2_0_dash)/r2\n",
    "    results[\"r2r0\"] = r2r0\n",
    "    results[\"r2r0_dash\"] = r2r0_dash\n",
    "    r0r0_dash = np.abs(r2_0 - r2_0_dash)\n",
    "    results[\"r0r0_dash\"] = r0r0_dash\n",
    "    # calculate rm2 and rm2_dash\n",
    "    rm2 = r2 * (1 - np.sqrt(r2 - r2_0))\n",
    "    rm2_dash = r2 * (1 - np.sqrt(r2 - r2_0_dash))\n",
    "    #results.append(rm2)\n",
    "    #results.append(rm2_dash)\n",
    "    # calculate rm2_bar and d_rm2\n",
    "    rm2_bar = (rm2 + rm2_dash) / 2\n",
    "    d_rm2 = np.abs(rm2 - rm2_dash)\n",
    "    results[\"rm2_bar\"] = rm2_bar\n",
    "    results[\"d_rm2\"] = d_rm2\n",
    "    return results\n",
    "\n",
    "def q2_loo(model, X, y):\n",
    "    loo = LeaveOneOut()\n",
    "    y_pred = []\n",
    "    for train_index, test_index in loo.split(X):\n",
    "        X_train, X_test = X[train_index], X[test_index]\n",
    "        y_train, y_test = y[train_index], y[test_index]\n",
    "        model.fit(X_train, y_train)\n",
    "        tmp = model.predict(X_test)\n",
    "        #tmp = scaler_y.inverse_transform(tmp)\n",
    "        y_pred.append(list(tmp)[0])\n",
    "    r2 = r2_score(y, y_pred)\n",
    "    return r2\n",
    "\n",
    "def q2_looV2(model, X, y):\n",
    "    loo = LeaveOneOut()\n",
    "    y_pred = []\n",
    "    for train_index, test_index in loo.split(X):\n",
    "        X_train, X_test = X[train_index], X[test_index]\n",
    "        y_train, y_test = y[train_index], y[test_index]\n",
    "        model.fit(X_train, y_train)\n",
    "        tmp = model.predict(X_test)\n",
    "        #tmp = scaler_y.inverse_transform(tmp)\n",
    "        y_pred.append(list(tmp)[0])\n",
    "    r2 = r2_score(y, y_pred)\n",
    "    return r2, y_pred\n",
    "\n",
    "def normalize(X):\n",
    "    max_ = np.max(X, axis=0)\n",
    "    min_ = np.min(X, axis=0)\n",
    "    X_norm = (X - min_) / (max_ - min_)\n",
    "    return max_, min_, X_norm\n",
    "\n",
    "def leverage(XtX, X):\n",
    "    levs = []\n",
    "    for i in range(X.shape[0]):\n",
    "        x = X[i,:]\n",
    "        lev = x.dot(XtX).dot(x.T)\n",
    "        levs.append(lev)\n",
    "    return levs\n",
    "\n",
    "def y_random(estimator, X, y, n=10):\n",
    "    # non-random\n",
    "    estimator.fit(X, y)\n",
    "    y_pred = estimator.predict(X)    \n",
    "    r2_nr = r2_score(y, y_pred)\n",
    "    r_nr = np.sqrt(r2_nr)\n",
    "    n_data = X.shape[0]\n",
    "    # random\n",
    "    r2_rand = []\n",
    "    range_ = list(range(n_data))\n",
    "    for i in range(n):\n",
    "        new_range_ = copy.deepcopy(range_)\n",
    "        np.random.shuffle(new_range_)\n",
    "        y_new = []\n",
    "        for i in new_range_:\n",
    "            y_new.append(y[i])\n",
    "        y_new = np.array(y_new)\n",
    "        estimator.fit(X, y_new)\n",
    "        y_pred = estimator.predict(X)\n",
    "        r2_rand.append(r2_score(y_new, y_pred))\n",
    "    r2_rand_avg = np.average(r2_rand)\n",
    "    rp = r_nr * np.sqrt(r2_nr - r2_rand_avg)\n",
    "    return rp\n",
    "\n",
    "def standardize(X):\n",
    "    mean_ = np.mean(X, axis=0)\n",
    "    std_ = np.std(X, axis=0)\n",
    "    X_norm = (X - mean_) / std_\n",
    "    return X_norm, mean_, std_\n",
    "\n",
    "def applicability_domain(X_train, X_test, y_train_act, \n",
    "                         y_train_pred, y_test_act, y_test_pred):\n",
    "    # using wilson map\n",
    "    X_train, _, _ = standardize(X_train)\n",
    "    X_test, _, _ = standardize(X_test)\n",
    "    n, p = X_train.shape\n",
    "    # calculate standardized residuals\n",
    "    err_train = []; res_train = []\n",
    "    for i in range(len(y_train_pred)):\n",
    "        err_train.append(y_train_act[i] - y_train_pred[i])\n",
    "    rmse_train = np.sqrt(mse_score(y_train_act, y_train_pred))\n",
    "    for i in range(len(y_train_pred)):\n",
    "        tmp = err_train[i]/rmse_train\n",
    "        res_train.append(tmp)\n",
    "    err_test = []; res_test = []\n",
    "    for i in range(len(y_test_pred)):\n",
    "        err_test.append(y_test_act[i] - y_test_pred[i])\n",
    "    rmse_test = np.sqrt(mse_score(y_test_act, y_test_pred))\n",
    "    for i in range(len(y_test_pred)):\n",
    "        tmp = err_test[i]/rmse_test\n",
    "        res_test.append(tmp)    \n",
    "    #res_test = [a/rmse_test for a in err_test]\n",
    "    # calculate leverage\n",
    "    XtX = X_train.T.dot(X_train)\n",
    "    XtX = np.linalg.pinv(XtX)\n",
    "    lev_train = leverage(XtX, X_train)\n",
    "    lev_test = leverage(XtX, X_test)\n",
    "    h_star = (3 * (p + 1)) / n\n",
    "    print(h_star)\n",
    "    #return (lev_train, res_train, lev_test, res_test, h_star)\n",
    "    #plotting\n",
    "    plt.scatter(lev_train, res_train, c='b',marker='o', label='training data')\n",
    "    plt.scatter(lev_test, res_test, c='r',marker='^', label='test data')\n",
    "    plt.axhline(y=3, c='k', linewidth=0.8)\n",
    "    plt.axhline(y=-3, c='k', linewidth=0.8)\n",
    "    plt.axvline(x=h_star, c='k', linewidth=0.8)\n",
    "    #plt.xticks([0,0.1,0.2,0.3,0.4,0.5,h_star,0.6],[0,0.1,0.2,0.3,0.4,0.5,\"h$^*$\",0.6])\n",
    "    plt.text(h_star+0.001, 0, \"h$^*$\")\n",
    "    plt.xlim(0, h_star + 0.1)\n",
    "    plt.ylim(-4, 4)\n",
    "    plt.xlabel('leverage')\n",
    "    plt.ylabel('standardized residual')\n",
    "    plt.legend(loc='upper right')\n",
    "    plt.savefig('./app_domain.png', format='png', dpi=1000, bbox_inches=\"tight\")    \n",
    "    plt.show()\n",
    "    \n",
    "def applicability_domainV2(X_train, X_test, y_train_act, \n",
    "                         y_train_pred, y_test_act, y_test_pred):\n",
    "    # using wilson map\n",
    "    X_train, _, _ = standardize(X_train)\n",
    "    X_test, _, _ = standardize(X_test)\n",
    "    n, p = X_train.shape\n",
    "    # calculate standardized residuals\n",
    "    err_train = []; res_train = []\n",
    "    for i in range(len(y_train_pred)):\n",
    "        err_train.append(y_train_act[i] - y_train_pred[i])\n",
    "    rmse_train = np.sqrt(mean_squared_error(y_train_act, y_train_pred))\n",
    "    for i in range(len(y_train_pred)):\n",
    "        tmp = err_train[i]/rmse_train\n",
    "        res_train.append(tmp)\n",
    "    err_test = []; res_test = []\n",
    "    for i in range(len(y_test_pred)):\n",
    "        err_test.append(y_test_act[i] - y_test_pred[i])\n",
    "    rmse_test = np.sqrt(mean_squared_error(y_test_act, y_test_pred))\n",
    "    for i in range(len(y_test_pred)):\n",
    "        tmp = err_test[i]/rmse_test\n",
    "        res_test.append(tmp)    \n",
    "    #res_test = [a/rmse_test for a in err_test]\n",
    "    # calculate leverage\n",
    "    XtX = X_train.T.dot(X_train)\n",
    "    XtX = np.linalg.pinv(XtX)\n",
    "    lev_train = leverage(XtX, X_train)\n",
    "    lev_test = leverage(XtX, X_test)\n",
    "    h_star = (3 * (p + 1)) / n\n",
    "    print(h_star)\n",
    "    #return (lev_train, res_train, lev_test, res_test, h_star)\n",
    "    #plotting\n",
    "    plt.scatter(lev_train, res_train, c='b',marker='o', label='training data')\n",
    "    plt.scatter(lev_test, res_test, c='r',marker='^', label='test data')\n",
    "    plt.axhline(y=3, c='k', linewidth=0.8)\n",
    "    plt.axhline(y=-3, c='k', linewidth=0.8)\n",
    "    plt.axvline(x=h_star, c='k', linewidth=0.8)\n",
    "    #plt.xticks([0,0.1,0.2,0.3,0.4,0.5,h_star,0.6],[0,0.1,0.2,0.3,0.4,0.5,\"h$^*$\",0.6])\n",
    "    plt.text(h_star+0.001, 0, \"h$^*$\")\n",
    "    plt.xlim(0, h_star + 0.1)\n",
    "    plt.ylim(-4, 4)\n",
    "    plt.xlabel('leverage')\n",
    "    plt.ylabel('standardized residual')\n",
    "    plt.legend(loc='upper right')\n",
    "#     plt.savefig('./app_domain.png', format='png', dpi=1000, bbox_inches=\"tight\")    \n",
    "    plt.show()"
   ]
  },
  {
   "cell_type": "code",
   "execution_count": 26,
   "metadata": {},
   "outputs": [
    {
     "data": {
      "text/plain": [
       "((74, 1876), (19, 1876))"
      ]
     },
     "execution_count": 26,
     "metadata": {},
     "output_type": "execute_result"
    }
   ],
   "source": [
    "data = pd.read_csv(\"data/all_data.csv\")\n",
    "desc = joblib.load('./pickle/with_temp/best_25neue_force1.pkl')\n",
    "# desc = joblib.load('./pickle/with_temp/best_5desc.pkl')\n",
    "df_train = joblib.load('./pickle/train.pkl')\n",
    "df_test = joblib.load('./pickle/test.pkl')\n",
    "df_train.shape, df_test.shape"
   ]
  },
  {
   "cell_type": "markdown",
   "metadata": {},
   "source": [
    "# RBF"
   ]
  },
  {
   "cell_type": "code",
   "execution_count": 32,
   "metadata": {
    "code_folding": []
   },
   "outputs": [
    {
     "data": {
      "text/plain": [
       "(array([0.57968023]),\n",
       "          r2         k    k_dash      r2r0  r2r0_dash  r0r0_dash  rm2_bar  \\\n",
       " 0  0.899651  0.992231  0.986265  0.002404   0.002262   0.000127  0.85844   \n",
       " \n",
       "       d_rm2  \n",
       " 0  0.001252  ,\n",
       "          r2         k    k_dash     r2r0  r2r0_dash  r0r0_dash   rm2_bar  \\\n",
       " 0  0.701628  1.189764  0.782061  0.11429   0.000657   0.079728  0.594753   \n",
       " \n",
       "       d_rm2  \n",
       " 0  0.183619  )"
      ]
     },
     "execution_count": 32,
     "metadata": {},
     "output_type": "execute_result"
    }
   ],
   "source": [
    "X_train = df_train.loc[:,desc].to_numpy()\n",
    "X_test = df_test.loc[:,desc].to_numpy()\n",
    "y_train = df_train.iloc[:,[-1]].to_numpy()\n",
    "y_test = df_test.iloc[:,[-1]].to_numpy()\n",
    "\n",
    "scaler = MinMaxScaler()\n",
    "scaler.fit(X_train)\n",
    "scale_x_train = scaler.transform(X_train)\n",
    "scale_x_test = scaler.transform(X_test)\n",
    "\n",
    "param_grid={\n",
    "            'C': 10,\n",
    "            'gamma': 'scale',\n",
    "            'epsilon':0.1\n",
    "}\n",
    "\n",
    "c = param_grid['C']\n",
    "gam = param_grid['gamma']\n",
    "eps = param_grid['epsilon']\n",
    "\n",
    "model = SVR(kernel=\"rbf\", C=c, gamma=gam, epsilon=eps)\n",
    "\n",
    "model.fit(scale_x_train, y_train)\n",
    "y_train_pred = model.predict(scale_x_train)\n",
    "y_test_pred = model.predict(scale_x_test)\n",
    "\n",
    "q2_rbf = q2_loo(model, scale_x_train, y_train)\n",
    "\n",
    "# print RB Q2, Qsar_train, Qsar_test\n",
    "q2_rbf, pd.DataFrame(qsar_param(y_train, y_train_pred)), pd.DataFrame(qsar_param(y_test, y_test_pred))"
   ]
  },
  {
   "cell_type": "code",
   "execution_count": 13,
   "metadata": {},
   "outputs": [
    {
     "data": {
      "text/plain": [
       "array([0.61089803])"
      ]
     },
     "execution_count": 13,
     "metadata": {},
     "output_type": "execute_result"
    }
   ],
   "source": [
    "rp = y_random(model,scale_x_train,y_train)\n",
    "rp"
   ]
  },
  {
   "cell_type": "code",
   "execution_count": 14,
   "metadata": {
    "code_folding": []
   },
   "outputs": [
    {
     "name": "stdout",
     "output_type": "stream",
     "text": [
      "1.054054054054054\n"
     ]
    },
    {
     "data": {
      "image/png": "[encoded data removed]",
      "text/plain": [
       "<Figure size 432x288 with 1 Axes>"
      ]
     },
     "metadata": {
      "needs_background": "light"
     },
     "output_type": "display_data"
    }
   ],
   "source": [
    "applicability_domainV2(scale_x_train, scale_x_test, y_train,\n",
    "                     y_train_pred, y_test, y_test_pred)"
   ]
  },
  {
   "cell_type": "markdown",
   "metadata": {},
   "source": [
    "# LINEAR"
   ]
  },
  {
   "cell_type": "code",
   "execution_count": 16,
   "metadata": {},
   "outputs": [
    {
     "data": {
      "text/plain": [
       "(array([0.57862683]),\n",
       "          r2         k    k_dash      r2r0  r2r0_dash  r0r0_dash  rm2_bar  \\\n",
       " 0  0.672282  1.038069  0.886641  0.079802   0.012161   0.045474  0.56403   \n",
       " \n",
       "       d_rm2  \n",
       " 0  0.094929  ,\n",
       "          r2         k    k_dash      r2r0  r2r0_dash  r0r0_dash  rm2_bar  \\\n",
       " 0  0.516507  1.304189  0.667768  0.424787   0.008163   0.215189  0.37877   \n",
       " \n",
       "       d_rm2  \n",
       " 0  0.208398  )"
      ]
     },
     "execution_count": 16,
     "metadata": {},
     "output_type": "execute_result"
    }
   ],
   "source": [
    "X_train = df_train.loc[:,desc].to_numpy()\n",
    "X_test = df_test.loc[:,desc].to_numpy()\n",
    "y_train = df_train.iloc[:,[-1]].to_numpy()\n",
    "y_test = df_test.iloc[:,[-1]].to_numpy()\n",
    "\n",
    "scaler = MinMaxScaler()\n",
    "scaler.fit(X_train)\n",
    "scale_x_train = scaler.transform(X_train)\n",
    "scale_x_test = scaler.transform(X_test)\n",
    "\n",
    "param_grid={\n",
    "            'C': 1,\n",
    "            'degree': 1,\n",
    "            'epsilon': 0.1\n",
    "}\n",
    "\n",
    "c = param_grid['C']\n",
    "deg = param_grid['degree']\n",
    "eps = param_grid['epsilon']\n",
    "\n",
    "model_lin = SVR(kernel=\"linear\", C= c, degree= deg, epsilon=eps)\n",
    "\n",
    "model_lin.fit(scale_x_train, y_train)\n",
    "y_train_pred = model_lin.predict(scale_x_train)\n",
    "y_test_pred = model_lin.predict(scale_x_test)\n",
    "\n",
    "q2_lin = q2_loo(model_lin, scale_x_train, y_train)\n",
    "\n",
    "# print RB Q2, Qsar_train, Qsar_test\n",
    "q2_lin, pd.DataFrame(qsar_param(y_train, y_train_pred)), pd.DataFrame(qsar_param(y_test, y_test_pred))"
   ]
  },
  {
   "cell_type": "code",
   "execution_count": 17,
   "metadata": {},
   "outputs": [
    {
     "data": {
      "text/plain": [
       "array([0.62253378])"
      ]
     },
     "execution_count": 17,
     "metadata": {},
     "output_type": "execute_result"
    }
   ],
   "source": [
    "rp_lin = y_random(model_lin,scale_x_train,y_train)\n",
    "rp_lin"
   ]
  },
  {
   "cell_type": "code",
   "execution_count": 18,
   "metadata": {
    "code_folding": []
   },
   "outputs": [
    {
     "name": "stdout",
     "output_type": "stream",
     "text": [
      "1.054054054054054\n"
     ]
    },
    {
     "data": {
      "image/png": "[encoded data removed]",
      "text/plain": [
       "<Figure size 432x288 with 1 Axes>"
      ]
     },
     "metadata": {
      "needs_background": "light"
     },
     "output_type": "display_data"
    }
   ],
   "source": [
    "applicability_domainV2(scale_x_train, scale_x_test, y_train,\n",
    "                     y_train_pred, y_test, y_test_pred)"
   ]
  },
  {
   "cell_type": "markdown",
   "metadata": {},
   "source": [
    "# POLY"
   ]
  },
  {
   "cell_type": "code",
   "execution_count": 19,
   "metadata": {},
   "outputs": [
    {
     "data": {
      "text/plain": [
       "(array([0.61290594]),\n",
       "          r2        k    k_dash      r2r0  r2r0_dash  r0r0_dash   rm2_bar  \\\n",
       " 0  0.692445  1.08326  0.831143  0.245321    0.00751   0.164671  0.524781   \n",
       " \n",
       "      d_rm2  \n",
       " 0  0.23546  ,\n",
       "          r2         k   k_dash      r2r0  r2r0_dash  r0r0_dash   rm2_bar  \\\n",
       " 0  0.514195  1.357086  0.59306  1.121682   0.025024   0.563897  0.289779   \n",
       " \n",
       "       d_rm2  \n",
       " 0  0.332178  )"
      ]
     },
     "execution_count": 19,
     "metadata": {},
     "output_type": "execute_result"
    }
   ],
   "source": [
    "desc = joblib.load('./pickle/with_temp/best_25neue_force1.pkl')\n",
    "X_train = df_train.loc[:,desc].to_numpy()\n",
    "X_test = df_test.loc[:,desc].to_numpy()\n",
    "y_train = df_train.iloc[:,[-1]].to_numpy()\n",
    "y_test = df_test.iloc[:,[-1]].to_numpy()\n",
    "\n",
    "scaler = MinMaxScaler()\n",
    "scaler.fit(X_train)\n",
    "scale_x_train = scaler.transform(X_train)\n",
    "scale_x_test = scaler.transform(X_test)\n",
    "\n",
    "param_grid={\n",
    "            'C': 1,\n",
    "            'degree': 2,\n",
    "            'epsilon': 0.1\n",
    "}\n",
    "\n",
    "c = param_grid['C']\n",
    "deg = param_grid['degree']\n",
    "eps = param_grid['epsilon']\n",
    "\n",
    "model_pol = SVR(kernel=\"poly\", C= c, degree= deg, epsilon=eps)\n",
    "model_pol.fit(scale_x_train,y_train)\n",
    "y_train_pred = model_pol.predict(scale_x_train)\n",
    "y_test_pred = model_pol.predict(scale_x_test)\n",
    "\n",
    "q2_poly = q2_loo(model_pol, scale_x_train, y_train)\n",
    "\n",
    "# print RB Q2, Qsar_train, Qsar_test\n",
    "q2_poly, pd.DataFrame(qsar_param(y_train, y_train_pred)), pd.DataFrame(qsar_param(y_test, y_test_pred))"
   ]
  },
  {
   "cell_type": "code",
   "execution_count": 20,
   "metadata": {},
   "outputs": [
    {
     "data": {
      "text/plain": [
       "array([0.61204923])"
      ]
     },
     "execution_count": 20,
     "metadata": {},
     "output_type": "execute_result"
    }
   ],
   "source": [
    "rp_poly = y_random(model_pol,scale_x_train,y_train)\n",
    "rp_poly"
   ]
  },
  {
   "cell_type": "code",
   "execution_count": 58,
   "metadata": {
    "code_folding": []
   },
   "outputs": [
    {
     "name": "stdout",
     "output_type": "stream",
     "text": [
      "1.054054054054054\n"
     ]
    },
    {
     "data": {
      "image/png": "[encoded data removed]",
      "text/plain": [
       "<Figure size 432x288 with 1 Axes>"
      ]
     },
     "metadata": {
      "needs_background": "light"
     },
     "output_type": "display_data"
    }
   ],
   "source": [
    "applicability_domainV2(X_train, X_test, y_train,\n",
    "                     y_train_pred, y_test, y_test_pred)"
   ]
  },
  {
   "cell_type": "markdown",
   "metadata": {},
   "source": [
    "# Merge"
   ]
  },
  {
   "cell_type": "code",
   "execution_count": null,
   "metadata": {},
   "outputs": [],
   "source": [
    "summ = pd.DataFrame(val_rbf)\n",
    "summ = summ.append(val_lin)\n",
    "summ = summ.append(val_poly)\n",
    "summ.insert(loc=0, column='Kernel', value=['RBF',\"Linear\",\"Poly\"])\n",
    "summ\n",
    "# summ.insert(loc=idx, column='A', value=new_col)"
   ]
  },
  {
   "cell_type": "code",
   "execution_count": null,
   "metadata": {},
   "outputs": [],
   "source": []
  },
  {
   "cell_type": "code",
   "execution_count": 28,
   "metadata": {},
   "outputs": [
    {
     "data": {
      "text/plain": [
       "{'r2': array([0.70162797]),\n",
       " 'k': 1.1897637873533298,\n",
       " 'k_dash': 0.7820614166059207,\n",
       " 'r2r0': array([0.11428953]),\n",
       " 'r2r0_dash': array([0.00065712]),\n",
       " 'r0r0_dash': array([0.07972768]),\n",
       " 'rm2_bar': array([0.5947531]),\n",
       " 'd_rm2': array([0.18361886])}"
      ]
     },
     "execution_count": 28,
     "metadata": {},
     "output_type": "execute_result"
    }
   ],
   "source": [
    "### OLD CODE RBF\n",
    "\n",
    "#TEST RBF\n",
    "model.fit(scale_x_train, y_train)\n",
    "\n",
    "y_ts_pred = model.predict(scale_x_test)\n",
    "q_r2 = r2_score(y_test, y_ts_pred)\n",
    "\n",
    "# print(q_too, q_r2)\n",
    "qsar_param(y_test, y_ts_pred)"
   ]
  },
  {
   "cell_type": "code",
   "execution_count": 21,
   "metadata": {},
   "outputs": [
    {
     "data": {
      "text/plain": [
       "(array([0.57968023]),\n",
       " {'r2': array([0.59760473]),\n",
       "  'k': 1.0134939897416428,\n",
       "  'k_dash': 0.9008102669044098,\n",
       "  'r2r0': array([0.02436901]),\n",
       "  'r2r0_dash': array([0.14463904]),\n",
       "  'r0r0_dash': array([0.07187394]),\n",
       "  'rm2_bar': array([0.47369765]),\n",
       "  'd_rm2': array([0.1035794])})"
      ]
     },
     "execution_count": 21,
     "metadata": {},
     "output_type": "execute_result"
    }
   ],
   "source": [
    "model.fit(scale_x_train,y_train)\n",
    "q2_v2_rbf = q2_looV2(model, scale_x_train, y_train)\n",
    "qsar_par_rbf = qsar_param(y_train, q2_v2_rbf[1])\n",
    "q2_v2_rbf[0], qsar_par_rbf"
   ]
  },
  {
   "cell_type": "code",
   "execution_count": 29,
   "metadata": {},
   "outputs": [
    {
     "data": {
      "text/plain": [
       "{'r2': array([0.70162797]),\n",
       " 'k': 1.1897637873533298,\n",
       " 'k_dash': 0.7820614166059207,\n",
       " 'r2r0': array([0.11428953]),\n",
       " 'r2r0_dash': array([0.00065712]),\n",
       " 'r0r0_dash': array([0.07972768]),\n",
       " 'rm2_bar': array([0.5947531]),\n",
       " 'd_rm2': array([0.18361886])}"
      ]
     },
     "execution_count": 29,
     "metadata": {},
     "output_type": "execute_result"
    }
   ],
   "source": [
    "model.fit(scale_x_train, y_train)\n",
    "y_test_pred = model.predict(scale_x_test)\n",
    "qsar_par_rbf = qsar_param(y_test, y_test_pred)\n",
    "qsar_par_rbf"
   ]
  },
  {
   "cell_type": "code",
   "execution_count": 22,
   "metadata": {},
   "outputs": [
    {
     "data": {
      "text/html": [
       "<div>\n",
       "<style scoped>\n",
       "    .dataframe tbody tr th:only-of-type {\n",
       "        vertical-align: middle;\n",
       "    }\n",
       "\n",
       "    .dataframe tbody tr th {\n",
       "        vertical-align: top;\n",
       "    }\n",
       "\n",
       "    .dataframe thead th {\n",
       "        text-align: right;\n",
       "    }\n",
       "</style>\n",
       "<table border=\"1\" class=\"dataframe\">\n",
       "  <thead>\n",
       "    <tr style=\"text-align: right;\">\n",
       "      <th></th>\n",
       "      <th>r2</th>\n",
       "      <th>k</th>\n",
       "      <th>k_dash</th>\n",
       "      <th>r2r0</th>\n",
       "      <th>r2r0_dash</th>\n",
       "      <th>r0r0_dash</th>\n",
       "      <th>rm2_bar</th>\n",
       "      <th>d_rm2</th>\n",
       "      <th>rp</th>\n",
       "      <th>q2</th>\n",
       "    </tr>\n",
       "  </thead>\n",
       "  <tbody>\n",
       "    <tr>\n",
       "      <th>0</th>\n",
       "      <td>0.597605</td>\n",
       "      <td>1.013494</td>\n",
       "      <td>0.90081</td>\n",
       "      <td>0.024369</td>\n",
       "      <td>0.144639</td>\n",
       "      <td>0.071874</td>\n",
       "      <td>0.473698</td>\n",
       "      <td>0.103579</td>\n",
       "      <td>0.626982</td>\n",
       "      <td>0.57968</td>\n",
       "    </tr>\n",
       "  </tbody>\n",
       "</table>\n",
       "</div>"
      ],
      "text/plain": [
       "         r2         k   k_dash      r2r0  r2r0_dash  r0r0_dash   rm2_bar  \\\n",
       "0  0.597605  1.013494  0.90081  0.024369   0.144639   0.071874  0.473698   \n",
       "\n",
       "      d_rm2        rp       q2  \n",
       "0  0.103579  0.626982  0.57968  "
      ]
     },
     "execution_count": 22,
     "metadata": {},
     "output_type": "execute_result"
    }
   ],
   "source": [
    "val_rbf = pd.DataFrame(qsar_par_rbf)\n",
    "val_rbf['rp'] = rp\n",
    "val_rbf['q2'] = q2_v2_rbf[0]\n",
    "val_rbf"
   ]
  },
  {
   "cell_type": "code",
   "execution_count": null,
   "metadata": {},
   "outputs": [],
   "source": [
    "#Predict x_test\n",
    "model.fit(scale_x_train, y_train)\n",
    "y_train_pred = model.predict(scale_x_train)\n",
    "y_test_pred = model.predict(scale_x_test)"
   ]
  },
  {
   "cell_type": "code",
   "execution_count": null,
   "metadata": {},
   "outputs": [],
   "source": [
    "#### OLD CODE LINEAR\n",
    "model_lin.fit(scale_x_train, y_train)\n",
    "q2_v2_lin = q2_looV2(model_lin, scale_x_train, y_train)\n",
    "qsar_par_lin = qsar_param(y_train, q2_v2_lin[1])\n",
    "q2_v2_lin[0], qsar_par_lin"
   ]
  },
  {
   "cell_type": "code",
   "execution_count": null,
   "metadata": {},
   "outputs": [],
   "source": [
    "model_lin.fit(scale_x_train, y_train)\n",
    "y_test_pred = model_lin.predict(scale_x_test)\n",
    "qsar_par_lin = qsar_param(y_test, y_test_pred)\n",
    "qsar_par_lin"
   ]
  },
  {
   "cell_type": "code",
   "execution_count": null,
   "metadata": {},
   "outputs": [],
   "source": [
    "qsar_par_lin = qsar_param(y_train, q2_v2_lin[1])"
   ]
  },
  {
   "cell_type": "code",
   "execution_count": null,
   "metadata": {},
   "outputs": [],
   "source": [
    "#Predict x_test\n",
    "model_lin.fit(scale_x_train, y_train)\n",
    "y_train_pred = model_lin.predict(scale_x_train)\n",
    "y_test_pred = model_lin.predict(scale_x_test)"
   ]
  },
  {
   "cell_type": "code",
   "execution_count": null,
   "metadata": {},
   "outputs": [],
   "source": [
    "val_lin = pd.DataFrame(qsar_par_lin)\n",
    "val_lin['rp'] = rp_lin\n",
    "val_lin['q2'] = q2_v2_lin[0]\n",
    "val_lin"
   ]
  },
  {
   "cell_type": "code",
   "execution_count": null,
   "metadata": {},
   "outputs": [],
   "source": [
    "#### OLD CODE POLYNOMIAL\n",
    "modelPol.fit(scale_x_train,y_train)\n",
    "q2_v2_poly = q2_looV2(modelPol, scale_x_train, y_train)\n",
    "qsar_par_poly = qsar_param(y_train, q2_v2_poly[1])\n",
    "q2_v2_poly[0], qsar_par_poly"
   ]
  },
  {
   "cell_type": "code",
   "execution_count": null,
   "metadata": {},
   "outputs": [],
   "source": [
    "modelPol.fit(scale_x_train, y_train)\n",
    "y_test_pred = modelPol.predict(scale_x_test)\n",
    "qsar_par_rbf = qsar_param(y_test, y_test_pred)\n",
    "qsar_par_rbf"
   ]
  },
  {
   "cell_type": "code",
   "execution_count": null,
   "metadata": {},
   "outputs": [],
   "source": [
    "qsar_par_poly = qsar_param(y_train, q2_v2_poly[1])\n",
    "pd.DataFrame(qsar_par_poly)"
   ]
  },
  {
   "cell_type": "code",
   "execution_count": null,
   "metadata": {},
   "outputs": [],
   "source": [
    "val_poly = pd.DataFrame(qsar_par_poly)\n",
    "val_poly['rp'] = rp_poly\n",
    "val_poly['q2'] = q2_v2_poly[0]\n",
    "val_poly"
   ]
  },
  {
   "cell_type": "code",
   "execution_count": null,
   "metadata": {},
   "outputs": [],
   "source": [
    "#Predict x_test\n",
    "modelPol.fit(scale_x_train, y_train)\n",
    "y_train_pred = modelPol.predict(scale_x_train)\n",
    "y_test_pred = modelPol.predict(scale_x_test)"
   ]
  }
 ],
 "metadata": {
  "kernelspec": {
   "display_name": "Python 3",
   "language": "python",
   "name": "python3"
  },
  "language_info": {
   "codemirror_mode": {
    "name": "ipython",
    "version": 3
   },
   "file_extension": ".py",
   "mimetype": "text/x-python",
   "name": "python",
   "nbconvert_exporter": "python",
   "pygments_lexer": "ipython3",
   "version": "3.8.2"
  },
  "toc": {
   "base_numbering": 1,
   "nav_menu": {},
   "number_sections": true,
   "sideBar": true,
   "skip_h1_title": false,
   "title_cell": "Table of Contents",
   "title_sidebar": "Contents",
   "toc_cell": false,
   "toc_position": {},
   "toc_section_display": true,
   "toc_window_display": false
  }
 },
 "nbformat": 4,
 "nbformat_minor": 4
}
