{
 "cells": [
  {
   "cell_type": "markdown",
   "metadata": {},
   "source": [
    "# Import Libraries"
   ]
  },
  {
   "cell_type": "code",
   "execution_count": 1,
   "metadata": {},
   "outputs": [],
   "source": [
    "import os\n",
    "import csv \n",
    "import math\n",
    "import joblib\n",
    "import pickle\n",
    "import warnings\n",
    "import copy\n",
    "from tqdm import tqdm_notebook as tqdm\n",
    "\n",
    "import pandas as pd\n",
    "import numpy as np\n",
    "import statistics as stat\n",
    "import matplotlib.pyplot as plt \n",
    "\n",
    "from sklearn.model_selection import train_test_split\n",
    "from sklearn.model_selection import GridSearchCV\n",
    "from sklearn.model_selection import LeaveOneOut\n",
    "from sklearn.model_selection import cross_validate\n",
    "\n",
    "from sklearn.preprocessing import MinMaxScaler\n",
    "from sklearn.metrics import r2_score\n",
    "from sklearn.metrics import mean_squared_error\n",
    "\n",
    "from sklearn.linear_model import LinearRegression\n",
    "\n",
    "from sklearn.svm import SVR\n",
    "from scipy import stats\n",
    "\n",
    "warnings.filterwarnings('ignore')"
   ]
  },
  {
   "cell_type": "markdown",
   "metadata": {},
   "source": [
    "# Splitting Data"
   ]
  },
  {
   "cell_type": "markdown",
   "metadata": {},
   "source": [
    "## Concate data padel with target"
   ]
  },
  {
   "cell_type": "code",
   "execution_count": 17,
   "metadata": {},
   "outputs": [
    {
     "data": {
      "text/html": [
       "<div>\n",
       "<style scoped>\n",
       "    .dataframe tbody tr th:only-of-type {\n",
       "        vertical-align: middle;\n",
       "    }\n",
       "\n",
       "    .dataframe tbody tr th {\n",
       "        vertical-align: top;\n",
       "    }\n",
       "\n",
       "    .dataframe thead th {\n",
       "        text-align: right;\n",
       "    }\n",
       "</style>\n",
       "<table border=\"1\" class=\"dataframe\">\n",
       "  <thead>\n",
       "    <tr style=\"text-align: right;\">\n",
       "      <th></th>\n",
       "      <th>nAcid</th>\n",
       "      <th>ALogP</th>\n",
       "      <th>ALogp2</th>\n",
       "      <th>AMR</th>\n",
       "      <th>apol</th>\n",
       "      <th>naAromAtom</th>\n",
       "      <th>nAromBond</th>\n",
       "      <th>nAtom</th>\n",
       "      <th>nHeavyAtom</th>\n",
       "      <th>nH</th>\n",
       "      <th>...</th>\n",
       "      <th>P2s</th>\n",
       "      <th>E1s</th>\n",
       "      <th>E2s</th>\n",
       "      <th>E3s</th>\n",
       "      <th>Ts</th>\n",
       "      <th>As</th>\n",
       "      <th>Vs</th>\n",
       "      <th>Ks</th>\n",
       "      <th>Ds</th>\n",
       "      <th>pIC50</th>\n",
       "    </tr>\n",
       "  </thead>\n",
       "  <tbody>\n",
       "    <tr>\n",
       "      <th>0</th>\n",
       "      <td>0</td>\n",
       "      <td>0.4097</td>\n",
       "      <td>0.167854</td>\n",
       "      <td>110.4259</td>\n",
       "      <td>55.335067</td>\n",
       "      <td>17</td>\n",
       "      <td>19</td>\n",
       "      <td>46</td>\n",
       "      <td>27</td>\n",
       "      <td>19</td>\n",
       "      <td>...</td>\n",
       "      <td>0.190703</td>\n",
       "      <td>0.572743</td>\n",
       "      <td>0.489742</td>\n",
       "      <td>0.358826</td>\n",
       "      <td>24.557550</td>\n",
       "      <td>110.436715</td>\n",
       "      <td>216.300654</td>\n",
       "      <td>0.658011</td>\n",
       "      <td>1.421311</td>\n",
       "      <td>4.456</td>\n",
       "    </tr>\n",
       "    <tr>\n",
       "      <th>1</th>\n",
       "      <td>0</td>\n",
       "      <td>1.2316</td>\n",
       "      <td>1.516839</td>\n",
       "      <td>114.4661</td>\n",
       "      <td>58.428653</td>\n",
       "      <td>17</td>\n",
       "      <td>19</td>\n",
       "      <td>49</td>\n",
       "      <td>28</td>\n",
       "      <td>21</td>\n",
       "      <td>...</td>\n",
       "      <td>0.262612</td>\n",
       "      <td>0.587732</td>\n",
       "      <td>0.498935</td>\n",
       "      <td>0.275692</td>\n",
       "      <td>24.658242</td>\n",
       "      <td>128.389370</td>\n",
       "      <td>221.988665</td>\n",
       "      <td>0.569236</td>\n",
       "      <td>1.362359</td>\n",
       "      <td>4.347</td>\n",
       "    </tr>\n",
       "    <tr>\n",
       "      <th>2</th>\n",
       "      <td>0</td>\n",
       "      <td>-0.3086</td>\n",
       "      <td>0.095234</td>\n",
       "      <td>114.1927</td>\n",
       "      <td>57.101860</td>\n",
       "      <td>17</td>\n",
       "      <td>19</td>\n",
       "      <td>48</td>\n",
       "      <td>28</td>\n",
       "      <td>20</td>\n",
       "      <td>...</td>\n",
       "      <td>0.278363</td>\n",
       "      <td>0.612412</td>\n",
       "      <td>0.492582</td>\n",
       "      <td>0.283494</td>\n",
       "      <td>24.883109</td>\n",
       "      <td>134.783818</td>\n",
       "      <td>231.750906</td>\n",
       "      <td>0.546311</td>\n",
       "      <td>1.388489</td>\n",
       "      <td>6.046</td>\n",
       "    </tr>\n",
       "    <tr>\n",
       "      <th>3</th>\n",
       "      <td>0</td>\n",
       "      <td>-0.6209</td>\n",
       "      <td>0.385517</td>\n",
       "      <td>123.2672</td>\n",
       "      <td>62.757446</td>\n",
       "      <td>17</td>\n",
       "      <td>19</td>\n",
       "      <td>53</td>\n",
       "      <td>31</td>\n",
       "      <td>22</td>\n",
       "      <td>...</td>\n",
       "      <td>0.274180</td>\n",
       "      <td>0.582830</td>\n",
       "      <td>0.444859</td>\n",
       "      <td>0.349300</td>\n",
       "      <td>26.949883</td>\n",
       "      <td>163.786100</td>\n",
       "      <td>332.971005</td>\n",
       "      <td>0.530884</td>\n",
       "      <td>1.376989</td>\n",
       "      <td>6.710</td>\n",
       "    </tr>\n",
       "    <tr>\n",
       "      <th>4</th>\n",
       "      <td>0</td>\n",
       "      <td>-0.8872</td>\n",
       "      <td>0.787124</td>\n",
       "      <td>124.9481</td>\n",
       "      <td>63.722239</td>\n",
       "      <td>17</td>\n",
       "      <td>19</td>\n",
       "      <td>54</td>\n",
       "      <td>31</td>\n",
       "      <td>23</td>\n",
       "      <td>...</td>\n",
       "      <td>0.282594</td>\n",
       "      <td>0.630230</td>\n",
       "      <td>0.461287</td>\n",
       "      <td>0.290526</td>\n",
       "      <td>28.080637</td>\n",
       "      <td>176.370332</td>\n",
       "      <td>335.460364</td>\n",
       "      <td>0.530389</td>\n",
       "      <td>1.382042</td>\n",
       "      <td>6.947</td>\n",
       "    </tr>\n",
       "  </tbody>\n",
       "</table>\n",
       "<p>5 rows × 1876 columns</p>\n",
       "</div>"
      ],
      "text/plain": [
       "   nAcid   ALogP    ALogp2       AMR       apol  naAromAtom  nAromBond  nAtom  \\\n",
       "0      0  0.4097  0.167854  110.4259  55.335067          17         19     46   \n",
       "1      0  1.2316  1.516839  114.4661  58.428653          17         19     49   \n",
       "2      0 -0.3086  0.095234  114.1927  57.101860          17         19     48   \n",
       "3      0 -0.6209  0.385517  123.2672  62.757446          17         19     53   \n",
       "4      0 -0.8872  0.787124  124.9481  63.722239          17         19     54   \n",
       "\n",
       "   nHeavyAtom  nH  ...       P2s       E1s       E2s       E3s         Ts  \\\n",
       "0          27  19  ...  0.190703  0.572743  0.489742  0.358826  24.557550   \n",
       "1          28  21  ...  0.262612  0.587732  0.498935  0.275692  24.658242   \n",
       "2          28  20  ...  0.278363  0.612412  0.492582  0.283494  24.883109   \n",
       "3          31  22  ...  0.274180  0.582830  0.444859  0.349300  26.949883   \n",
       "4          31  23  ...  0.282594  0.630230  0.461287  0.290526  28.080637   \n",
       "\n",
       "           As          Vs        Ks        Ds  pIC50  \n",
       "0  110.436715  216.300654  0.658011  1.421311  4.456  \n",
       "1  128.389370  221.988665  0.569236  1.362359  4.347  \n",
       "2  134.783818  231.750906  0.546311  1.388489  6.046  \n",
       "3  163.786100  332.971005  0.530884  1.376989  6.710  \n",
       "4  176.370332  335.460364  0.530389  1.382042  6.947  \n",
       "\n",
       "[5 rows x 1876 columns]"
      ]
     },
     "execution_count": 17,
     "metadata": {},
     "output_type": "execute_result"
    }
   ],
   "source": [
    "# Import data from csv into pandas DataFrame\n",
    "dfPadel = pd.read_csv(\"data/padel_desc.csv\")\n",
    "dtRawIC50 = pd.read_csv(\"data/pIC50_target.csv\")\n",
    "dtIC50 = dtRawIC50['pIC50']\n",
    "\n",
    "# Concatenate data dataframe (Padel,Cdk,Target)\n",
    "df = pd.concat([dfPadel,dtIC50], axis=1)\n",
    "df = df.drop(columns = ['Name'])\n",
    "\n",
    "# Export concatenated data\n",
    "# df.to_csv (r'data\\all_data.csv',index=False, header=True,sep=',')\n",
    "df.head()"
   ]
  },
  {
   "cell_type": "markdown",
   "metadata": {},
   "source": [
    "## Split Train & Test + PCC Correlation"
   ]
  },
  {
   "cell_type": "code",
   "execution_count": null,
   "metadata": {
    "code_folding": [
     0
    ],
    "scrolled": true
   },
   "outputs": [],
   "source": [
    "%%DISBAND\n",
    "# Loop for finding correlation combination\n",
    "# for i in range(10):\n",
    "#     # Divide into training data and test data\n",
    "#     dfTrain = df.sample(frac=0.8,random_state=i)\n",
    "#     dfTest = df.drop(dfTrain.index)\n",
    "\n",
    "#     # Find 100 descriptors with strongest correlation with pIC50\n",
    "#     train_corr = dfTrain.corr()\n",
    "#     train_corr = train_corr.iloc[:-1,[-1]]\n",
    "#     train_corr.sort_values(\"pIC50\", ascending = False, inplace = True)\n",
    "#     train_corr = train_corr.iloc[:100,:]\n",
    "\n",
    "#     # Check for WTPT-3 only\n",
    "#     if train_corr.index[0] == \"WTPT-3\":\n",
    "#         print(\"i: %04d\"%i)\n",
    "#         # Dump training and test data\n",
    "#         dfTrain.to_pickle(\"./pickle/train_%04d.pkl\"%i)\n",
    "#         dfTest.to_pickle(\"./pickle/test_%04d.pkl\"%i)\n",
    "#         # Dump correlation data\n",
    "#         train_corr.to_csv(r'data/dataCorr_%04d.pkl.csv'%i, index= None, header = True)\n",
    "#         # Dump list of 100 strongest des\n",
    "#         corr_100 = train_corr.index.values.tolist()[:100]\n",
    "#         with open('./pickle/corr100_%04d.pkl'%i, 'wb') as f:\n",
    "#             pickle.dump(corr_100, f)"
   ]
  },
  {
   "cell_type": "code",
   "execution_count": 42,
   "metadata": {
    "code_folding": [],
    "scrolled": true
   },
   "outputs": [],
   "source": [
    "# Loop for finding correlation combination\n",
    "dfTrain = df.sample(frac=0.8,random_state=5)\n",
    "dfTest = df.drop(dfTrain.index)\n",
    "\n",
    "# dfTrain.to_csv('./data/train_05.csv')\n",
    "# dfTest.to_csv('./data/test_05.csv')"
   ]
  },
  {
   "cell_type": "code",
   "execution_count": 72,
   "metadata": {},
   "outputs": [],
   "source": [
    "### Remove low variance desc\n",
    "X_train = pd.read_csv(\"data/train_05.csv\")\n",
    "X_train_target = X_train.loc[:,'pIC50']\n",
    "var_ = X_train.var()\n",
    "var_ = pd.DataFrame(var_, columns=[\"var\"])\n",
    "var_ = var_[var_[\"var\"] > 0.95]\n",
    "desc_name = var_.index.values.tolist()\n",
    "X_train = X_train.loc[:,desc_name]\n",
    "\n",
    "### Append pcc again\n",
    "X_train = X_train.join(X_train_target)\n",
    "X_train.head()\n",
    "\n",
    "### Find 100 descriptors with strongest correlation with pIC50\n",
    "pcc = X_train.corr().iloc[:-1,[-1]]\n",
    "pcc.pIC50 = pcc.pIC50.apply(lambda x: np.abs(x))\n",
    "pcc.sort_values(\"pIC50\", ascending = False, inplace = True)\n",
    "pcc_list = pcc.iloc[:100,:]\n",
    "# pcc_list.index.values.tolist()[:100]\n",
    "\n",
    "# joblib.dump(pcc_list.index.values.tolist()[:100],'./p/05_neue/corr_withlowvar.pkl')\n",
    "# pcc_list.to_csv('.data/corr_withlowvar.csv')"
   ]
  },
  {
   "cell_type": "markdown",
   "metadata": {},
   "source": [
    "# Feature Selection : SA + K-Fold"
   ]
  },
  {
   "cell_type": "markdown",
   "metadata": {},
   "source": [
    "## Simulated Annealing"
   ]
  },
  {
   "cell_type": "markdown",
   "metadata": {},
   "source": [
    "### SA Functions"
   ]
  },
  {
   "cell_type": "code",
   "execution_count": 84,
   "metadata": {},
   "outputs": [],
   "source": [
    "def acceptanceProbability (bestMSE, newMSE, temp , K):\n",
    "        # If the new solution is worse, calculate an acceptance probability\n",
    "        return np.exp( K * (newMSE - bestMSE) / temp)\n",
    "    \n",
    "def calcMSE(combDesc, x_train, x_val, y_train, y_val, model):\n",
    "    x_train_slice = x_train.iloc[:,combDesc]\n",
    "    x_val_slice = x_val.iloc[:,combDesc]\n",
    "    \n",
    "    scaler = MinMaxScaler()\n",
    "    scaler.fit(x_train_slice)\n",
    "    scale_x_train = scaler.transform(x_train_slice)\n",
    "    scale_x_val = scaler.transform(x_val_slice)\n",
    "    \n",
    "    model.fit(scale_x_train, y_train)\n",
    "    y_pred = model.predict(scale_x_val)\n",
    "    return mean_squared_error(y_val, y_pred)"
   ]
  },
  {
   "cell_type": "markdown",
   "metadata": {},
   "source": [
    "### SA Prepare Data"
   ]
  },
  {
   "cell_type": "code",
   "execution_count": 85,
   "metadata": {},
   "outputs": [
    {
     "data": {
      "text/plain": [
       "((59, 100), (15, 100), (59, 1), (15, 1))"
      ]
     },
     "execution_count": 85,
     "metadata": {},
     "output_type": "execute_result"
    }
   ],
   "source": [
    "corr = joblib.load('./p/05_low/corr_withlowvar.pkl')\n",
    "dftrain = joblib.load('./p/05_low/train.pkl')\n",
    "\n",
    "#change index for data\n",
    "corr_100 = corr\n",
    "dft = dftrain\n",
    "\n",
    "train = dft.loc[:,corr_100]\n",
    "train[\"pIC50\"] = dft.iloc[:, -1]\n",
    "descName = train.columns.values\n",
    "\n",
    "trained, val = train_test_split(train, test_size = 0.2, random_state = 45)\n",
    "\n",
    "x_train = trained.iloc[:,:-1]\n",
    "x_val = val.iloc[:,:-1]\n",
    "y_train = trained.iloc[:, [-1]]\n",
    "y_val = val.iloc[:,[-1]]\n",
    "\n",
    "model = LinearRegression()\n",
    "x_train.shape, x_val.shape, y_train.shape, y_val.shape"
   ]
  },
  {
   "cell_type": "markdown",
   "metadata": {},
   "source": [
    "### SA algorithm"
   ]
  },
  {
   "cell_type": "code",
   "execution_count": 86,
   "metadata": {
    "code_folding": [],
    "scrolled": true
   },
   "outputs": [
    {
     "name": "stderr",
     "output_type": "stream",
     "text": [
      "  0%|                                                                                            | 0/5 [00:00<?, ?it/s]\n",
      "  0%|                                                                                           | 0/20 [00:00<?, ?it/s]\u001b[A\n",
      "  5%|████▏                                                                              | 1/20 [01:18<24:42, 78.01s/it]\u001b[A\n",
      " 10%|████████▎                                                                          | 2/20 [02:39<23:41, 78.97s/it]\u001b[A\n",
      " 15%|████████████▍                                                                      | 3/20 [03:54<22:03, 77.88s/it]\u001b[A\n",
      " 20%|████████████████▌                                                                  | 4/20 [05:10<20:35, 77.22s/it]\u001b[A\n",
      " 25%|████████████████████▊                                                              | 5/20 [06:25<19:09, 76.62s/it]\u001b[A\n",
      " 30%|████████████████████████▉                                                          | 6/20 [07:41<17:50, 76.48s/it]\u001b[A\n",
      " 35%|█████████████████████████████                                                      | 7/20 [08:56<16:29, 76.09s/it]\u001b[A\n",
      " 40%|█████████████████████████████████▏                                                 | 8/20 [10:12<15:11, 75.92s/it]\u001b[A\n",
      " 45%|█████████████████████████████████████▎                                             | 9/20 [11:28<13:54, 75.86s/it]\u001b[A\n",
      " 50%|█████████████████████████████████████████                                         | 10/20 [12:43<12:38, 75.86s/it]\u001b[A\n",
      " 55%|█████████████████████████████████████████████                                     | 11/20 [13:59<11:21, 75.77s/it]\u001b[A\n",
      " 60%|█████████████████████████████████████████████████▏                                | 12/20 [15:15<10:06, 75.78s/it]\u001b[A\n",
      " 65%|█████████████████████████████████████████████████████▎                            | 13/20 [16:32<08:54, 76.35s/it]\u001b[A\n",
      " 70%|█████████████████████████████████████████████████████████▍                        | 14/20 [18:08<08:12, 82.04s/it]\u001b[A\n",
      " 75%|█████████████████████████████████████████████████████████████▌                    | 15/20 [19:21<06:37, 79.47s/it]\u001b[A\n",
      " 80%|█████████████████████████████████████████████████████████████████▌                | 16/20 [20:35<05:11, 77.82s/it]\u001b[A\n",
      " 85%|█████████████████████████████████████████████████████████████████████▋            | 17/20 [21:48<03:49, 76.44s/it]\u001b[A\n",
      " 90%|█████████████████████████████████████████████████████████████████████████▊        | 18/20 [23:15<02:38, 79.40s/it]\u001b[A\n",
      " 95%|█████████████████████████████████████████████████████████████████████████████▉    | 19/20 [24:28<01:17, 77.69s/it]\u001b[A\n",
      "100%|██████████████████████████████████████████████████████████████████████████████████| 20/20 [25:42<00:00, 77.12s/it]\u001b[A\n",
      " 20%|████████████████                                                                | 1/5 [25:42<1:42:49, 1542.50s/it]\n",
      "  0%|                                                                                           | 0/20 [00:00<?, ?it/s]\u001b[A\n",
      "  5%|████▏                                                                              | 1/20 [01:17<24:24, 77.09s/it]\u001b[A\n",
      " 10%|████████▎                                                                          | 2/20 [02:33<23:02, 76.82s/it]\u001b[A\n",
      " 15%|████████████▍                                                                      | 3/20 [04:03<22:52, 80.72s/it]\u001b[A\n",
      " 20%|████████████████▌                                                                  | 4/20 [05:27<21:49, 81.87s/it]\u001b[A\n",
      " 25%|████████████████████▊                                                              | 5/20 [06:52<20:43, 82.89s/it]\u001b[A\n",
      " 30%|████████████████████████▉                                                          | 6/20 [08:16<19:22, 83.01s/it]\u001b[A\n",
      " 35%|█████████████████████████████                                                      | 7/20 [09:38<17:57, 82.89s/it]\u001b[A\n",
      " 40%|█████████████████████████████████▏                                                 | 8/20 [11:08<17:00, 85.01s/it]\u001b[A\n",
      " 45%|█████████████████████████████████████▎                                             | 9/20 [12:29<15:20, 83.67s/it]\u001b[A\n",
      " 50%|█████████████████████████████████████████                                         | 10/20 [13:50<13:49, 82.97s/it]\u001b[A\n",
      " 55%|█████████████████████████████████████████████                                     | 11/20 [15:15<12:32, 83.59s/it]\u001b[A\n",
      " 60%|█████████████████████████████████████████████████▏                                | 12/20 [16:37<11:05, 83.14s/it]\u001b[A\n",
      " 65%|█████████████████████████████████████████████████████▎                            | 13/20 [18:04<09:50, 84.35s/it]\u001b[A\n",
      " 70%|█████████████████████████████████████████████████████████▍                        | 14/20 [19:29<08:26, 84.49s/it]\u001b[A\n",
      " 75%|█████████████████████████████████████████████████████████████▌                    | 15/20 [21:04<07:17, 87.43s/it]\u001b[A\n",
      " 80%|█████████████████████████████████████████████████████████████████▌                | 16/20 [22:39<05:59, 89.91s/it]\u001b[A\n",
      " 85%|█████████████████████████████████████████████████████████████████████▋            | 17/20 [24:04<04:24, 88.31s/it]\u001b[A\n",
      " 90%|█████████████████████████████████████████████████████████████████████████▊        | 18/20 [25:26<02:52, 86.47s/it]\u001b[A\n",
      " 95%|█████████████████████████████████████████████████████████████████████████████▉    | 19/20 [26:49<01:25, 85.34s/it]\u001b[A\n",
      "100%|██████████████████████████████████████████████████████████████████████████████████| 20/20 [28:21<00:00, 85.07s/it]\u001b[A\n",
      " 40%|████████████████████████████████                                                | 2/5 [54:03<1:19:30, 1590.17s/it]\n",
      "  0%|                                                                                           | 0/20 [00:00<?, ?it/s]\u001b[A\n",
      "  5%|████▏                                                                              | 1/20 [01:34<29:54, 94.46s/it]\u001b[A\n",
      " 10%|████████▎                                                                          | 2/20 [03:23<29:39, 98.84s/it]\u001b[A\n",
      " 15%|████████████▎                                                                     | 3/20 [05:07<28:27, 100.46s/it]\u001b[A\n",
      " 20%|████████████████▌                                                                  | 4/20 [06:42<26:19, 98.72s/it]\u001b[A\n",
      " 25%|████████████████████▊                                                              | 5/20 [08:10<23:52, 95.51s/it]\u001b[A\n",
      " 30%|████████████████████████▉                                                          | 6/20 [09:37<21:40, 92.88s/it]\u001b[A\n",
      " 35%|█████████████████████████████                                                      | 7/20 [11:10<20:08, 92.95s/it]\u001b[A\n",
      " 40%|█████████████████████████████████▏                                                 | 8/20 [12:48<18:54, 94.51s/it]\u001b[A\n",
      " 45%|█████████████████████████████████████▎                                             | 9/20 [14:19<17:09, 93.60s/it]\u001b[A\n",
      " 50%|█████████████████████████████████████████                                         | 10/20 [15:46<15:14, 91.45s/it]\u001b[A\n",
      " 55%|█████████████████████████████████████████████                                     | 11/20 [17:13<13:32, 90.26s/it]\u001b[A\n",
      " 60%|█████████████████████████████████████████████████▏                                | 12/20 [18:40<11:54, 89.32s/it]\u001b[A\n",
      " 65%|█████████████████████████████████████████████████████▎                            | 13/20 [20:06<10:16, 88.11s/it]\u001b[A\n",
      " 70%|█████████████████████████████████████████████████████████▍                        | 14/20 [21:31<08:44, 87.39s/it]\u001b[A\n",
      " 75%|█████████████████████████████████████████████████████████████▌                    | 15/20 [23:03<07:22, 88.51s/it]\u001b[A\n",
      " 80%|█████████████████████████████████████████████████████████████████▌                | 16/20 [24:28<05:50, 87.51s/it]\u001b[A\n",
      " 85%|█████████████████████████████████████████████████████████████████████▋            | 17/20 [25:50<04:17, 85.84s/it]\u001b[A\n",
      " 90%|█████████████████████████████████████████████████████████████████████████▊        | 18/20 [27:12<02:49, 84.81s/it]\u001b[A\n",
      " 95%|█████████████████████████████████████████████████████████████████████████████▉    | 19/20 [28:34<01:24, 84.06s/it]\u001b[A\n",
      "100%|██████████████████████████████████████████████████████████████████████████████████| 20/20 [29:57<00:00, 89.87s/it]\u001b[A\n",
      " 60%|████████████████████████████████████████████████                                | 3/5 [1:24:01<55:04, 1652.31s/it]\n",
      "  0%|                                                                                           | 0/20 [00:00<?, ?it/s]\u001b[A\n",
      "  5%|████▏                                                                              | 1/20 [01:25<27:11, 85.88s/it]\u001b[A\n",
      " 10%|████████▎                                                                          | 2/20 [02:50<25:39, 85.51s/it]\u001b[A\n",
      " 15%|████████████▍                                                                      | 3/20 [04:14<24:07, 85.12s/it]\u001b[A\n",
      " 20%|████████████████▌                                                                  | 4/20 [05:39<22:41, 85.12s/it]\u001b[A\n",
      " 25%|████████████████████▊                                                              | 5/20 [07:05<21:18, 85.21s/it]\u001b[A\n",
      " 30%|████████████████████████▉                                                          | 6/20 [08:29<19:48, 84.90s/it]\u001b[A\n",
      " 35%|█████████████████████████████                                                      | 7/20 [09:54<18:23, 84.89s/it]\u001b[A\n",
      " 40%|█████████████████████████████████▏                                                 | 8/20 [11:20<17:02, 85.21s/it]\u001b[A\n",
      " 45%|█████████████████████████████████████▎                                             | 9/20 [12:45<15:38, 85.33s/it]\u001b[A\n",
      " 50%|█████████████████████████████████████████                                         | 10/20 [14:10<14:11, 85.11s/it]\u001b[A\n",
      " 55%|█████████████████████████████████████████████                                     | 11/20 [15:36<12:48, 85.41s/it]\u001b[A\n",
      " 60%|█████████████████████████████████████████████████▏                                | 12/20 [17:02<11:23, 85.47s/it]\u001b[A\n",
      " 65%|█████████████████████████████████████████████████████▎                            | 13/20 [18:27<09:58, 85.50s/it]\u001b[A\n",
      " 70%|█████████████████████████████████████████████████████████▍                        | 14/20 [19:53<08:32, 85.42s/it]\u001b[A\n",
      " 75%|█████████████████████████████████████████████████████████████▌                    | 15/20 [21:20<07:10, 86.02s/it]\u001b[A\n",
      " 80%|█████████████████████████████████████████████████████████████████▌                | 16/20 [22:45<05:42, 85.73s/it]\u001b[A\n",
      " 85%|█████████████████████████████████████████████████████████████████████▋            | 17/20 [24:09<04:15, 85.28s/it]\u001b[A\n",
      " 90%|█████████████████████████████████████████████████████████████████████████▊        | 18/20 [25:33<02:49, 84.96s/it]\u001b[A\n",
      " 95%|█████████████████████████████████████████████████████████████████████████████▉    | 19/20 [26:58<01:24, 84.74s/it]\u001b[A\n",
      "100%|██████████████████████████████████████████████████████████████████████████████████| 20/20 [28:22<00:00, 85.13s/it]\u001b[A\n",
      " 80%|████████████████████████████████████████████████████████████████                | 4/5 [1:52:23<27:47, 1667.42s/it]\n",
      "  0%|                                                                                           | 0/20 [00:00<?, ?it/s]\u001b[A\n",
      "  5%|████▏                                                                              | 1/20 [01:28<27:52, 88.03s/it]\u001b[A\n",
      " 10%|████████▎                                                                          | 2/20 [02:54<26:18, 87.68s/it]\u001b[A\n",
      " 15%|████████████▍                                                                      | 3/20 [04:23<24:53, 87.87s/it]\u001b[A\n",
      " 20%|████████████████▌                                                                  | 4/20 [05:50<23:24, 87.80s/it]\u001b[A\n",
      " 25%|████████████████████▊                                                              | 5/20 [07:17<21:52, 87.48s/it]\u001b[A\n",
      " 30%|████████████████████████▉                                                          | 6/20 [08:45<20:26, 87.60s/it]\u001b[A\n",
      " 35%|█████████████████████████████                                                      | 7/20 [10:12<18:56, 87.43s/it]\u001b[A\n",
      " 40%|█████████████████████████████████▏                                                 | 8/20 [11:40<17:30, 87.52s/it]\u001b[A\n",
      " 45%|█████████████████████████████████████▎                                             | 9/20 [13:07<16:01, 87.38s/it]\u001b[A\n",
      " 50%|█████████████████████████████████████████                                         | 10/20 [14:36<14:38, 87.86s/it]\u001b[A\n",
      " 55%|█████████████████████████████████████████████                                     | 11/20 [16:04<13:12, 88.08s/it]\u001b[A\n",
      " 60%|█████████████████████████████████████████████████▏                                | 12/20 [17:33<11:45, 88.13s/it]\u001b[A\n",
      " 65%|█████████████████████████████████████████████████████▎                            | 13/20 [19:00<10:14, 87.82s/it]\u001b[A\n",
      " 70%|█████████████████████████████████████████████████████████▍                        | 14/20 [20:27<08:45, 87.56s/it]\u001b[A\n",
      " 75%|█████████████████████████████████████████████████████████████▌                    | 15/20 [21:54<07:17, 87.53s/it]\u001b[A\n",
      " 80%|█████████████████████████████████████████████████████████████████▌                | 16/20 [23:22<05:50, 87.65s/it]\u001b[A\n",
      " 85%|█████████████████████████████████████████████████████████████████████▋            | 17/20 [24:50<04:23, 87.68s/it]\u001b[A\n",
      " 90%|█████████████████████████████████████████████████████████████████████████▊        | 18/20 [26:16<02:54, 87.36s/it]\u001b[A\n",
      " 95%|█████████████████████████████████████████████████████████████████████████████▉    | 19/20 [27:43<01:27, 87.22s/it]\u001b[A\n",
      "100%|██████████████████████████████████████████████████████████████████████████████████| 20/20 [29:10<00:00, 87.54s/it]\u001b[A\n",
      "100%|████████████████████████████████████████████████████████████████████████████████| 5/5 [2:21:34<00:00, 1698.96s/it]\n"
     ]
    }
   ],
   "source": [
    "### 50 ITERATION\n",
    "combos = [5,10,15,20,25]\n",
    "\n",
    "for k in tqdm(range(5)):\n",
    "\n",
    "    ## INTO DE SA DE LA'SOIN MODDED ##\n",
    "    descNum = combos[k]\n",
    "    descMSE_descNum = []\n",
    "\n",
    "    for j in tqdm(range(20)):\n",
    "        # Initialize Values\n",
    "        initTemp, temp = 100, 100\n",
    "        tempEnd = 0.1\n",
    "        cooling_rate = 0.98\n",
    "        iteration = 50\n",
    "\n",
    "        # Simulated Annealing\n",
    "        bestList = []\n",
    "        bestMSEList = []\n",
    "        tempChange = []\n",
    "\n",
    "        # Initialize solution & Best MSE (Random descNum descriptor)\n",
    "        bestSol = np.random.choice(x_train.shape[1],descNum, replace=False)\n",
    "        bestSol = list(bestSol)\n",
    "        bestSol.sort()\n",
    "\n",
    "        # First MSE\n",
    "        bestMSE = calcMSE(bestSol, x_train, x_val, y_train, y_val, model)\n",
    "        while temp > tempEnd:\n",
    "            for i in range(iteration):\n",
    "\n",
    "                # Create new solution & new MSE\n",
    "                newSol = np.random.choice(x_train.shape[1], descNum, replace=False)\n",
    "                newMSE = calcMSE(newSol, x_train, x_val, y_train, y_val, model)\n",
    "                \n",
    "                # New solution is better based on MSE value\n",
    "                if newMSE < bestMSE :\n",
    "                    bestMSE = newMSE\n",
    "                    bestSol = newSol\n",
    "                    #bestList.append([bestMSE,bestSol])\n",
    "                    #tempChange.append(temp)\n",
    "                    #bestMSEList.append(bestMSE)\n",
    "                    \n",
    "                #Probability to accept bad solution\n",
    "                else :\n",
    "                    deltaMSE = newMSE - bestMSE\n",
    "                    K = (initTemp * np.log(0.8)) / deltaMSE\n",
    "                    \n",
    "                    if acceptanceProbability (bestMSE, newMSE, temp , K) > np.random.rand(1,1):\n",
    "                        bestMSE = newMSE\n",
    "                        bestSol = newSol\n",
    "                        #bestList.append([bestMSE,bestSol])\n",
    "                        #tempChange.append(temp)\n",
    "                        #bestMSEList.append(bestMSE)\n",
    "            \n",
    "            bestList.append([bestMSE,bestSol])\n",
    "            tempChange.append(temp)\n",
    "            bestMSEList.append(bestMSE)\n",
    "            temp *= cooling_rate\n",
    "\n",
    "        descMSE_descNum.append([bestList[-1][0],bestList[-1][1],bestMSEList,tempChange])\n",
    "       \n",
    "    # Extracting results\n",
    "    df_SA = pd.DataFrame(descMSE_descNum)\n",
    "    df_SA.columns=[\"MSE\",\"solution\",\"growth\", \"temp\"]\n",
    "    df_SA.reset_index(drop=True, inplace= True)\n",
    "\n",
    "    # Sort values\n",
    "    df_SA_sort = df_SA.copy()\n",
    "    df_SA_sort.sort_values('MSE', inplace=True)\n",
    "\n",
    "    # Get Descriptors name    \n",
    "    bestDescriptor = []\n",
    "    for i in df_SA_sort.iloc[0,1]:\n",
    "        bestDescriptor.append(descName[i])\n",
    "\n",
    "    df_SA.to_pickle(f\"./p/05_low/raw_{combos[k]}.pkl\")\n",
    "    joblib.dump(bestDescriptor, f\"./p/05_low/best_{combos[k]}.pkl\")"
   ]
  },
  {
   "cell_type": "markdown",
   "metadata": {},
   "source": [
    "## K-Fold"
   ]
  },
  {
   "cell_type": "code",
   "execution_count": 2,
   "metadata": {},
   "outputs": [],
   "source": [
    "# Preparing data\n",
    "dataset = joblib.load('./p/05_low/train.pkl')\n",
    "\n",
    "kernel = \"linear\" # --> diganti dengan rentang rbf, poly, sigmoid\n",
    "svr_model = SVR(kernel=kernel, gamma=\"scale\")\n",
    "y_train = dataset.iloc[:,[-1]].values\n",
    "y_train = y_train.ravel()\n",
    "cv_list = {}"
   ]
  },
  {
   "cell_type": "code",
   "execution_count": 3,
   "metadata": {},
   "outputs": [
    {
     "data": {
      "application/vnd.jupyter.widget-view+json": {
       "model_id": "a7e0733cde034864bf08caf4216bab80",
       "version_major": 2,
       "version_minor": 0
      },
      "text/plain": [
       "HBox(children=(FloatProgress(value=0.0, max=5.0), HTML(value='')))"
      ]
     },
     "metadata": {},
     "output_type": "display_data"
    },
    {
     "name": "stdout",
     "output_type": "stream",
     "text": [
      "\n"
     ]
    }
   ],
   "source": [
    "# K-Fold\n",
    "combos=[5,10,15,20,25]\n",
    "for i in tqdm(range(5)):\n",
    "    sel_desc = joblib.load(f\"./p/05_low/best_{combos[i]}.pkl\")\n",
    "    X_train = dataset.loc[:,sel_desc].values\n",
    "    cv_score = cross_validate(svr_model, X_train, y_train, cv=10, scoring=('r2', 'neg_mean_squared_error'))\n",
    "    mse_score = [-x for x in cv_score[\"test_neg_mean_squared_error\"]]\n",
    "    mse_score = np.average(mse_score)\n",
    "    cv_list[i] = mse_score"
   ]
  },
  {
   "cell_type": "code",
   "execution_count": 4,
   "metadata": {},
   "outputs": [
    {
     "data": {
      "text/plain": [
       "['./p/05_low/cv_list_linear.p']"
      ]
     },
     "execution_count": 4,
     "metadata": {},
     "output_type": "execute_result"
    }
   ],
   "source": [
    "joblib.dump(cv_list, \"./p/05_low/cv_list_{}.p\".format(kernel))"
   ]
  },
  {
   "cell_type": "markdown",
   "metadata": {},
   "source": [
    "# Model Development : SVR"
   ]
  },
  {
   "cell_type": "markdown",
   "metadata": {},
   "source": [
    "\n",
    "## Preparing Data"
   ]
  },
  {
   "cell_type": "code",
   "execution_count": 10,
   "metadata": {
    "code_folding": []
   },
   "outputs": [],
   "source": [
    "# Load train and test data\n",
    "# IMPORTANT! LOOK AT THE LOADED FILES\n",
    "train = joblib.load('./p/05_low/train.pkl', 'rb')\n",
    "test = joblib.load('./p/05_low/test.pkl', 'rb')\n",
    "\n",
    "# Create params for kernels\n",
    "param={\n",
    "            'C': [0.1, 1, 10, 100, 1000],\n",
    "            'gamma': ['auto','scale'],\n",
    "            'degree': [1, 2, 3, 4, 5],\n",
    "            'epsilon':[0.1, 1, 10, 100, 1000]\n",
    "}\n",
    "\n",
    "# Create list of descriptors set\n",
    "# IMPORTANT! MUST BE SAME AS LOADED TRAIN & TEST\n",
    "bd_list = []\n",
    "bd_5 = joblib.load('./p/05_low/best_5.pkl')\n",
    "\n",
    "bd_list.extend([bd_5])"
   ]
  },
  {
   "cell_type": "markdown",
   "metadata": {},
   "source": [
    "## SVR : RBF "
   ]
  },
  {
   "cell_type": "code",
   "execution_count": 229,
   "metadata": {},
   "outputs": [
    {
     "data": {
      "application/vnd.jupyter.widget-view+json": {
       "model_id": "759cc24dab9c4d36816f597480791545",
       "version_major": 2,
       "version_minor": 0
      },
      "text/plain": [
       "HBox(children=(FloatProgress(value=0.0, max=1.0), HTML(value='')))"
      ]
     },
     "metadata": {},
     "output_type": "display_data"
    },
    {
     "name": "stdout",
     "output_type": "stream",
     "text": [
      "\n"
     ]
    }
   ],
   "source": [
    "r2_rbf = pd.DataFrame(columns=['desc','C','Gamma','Epsilon','r2_train','r2_test','mse_train','mse_test','train_pred','test_pred'])\n",
    "\n",
    "for i in tqdm(range(len(bd_list))):\n",
    "    \n",
    "    # Preparation data x & y\n",
    "    x_train = train.loc[:,bd_list[i]]\n",
    "    x_test = test.loc[:,bd_list[i]]\n",
    "    y_train = train.iloc[:, [-1]]\n",
    "    y_test = test.iloc[:,[-1]]\n",
    "    \n",
    "    # Feature scaler Using MinMaxScaler()\n",
    "    scaler = MinMaxScaler()\n",
    "    scaler.fit(x_train)\n",
    "    scale_x_train = scaler.transform(x_train)\n",
    "    scale_x_test = scaler.transform(x_test)\n",
    "    \n",
    "    # Search best params for SVR()\n",
    "    gsc = GridSearchCV(\n",
    "        estimator=SVR(kernel='rbf'),\n",
    "        param_grid=param,\n",
    "        cv=10, scoring='neg_mean_squared_error', verbose=0, n_jobs=-1)\n",
    "\n",
    "    gsc.fit(scale_x_train, y_train)\n",
    "    param_c = gsc.best_params_['C']\n",
    "    param_gamma = gsc.best_params_['gamma']\n",
    "    param_epsilon = gsc.best_params_['epsilon']\n",
    "    \n",
    "    # Assign best params to model\n",
    "    model = SVR(C=param_c, kernel=\"rbf\", gamma=param_gamma, epsilon=param_epsilon)\n",
    "    model.fit(scale_x_train, y_train)\n",
    "    \n",
    "    #Calculate prediction\n",
    "    y_train_pred = model.predict(scale_x_train)\n",
    "    y_test_pred = model.predict(scale_x_test)\n",
    "\n",
    "    #Calculate r2 score\n",
    "    r2_train = r2_score(y_train,y_train_pred)\n",
    "    r2_test = r2_score(y_test,y_test_pred)\n",
    "    \n",
    "    #Calculate MSE\n",
    "    mse_train = mean_squared_error(y_train,y_train_pred)\n",
    "    mse_test = mean_squared_error(y_test,y_test_pred)\n",
    "    \n",
    "    r2_rbf = r2_rbf.append(pd.Series([len(bd_list[i]),param_c, param_gamma, param_epsilon, r2_train, r2_test, mse_train, mse_test, y_train_pred, y_test_pred], index=r2_rbf.columns ), ignore_index=True)"
   ]
  },
  {
   "cell_type": "code",
   "execution_count": 232,
   "metadata": {},
   "outputs": [
    {
     "data": {
      "text/html": [
       "<div>\n",
       "<style scoped>\n",
       "    .dataframe tbody tr th:only-of-type {\n",
       "        vertical-align: middle;\n",
       "    }\n",
       "\n",
       "    .dataframe tbody tr th {\n",
       "        vertical-align: top;\n",
       "    }\n",
       "\n",
       "    .dataframe thead th {\n",
       "        text-align: right;\n",
       "    }\n",
       "</style>\n",
       "<table border=\"1\" class=\"dataframe\">\n",
       "  <thead>\n",
       "    <tr style=\"text-align: right;\">\n",
       "      <th></th>\n",
       "      <th>desc</th>\n",
       "      <th>C</th>\n",
       "      <th>Gamma</th>\n",
       "      <th>Epsilon</th>\n",
       "      <th>r2_train</th>\n",
       "      <th>r2_test</th>\n",
       "      <th>mse_train</th>\n",
       "      <th>mse_test</th>\n",
       "      <th>train_pred</th>\n",
       "      <th>test_pred</th>\n",
       "    </tr>\n",
       "  </thead>\n",
       "  <tbody>\n",
       "    <tr>\n",
       "      <th>0</th>\n",
       "      <td>5</td>\n",
       "      <td>10</td>\n",
       "      <td>scale</td>\n",
       "      <td>0.1</td>\n",
       "      <td>0.791062</td>\n",
       "      <td>0.572826</td>\n",
       "      <td>0.159999</td>\n",
       "      <td>0.240162</td>\n",
       "      <td>[6.060797071606271, 7.319913330755074, 5.92458...</td>\n",
       "      <td>[7.208959873075485, 7.391254510466805, 6.51627...</td>\n",
       "    </tr>\n",
       "  </tbody>\n",
       "</table>\n",
       "</div>"
      ],
      "text/plain": [
       "  desc   C  Gamma  Epsilon  r2_train   r2_test  mse_train  mse_test  \\\n",
       "0    5  10  scale      0.1  0.791062  0.572826   0.159999  0.240162   \n",
       "\n",
       "                                          train_pred  \\\n",
       "0  [6.060797071606271, 7.319913330755074, 5.92458...   \n",
       "\n",
       "                                           test_pred  \n",
       "0  [7.208959873075485, 7.391254510466805, 6.51627...  "
      ]
     },
     "execution_count": 232,
     "metadata": {},
     "output_type": "execute_result"
    }
   ],
   "source": [
    "joblib.dump(r2_rbf, './p/05_low/md_rbf.pkl')\n",
    "# r2_rbf = joblib.load('./p/0006_n1/r2_rbf_neue.pkl')\n",
    "r2_rbf"
   ]
  },
  {
   "cell_type": "code",
   "execution_count": 8,
   "metadata": {
    "code_folding": [
     0
    ]
   },
   "outputs": [
    {
     "name": "stderr",
     "output_type": "stream",
     "text": [
      "UsageError: Cell magic `%%DISBAND_SIGMOID_HEAD` not found.\n"
     ]
    }
   ],
   "source": [
    "%%DISBAND_SIGMOID_HEAD\n",
    "## SVR : Sigmoid"
   ]
  },
  {
   "cell_type": "code",
   "execution_count": 109,
   "metadata": {
    "code_folding": [
     0
    ]
   },
   "outputs": [
    {
     "name": "stderr",
     "output_type": "stream",
     "text": [
      "100%|████████████████████████████████████████████████████████████████████████████████████| 1/1 [00:04<00:00,  4.55s/it]\n"
     ]
    }
   ],
   "source": [
    "# r2_sig = pd.DataFrame(columns=['desc','C','Gamma','Epsilon','r2_train','r2_test','mse_train','mse_test','train_pred','test_pred'])\n",
    "\n",
    "# for i in tqdm(range(len(bd_list))):\n",
    "    \n",
    "#     # Preparation data x & y\n",
    "#     x_train = train.loc[:,bd_list[i]]\n",
    "#     x_test = test.loc[:,bd_list[i]]\n",
    "#     y_train = train.iloc[:, [-1]]\n",
    "#     y_test = test.iloc[:,[-1]]\n",
    "    \n",
    "#     # Feature scaler Using MinMaxScaler()\n",
    "#     scaler = MinMaxScaler()\n",
    "#     scaler.fit(x_train)\n",
    "#     scale_x_train = scaler.transform(x_train)\n",
    "#     scale_x_test = scaler.transform(x_test)\n",
    "    \n",
    "#     # Search best params for SVR()\n",
    "#     gsc = GridSearchCV(\n",
    "#         estimator=SVR(kernel='sigmoid'),\n",
    "#         param_grid=param,\n",
    "#         cv=10, scoring='neg_mean_squared_error', verbose=0, n_jobs=-1)\n",
    "\n",
    "#     gsc.fit(scale_x_train, y_train)\n",
    "#     param_c = gsc.best_params_['C']\n",
    "#     param_gamma = gsc.best_params_['gamma']\n",
    "#     param_epsilon = gsc.best_params_['epsilon']\n",
    "    \n",
    "#     # Assign best params to model\n",
    "#     model = SVR(C=param_c, kernel=\"sigmoid\", gamma=param_gamma, epsilon = param_epsilon)\n",
    "#     model.fit(scale_x_train, y_train)\n",
    "    \n",
    "#     #Calculate prediction\n",
    "#     y_train_pred = model.predict(scale_x_train)\n",
    "#     y_test_pred = model.predict(scale_x_test)\n",
    "\n",
    "#     #Calculate r2 score\n",
    "#     r2_train = r2_score(y_train,y_train_pred)\n",
    "#     r2_test = r2_score(y_test,y_test_pred)\n",
    "    \n",
    "#     #Calculate MSE\n",
    "#     mse_train = mean_squared_error(y_train,y_train_pred)\n",
    "#     mse_test = mean_squared_error(y_test,y_test_pred)\n",
    "    \n",
    "#     r2_sig = r2_sig.append(pd.Series([len(bd_list[i]),param_c, param_gamma, param_epsilon, r2_train, r2_test, mse_train, mse_test, y_train_pred, y_test_pred], index=r2_sig.columns ), ignore_index=True)"
   ]
  },
  {
   "cell_type": "markdown",
   "metadata": {},
   "source": [
    "## SVR : Linear"
   ]
  },
  {
   "cell_type": "code",
   "execution_count": 11,
   "metadata": {
    "code_folding": []
   },
   "outputs": [
    {
     "data": {
      "application/vnd.jupyter.widget-view+json": {
       "model_id": "2cd97c7e656a4f589ebf8eca8ab1b404",
       "version_major": 2,
       "version_minor": 0
      },
      "text/plain": [
       "HBox(children=(FloatProgress(value=0.0, max=1.0), HTML(value='')))"
      ]
     },
     "metadata": {},
     "output_type": "display_data"
    },
    {
     "name": "stdout",
     "output_type": "stream",
     "text": [
      "\n"
     ]
    }
   ],
   "source": [
    "# %%DISBAND_LINEAR\n",
    "r2_linear = pd.DataFrame(columns=['desc','C','degree','epsilon','r2_train','r2_test', 'mse_train','mse_test','train_pred','test_pred'])\n",
    "\n",
    "for i in tqdm(range(len(bd_list))):\n",
    "    \n",
    "    # Preparation data x & y\n",
    "    x_train = train.loc[:,bd_list[i]]\n",
    "    x_test = test.loc[:,bd_list[i]]\n",
    "    y_train = train.iloc[:, [-1]]\n",
    "    y_test = test.iloc[:,[-1]]\n",
    "    \n",
    "    # Feature scaler Using MinMaxScaler()\n",
    "    scaler = MinMaxScaler()\n",
    "    scaler.fit(x_train)\n",
    "    scale_x_train = scaler.transform(x_train)\n",
    "    scale_x_test = scaler.transform(x_test)\n",
    "    \n",
    "    # Search best params for SVR()\n",
    "    gsc = GridSearchCV(\n",
    "        estimator=SVR(kernel='linear'),\n",
    "        param_grid=param,\n",
    "        cv=5, scoring='neg_mean_squared_error', verbose=0, n_jobs=-1)\n",
    "\n",
    "    gsc.fit(scale_x_train, y_train)\n",
    "    param_c = gsc.best_params_['C']\n",
    "    param_degree = gsc.best_params_['degree']\n",
    "    param_epsilon = gsc.best_params_['epsilon']\n",
    "    \n",
    "    # Assign best params to model\n",
    "    model = SVR(C=param_c, kernel=\"linear\", degree=param_degree, epsilon = param_epsilon)\n",
    "    model.fit(scale_x_train, y_train)\n",
    "    \n",
    "    #Calculate prediction\n",
    "    y_train_pred = model.predict(scale_x_train)\n",
    "    y_test_pred = model.predict(scale_x_test)\n",
    "\n",
    "    #Calculate r2 score\n",
    "    r2_train = r2_score(y_train,y_train_pred)\n",
    "    r2_test = r2_score(y_test,y_test_pred)\n",
    "    \n",
    "    #Calculate MSE\n",
    "    mse_train = mean_squared_error(y_train,y_train_pred)\n",
    "    mse_test = mean_squared_error(y_test,y_test_pred)\n",
    "    \n",
    "    r2_linear = r2_linear.append(pd.Series([len(bd_list[i]),param_c, param_degree, param_epsilon, r2_train, r2_test, mse_train, mse_test, y_train_pred, y_test_pred], index=r2_linear.columns ), ignore_index=True)"
   ]
  },
  {
   "cell_type": "code",
   "execution_count": 12,
   "metadata": {},
   "outputs": [
    {
     "data": {
      "text/html": [
       "<div>\n",
       "<style scoped>\n",
       "    .dataframe tbody tr th:only-of-type {\n",
       "        vertical-align: middle;\n",
       "    }\n",
       "\n",
       "    .dataframe tbody tr th {\n",
       "        vertical-align: top;\n",
       "    }\n",
       "\n",
       "    .dataframe thead th {\n",
       "        text-align: right;\n",
       "    }\n",
       "</style>\n",
       "<table border=\"1\" class=\"dataframe\">\n",
       "  <thead>\n",
       "    <tr style=\"text-align: right;\">\n",
       "      <th></th>\n",
       "      <th>desc</th>\n",
       "      <th>C</th>\n",
       "      <th>degree</th>\n",
       "      <th>epsilon</th>\n",
       "      <th>r2_train</th>\n",
       "      <th>r2_test</th>\n",
       "      <th>mse_train</th>\n",
       "      <th>mse_test</th>\n",
       "      <th>train_pred</th>\n",
       "      <th>test_pred</th>\n",
       "    </tr>\n",
       "  </thead>\n",
       "  <tbody>\n",
       "    <tr>\n",
       "      <th>0</th>\n",
       "      <td>5</td>\n",
       "      <td>1000</td>\n",
       "      <td>1</td>\n",
       "      <td>0.1</td>\n",
       "      <td>0.609213</td>\n",
       "      <td>0.574157</td>\n",
       "      <td>0.299254</td>\n",
       "      <td>0.239414</td>\n",
       "      <td>[6.544111423712781, 7.644757412137512, 5.94295...</td>\n",
       "      <td>[6.6905752455242755, 6.896002775998756, 6.6284...</td>\n",
       "    </tr>\n",
       "  </tbody>\n",
       "</table>\n",
       "</div>"
      ],
      "text/plain": [
       "  desc     C degree  epsilon  r2_train   r2_test  mse_train  mse_test  \\\n",
       "0    5  1000      1      0.1  0.609213  0.574157   0.299254  0.239414   \n",
       "\n",
       "                                          train_pred  \\\n",
       "0  [6.544111423712781, 7.644757412137512, 5.94295...   \n",
       "\n",
       "                                           test_pred  \n",
       "0  [6.6905752455242755, 6.896002775998756, 6.6284...  "
      ]
     },
     "execution_count": 12,
     "metadata": {},
     "output_type": "execute_result"
    }
   ],
   "source": [
    "# joblib.dump(r2_sig, './p/05_low/md_sigmoid.pkl')\n",
    "# joblib.dump(r2_linear, './p/05_low/md_linear.pkl')\n",
    "# r2_linear = joblib.load('./p/0006_n1/r2_linear_neue.pkl')\n",
    "# r2_sig\n",
    "r2_linear"
   ]
  },
  {
   "cell_type": "markdown",
   "metadata": {},
   "source": [
    "## SVR : Polynomial "
   ]
  },
  {
   "cell_type": "code",
   "execution_count": 95,
   "metadata": {},
   "outputs": [
    {
     "name": "stderr",
     "output_type": "stream",
     "text": [
      "100%|██████████████████████████████████████████████████████████████████████████████████| 1/1 [45:43<00:00, 2743.05s/it]\n"
     ]
    }
   ],
   "source": [
    "r2_poly = pd.DataFrame(columns=['desc','C','degree','epsilon','r2_train','r2_test', 'mse_train','mse_test','train_pred','test_pred'])\n",
    "\n",
    "for i in tqdm(range(len(bd_list))):\n",
    "    \n",
    "    # Preparation data x & y\n",
    "    x_train = train.loc[:,bd_list[i]]\n",
    "    x_test = test.loc[:,bd_list[i]]\n",
    "    y_train = train.iloc[:, [-1]]\n",
    "    y_test = test.iloc[:,[-1]]\n",
    "    \n",
    "    # Feature scaler Using MinMaxScaler()\n",
    "    scaler = MinMaxScaler()\n",
    "    scaler.fit(x_train)\n",
    "    scale_x_train = scaler.transform(x_train)\n",
    "    scale_x_test = scaler.transform(x_test)\n",
    "    \n",
    "    # Search best params for SVR()\n",
    "    gsc = GridSearchCV(\n",
    "        estimator=SVR(kernel='poly'),\n",
    "        param_grid=param,\n",
    "        cv=10, scoring='neg_mean_squared_error', verbose=0, n_jobs=-1)\n",
    "\n",
    "    gsc.fit(scale_x_train, y_train)\n",
    "    param_c = gsc.best_params_['C']\n",
    "    param_degree = gsc.best_params_['degree']\n",
    "    param_epsilon = gsc.best_params_['epsilon']\n",
    "    \n",
    "    # Assign best params to model\n",
    "    model = SVR(C=param_c, kernel=\"poly\", degree=param_degree, epsilon = param_epsilon)\n",
    "    model.fit(scale_x_train, y_train)\n",
    "    \n",
    "    #Calculate prediction\n",
    "    y_train_pred = model.predict(scale_x_train)\n",
    "    y_test_pred = model.predict(scale_x_test)\n",
    "\n",
    "    #Calculate r2 score\n",
    "    r2_train = r2_score(y_train,y_train_pred)\n",
    "    r2_test = r2_score(y_test,y_test_pred)\n",
    "    \n",
    "    #Calculate MSE\n",
    "    mse_train = mean_squared_error(y_train,y_train_pred)\n",
    "    mse_test = mean_squared_error(y_test,y_test_pred)\n",
    "    \n",
    "    r2_poly = r2_poly.append(pd.Series([len(bd_list[i]),param_c, param_degree, param_epsilon, r2_train, r2_test, mse_train, mse_test,y_train_pred, y_test_pred], index=r2_poly.columns ), ignore_index=True)"
   ]
  },
  {
   "cell_type": "code",
   "execution_count": 235,
   "metadata": {},
   "outputs": [
    {
     "data": {
      "text/html": [
       "<div>\n",
       "<style scoped>\n",
       "    .dataframe tbody tr th:only-of-type {\n",
       "        vertical-align: middle;\n",
       "    }\n",
       "\n",
       "    .dataframe tbody tr th {\n",
       "        vertical-align: top;\n",
       "    }\n",
       "\n",
       "    .dataframe thead th {\n",
       "        text-align: right;\n",
       "    }\n",
       "</style>\n",
       "<table border=\"1\" class=\"dataframe\">\n",
       "  <thead>\n",
       "    <tr style=\"text-align: right;\">\n",
       "      <th></th>\n",
       "      <th>desc</th>\n",
       "      <th>C</th>\n",
       "      <th>degree</th>\n",
       "      <th>epsilon</th>\n",
       "      <th>r2_train</th>\n",
       "      <th>r2_test</th>\n",
       "      <th>mse_train</th>\n",
       "      <th>mse_test</th>\n",
       "      <th>train_pred</th>\n",
       "      <th>test_pred</th>\n",
       "    </tr>\n",
       "  </thead>\n",
       "  <tbody>\n",
       "    <tr>\n",
       "      <th>0</th>\n",
       "      <td>5</td>\n",
       "      <td>1000</td>\n",
       "      <td>2</td>\n",
       "      <td>0.1</td>\n",
       "      <td>0.72034</td>\n",
       "      <td>0.405353</td>\n",
       "      <td>0.214156</td>\n",
       "      <td>0.334317</td>\n",
       "      <td>[6.371939982418214, 7.156051005682118, 5.67172...</td>\n",
       "      <td>[7.063206412598108, 7.20393888416004, 6.712992...</td>\n",
       "    </tr>\n",
       "  </tbody>\n",
       "</table>\n",
       "</div>"
      ],
      "text/plain": [
       "  desc     C degree  epsilon  r2_train   r2_test  mse_train  mse_test  \\\n",
       "0    5  1000      2      0.1   0.72034  0.405353   0.214156  0.334317   \n",
       "\n",
       "                                          train_pred  \\\n",
       "0  [6.371939982418214, 7.156051005682118, 5.67172...   \n",
       "\n",
       "                                           test_pred  \n",
       "0  [7.063206412598108, 7.20393888416004, 6.712992...  "
      ]
     },
     "execution_count": 235,
     "metadata": {},
     "output_type": "execute_result"
    }
   ],
   "source": [
    "joblib.dump(r2_poly, './p/05_low/md_poly.pkl')\n",
    "# r2_poly = joblib.load('./p/0006_n1/r2_poly_neue.pkl')\n",
    "r2_poly"
   ]
  },
  {
   "cell_type": "code",
   "execution_count": 237,
   "metadata": {
    "code_folding": [
     0
    ]
   },
   "outputs": [
    {
     "name": "stderr",
     "output_type": "stream",
     "text": [
      "UsageError: Cell magic `%%DISBAND_R2PLOTS` not found.\n"
     ]
    }
   ],
   "source": [
    "%%DISBAND_R2PLOTS\n",
    "# ### plot\n",
    "# # x = np.arange(5,26,5)\n",
    "# x = [5,10,15,20,25]\n",
    "\n",
    "# # Note that even in the OO-style, we use `.pyplot.figure` to create the figure.\n",
    "# fig, ax = plt.subplots(figsize=(8, 6), dpi=80)  # Create a figure and an axes.\n",
    "\n",
    "# ax.plot(x, r2_rbf.loc[:,'mse_train'], label='MSE Train',marker='.',markersize=10, lw=2, color='b')\n",
    "# ax.plot(x, r2_rbf.loc[:,'mse_test'], label='MSE Val', marker='.', markersize=10, lw=2, ls='dotted', color='b') \n",
    "# ax.plot(x, r2_linear.loc[:,'mse_train'], label='MSE Train', marker='.',markersize=10, lw=2,color='r')\n",
    "# ax.plot(x, r2_linear.loc[:,'mse_test'], label='MSE Val', marker='.', markersize=10, lw=2, ls='dotted',color='r')\n",
    "# ax.plot(x, r2_poly.loc[:,'mse_train'], label='MSE Train', marker='.', markersize=10, lw=2, color='g')\n",
    "# ax.plot(x, r2_poly.loc[:,'mse_test'], label='MSE Val', marker='.', markersize=10, lw=2, ls='dotted', color='g')\n",
    "\n",
    "# ax.set_xlabel('Number of Descriptors')\n",
    "# ax.set_ylabel('MSE Score')\n",
    "# # ax.set_title(\"SVR r2 score\")  \n",
    "# ax.set_xticks(x)\n",
    "# plt.grid()\n",
    "# plt.legend(bbox_to_anchor=(1.05, 1), loc='upper left', borderaxespad=0.)\n",
    "# # plt.savefig('./p/0003/r2_models_numdesc.png', format='png', dpi=1000, bbox_inches=\"tight\")    \n",
    "# plt.show()"
   ]
  },
  {
   "cell_type": "markdown",
   "metadata": {},
   "source": [
    "# Model Validation"
   ]
  },
  {
   "cell_type": "markdown",
   "metadata": {},
   "source": [
    "## Validation Functions"
   ]
  },
  {
   "cell_type": "code",
   "execution_count": 15,
   "metadata": {
    "code_folding": [
     0,
     12,
     65,
     78,
     91,
     97,
     105,
     129,
     135,
     181,
     319
    ]
   },
   "outputs": [],
   "source": [
    "def r2_score(y, y_pred, y_train=None):\n",
    "    sse = 0; sst = 0\n",
    "    if y_train is None:        \n",
    "        y_mean = np.mean(y)\n",
    "    else:\n",
    "        y_mean = np.mean(y_train)\n",
    "    for i in range(len(y)):\n",
    "        sse += (y[i] - y_pred[i]) ** 2\n",
    "        sst += (y[i] - y_mean) ** 2\n",
    "    r2_score = 1 - (sse / sst)\n",
    "    return r2_score\n",
    "\n",
    "def qsar_param(y, y_pred, d_r2m=True):\n",
    "    results = []\n",
    "    _, _, y = normalize(y)\n",
    "    _, _, y_pred = normalize(y_pred)\n",
    "    y_mean = np.mean(y); y_pred_mean = np.mean(y_pred)\n",
    "    # calculate r2\n",
    "    num = 0; den_1 = 0; den_2 = 0\n",
    "    for i in range(len(y)):\n",
    "        num += (y[i] - y_mean) * (y_pred[i] - y_pred_mean)\n",
    "        den_1 += (y_pred[i] - y_pred_mean) ** 2\n",
    "        den_2 += (y[i] - y_mean) ** 2\n",
    "    r2 = num ** 2 / (den_1 * den_2)\n",
    "    results = {\"r2\": r2}\n",
    "    # calculate k and k_dash\n",
    "    n_data = len(y)\n",
    "    dot_ = 0; y_pred2 = 0; y2 = 0\n",
    "    for i in range(n_data):\n",
    "        dot_ += (y[i] * y_pred[i])\n",
    "        y_pred2 += y_pred[i] ** 2\n",
    "        y2 += y[i] ** 2\n",
    "    k = np.sum(dot_) / np.sum(y_pred2)\n",
    "    k_dash = np.sum(dot_) / np.sum(y2)\n",
    "    results[\"k\"] = k\n",
    "    results[\"k_dash\"] = k_dash\n",
    "    # calculate r2_0 and r2_0_dash\n",
    "    num = 0; num_dash = 0; den = 0; den_dash = 0\n",
    "    for i in range(n_data):\n",
    "        num += (y[i] - (k * y_pred[i])) ** 2\n",
    "        num_dash += (y_pred[i] - (k_dash * y[i])) ** 2\n",
    "        den += (y[i] - y_mean) ** 2\n",
    "        den_dash += (y_pred[i] - y_pred_mean) ** 2\n",
    "    r2_0 = 1 - (num / den)\n",
    "    r2_0_dash = 1 - (num_dash / den_dash)\n",
    "    #results.append(r2_0)\n",
    "    #results.append(r2_0_dash)\n",
    "    r2r0 = (r2 - r2_0)/r2\n",
    "    r2r0_dash = (r2 - r2_0_dash)/r2\n",
    "    results[\"r2r0\"] = r2r0\n",
    "    results[\"r2r0_dash\"] = r2r0_dash\n",
    "    r0r0_dash = np.abs(r2_0 - r2_0_dash)\n",
    "    results[\"r0r0_dash\"] = r0r0_dash\n",
    "    # calculate rm2 and rm2_dash\n",
    "    rm2 = r2 * (1 - np.sqrt(r2 - r2_0))\n",
    "    rm2_dash = r2 * (1 - np.sqrt(r2 - r2_0_dash))\n",
    "    #results.append(rm2)\n",
    "    #results.append(rm2_dash)\n",
    "    # calculate rm2_bar and d_rm2\n",
    "    rm2_bar = (rm2 + rm2_dash) / 2\n",
    "    d_rm2 = np.abs(rm2 - rm2_dash)\n",
    "    results[\"rm2_bar\"] = rm2_bar\n",
    "    results[\"d_rm2\"] = d_rm2\n",
    "    return results\n",
    "\n",
    "def q2_loo(model, X, y):\n",
    "    loo = LeaveOneOut()\n",
    "    y_pred = []\n",
    "    for train_index, test_index in loo.split(X):\n",
    "        X_train, X_test = X[train_index], X[test_index]\n",
    "        y_train, y_test = y[train_index], y[test_index]\n",
    "        model.fit(X_train, y_train)\n",
    "        tmp = model.predict(X_test)\n",
    "        #tmp = scaler_y.inverse_transform(tmp)\n",
    "        y_pred.append(list(tmp)[0])\n",
    "    r2 = r2_score(y, y_pred)\n",
    "    return r2\n",
    "\n",
    "def q2_looV2(model, X, y):\n",
    "    loo = LeaveOneOut()\n",
    "    y_pred = []\n",
    "    for train_index, test_index in loo.split(X):\n",
    "        X_train, X_test = X[train_index], X[test_index]\n",
    "        y_train, y_test = y[train_index], y[test_index]\n",
    "        model.fit(X_train, y_train)\n",
    "        tmp = model.predict(X_test)\n",
    "        #tmp = scaler_y.inverse_transform(tmp)\n",
    "        y_pred.append(list(tmp)[0])\n",
    "    r2 = r2_score(y, y_pred)\n",
    "    return r2, y_pred\n",
    "\n",
    "def normalize(X):\n",
    "    max_ = np.max(X, axis=0)\n",
    "    min_ = np.min(X, axis=0)\n",
    "    X_norm = (X - min_) / (max_ - min_)\n",
    "    return max_, min_, X_norm\n",
    "\n",
    "def leverage(XtX, X):\n",
    "    levs = []\n",
    "    for i in range(X.shape[0]):\n",
    "        x = X[i,:]\n",
    "        lev = x.dot(XtX).dot(x.T)\n",
    "        levs.append(lev)\n",
    "    return levs\n",
    "\n",
    "def y_random(estimator, X, y, n=10):\n",
    "    # non-random\n",
    "    estimator.fit(X, y)\n",
    "    y_pred = estimator.predict(X)    \n",
    "    r2_nr = r2_score(y, y_pred)\n",
    "    r_nr = np.sqrt(r2_nr)\n",
    "    n_data = X.shape[0]\n",
    "    # random\n",
    "    r2_rand = []\n",
    "    range_ = list(range(n_data))\n",
    "    for i in range(n):\n",
    "        new_range_ = copy.deepcopy(range_)\n",
    "        np.random.shuffle(new_range_)\n",
    "        y_new = []\n",
    "        for i in new_range_:\n",
    "            y_new.append(y[i])\n",
    "        y_new = np.array(y_new)\n",
    "        estimator.fit(X, y_new)\n",
    "        y_pred = estimator.predict(X)\n",
    "        r2_rand.append(r2_score(y_new, y_pred))\n",
    "    r2_rand_avg = np.average(r2_rand)\n",
    "    rp = r_nr * np.sqrt(r2_nr - r2_rand_avg)\n",
    "    return rp\n",
    "\n",
    "def standardize(X):\n",
    "    mean_ = np.mean(X, axis=0)\n",
    "    std_ = np.std(X, axis=0)\n",
    "    X_norm = (X - mean_) / std_\n",
    "    return X_norm, mean_, std_\n",
    "\n",
    "def applicability_domain(X_train, X_test, y_train_act, \n",
    "                         y_train_pred, y_test_act, y_test_pred):\n",
    "    # using wilson map\n",
    "    X_train, _, _ = standardize(X_train)\n",
    "    X_test, _, _ = standardize(X_test)\n",
    "    n, p = X_train.shape\n",
    "    # calculate standardized residuals\n",
    "    err_train = []; res_train = []\n",
    "    for i in range(len(y_train_pred)):\n",
    "        err_train.append(y_train_act[i] - y_train_pred[i])\n",
    "    rmse_train = np.sqrt(mse_score(y_train_act, y_train_pred))\n",
    "    for i in range(len(y_train_pred)):\n",
    "        tmp = err_train[i]/rmse_train\n",
    "        res_train.append(tmp)\n",
    "    err_test = []; res_test = []\n",
    "    for i in range(len(y_test_pred)):\n",
    "        err_test.append(y_test_act[i] - y_test_pred[i])\n",
    "    rmse_test = np.sqrt(mse_score(y_test_act, y_test_pred))\n",
    "    for i in range(len(y_test_pred)):\n",
    "        tmp = err_test[i]/rmse_test\n",
    "        res_test.append(tmp)    \n",
    "    #res_test = [a/rmse_test for a in err_test]\n",
    "    # calculate leverage\n",
    "    XtX = X_train.T.dot(X_train)\n",
    "    XtX = np.linalg.pinv(XtX)\n",
    "    lev_train = leverage(XtX, X_train)\n",
    "    lev_test = leverage(XtX, X_test)\n",
    "    h_star = (3 * (p + 1)) / n\n",
    "    print(h_star)\n",
    "    #return (lev_train, res_train, lev_test, res_test, h_star)\n",
    "    #plotting\n",
    "    plt.scatter(lev_train, res_train, c='b',marker='o', label='training data')\n",
    "    plt.scatter(lev_test, res_test, c='r',marker='^', label='test data')\n",
    "    plt.axhline(y=3, c='k', linewidth=0.8)\n",
    "    plt.axhline(y=-3, c='k', linewidth=0.8)\n",
    "    plt.axvline(x=h_star, c='k', linewidth=0.8)\n",
    "    #plt.xticks([0,0.1,0.2,0.3,0.4,0.5,h_star,0.6],[0,0.1,0.2,0.3,0.4,0.5,\"h$^*$\",0.6])\n",
    "    plt.text(h_star+0.001, 0, \"h$^*$\")\n",
    "    plt.xlim(0, h_star + 0.1)\n",
    "    plt.ylim(-4, 4)\n",
    "    plt.xlabel('leverage')\n",
    "    plt.ylabel('standardized residual')\n",
    "    plt.legend(loc='upper right')\n",
    "#     plt.savefig('./app_domain.png', format='png', dpi=1000, bbox_inches=\"tight\")    \n",
    "    plt.show()\n",
    "    \n",
    "def applicability_domain_rbf(X_train, X_test, y_train_act, \n",
    "                         y_train_pred, y_test_act, y_test_pred):\n",
    "    # using wilson map\n",
    "    X_train, _, _ = standardize(X_train)\n",
    "    X_test, _, _ = standardize(X_test)\n",
    "    n, p = X_train.shape\n",
    "    # calculate standardized residuals\n",
    "    err_train = []; res_train = []\n",
    "    for i in range(len(y_train_pred)):\n",
    "        err_train.append(y_train_act[i] - y_train_pred[i])\n",
    "    rmse_train = np.sqrt(mean_squared_error(y_train_act, y_train_pred))\n",
    "    for i in range(len(y_train_pred)):\n",
    "        tmp = err_train[i]/rmse_train\n",
    "        res_train.append(tmp)\n",
    "    err_test = []; res_test = []\n",
    "    for i in range(len(y_test_pred)):\n",
    "        err_test.append(y_test_act[i] - y_test_pred[i])\n",
    "    rmse_test = np.sqrt(mean_squared_error(y_test_act, y_test_pred))\n",
    "    for i in range(len(y_test_pred)):\n",
    "        tmp = err_test[i]/rmse_test\n",
    "        res_test.append(tmp)    \n",
    "    #res_test = [a/rmse_test for a in err_test]\n",
    "    # calculate leverage\n",
    "    XtX = X_train.T.dot(X_train)\n",
    "    XtX = np.linalg.pinv(XtX)\n",
    "    lev_train = leverage(XtX, X_train)\n",
    "    lev_test = leverage(XtX, X_test)\n",
    "    h_star = (3 * (p + 1)) / n\n",
    "    print(h_star)\n",
    "    #return (lev_train, res_train, lev_test, res_test, h_star)\n",
    "    #plotting\n",
    "    plt.scatter(lev_train, res_train, c='b',marker='o', label='training data')\n",
    "    plt.scatter(lev_test, res_test, c='r',marker='^', label='test data')\n",
    "    plt.axhline(y=3, c='k', linewidth=0.8)\n",
    "    plt.axhline(y=-3, c='k', linewidth=0.8)\n",
    "    plt.axvline(x=h_star, c='k', linewidth=0.8)\n",
    "    #plt.xticks([0,0.1,0.2,0.3,0.4,0.5,h_star,0.6],[0,0.1,0.2,0.3,0.4,0.5,\"h$^*$\",0.6])\n",
    "    plt.text(h_star+0.001, 0, \"h$^*$\")\n",
    "    plt.xlim(0, h_star + 0.1)\n",
    "    plt.ylim(-4, 4)\n",
    "    plt.xlabel('leverage')\n",
    "    plt.ylabel('standardized residual')\n",
    "    plt.legend(loc='upper right')\n",
    "    plt.savefig('./p/05_low/rbf_app_domain_05.png', format='png', dpi=1000, bbox_inches=\"tight\")    \n",
    "    plt.show()\n",
    "    \n",
    "def applicability_domain_lin(X_train, X_test, y_train_act, \n",
    "                         y_train_pred, y_test_act, y_test_pred):\n",
    "    # using wilson map\n",
    "    X_train, _, _ = standardize(X_train)\n",
    "    X_test, _, _ = standardize(X_test)\n",
    "    n, p = X_train.shape\n",
    "    # calculate standardized residuals\n",
    "    err_train = []; res_train = []\n",
    "    for i in range(len(y_train_pred)):\n",
    "        err_train.append(y_train_act[i] - y_train_pred[i])\n",
    "    rmse_train = np.sqrt(mean_squared_error(y_train_act, y_train_pred))\n",
    "    for i in range(len(y_train_pred)):\n",
    "        tmp = err_train[i]/rmse_train\n",
    "        res_train.append(tmp)\n",
    "    err_test = []; res_test = []\n",
    "    for i in range(len(y_test_pred)):\n",
    "        err_test.append(y_test_act[i] - y_test_pred[i])\n",
    "    rmse_test = np.sqrt(mean_squared_error(y_test_act, y_test_pred))\n",
    "    for i in range(len(y_test_pred)):\n",
    "        tmp = err_test[i]/rmse_test\n",
    "        res_test.append(tmp)    \n",
    "    #res_test = [a/rmse_test for a in err_test]\n",
    "    # calculate leverage\n",
    "    XtX = X_train.T.dot(X_train)\n",
    "    XtX = np.linalg.pinv(XtX)\n",
    "    lev_train = leverage(XtX, X_train)\n",
    "    lev_test = leverage(XtX, X_test)\n",
    "    h_star = (3 * (p + 1)) / n\n",
    "    print(h_star)\n",
    "    #return (lev_train, res_train, lev_test, res_test, h_star)\n",
    "    #plotting\n",
    "    plt.scatter(lev_train, res_train, c='b',marker='o', label='training data')\n",
    "    plt.scatter(lev_test, res_test, c='r',marker='^', label='test data')\n",
    "    plt.axhline(y=3, c='k', linewidth=0.8)\n",
    "    plt.axhline(y=-3, c='k', linewidth=0.8)\n",
    "    plt.axvline(x=h_star, c='k', linewidth=0.8)\n",
    "    #plt.xticks([0,0.1,0.2,0.3,0.4,0.5,h_star,0.6],[0,0.1,0.2,0.3,0.4,0.5,\"h$^*$\",0.6])\n",
    "    plt.text(h_star+0.001, 0, \"h$^*$\")\n",
    "    plt.xlim(0, h_star + 0.1)\n",
    "    plt.ylim(-4, 4)\n",
    "    plt.xlabel('leverage')\n",
    "    plt.ylabel('standardized residual')\n",
    "    plt.legend(loc='upper right')\n",
    "    plt.savefig('./p/05_low/lin_app_domain_05.png', format='png', dpi=1000, bbox_inches=\"tight\")    \n",
    "    plt.show()\n",
    "    \n",
    "def applicability_domain_sig(X_train, X_test, y_train_act, \n",
    "                         y_train_pred, y_test_act, y_test_pred):\n",
    "    # using wilson map\n",
    "    X_train, _, _ = standardize(X_train)\n",
    "    X_test, _, _ = standardize(X_test)\n",
    "    n, p = X_train.shape\n",
    "    # calculate standardized residuals\n",
    "    err_train = []; res_train = []\n",
    "    for i in range(len(y_train_pred)):\n",
    "        err_train.append(y_train_act[i] - y_train_pred[i])\n",
    "    rmse_train = np.sqrt(mean_squared_error(y_train_act, y_train_pred))\n",
    "    for i in range(len(y_train_pred)):\n",
    "        tmp = err_train[i]/rmse_train\n",
    "        res_train.append(tmp)\n",
    "    err_test = []; res_test = []\n",
    "    for i in range(len(y_test_pred)):\n",
    "        err_test.append(y_test_act[i] - y_test_pred[i])\n",
    "    rmse_test = np.sqrt(mean_squared_error(y_test_act, y_test_pred))\n",
    "    for i in range(len(y_test_pred)):\n",
    "        tmp = err_test[i]/rmse_test\n",
    "        res_test.append(tmp)    \n",
    "    #res_test = [a/rmse_test for a in err_test]\n",
    "    # calculate leverage\n",
    "    XtX = X_train.T.dot(X_train)\n",
    "    XtX = np.linalg.pinv(XtX)\n",
    "    lev_train = leverage(XtX, X_train)\n",
    "    lev_test = leverage(XtX, X_test)\n",
    "    h_star = (3 * (p + 1)) / n\n",
    "    print(h_star)\n",
    "    #return (lev_train, res_train, lev_test, res_test, h_star)\n",
    "    #plotting\n",
    "    plt.scatter(lev_train, res_train, c='b',marker='o', label='training data')\n",
    "    plt.scatter(lev_test, res_test, c='r',marker='^', label='test data')\n",
    "    plt.axhline(y=3, c='k', linewidth=0.8)\n",
    "    plt.axhline(y=-3, c='k', linewidth=0.8)\n",
    "    plt.axvline(x=h_star, c='k', linewidth=0.8)\n",
    "    #plt.xticks([0,0.1,0.2,0.3,0.4,0.5,h_star,0.6],[0,0.1,0.2,0.3,0.4,0.5,\"h$^*$\",0.6])\n",
    "    plt.text(h_star+0.001, 0, \"h$^*$\")\n",
    "    plt.xlim(0, h_star + 0.1)\n",
    "    plt.ylim(-4, 4)\n",
    "    plt.xlabel('leverage')\n",
    "    plt.ylabel('standardized residual')\n",
    "    plt.legend(loc='upper right')\n",
    "    plt.savefig('./p/05_low/sig_app_domain_05.png', format='png', dpi=1000, bbox_inches=\"tight\")    \n",
    "    plt.show()\n",
    "      \n",
    "def applicability_domain_poly(X_train, X_test, y_train_act, \n",
    "                         y_train_pred, y_test_act, y_test_pred):\n",
    "    # using wilson map\n",
    "    X_train, _, _ = standardize(X_train)\n",
    "    X_test, _, _ = standardize(X_test)\n",
    "    n, p = X_train.shape\n",
    "    # calculate standardized residuals\n",
    "    err_train = []; res_train = []\n",
    "    for i in range(len(y_train_pred)):\n",
    "        err_train.append(y_train_act[i] - y_train_pred[i])\n",
    "    rmse_train = np.sqrt(mean_squared_error(y_train_act, y_train_pred))\n",
    "    for i in range(len(y_train_pred)):\n",
    "        tmp = err_train[i]/rmse_train\n",
    "        res_train.append(tmp)\n",
    "    err_test = []; res_test = []\n",
    "    for i in range(len(y_test_pred)):\n",
    "        err_test.append(y_test_act[i] - y_test_pred[i])\n",
    "    rmse_test = np.sqrt(mean_squared_error(y_test_act, y_test_pred))\n",
    "    for i in range(len(y_test_pred)):\n",
    "        tmp = err_test[i]/rmse_test\n",
    "        res_test.append(tmp)    \n",
    "    #res_test = [a/rmse_test for a in err_test]\n",
    "    # calculate leverage\n",
    "    XtX = X_train.T.dot(X_train)\n",
    "    XtX = np.linalg.pinv(XtX)\n",
    "    lev_train = leverage(XtX, X_train)\n",
    "    lev_test = leverage(XtX, X_test)\n",
    "    h_star = (3 * (p + 1)) / n\n",
    "    print(h_star)\n",
    "    #return (lev_train, res_train, lev_test, res_test, h_star)\n",
    "    #plotting\n",
    "    plt.scatter(lev_train, res_train, c='b',marker='o', label='training data')\n",
    "    plt.scatter(lev_test, res_test, c='r',marker='^', label='test data')\n",
    "    plt.axhline(y=3, c='k', linewidth=0.8)\n",
    "    plt.axhline(y=-3, c='k', linewidth=0.8)\n",
    "    plt.axvline(x=h_star, c='k', linewidth=0.8)\n",
    "    #plt.xticks([0,0.1,0.2,0.3,0.4,0.5,h_star,0.6],[0,0.1,0.2,0.3,0.4,0.5,\"h$^*$\",0.6])\n",
    "    plt.text(h_star+0.001, 0, \"h$^*$\")\n",
    "    plt.xlim(0, h_star + 0.1)\n",
    "    plt.ylim(-4, 4)\n",
    "    plt.xlabel('leverage')\n",
    "    plt.ylabel('standardized residual')\n",
    "    plt.legend(loc='upper right')\n",
    "    plt.savefig('./p/05_low/poly_app_domain_05.png', format='png', dpi=1000, bbox_inches=\"tight\")    \n",
    "    plt.show()"
   ]
  },
  {
   "cell_type": "markdown",
   "metadata": {},
   "source": [
    "## Validation : Preparing Data"
   ]
  },
  {
   "cell_type": "code",
   "execution_count": 16,
   "metadata": {},
   "outputs": [
    {
     "data": {
      "text/plain": [
       "((74, 1876), (19, 1876))"
      ]
     },
     "execution_count": 16,
     "metadata": {},
     "output_type": "execute_result"
    }
   ],
   "source": [
    "data = pd.read_csv(\"data/all_data.csv\")\n",
    "\n",
    "# Use best desc based on r2_score model development\n",
    "desc = joblib.load('./p/05_low/best_5.pkl')\n",
    "\n",
    "# Important! Use same datasets\n",
    "df_train = joblib.load('./p/05_low/train.pkl')\n",
    "df_test = joblib.load('./p/05_low/test.pkl')\n",
    "\n",
    "df_train.shape, df_test.shape"
   ]
  },
  {
   "cell_type": "markdown",
   "metadata": {},
   "source": [
    "## Validation : RBF"
   ]
  },
  {
   "cell_type": "markdown",
   "metadata": {},
   "source": [
    "### QSAR Param RBF"
   ]
  },
  {
   "cell_type": "code",
   "execution_count": 242,
   "metadata": {},
   "outputs": [
    {
     "data": {
      "text/plain": [
       "array([0.64329946])"
      ]
     },
     "execution_count": 242,
     "metadata": {},
     "output_type": "execute_result"
    }
   ],
   "source": [
    "X_train = df_train.loc[:,desc].to_numpy()\n",
    "X_test = df_test.loc[:,desc].to_numpy()\n",
    "y_train = df_train.iloc[:,[-1]].to_numpy()\n",
    "y_test = df_test.iloc[:,[-1]].to_numpy()\n",
    "\n",
    "scaler = MinMaxScaler()\n",
    "scaler.fit(X_train)\n",
    "scale_x_train = scaler.transform(X_train)\n",
    "scale_x_test = scaler.transform(X_test)\n",
    "\n",
    "param_grid={\n",
    "            'C': 10,\n",
    "            'gamma': 'scale',\n",
    "            'epsilon':0.1\n",
    "}\n",
    "\n",
    "c = param_grid['C']\n",
    "gam = param_grid['gamma']\n",
    "eps = param_grid['epsilon']\n",
    "\n",
    "model = SVR(kernel=\"rbf\", C=c, gamma=gam, epsilon=eps)\n",
    "\n",
    "model.fit(scale_x_train, y_train)\n",
    "y_train_pred = model.predict(scale_x_train)\n",
    "y_test_pred = model.predict(scale_x_test)\n",
    "\n",
    "q2_rbf = q2_loo(model, scale_x_train, y_train)\n",
    "\n",
    "# print RB Q2, Qsar_train, Qsar_test\n",
    "q2_rbf"
   ]
  },
  {
   "cell_type": "code",
   "execution_count": 243,
   "metadata": {},
   "outputs": [],
   "source": [
    "rbf_val_train = pd.DataFrame(qsar_param(y_train, y_train_pred))\n",
    "rbf_val_test = pd.DataFrame(qsar_param(y_test, y_test_pred))"
   ]
  },
  {
   "cell_type": "markdown",
   "metadata": {},
   "source": [
    "### CR2p (Y_random) RBF"
   ]
  },
  {
   "cell_type": "code",
   "execution_count": 244,
   "metadata": {},
   "outputs": [
    {
     "data": {
      "text/plain": [
       "array([0.68164893])"
      ]
     },
     "execution_count": 244,
     "metadata": {},
     "output_type": "execute_result"
    }
   ],
   "source": [
    "rp = y_random(model,scale_x_train,y_train)\n",
    "# joblib.dump(rp,'./p/0005_n1/rbf_crp2.pkl')\n",
    "rp"
   ]
  },
  {
   "cell_type": "code",
   "execution_count": 245,
   "metadata": {},
   "outputs": [
    {
     "data": {
      "text/html": [
       "<div>\n",
       "<style scoped>\n",
       "    .dataframe tbody tr th:only-of-type {\n",
       "        vertical-align: middle;\n",
       "    }\n",
       "\n",
       "    .dataframe tbody tr th {\n",
       "        vertical-align: top;\n",
       "    }\n",
       "\n",
       "    .dataframe thead th {\n",
       "        text-align: right;\n",
       "    }\n",
       "</style>\n",
       "<table border=\"1\" class=\"dataframe\">\n",
       "  <thead>\n",
       "    <tr style=\"text-align: right;\">\n",
       "      <th></th>\n",
       "      <th>r2</th>\n",
       "      <th>q2</th>\n",
       "      <th>k</th>\n",
       "      <th>k_dash</th>\n",
       "      <th>r2r0</th>\n",
       "      <th>r2r0_dash</th>\n",
       "      <th>r0r0_dash</th>\n",
       "      <th>rm2_bar</th>\n",
       "      <th>d_rm2</th>\n",
       "      <th>y_random</th>\n",
       "    </tr>\n",
       "  </thead>\n",
       "  <tbody>\n",
       "    <tr>\n",
       "      <th>0</th>\n",
       "      <td>0.791386</td>\n",
       "      <td>0.643299</td>\n",
       "      <td>0.941781</td>\n",
       "      <td>1.039692</td>\n",
       "      <td>0.000500</td>\n",
       "      <td>0.049616</td>\n",
       "      <td>0.038869</td>\n",
       "      <td>0.705107</td>\n",
       "      <td>0.141074</td>\n",
       "      <td>0.681649</td>\n",
       "    </tr>\n",
       "    <tr>\n",
       "      <th>0</th>\n",
       "      <td>0.600770</td>\n",
       "      <td>0.643299</td>\n",
       "      <td>0.957753</td>\n",
       "      <td>0.929587</td>\n",
       "      <td>0.148286</td>\n",
       "      <td>0.016963</td>\n",
       "      <td>0.078895</td>\n",
       "      <td>0.480790</td>\n",
       "      <td>0.118666</td>\n",
       "      <td>0.681649</td>\n",
       "    </tr>\n",
       "  </tbody>\n",
       "</table>\n",
       "</div>"
      ],
      "text/plain": [
       "         r2        q2         k    k_dash      r2r0  r2r0_dash  r0r0_dash  \\\n",
       "0  0.791386  0.643299  0.941781  1.039692  0.000500   0.049616   0.038869   \n",
       "0  0.600770  0.643299  0.957753  0.929587  0.148286   0.016963   0.078895   \n",
       "\n",
       "    rm2_bar     d_rm2  y_random  \n",
       "0  0.705107  0.141074  0.681649  \n",
       "0  0.480790  0.118666  0.681649  "
      ]
     },
     "execution_count": 245,
     "metadata": {},
     "output_type": "execute_result"
    }
   ],
   "source": [
    "rbf_valid = pd.DataFrame()\n",
    "rbf_valid = rbf_valid.append(rbf_val_train)\n",
    "rbf_valid = rbf_valid.append(rbf_val_test)\n",
    "rbf_valid.insert(1,'q2', [q2_rbf[0], q2_rbf[0]])\n",
    "rbf_valid['y_random'] = [rp[0],rp[0]]\n",
    "# rbf_valid.to_csv(r'./p/05_low/rbf_val_revise.csv', index= None, header = True)\n",
    "rbf_valid"
   ]
  },
  {
   "cell_type": "markdown",
   "metadata": {},
   "source": [
    "### Applicability Domain RBF"
   ]
  },
  {
   "cell_type": "code",
   "execution_count": 194,
   "metadata": {},
   "outputs": [
    {
     "name": "stdout",
     "output_type": "stream",
     "text": [
      "0.24324324324324326\n"
     ]
    },
    {
     "data": {
      "image/png": "[encoded data removed]",
      "text/plain": [
       "<Figure size 432x288 with 1 Axes>"
      ]
     },
     "metadata": {
      "needs_background": "light"
     },
     "output_type": "display_data"
    }
   ],
   "source": [
    "applicability_domain_rbf(scale_x_train, scale_x_test, y_train,\n",
    "                     y_train_pred, y_test, y_test_pred)"
   ]
  },
  {
   "cell_type": "markdown",
   "metadata": {},
   "source": [
    "<!-- ## Validation : Linear -->"
   ]
  },
  {
   "cell_type": "code",
   "execution_count": 13,
   "metadata": {
    "code_folding": [
     0
    ]
   },
   "outputs": [
    {
     "name": "stderr",
     "output_type": "stream",
     "text": [
      "UsageError: Cell magic `%%DISBAND_VALID_SIGMOID_HEAD` not found.\n"
     ]
    }
   ],
   "source": [
    "%%DISBAND_VALID_SIGMOID_HEAD\n",
    "## Validation : Sigmoid"
   ]
  },
  {
   "cell_type": "markdown",
   "metadata": {},
   "source": [
    "## Validation : Linear"
   ]
  },
  {
   "cell_type": "markdown",
   "metadata": {},
   "source": [
    "### QSAR Param Linear"
   ]
  },
  {
   "cell_type": "code",
   "execution_count": 24,
   "metadata": {},
   "outputs": [
    {
     "data": {
      "text/plain": [
       "array([0.5397628])"
      ]
     },
     "execution_count": 24,
     "metadata": {},
     "output_type": "execute_result"
    }
   ],
   "source": [
    "X_train = df_train.loc[:,desc].to_numpy()\n",
    "X_test = df_test.loc[:,desc].to_numpy()\n",
    "y_train = df_train.iloc[:,[-1]].to_numpy()\n",
    "y_test = df_test.iloc[:,[-1]].to_numpy()\n",
    "\n",
    "scaler = MinMaxScaler()\n",
    "scaler.fit(X_train)\n",
    "scale_x_train = scaler.transform(X_train)\n",
    "scale_x_test = scaler.transform(X_test)\n",
    "\n",
    "param_grid={\n",
    "            'C': 1000,\n",
    "            'degree': 1,\n",
    "            'epsilon': 0.1\n",
    "}\n",
    "\n",
    "c = param_grid['C']\n",
    "deg = param_grid['degree']\n",
    "eps = param_grid['epsilon']\n",
    "\n",
    "model = SVR(kernel=\"linear\", C= c, degree= deg, epsilon=eps)\n",
    "\n",
    "model.fit(scale_x_train, y_train)\n",
    "y_train_pred = model.predict(scale_x_train)\n",
    "y_test_pred = model.predict(scale_x_test)\n",
    "\n",
    "q2 = q2_loo(model, scale_x_train, y_train)\n",
    "\n",
    "# print RB Q2, Qsar_train, Qsar_test\n",
    "q2"
   ]
  },
  {
   "cell_type": "code",
   "execution_count": 25,
   "metadata": {},
   "outputs": [
    {
     "data": {
      "text/html": [
       "<div>\n",
       "<style scoped>\n",
       "    .dataframe tbody tr th:only-of-type {\n",
       "        vertical-align: middle;\n",
       "    }\n",
       "\n",
       "    .dataframe tbody tr th {\n",
       "        vertical-align: top;\n",
       "    }\n",
       "\n",
       "    .dataframe thead th {\n",
       "        text-align: right;\n",
       "    }\n",
       "</style>\n",
       "<table border=\"1\" class=\"dataframe\">\n",
       "  <thead>\n",
       "    <tr style=\"text-align: right;\">\n",
       "      <th></th>\n",
       "      <th>r2</th>\n",
       "      <th>k</th>\n",
       "      <th>k_dash</th>\n",
       "      <th>r2r0</th>\n",
       "      <th>r2r0_dash</th>\n",
       "      <th>r0r0_dash</th>\n",
       "      <th>rm2_bar</th>\n",
       "      <th>d_rm2</th>\n",
       "    </tr>\n",
       "  </thead>\n",
       "  <tbody>\n",
       "    <tr>\n",
       "      <th>0</th>\n",
       "      <td>0.613803</td>\n",
       "      <td>1.138373</td>\n",
       "      <td>0.830362</td>\n",
       "      <td>0.265307</td>\n",
       "      <td>0.002001</td>\n",
       "      <td>0.161618</td>\n",
       "      <td>0.4792</td>\n",
       "      <td>0.226184</td>\n",
       "    </tr>\n",
       "  </tbody>\n",
       "</table>\n",
       "</div>"
      ],
      "text/plain": [
       "         r2         k    k_dash      r2r0  r2r0_dash  r0r0_dash  rm2_bar  \\\n",
       "0  0.613803  1.138373  0.830362  0.265307   0.002001   0.161618   0.4792   \n",
       "\n",
       "      d_rm2  \n",
       "0  0.226184  "
      ]
     },
     "execution_count": 25,
     "metadata": {},
     "output_type": "execute_result"
    }
   ],
   "source": [
    "val_train = pd.DataFrame(qsar_param(y_train, y_train_pred))\n",
    "val_train"
   ]
  },
  {
   "cell_type": "code",
   "execution_count": 26,
   "metadata": {},
   "outputs": [
    {
     "data": {
      "text/html": [
       "<div>\n",
       "<style scoped>\n",
       "    .dataframe tbody tr th:only-of-type {\n",
       "        vertical-align: middle;\n",
       "    }\n",
       "\n",
       "    .dataframe tbody tr th {\n",
       "        vertical-align: top;\n",
       "    }\n",
       "\n",
       "    .dataframe thead th {\n",
       "        text-align: right;\n",
       "    }\n",
       "</style>\n",
       "<table border=\"1\" class=\"dataframe\">\n",
       "  <thead>\n",
       "    <tr style=\"text-align: right;\">\n",
       "      <th></th>\n",
       "      <th>r2</th>\n",
       "      <th>k</th>\n",
       "      <th>k_dash</th>\n",
       "      <th>r2r0</th>\n",
       "      <th>r2r0_dash</th>\n",
       "      <th>r0r0_dash</th>\n",
       "      <th>rm2_bar</th>\n",
       "      <th>d_rm2</th>\n",
       "    </tr>\n",
       "  </thead>\n",
       "  <tbody>\n",
       "    <tr>\n",
       "      <th>0</th>\n",
       "      <td>0.631667</td>\n",
       "      <td>1.047116</td>\n",
       "      <td>0.845406</td>\n",
       "      <td>0.225732</td>\n",
       "      <td>0.000035</td>\n",
       "      <td>0.142566</td>\n",
       "      <td>0.510931</td>\n",
       "      <td>0.235571</td>\n",
       "    </tr>\n",
       "  </tbody>\n",
       "</table>\n",
       "</div>"
      ],
      "text/plain": [
       "         r2         k    k_dash      r2r0  r2r0_dash  r0r0_dash   rm2_bar  \\\n",
       "0  0.631667  1.047116  0.845406  0.225732   0.000035   0.142566  0.510931   \n",
       "\n",
       "      d_rm2  \n",
       "0  0.235571  "
      ]
     },
     "execution_count": 26,
     "metadata": {},
     "output_type": "execute_result"
    }
   ],
   "source": [
    "val_test = pd.DataFrame(qsar_param(y_test, y_test_pred))\n",
    "val_test"
   ]
  },
  {
   "cell_type": "markdown",
   "metadata": {},
   "source": [
    "### CR2p (Y_random) Sigmoid"
   ]
  },
  {
   "cell_type": "code",
   "execution_count": 23,
   "metadata": {},
   "outputs": [
    {
     "data": {
      "text/plain": [
       "array([0.6019035])"
      ]
     },
     "execution_count": 23,
     "metadata": {},
     "output_type": "execute_result"
    }
   ],
   "source": [
    "rp_sig = y_random(model_sig,scale_x_train,y_train)\n",
    "# joblib.dump(rp_lin,'./p/0005_n1/lin_crp2.pkl')\n",
    "rp_sig"
   ]
  },
  {
   "cell_type": "markdown",
   "metadata": {},
   "source": [
    "### Applicability Domain Sigmoid"
   ]
  },
  {
   "cell_type": "code",
   "execution_count": 39,
   "metadata": {},
   "outputs": [
    {
     "name": "stdout",
     "output_type": "stream",
     "text": [
      "0.24324324324324326\n"
     ]
    },
    {
     "data": {
      "image/png": "[encoded data removed]",
      "text/plain": [
       "<Figure size 432x288 with 1 Axes>"
      ]
     },
     "metadata": {
      "needs_background": "light"
     },
     "output_type": "display_data"
    }
   ],
   "source": [
    "applicability_domain_lin(scale_x_train, scale_x_test, y_train,\n",
    "                     y_train_pred, y_test, y_test_pred)"
   ]
  },
  {
   "cell_type": "code",
   "execution_count": 29,
   "metadata": {},
   "outputs": [
    {
     "data": {
      "text/html": [
       "<div>\n",
       "<style scoped>\n",
       "    .dataframe tbody tr th:only-of-type {\n",
       "        vertical-align: middle;\n",
       "    }\n",
       "\n",
       "    .dataframe tbody tr th {\n",
       "        vertical-align: top;\n",
       "    }\n",
       "\n",
       "    .dataframe thead th {\n",
       "        text-align: right;\n",
       "    }\n",
       "</style>\n",
       "<table border=\"1\" class=\"dataframe\">\n",
       "  <thead>\n",
       "    <tr style=\"text-align: right;\">\n",
       "      <th></th>\n",
       "      <th>r2</th>\n",
       "      <th>q2</th>\n",
       "      <th>k</th>\n",
       "      <th>k_dash</th>\n",
       "      <th>r2r0</th>\n",
       "      <th>r2r0_dash</th>\n",
       "      <th>r0r0_dash</th>\n",
       "      <th>rm2_bar</th>\n",
       "      <th>d_rm2</th>\n",
       "      <th>y_random</th>\n",
       "    </tr>\n",
       "  </thead>\n",
       "  <tbody>\n",
       "    <tr>\n",
       "      <th>0</th>\n",
       "      <td>0.613803</td>\n",
       "      <td>0.539763</td>\n",
       "      <td>1.138373</td>\n",
       "      <td>0.830362</td>\n",
       "      <td>0.265307</td>\n",
       "      <td>0.002001</td>\n",
       "      <td>0.161618</td>\n",
       "      <td>0.479200</td>\n",
       "      <td>0.226184</td>\n",
       "      <td>0.601903</td>\n",
       "    </tr>\n",
       "    <tr>\n",
       "      <th>0</th>\n",
       "      <td>0.631667</td>\n",
       "      <td>0.539763</td>\n",
       "      <td>1.047116</td>\n",
       "      <td>0.845406</td>\n",
       "      <td>0.225732</td>\n",
       "      <td>0.000035</td>\n",
       "      <td>0.142566</td>\n",
       "      <td>0.510931</td>\n",
       "      <td>0.235571</td>\n",
       "      <td>0.601903</td>\n",
       "    </tr>\n",
       "  </tbody>\n",
       "</table>\n",
       "</div>"
      ],
      "text/plain": [
       "         r2        q2         k    k_dash      r2r0  r2r0_dash  r0r0_dash  \\\n",
       "0  0.613803  0.539763  1.138373  0.830362  0.265307   0.002001   0.161618   \n",
       "0  0.631667  0.539763  1.047116  0.845406  0.225732   0.000035   0.142566   \n",
       "\n",
       "    rm2_bar     d_rm2  y_random  \n",
       "0  0.479200  0.226184  0.601903  \n",
       "0  0.510931  0.235571  0.601903  "
      ]
     },
     "execution_count": 29,
     "metadata": {},
     "output_type": "execute_result"
    }
   ],
   "source": [
    "sig_valid = pd.DataFrame()\n",
    "sig_valid = sig_valid.append(val_train)\n",
    "sig_valid = sig_valid.append(val_test)\n",
    "sig_valid.insert(1,'q2', [q2[0], q2[0]])\n",
    "sig_valid['y_random'] = [rp_sig[0],rp_sig[0]]\n",
    "# sig_valid.to_csv(r'./p/05_low/lin_val_revise.csv', index= None, header = True)\n",
    "sig_valid"
   ]
  },
  {
   "cell_type": "markdown",
   "metadata": {},
   "source": [
    "## Validation : Polynomial"
   ]
  },
  {
   "cell_type": "markdown",
   "metadata": {},
   "source": [
    "### QSAR Param Poly"
   ]
  },
  {
   "cell_type": "code",
   "execution_count": 207,
   "metadata": {},
   "outputs": [
    {
     "data": {
      "text/plain": [
       "array([0.57950353])"
      ]
     },
     "execution_count": 207,
     "metadata": {},
     "output_type": "execute_result"
    }
   ],
   "source": [
    "X_train = df_train.loc[:,desc].to_numpy()\n",
    "X_test = df_test.loc[:,desc].to_numpy()\n",
    "y_train = df_train.iloc[:,[-1]].to_numpy()\n",
    "y_test = df_test.iloc[:,[-1]].to_numpy()\n",
    "\n",
    "scaler = MinMaxScaler()\n",
    "scaler.fit(X_train)\n",
    "scale_x_train = scaler.transform(X_train)\n",
    "scale_x_test = scaler.transform(X_test)\n",
    "\n",
    "param_grid={\n",
    "            'C': 1000,\n",
    "            'degree': 2,\n",
    "            'epsilon': 0.1\n",
    "}\n",
    "\n",
    "c = param_grid['C']\n",
    "deg = param_grid['degree']\n",
    "eps = param_grid['epsilon']\n",
    "\n",
    "model_pol = SVR(kernel=\"poly\", C= c, degree= deg, epsilon=eps)\n",
    "model_pol.fit(scale_x_train,y_train)\n",
    "y_train_pred = model_pol.predict(scale_x_train)\n",
    "y_test_pred = model_pol.predict(scale_x_test)\n",
    "\n",
    "q2_poly = q2_loo(model_pol, scale_x_train, y_train)\n",
    "\n",
    "# print RB Q2, Qsar_train, Qsar_test\n",
    "q2_poly"
   ]
  },
  {
   "cell_type": "code",
   "execution_count": 208,
   "metadata": {},
   "outputs": [
    {
     "data": {
      "text/html": [
       "<div>\n",
       "<style scoped>\n",
       "    .dataframe tbody tr th:only-of-type {\n",
       "        vertical-align: middle;\n",
       "    }\n",
       "\n",
       "    .dataframe tbody tr th {\n",
       "        vertical-align: top;\n",
       "    }\n",
       "\n",
       "    .dataframe thead th {\n",
       "        text-align: right;\n",
       "    }\n",
       "</style>\n",
       "<table border=\"1\" class=\"dataframe\">\n",
       "  <thead>\n",
       "    <tr style=\"text-align: right;\">\n",
       "      <th></th>\n",
       "      <th>r2</th>\n",
       "      <th>k</th>\n",
       "      <th>k_dash</th>\n",
       "      <th>r2r0</th>\n",
       "      <th>r2r0_dash</th>\n",
       "      <th>r0r0_dash</th>\n",
       "      <th>rm2_bar</th>\n",
       "      <th>d_rm2</th>\n",
       "    </tr>\n",
       "  </thead>\n",
       "  <tbody>\n",
       "    <tr>\n",
       "      <th>0</th>\n",
       "      <td>0.720633</td>\n",
       "      <td>1.014031</td>\n",
       "      <td>0.954663</td>\n",
       "      <td>0.056917</td>\n",
       "      <td>0.010386</td>\n",
       "      <td>0.033532</td>\n",
       "      <td>0.616488</td>\n",
       "      <td>0.083601</td>\n",
       "    </tr>\n",
       "  </tbody>\n",
       "</table>\n",
       "</div>"
      ],
      "text/plain": [
       "         r2         k    k_dash      r2r0  r2r0_dash  r0r0_dash   rm2_bar  \\\n",
       "0  0.720633  1.014031  0.954663  0.056917   0.010386   0.033532  0.616488   \n",
       "\n",
       "      d_rm2  \n",
       "0  0.083601  "
      ]
     },
     "execution_count": 208,
     "metadata": {},
     "output_type": "execute_result"
    }
   ],
   "source": [
    "poly_val_train = pd.DataFrame(qsar_param(y_train, y_train_pred))\n",
    "poly_val_train"
   ]
  },
  {
   "cell_type": "code",
   "execution_count": 209,
   "metadata": {},
   "outputs": [
    {
     "data": {
      "text/html": [
       "<div>\n",
       "<style scoped>\n",
       "    .dataframe tbody tr th:only-of-type {\n",
       "        vertical-align: middle;\n",
       "    }\n",
       "\n",
       "    .dataframe tbody tr th {\n",
       "        vertical-align: top;\n",
       "    }\n",
       "\n",
       "    .dataframe thead th {\n",
       "        text-align: right;\n",
       "    }\n",
       "</style>\n",
       "<table border=\"1\" class=\"dataframe\">\n",
       "  <thead>\n",
       "    <tr style=\"text-align: right;\">\n",
       "      <th></th>\n",
       "      <th>r2</th>\n",
       "      <th>k</th>\n",
       "      <th>k_dash</th>\n",
       "      <th>r2r0</th>\n",
       "      <th>r2r0_dash</th>\n",
       "      <th>r0r0_dash</th>\n",
       "      <th>rm2_bar</th>\n",
       "      <th>d_rm2</th>\n",
       "    </tr>\n",
       "  </thead>\n",
       "  <tbody>\n",
       "    <tr>\n",
       "      <th>0</th>\n",
       "      <td>0.503317</td>\n",
       "      <td>0.957552</td>\n",
       "      <td>0.916523</td>\n",
       "      <td>0.095682</td>\n",
       "      <td>0.174224</td>\n",
       "      <td>0.039531</td>\n",
       "      <td>0.373568</td>\n",
       "      <td>0.038591</td>\n",
       "    </tr>\n",
       "  </tbody>\n",
       "</table>\n",
       "</div>"
      ],
      "text/plain": [
       "         r2         k    k_dash      r2r0  r2r0_dash  r0r0_dash   rm2_bar  \\\n",
       "0  0.503317  0.957552  0.916523  0.095682   0.174224   0.039531  0.373568   \n",
       "\n",
       "      d_rm2  \n",
       "0  0.038591  "
      ]
     },
     "execution_count": 209,
     "metadata": {},
     "output_type": "execute_result"
    }
   ],
   "source": [
    "poly_val_test = pd.DataFrame(qsar_param(y_test, y_test_pred))\n",
    "poly_val_test"
   ]
  },
  {
   "cell_type": "markdown",
   "metadata": {},
   "source": [
    "### CR2p (Y_random) Poly"
   ]
  },
  {
   "cell_type": "code",
   "execution_count": 210,
   "metadata": {},
   "outputs": [
    {
     "data": {
      "text/plain": [
       "array([0.66610825])"
      ]
     },
     "execution_count": 210,
     "metadata": {},
     "output_type": "execute_result"
    }
   ],
   "source": [
    "rp_poly = y_random(model_pol,scale_x_train,y_train)\n",
    "# joblib.dump(rp_poly, './p/0005_n1/poly_cr2p')\n",
    "rp_poly"
   ]
  },
  {
   "cell_type": "markdown",
   "metadata": {},
   "source": [
    "### Applicability Domain Poly"
   ]
  },
  {
   "cell_type": "code",
   "execution_count": 211,
   "metadata": {},
   "outputs": [
    {
     "name": "stdout",
     "output_type": "stream",
     "text": [
      "0.24324324324324326\n"
     ]
    },
    {
     "data": {
      "image/png": "[encoded data removed]",
      "text/plain": [
       "<Figure size 432x288 with 1 Axes>"
      ]
     },
     "metadata": {
      "needs_background": "light"
     },
     "output_type": "display_data"
    }
   ],
   "source": [
    "applicability_domain_poly(X_train, X_test, y_train,\n",
    "                     y_train_pred, y_test, y_test_pred)"
   ]
  },
  {
   "cell_type": "code",
   "execution_count": 212,
   "metadata": {},
   "outputs": [
    {
     "data": {
      "text/html": [
       "<div>\n",
       "<style scoped>\n",
       "    .dataframe tbody tr th:only-of-type {\n",
       "        vertical-align: middle;\n",
       "    }\n",
       "\n",
       "    .dataframe tbody tr th {\n",
       "        vertical-align: top;\n",
       "    }\n",
       "\n",
       "    .dataframe thead th {\n",
       "        text-align: right;\n",
       "    }\n",
       "</style>\n",
       "<table border=\"1\" class=\"dataframe\">\n",
       "  <thead>\n",
       "    <tr style=\"text-align: right;\">\n",
       "      <th></th>\n",
       "      <th>r2</th>\n",
       "      <th>q2</th>\n",
       "      <th>k</th>\n",
       "      <th>k_dash</th>\n",
       "      <th>r2r0</th>\n",
       "      <th>r2r0_dash</th>\n",
       "      <th>r0r0_dash</th>\n",
       "      <th>rm2_bar</th>\n",
       "      <th>d_rm2</th>\n",
       "      <th>y_random</th>\n",
       "    </tr>\n",
       "  </thead>\n",
       "  <tbody>\n",
       "    <tr>\n",
       "      <th>0</th>\n",
       "      <td>0.720633</td>\n",
       "      <td>0.579504</td>\n",
       "      <td>1.014031</td>\n",
       "      <td>0.954663</td>\n",
       "      <td>0.056917</td>\n",
       "      <td>0.010386</td>\n",
       "      <td>0.033532</td>\n",
       "      <td>0.616488</td>\n",
       "      <td>0.083601</td>\n",
       "      <td>0.666108</td>\n",
       "    </tr>\n",
       "    <tr>\n",
       "      <th>0</th>\n",
       "      <td>0.503317</td>\n",
       "      <td>0.579504</td>\n",
       "      <td>0.957552</td>\n",
       "      <td>0.916523</td>\n",
       "      <td>0.095682</td>\n",
       "      <td>0.174224</td>\n",
       "      <td>0.039531</td>\n",
       "      <td>0.373568</td>\n",
       "      <td>0.038591</td>\n",
       "      <td>0.666108</td>\n",
       "    </tr>\n",
       "  </tbody>\n",
       "</table>\n",
       "</div>"
      ],
      "text/plain": [
       "         r2        q2         k    k_dash      r2r0  r2r0_dash  r0r0_dash  \\\n",
       "0  0.720633  0.579504  1.014031  0.954663  0.056917   0.010386   0.033532   \n",
       "0  0.503317  0.579504  0.957552  0.916523  0.095682   0.174224   0.039531   \n",
       "\n",
       "    rm2_bar     d_rm2  y_random  \n",
       "0  0.616488  0.083601  0.666108  \n",
       "0  0.373568  0.038591  0.666108  "
      ]
     },
     "execution_count": 212,
     "metadata": {},
     "output_type": "execute_result"
    }
   ],
   "source": [
    "poly_valid = pd.DataFrame()\n",
    "poly_valid = poly_valid.append(poly_val_train)\n",
    "poly_valid = poly_valid.append(poly_val_test)\n",
    "poly_valid.insert(1,'q2', [q2_poly[0], q2_poly[0]])\n",
    "poly_valid['y_random'] = [rp_poly[0],rp_poly[0]]\n",
    "# poly_valid.to_csv(r'./p/05_neue/poly_val_neue_20.csv', index= None, header = True)\n",
    "poly_valid"
   ]
  },
  {
   "cell_type": "markdown",
   "metadata": {},
   "source": [
    "# Graphs"
   ]
  },
  {
   "cell_type": "markdown",
   "metadata": {},
   "source": [
    "## Preparing data"
   ]
  },
  {
   "cell_type": "code",
   "execution_count": 33,
   "metadata": {},
   "outputs": [],
   "source": [
    "# data = pd.read_csv(\"data/all_data.csv\")\n",
    "\n",
    "# desc = joblib.load('./p/data/0005_10.pkl')\n",
    "desc_raw = joblib.load('./p/05_low/raw_5.pkl')\n",
    "df_train = joblib.load('./p/05_low/train.pkl')\n",
    "df_test = joblib.load('./p/05_low/test.pkl')\n",
    "pic = pd.read_csv(\"data/pIC50_target.csv\")\n",
    "df_pic = pic['pIC50']\n",
    "\n",
    "ytrain =  df_train.iloc[:,[-1]]\n",
    "ytest =  df_test.iloc[:,[-1]]"
   ]
  },
  {
   "cell_type": "markdown",
   "metadata": {},
   "source": [
    "## Plot Temperature Vs. Mse"
   ]
  },
  {
   "cell_type": "code",
   "execution_count": 257,
   "metadata": {},
   "outputs": [
    {
     "data": {
      "image/png": "[encoded data removed]",
      "text/plain": [
       "<Figure size 432x288 with 1 Axes>"
      ]
     },
     "metadata": {
      "needs_background": "light"
     },
     "output_type": "display_data"
    }
   ],
   "source": [
    "df = desc_raw.copy()\n",
    "df.sort_values('MSE', inplace = True)\n",
    "\n",
    "temp = df.iloc[0,3]\n",
    "growth = df.iloc[0,2]\n",
    "\n",
    "fig = plt.figure()\n",
    "plt.plot(temp, growth)\n",
    "plt.xlabel('Temp')\n",
    "plt.ylabel('MSE')\n",
    "# plt.ylim(0.1, 0.55)\n",
    "plt.xlim(105,-5)\n",
    "plt.savefig('./p/05_low/growth_mse_05.png', format='png', dpi=1000, bbox_inches=\"tight\")    \n",
    "plt.show()"
   ]
  },
  {
   "cell_type": "markdown",
   "metadata": {},
   "source": [
    "## Plot MSE Vs. Num of Desc"
   ]
  },
  {
   "cell_type": "code",
   "execution_count": 31,
   "metadata": {},
   "outputs": [
    {
     "data": {
      "image/png": "[encoded data removed]",
      "text/plain": [
       "<Figure size 432x288 with 1 Axes>"
      ]
     },
     "metadata": {
      "needs_background": "light"
     },
     "output_type": "display_data"
    }
   ],
   "source": [
    "kernel_list = [\"rbf\", \"poly\", \"sigmoid\",\"linear\"]\n",
    "cv_lists = []\n",
    "for kernel in kernel_list:\n",
    "    tmp = joblib.load(\"./p/05_low/cv_list_{}.p\".format(kernel))\n",
    "    cv_lists.append(tmp)\n",
    "\n",
    "opt_num = {}\n",
    "cvs = []\n",
    "x = [5,10,15,20,25]\n",
    "\n",
    "sc = MinMaxScaler()\n",
    "rb = list(cv_lists[0].values())\n",
    "rb_np = np.asarray(rb)\n",
    "rbf_sc = sc.fit_transform(rb_np.reshape(-1,1))\n",
    "rbf_sc\n",
    "\n",
    "sc = MinMaxScaler()\n",
    "poly = list(cv_lists[1].values())\n",
    "poly_np = np.asarray(poly)\n",
    "poly_sc = sc.fit_transform(poly_np.reshape(-1,1))\n",
    "poly_sc\n",
    "\n",
    "sc = MinMaxScaler()\n",
    "sig = list(cv_lists[2].values())\n",
    "sig_np = np.asarray(sig)\n",
    "sig_sc = sc.fit_transform(sig_np.reshape(-1,1))\n",
    "sig_sc\n",
    "\n",
    "sc = MinMaxScaler()\n",
    "lin = list(cv_lists[3].values())\n",
    "lin_np = np.asarray(lin)\n",
    "lin_sc = sc.fit_transform(lin_np.reshape(-1,1))\n",
    "lin_sc\n",
    "\n",
    "plt.plot(x, rbf_sc, label='rbf', marker=\"o\")\n",
    "plt.plot(x, poly_sc, label='poly', marker=\"o\")\n",
    "# plt.plot(x, sig_sc, label='sigmoid', marker=\"o\")\n",
    "plt.plot(x, lin_sc, label='linear', marker=\"o\")\n",
    "\n",
    "plt.grid()\n",
    "plt.xticks(x)\n",
    "plt.xlabel(\"No. of features\")\n",
    "plt.ylabel(\"Normalized MSE\")\n",
    "plt.legend()\n",
    "plt.savefig('./p/05_low/plot_nofeat_mse_withlinear.png', format='png', dpi=1000, bbox_inches=\"tight\")\n",
    "plt.show()"
   ]
  },
  {
   "cell_type": "code",
   "execution_count": 139,
   "metadata": {
    "code_folding": [
     0
    ]
   },
   "outputs": [
    {
     "name": "stderr",
     "output_type": "stream",
     "text": [
      "UsageError: Cell magic `%%` not found.\n"
     ]
    }
   ],
   "source": [
    "%% DISBAND_Plot MSE Vs. Num of Desc\n",
    "# bd_list = []\n",
    "# bd_5 = joblib.load('./p/0005_n1/raw_0005_5.pkl')\n",
    "# bd_10 = joblib.load('./p/0005_n1/raw_0005_10.pkl')\n",
    "# bd_15 = joblib.load('./p/0005_n1/raw_0005_15.pkl')\n",
    "# bd_20 = joblib.load('./p/0005_n1/raw_0005_20.pkl')\n",
    "# bd_25 = joblib.load('./p/0005_n1/raw_0005_25.pkl')\n",
    "# bd_list.extend([bd_5,bd_10,bd_15,bd_20,bd_25])\n",
    "\n",
    "# list_MSE = []\n",
    "# x=[5,10,15,20,25]\n",
    "# df_mse = pd.DataFrame(columns=['desc','mse'])\n",
    "\n",
    "# for i in range(len(bd_list)):\n",
    "#     bd_list[i].sort_values('MSE', inplace = True)\n",
    "#     list_MSE.append(bd_list[i].iloc[0,0])\n",
    "     \n",
    "# df_mse['desc'] = [5,10,15,20,25]\n",
    "# df_mse['mse'] = list_MSE\n",
    "\n",
    "# fig, ax = plt.subplots()  # Create a figure and an axes.\n",
    "# ax.set_xticks(x)\n",
    "\n",
    "# plt.xlabel('Number of Descriptor')\n",
    "# plt.ylabel('MSE')\n",
    "# plt.plot(x, df_mse['mse'], marker='.' ,markersize=12)\n",
    "# # plt.savefig('./graph/mse_numdesc_05_10.png', format='png', dpi=1000, bbox_inches=\"tight\")    \n",
    "# plt.show()"
   ]
  },
  {
   "cell_type": "markdown",
   "metadata": {},
   "source": [
    "## Histogram pIC50"
   ]
  },
  {
   "cell_type": "code",
   "execution_count": 253,
   "metadata": {},
   "outputs": [
    {
     "data": {
      "image/png": "[encoded data removed]",
      "text/plain": [
       "<Figure size 432x288 with 1 Axes>"
      ]
     },
     "metadata": {
      "needs_background": "light"
     },
     "output_type": "display_data"
    }
   ],
   "source": [
    "import scipy.stats as stats\n",
    "\n",
    "df_target = pd.read_csv(\"data/pIC50_target.csv\")\n",
    "\n",
    "targets = df_target.iloc[:,1]\n",
    "\n",
    "noise = targets\n",
    "density = stats.gaussian_kde(noise)\n",
    "n, x, _ = plt.hist(noise, histtype=u'step', density=True)  \n",
    "plt.plot(x, density(x))\n",
    "plt.xlabel('pIC50')\n",
    "plt.ylabel('Frequency')\n",
    "# plt.savefig('./graph/hist_pic50.png', format='png', dpi=1000, bbox_inches=\"tight\")\n",
    "plt.show()"
   ]
  },
  {
   "cell_type": "markdown",
   "metadata": {},
   "source": [
    "## Histogram MSE choosen desc"
   ]
  },
  {
   "cell_type": "code",
   "execution_count": 265,
   "metadata": {},
   "outputs": [
    {
     "data": {
      "image/png": "[encoded data removed]",
      "text/plain": [
       "<Figure size 432x288 with 1 Axes>"
      ]
     },
     "metadata": {
      "needs_background": "light"
     },
     "output_type": "display_data"
    }
   ],
   "source": [
    "df = desc_raw.copy()\n",
    "mse_temp = df.iloc[:,0]\n",
    "\n",
    "noise = mse_temp\n",
    "density = stats.gaussian_kde(noise)\n",
    "n, x, _ = plt.hist(noise, histtype=u'step', density=True) \n",
    "plt.plot(x, density(x))\n",
    "plt.xlabel('MSE')\n",
    "plt.ylabel('Frequency')\n",
    "# plt.savefig('./p/05_low/hist_mse_05.png', format='png', dpi=1000, bbox_inches=\"tight\")    \n",
    "plt.show()"
   ]
  },
  {
   "cell_type": "markdown",
   "metadata": {},
   "source": [
    "## Plot For RBF"
   ]
  },
  {
   "cell_type": "code",
   "execution_count": 162,
   "metadata": {},
   "outputs": [],
   "source": [
    "param_grid={\n",
    "            'C': 10,\n",
    "            'gamma': 'scale',\n",
    "            'epsilon':0.1\n",
    "}\n",
    "c = param_grid['C']\n",
    "gam = param_grid['gamma']\n",
    "eps = param_grid['epsilon']\n",
    "\n",
    "model = SVR(kernel=\"rbf\", C= c, gamma= gam, epsilon=eps)\n",
    "model.fit(scale_x_train, y_train)\n",
    "y_train_pred = model.predict(scale_x_train)\n",
    "y_test_pred = model.predict(scale_x_test)\n",
    "\n",
    "ytr = ytrain.iloc[:,0]\n",
    "ytr.tolist()\n",
    "yts = ytest.iloc[:,0]\n",
    "yts.tolist()\n",
    "\n",
    "train_res = ytr - y_train_pred\n",
    "test_res = yts - y_test_pred\n"
   ]
  },
  {
   "cell_type": "markdown",
   "metadata": {},
   "source": [
    "### Actual Vs. Predict"
   ]
  },
  {
   "cell_type": "code",
   "execution_count": 164,
   "metadata": {},
   "outputs": [
    {
     "data": {
      "image/png": "[encoded data removed]",
      "text/plain": [
       "<Figure size 432x288 with 1 Axes>"
      ]
     },
     "metadata": {
      "needs_background": "light"
     },
     "output_type": "display_data"
    }
   ],
   "source": [
    "fig = plt.figure()\n",
    "ax = plt.gca()\n",
    "ax.scatter(y_train, y_train_pred, color=\"b\" , label='Train')\n",
    "ax.scatter(y_test, y_test_pred, color=\"r\" , label='Test',marker='^')\n",
    "ax.legend(loc='top left')\n",
    "# ax.plot([0, 1], [0, 1], color=\"black\",transform=ax.transAxes)\n",
    "dl = np.linspace(*ax.get_xlim())\n",
    "ax.plot(dl, dl, color=\"black\")\n",
    "ax.set_aspect('equal')\n",
    "\n",
    "plt.xlabel('Experimental pIC50')\n",
    "plt.ylabel('Predicted pIC50')\n",
    "# plt.title('RBF Actual Vs Predict')\n",
    "plt.savefig('./p/05_low/actpred_rbf_05.png', format='png', dpi=1000, bbox_inches=\"tight\")    \n",
    "plt.show()"
   ]
  },
  {
   "cell_type": "markdown",
   "metadata": {},
   "source": [
    "### Residual Plot"
   ]
  },
  {
   "cell_type": "code",
   "execution_count": 166,
   "metadata": {},
   "outputs": [
    {
     "data": {
      "image/png": "[encoded data removed]",
      "text/plain": [
       "<Figure size 432x288 with 1 Axes>"
      ]
     },
     "metadata": {
      "needs_background": "light"
     },
     "output_type": "display_data"
    }
   ],
   "source": [
    "fig = plt.figure()\n",
    "ax = plt.gca()\n",
    "ax.scatter(y_train_pred, train_res, color=\"b\" , label='Train' ,marker='o')\n",
    "ax.scatter(y_test_pred, test_res, color=\"red\" , label='test' ,marker='^')\n",
    "ax.legend(loc='top right')\n",
    "ax.axhline(linewidth= 1, color='black', linestyle='dashed')\n",
    "# plt.title('Residual SVR RBF')\n",
    "plt.ylim(-3,3)\n",
    "plt.xlabel('Predicted Values')\n",
    "plt.ylabel('Residuals')\n",
    "plt.savefig('./p/05_low/res_rbf_05_10.png', format='png', dpi=1000, bbox_inches=\"tight\")    \n",
    "plt.show()"
   ]
  },
  {
   "cell_type": "markdown",
   "metadata": {},
   "source": [
    "## Plot For Sigmoid"
   ]
  },
  {
   "cell_type": "code",
   "execution_count": 34,
   "metadata": {},
   "outputs": [],
   "source": [
    "param_grid={\n",
    "            'C': 1000,\n",
    "#             'gamma': 'auto',\n",
    "            'degree' : 1,\n",
    "            'epsilon': 0.1\n",
    "}\n",
    "\n",
    "model_sig = SVR(kernel=\"linear\", C= param_grid['C'], degree = param_grid['degree'], epsilon = param_grid['epsilon'])\n",
    "model_sig.fit(scale_x_train, y_train)\n",
    "y_train_pred = model_sig.predict(scale_x_train)\n",
    "y_test_pred = model_sig.predict(scale_x_test)\n",
    "\n",
    "ytr = ytrain.iloc[:,0]\n",
    "ytr.tolist()\n",
    "yts = ytest.iloc[:,0]\n",
    "yts.tolist()\n",
    "\n",
    "train_res = ytr - y_train_pred\n",
    "test_res = yts - y_test_pred"
   ]
  },
  {
   "cell_type": "markdown",
   "metadata": {},
   "source": [
    "### Actual Vs. Predict"
   ]
  },
  {
   "cell_type": "code",
   "execution_count": 36,
   "metadata": {},
   "outputs": [
    {
     "data": {
      "image/png": "[encoded data removed]",
      "text/plain": [
       "<Figure size 432x288 with 1 Axes>"
      ]
     },
     "metadata": {
      "needs_background": "light"
     },
     "output_type": "display_data"
    }
   ],
   "source": [
    "fig = plt.figure()\n",
    "ax = plt.gca()\n",
    "ax.scatter(y_train, y_train_pred, color=\"b\" , label='Train')\n",
    "ax.scatter(y_test, y_test_pred, color=\"r\" , label='Test',marker='^')\n",
    "ax.legend(loc='top left')\n",
    "# ax.plot([0, 1], [0, 1], color=\"black\",transform=ax.transAxes)\n",
    "dl = np.linspace(*ax.get_xlim())\n",
    "ax.plot(dl, dl, color=\"black\")\n",
    "ax.set_aspect('equal')\n",
    "\n",
    "plt.xlabel('Experimental pIC50')\n",
    "plt.ylabel('Predicted pIC50')\n",
    "# plt.title('RBF Actual Vs Predict')\n",
    "plt.savefig('./p/05_low/actpred_linear_05.png', format='png', dpi=1000, bbox_inches=\"tight\")    \n",
    "plt.show()"
   ]
  },
  {
   "cell_type": "markdown",
   "metadata": {},
   "source": [
    "### Residual Plot"
   ]
  },
  {
   "cell_type": "code",
   "execution_count": 38,
   "metadata": {},
   "outputs": [
    {
     "data": {
      "image/png": "[encoded data removed]",
      "text/plain": [
       "<Figure size 432x288 with 1 Axes>"
      ]
     },
     "metadata": {
      "needs_background": "light"
     },
     "output_type": "display_data"
    }
   ],
   "source": [
    "fig = plt.figure()\n",
    "ax = plt.gca()\n",
    "ax.scatter(y_train_pred, train_res, color=\"b\" , label='Train' ,marker='o')\n",
    "ax.scatter(y_test_pred, test_res, color=\"red\" , label='test' ,marker='^')\n",
    "ax.legend(loc='top right')\n",
    "ax.axhline(linewidth= 1, color='black', linestyle='dashed')\n",
    "# plt.title('Residual SVR RBF')\n",
    "plt.ylim(-3,3)\n",
    "plt.xlabel('Predicted Values')\n",
    "plt.ylabel('Residuals')\n",
    "plt.savefig('./p/05_low/res_linear_05.png', format='png', dpi=1000, bbox_inches=\"tight\")    \n",
    "plt.show()"
   ]
  },
  {
   "cell_type": "markdown",
   "metadata": {},
   "source": [
    "## Plot For Poly"
   ]
  },
  {
   "cell_type": "code",
   "execution_count": 172,
   "metadata": {},
   "outputs": [],
   "source": [
    "param_grid={\n",
    "            'C': 1000,\n",
    "            'degree': 2,\n",
    "            'epsilon': 0.1\n",
    "}\n",
    "\n",
    "c = param_grid['C']\n",
    "deg = param_grid['degree']\n",
    "eps = param_grid['epsilon']\n",
    "\n",
    "modelPol = SVR(kernel=\"poly\", C= c, degree= deg, epsilon=eps)\n",
    "modelPol.fit(scale_x_train, y_train)\n",
    "y_train_pred = modelPol.predict(scale_x_train)\n",
    "y_test_pred = modelPol.predict(scale_x_test)\n",
    "\n",
    "ytr = ytrain.iloc[:,0]\n",
    "ytr.tolist()\n",
    "yts = ytest.iloc[:,0]\n",
    "yts.tolist()\n",
    "\n",
    "train_res = ytr - y_train_pred\n",
    "test_res = yts - y_test_pred"
   ]
  },
  {
   "cell_type": "markdown",
   "metadata": {},
   "source": [
    "### Actual Vs. Predict"
   ]
  },
  {
   "cell_type": "code",
   "execution_count": 174,
   "metadata": {},
   "outputs": [
    {
     "data": {
      "image/png": "[encoded data removed]",
      "text/plain": [
       "<Figure size 432x288 with 1 Axes>"
      ]
     },
     "metadata": {
      "needs_background": "light"
     },
     "output_type": "display_data"
    }
   ],
   "source": [
    "fig = plt.figure()\n",
    "ax = plt.gca()\n",
    "ax.scatter(y_train, y_train_pred, color=\"b\" , label='Train')\n",
    "ax.scatter(y_test, y_test_pred, color=\"r\" , label='Test',marker='^')\n",
    "ax.legend(loc='top left')\n",
    "# ax.plot([0, 1], [0, 1], color=\"black\",transform=ax.transAxes)\n",
    "dl = np.linspace(*ax.get_xlim())\n",
    "ax.plot(dl, dl, color=\"black\")\n",
    "ax.set_aspect('equal')\n",
    "\n",
    "plt.xlabel('Experimental pIC50')\n",
    "plt.ylabel('Predicted pIC50')\n",
    "# plt.title('RBF Actual Vs Predict')\n",
    "plt.savefig('./p/05_low/actpred_poly_05.png', format='png', dpi=1000, bbox_inches=\"tight\")    \n",
    "plt.show()"
   ]
  },
  {
   "cell_type": "markdown",
   "metadata": {},
   "source": [
    "### Residual Plot"
   ]
  },
  {
   "cell_type": "code",
   "execution_count": 177,
   "metadata": {},
   "outputs": [
    {
     "data": {
      "image/png": "[encoded data removed]",
      "text/plain": [
       "<Figure size 432x288 with 1 Axes>"
      ]
     },
     "metadata": {
      "needs_background": "light"
     },
     "output_type": "display_data"
    }
   ],
   "source": [
    "fig = plt.figure()\n",
    "ax = plt.gca()\n",
    "ax.scatter(y_train_pred, train_res, color=\"b\" , label='Train' ,marker='o')\n",
    "ax.scatter(y_test_pred, test_res, color=\"red\" , label='test' ,marker='^')\n",
    "ax.legend(loc='top right')\n",
    "ax.axhline(linewidth= 1, color='black', linestyle='dashed')\n",
    "# plt.title('Residual SVR RBF')\n",
    "plt.ylim(-3,3)\n",
    "plt.xlabel('Predicted Values')\n",
    "plt.ylabel('Residuals')\n",
    "plt.savefig('./p/05_low/res_poly_05.png', format='png', dpi=1000, bbox_inches=\"tight\")    \n",
    "plt.show()"
   ]
  }
 ],
 "metadata": {
  "kernelspec": {
   "display_name": "Python 3",
   "language": "python",
   "name": "python3"
  },
  "language_info": {
   "codemirror_mode": {
    "name": "ipython",
    "version": 3
   },
   "file_extension": ".py",
   "mimetype": "text/x-python",
   "name": "python",
   "nbconvert_exporter": "python",
   "pygments_lexer": "ipython3",
   "version": "3.8.2"
  },
  "toc": {
   "base_numbering": 1,
   "nav_menu": {},
   "number_sections": true,
   "sideBar": true,
   "skip_h1_title": false,
   "title_cell": "Table of Contents",
   "title_sidebar": "Contents",
   "toc_cell": false,
   "toc_position": {
    "height": "calc(100% - 180px)",
    "left": "10px",
    "top": "150px",
    "width": "318px"
   },
   "toc_section_display": true,
   "toc_window_display": true
  },
  "varInspector": {
   "cols": {
    "lenName": 16,
    "lenType": 16,
    "lenVar": 40
   },
   "kernels_config": {
    "python": {
     "delete_cmd_postfix": "",
     "delete_cmd_prefix": "del ",
     "library": "var_list.py",
     "varRefreshCmd": "print(var_dic_list())"
    },
    "r": {
     "delete_cmd_postfix": ") ",
     "delete_cmd_prefix": "rm(",
     "library": "var_list.r",
     "varRefreshCmd": "cat(var_dic_list()) "
    }
   },
   "oldHeight": 593,
   "position": {
    "height": "40px",
    "left": "785.6px",
    "right": "20px",
    "top": "151px",
    "width": "695.6px"
   },
   "types_to_exclude": [
    "module",
    "function",
    "builtin_function_or_method",
    "instance",
    "_Feature"
   ],
   "varInspector_section_display": "none",
   "window_display": false
  }
 },
 "nbformat": 4,
 "nbformat_minor": 4
}
